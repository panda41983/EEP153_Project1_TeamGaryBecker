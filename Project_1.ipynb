{
 "cells": [
  {
   "cell_type": "markdown",
   "metadata": {},
   "source": [
    "# Project 1: Population & Food Supply"
   ]
  },
  {
   "cell_type": "code",
   "execution_count": 1,
   "metadata": {},
   "outputs": [],
   "source": [
    "# %pip install wbdata\n",
    "# %pip install pandas\n",
    "# %pip install plotly\n",
    "# %pip install geopandas\n",
    "# %pip install matplotlib\n",
    "\n",
    "import matplotlib.pyplot as plt\n",
    "import statistics\n",
    "import geopandas as gpd\n",
    "import wbdata\n",
    "import pandas as pd\n",
    "import plotly.offline as py\n",
    "import plotly.graph_objs as go\n",
    "from datetime import datetime\n",
    "import numpy as np\n",
    "import warnings\n",
    "import plotly.express as px\n",
    "\n",
    "import warnings\n",
    "warnings.simplefilter(\"ignore\")"
   ]
  },
  {
   "cell_type": "markdown",
   "metadata": {},
   "source": [
    "### Population Statistics Function"
   ]
  },
  {
   "cell_type": "markdown",
   "metadata": {},
   "source": [
    "Credit: our code for this section was inspired by the John Graunt example group."
   ]
  },
  {
   "cell_type": "code",
   "execution_count": 2,
   "metadata": {},
   "outputs": [
    {
     "data": {
      "text/plain": [
       "736914"
      ]
     },
     "execution_count": 2,
     "metadata": {},
     "output_type": "execute_result"
    }
   ],
   "source": [
    "countries = wbdata.get_countries()\n",
    "country_dict = {}\n",
    "\n",
    "# Iterate over the WBSearchResult object, Create Dictionary.\n",
    "# This dictionary is necessary so that we know which country\n",
    "# names map to which 3-letter country codes.\n",
    "for country in countries:\n",
    "    country_code = country['id']\n",
    "    country_name = country['name']\n",
    "\n",
    "    # Add to the dictionary the country name.\n",
    "    country_dict[country_name] = country_code\n",
    "\n",
    "def int_to_str(num):\n",
    "    \"\"\"Convert the integer to the proper format.\"\"\"\n",
    "    if 0 <= num < 10:\n",
    "        # Add a '0' prefix if it is a single digit.\n",
    "        return f\"0{num}\"\n",
    "    else:\n",
    "        # Convert to string directly if it is a two-digit number.\n",
    "        return str(num)\n",
    "\n",
    "def population_range(year, sex, age_range, place):\n",
    "    \"\"\"This function will return the population for a certain age range.\"\"\"\n",
    "    sex_codes = {\"people\": \"\", \"females\": \"FE\", \"males\": \"MA\"}\n",
    "    sex_used = sex_codes[sex]\n",
    "\n",
    "    # Getting the lower and upper bounds for date into correct format.\n",
    "    lower, upper = int_to_str(age_range[0]), int_to_str(age_range[1])\n",
    "    range_string = lower + upper\n",
    "\n",
    "    # Getting the country code via the name.\n",
    "    country_code = country_dict.get(place)\n",
    "\n",
    "    df = wbdata.get_dataframe({\"SP.POP.\" + range_string + \".\" + sex_used: \"Population\"},\n",
    "                              country= {country_code: place}).squeeze()\n",
    "    df = df.to_frame().reset_index()\n",
    "    population_total = int(df[df[\"date\"] == str(year)][\"Population\"].iloc[0])\n",
    "    return population_total\n",
    "\n",
    "# function to return the population for people over 80\n",
    "def over_80_pop(year, sex, place):\n",
    "    sex_codes = {\"people\": \"\", \"females\": \"FE\", \"males\": \"MA\"}\n",
    "    sex_used = sex_codes[sex]\n",
    "    country_code = country_dict.get(place)\n",
    "\n",
    "    df = wbdata.get_dataframe({\"SP.POP.\" + \"80UP\" + \".\" + sex_used: \"Population\"},\n",
    "                              country= {country_code: place}).squeeze()\n",
    "    df = df.to_frame().reset_index()\n",
    "    population_total = int(df[df[\"date\"] == str(year)][\"Population\"].iloc[0])\n",
    "    return population_total\n",
    "\n",
    "\n",
    "def dict_helper(year, sex, age_range, place):\n",
    "    \"\"\"This will expand our function to include every age specified possible.\"\"\"\n",
    "    if len(age_range) == 1:\n",
    "        age_range = [age_range[0], age_range[0]]\n",
    "    elif age_range[1] < age_range[0]:\n",
    "      raise ValueError(f\"Please ensure that the second value in the range is greater than the first.\")\n",
    "\n",
    "    minimum_age, maximum_age = age_range\n",
    "    possible_minimums = [i for i in range(0, 76, 5)]\n",
    "    possible_maximums = [i for i in range(4, 80, 5)]\n",
    "\n",
    "    my_dict = {}\n",
    "    for age in range(minimum_age, maximum_age + 1):\n",
    "        \"\"\"Find the index in the possible ranges that includes the current age.\"\"\"\n",
    "        range_index = next((i for i, min_val in enumerate(possible_minimums) if\n",
    "                            min_val <= age and age <= possible_maximums[i]), None)\n",
    "        if range_index is not None:\n",
    "            popl_value = population_range(year, sex, [possible_minimums[range_index], possible_maximums[range_index]], place) // 5\n",
    "            my_dict[age] = popl_value\n",
    "        elif age >= 80 and age <= 100:\n",
    "            my_dict[age] = over_80_pop(year, sex, place) / 20\n",
    "        else:\n",
    "            raise ValueError(f\"No age range available for age {age}\")\n",
    "\n",
    "    return my_dict\n",
    "\n",
    "\n",
    "def population(year, sex, age_range, place):\n",
    "    \"\"\"This function ties everything together, returning population for given age ranges.\n",
    "    During usage, please utilize the following format:\n",
    "    Arguments to Use:\n",
    "    Year (int): the specified year, works from 1960-2021.\n",
    "    Sex (string): Anything from all, people, p, P, People, All, Everyone, female, females, f, Female, \n",
    "                Females, F, FE, male, males, m, Male, Males, M, MA works.\n",
    "    Age Range (list with length 2, 2 integers): A list of the age bounds.\n",
    "    Place (string): A string of the specified location.\n",
    "    \"\"\"\n",
    "    if place not in country_dict:\n",
    "        valid_regions = \", \".join(country_dict.keys())\n",
    "        raise ValueError(f\"The region '{place}' is not valid. Please choose from the following regions: {valid_regions}\")\n",
    "    if sex in [\"all\", \"people\", \"p\", \"P\", \"People\", \"All\", \"Everyone\"]:\n",
    "      female_dict = dict_helper(year, \"females\", age_range, place)\n",
    "      male_dict = dict_helper(year, \"males\", age_range, place)\n",
    "      return sum(female_dict.values()) + sum(male_dict.values())\n",
    "    elif sex in [\"female\", \"females\", \"f\", \"Female\", \"Females\", \"F\", \"FE\"]:\n",
    "      female_dict = dict_helper(year, \"females\", age_range, place)\n",
    "      return sum(female_dict.values())\n",
    "    elif sex in [\"male\", \"males\", \"m\", \"Male\", \"Males\", \"M\", \"MA\"]:\n",
    "      male_dict = dict_helper(year, \"males\", age_range, place)\n",
    "      return sum(male_dict.values())\n",
    "        \n",
    "population(2023, \"People\", [5, 7], \"Haiti\")"
   ]
  },
  {
   "cell_type": "code",
   "execution_count": 3,
   "metadata": {},
   "outputs": [
    {
     "data": {
      "text/plain": [
       "7997756448.5"
      ]
     },
     "execution_count": 3,
     "metadata": {},
     "output_type": "execute_result"
    }
   ],
   "source": [
    "population(2022, \"people\", [0,100], \"World\")"
   ]
  },
  {
   "cell_type": "code",
   "execution_count": 4,
   "metadata": {},
   "outputs": [
    {
     "data": {
      "text/plain": [
       "11640516.0"
      ]
     },
     "execution_count": 4,
     "metadata": {},
     "output_type": "execute_result"
    }
   ],
   "source": [
    "population(2023, \"people\", [0,100], \"Haiti\")"
   ]
  },
  {
   "cell_type": "markdown",
   "metadata": {},
   "source": [
    "### Popualtion Dataframe"
   ]
  },
  {
   "cell_type": "markdown",
   "metadata": {},
   "source": [
    "Credit: our code was based off the John Graunt group's example."
   ]
  },
  {
   "cell_type": "code",
   "execution_count": 5,
   "metadata": {},
   "outputs": [],
   "source": [
    "def create_population_dataframe(regions, years, age_range):\n",
    "    \"\"\"Creates the population DataFrame based on the regions, years, and age ranges wanted.\n",
    "    During usage, please utilize the following format:\n",
    "    Arguments to Use:\n",
    "    regions (list of strings, any length): the specified year, works from 1960-2022.\n",
    "    years (list of ints, any length): Anything from all, people, p, P, People, All, Everyone, female, females, f, Female, \n",
    "                Females, F, FE, male, males, m, Male, Males, M, MA works.\n",
    "    age_range (list of two ints): the age bounds specified, second must be greater than the first.\n",
    "    \"\"\"\n",
    "    data = []\n",
    "\n",
    "    # Check if age_range is a single age or a range.\n",
    "    if len(age_range) == 1:\n",
    "        full_age_range = [age_range[0]]\n",
    "    else:\n",
    "        full_age_range = list(range(age_range[0], age_range[1] + 1))\n",
    "\n",
    "    # Iterate over each region, year, and age.\"\n",
    "    for region in regions:\n",
    "        for year in years:\n",
    "            row = {'Region': region, 'Year': year}\n",
    "            for age in full_age_range:\n",
    "                male_population = population(year, 'male', [age], region)\n",
    "                female_population = population(year, 'female', [age], region)\n",
    "                total_population = male_population + female_population\n",
    "\n",
    "                row[f'Male Population Age {age}'] = male_population\n",
    "                row[f'Female Population Age {age}'] = female_population\n",
    "                row[f'Total Population Age {age}'] = total_population\n",
    "\n",
    "            data.append(row)\n",
    "\n",
    "    # Create a DataFrame.\n",
    "    df = pd.DataFrame(data)\n",
    "\n",
    "    # Set the index.\n",
    "    df.set_index(['Region', 'Year'], inplace=True)\n",
    "\n",
    "    return df"
   ]
  },
  {
   "cell_type": "code",
   "execution_count": 6,
   "metadata": {},
   "outputs": [
    {
     "data": {
      "text/html": [
       "<div>\n",
       "<style scoped>\n",
       "    .dataframe tbody tr th:only-of-type {\n",
       "        vertical-align: middle;\n",
       "    }\n",
       "\n",
       "    .dataframe tbody tr th {\n",
       "        vertical-align: top;\n",
       "    }\n",
       "\n",
       "    .dataframe thead th {\n",
       "        text-align: right;\n",
       "    }\n",
       "</style>\n",
       "<table border=\"1\" class=\"dataframe\">\n",
       "  <thead>\n",
       "    <tr style=\"text-align: right;\">\n",
       "      <th></th>\n",
       "      <th></th>\n",
       "      <th>Male Population Age 0</th>\n",
       "      <th>Female Population Age 0</th>\n",
       "      <th>Total Population Age 0</th>\n",
       "      <th>Male Population Age 1</th>\n",
       "      <th>Female Population Age 1</th>\n",
       "      <th>Total Population Age 1</th>\n",
       "      <th>Male Population Age 2</th>\n",
       "      <th>Female Population Age 2</th>\n",
       "      <th>Total Population Age 2</th>\n",
       "      <th>Male Population Age 3</th>\n",
       "      <th>...</th>\n",
       "      <th>Total Population Age 77</th>\n",
       "      <th>Male Population Age 78</th>\n",
       "      <th>Female Population Age 78</th>\n",
       "      <th>Total Population Age 78</th>\n",
       "      <th>Male Population Age 79</th>\n",
       "      <th>Female Population Age 79</th>\n",
       "      <th>Total Population Age 79</th>\n",
       "      <th>Male Population Age 80</th>\n",
       "      <th>Female Population Age 80</th>\n",
       "      <th>Total Population Age 80</th>\n",
       "    </tr>\n",
       "    <tr>\n",
       "      <th>Region</th>\n",
       "      <th>Year</th>\n",
       "      <th></th>\n",
       "      <th></th>\n",
       "      <th></th>\n",
       "      <th></th>\n",
       "      <th></th>\n",
       "      <th></th>\n",
       "      <th></th>\n",
       "      <th></th>\n",
       "      <th></th>\n",
       "      <th></th>\n",
       "      <th></th>\n",
       "      <th></th>\n",
       "      <th></th>\n",
       "      <th></th>\n",
       "      <th></th>\n",
       "      <th></th>\n",
       "      <th></th>\n",
       "      <th></th>\n",
       "      <th></th>\n",
       "      <th></th>\n",
       "      <th></th>\n",
       "    </tr>\n",
       "  </thead>\n",
       "  <tbody>\n",
       "    <tr>\n",
       "      <th rowspan=\"24\" valign=\"top\">Haiti</th>\n",
       "      <th>1990</th>\n",
       "      <td>110694</td>\n",
       "      <td>109899</td>\n",
       "      <td>220593</td>\n",
       "      <td>110694</td>\n",
       "      <td>109899</td>\n",
       "      <td>220593</td>\n",
       "      <td>110694</td>\n",
       "      <td>109899</td>\n",
       "      <td>220593</td>\n",
       "      <td>110694</td>\n",
       "      <td>...</td>\n",
       "      <td>9643</td>\n",
       "      <td>3886</td>\n",
       "      <td>5757</td>\n",
       "      <td>9643</td>\n",
       "      <td>3886</td>\n",
       "      <td>5757</td>\n",
       "      <td>9643</td>\n",
       "      <td>588.95</td>\n",
       "      <td>989.00</td>\n",
       "      <td>1577.95</td>\n",
       "    </tr>\n",
       "    <tr>\n",
       "      <th>1991</th>\n",
       "      <td>112761</td>\n",
       "      <td>111911</td>\n",
       "      <td>224672</td>\n",
       "      <td>112761</td>\n",
       "      <td>111911</td>\n",
       "      <td>224672</td>\n",
       "      <td>112761</td>\n",
       "      <td>111911</td>\n",
       "      <td>224672</td>\n",
       "      <td>112761</td>\n",
       "      <td>...</td>\n",
       "      <td>9737</td>\n",
       "      <td>3920</td>\n",
       "      <td>5817</td>\n",
       "      <td>9737</td>\n",
       "      <td>3920</td>\n",
       "      <td>5817</td>\n",
       "      <td>9737</td>\n",
       "      <td>600.90</td>\n",
       "      <td>1010.35</td>\n",
       "      <td>1611.25</td>\n",
       "    </tr>\n",
       "    <tr>\n",
       "      <th>1992</th>\n",
       "      <td>114464</td>\n",
       "      <td>113556</td>\n",
       "      <td>228020</td>\n",
       "      <td>114464</td>\n",
       "      <td>113556</td>\n",
       "      <td>228020</td>\n",
       "      <td>114464</td>\n",
       "      <td>113556</td>\n",
       "      <td>228020</td>\n",
       "      <td>114464</td>\n",
       "      <td>...</td>\n",
       "      <td>9821</td>\n",
       "      <td>3947</td>\n",
       "      <td>5874</td>\n",
       "      <td>9821</td>\n",
       "      <td>3947</td>\n",
       "      <td>5874</td>\n",
       "      <td>9821</td>\n",
       "      <td>612.90</td>\n",
       "      <td>1030.75</td>\n",
       "      <td>1643.65</td>\n",
       "    </tr>\n",
       "    <tr>\n",
       "      <th>1993</th>\n",
       "      <td>115758</td>\n",
       "      <td>114788</td>\n",
       "      <td>230546</td>\n",
       "      <td>115758</td>\n",
       "      <td>114788</td>\n",
       "      <td>230546</td>\n",
       "      <td>115758</td>\n",
       "      <td>114788</td>\n",
       "      <td>230546</td>\n",
       "      <td>115758</td>\n",
       "      <td>...</td>\n",
       "      <td>9898</td>\n",
       "      <td>3970</td>\n",
       "      <td>5928</td>\n",
       "      <td>9898</td>\n",
       "      <td>3970</td>\n",
       "      <td>5928</td>\n",
       "      <td>9898</td>\n",
       "      <td>624.65</td>\n",
       "      <td>1050.20</td>\n",
       "      <td>1674.85</td>\n",
       "    </tr>\n",
       "    <tr>\n",
       "      <th>1994</th>\n",
       "      <td>116666</td>\n",
       "      <td>115632</td>\n",
       "      <td>232298</td>\n",
       "      <td>116666</td>\n",
       "      <td>115632</td>\n",
       "      <td>232298</td>\n",
       "      <td>116666</td>\n",
       "      <td>115632</td>\n",
       "      <td>232298</td>\n",
       "      <td>116666</td>\n",
       "      <td>...</td>\n",
       "      <td>9971</td>\n",
       "      <td>3993</td>\n",
       "      <td>5978</td>\n",
       "      <td>9971</td>\n",
       "      <td>3993</td>\n",
       "      <td>5978</td>\n",
       "      <td>9971</td>\n",
       "      <td>635.60</td>\n",
       "      <td>1068.55</td>\n",
       "      <td>1704.15</td>\n",
       "    </tr>\n",
       "    <tr>\n",
       "      <th>1995</th>\n",
       "      <td>117289</td>\n",
       "      <td>116189</td>\n",
       "      <td>233478</td>\n",
       "      <td>117289</td>\n",
       "      <td>116189</td>\n",
       "      <td>233478</td>\n",
       "      <td>117289</td>\n",
       "      <td>116189</td>\n",
       "      <td>233478</td>\n",
       "      <td>117289</td>\n",
       "      <td>...</td>\n",
       "      <td>10045</td>\n",
       "      <td>4019</td>\n",
       "      <td>6026</td>\n",
       "      <td>10045</td>\n",
       "      <td>4019</td>\n",
       "      <td>6026</td>\n",
       "      <td>10045</td>\n",
       "      <td>645.70</td>\n",
       "      <td>1086.85</td>\n",
       "      <td>1732.55</td>\n",
       "    </tr>\n",
       "    <tr>\n",
       "      <th>1996</th>\n",
       "      <td>117784</td>\n",
       "      <td>116624</td>\n",
       "      <td>234408</td>\n",
       "      <td>117784</td>\n",
       "      <td>116624</td>\n",
       "      <td>234408</td>\n",
       "      <td>117784</td>\n",
       "      <td>116624</td>\n",
       "      <td>234408</td>\n",
       "      <td>117784</td>\n",
       "      <td>...</td>\n",
       "      <td>10123</td>\n",
       "      <td>4047</td>\n",
       "      <td>6076</td>\n",
       "      <td>10123</td>\n",
       "      <td>4047</td>\n",
       "      <td>6076</td>\n",
       "      <td>10123</td>\n",
       "      <td>655.00</td>\n",
       "      <td>1105.80</td>\n",
       "      <td>1760.80</td>\n",
       "    </tr>\n",
       "    <tr>\n",
       "      <th>1997</th>\n",
       "      <td>118296</td>\n",
       "      <td>117073</td>\n",
       "      <td>235369</td>\n",
       "      <td>118296</td>\n",
       "      <td>117073</td>\n",
       "      <td>235369</td>\n",
       "      <td>118296</td>\n",
       "      <td>117073</td>\n",
       "      <td>235369</td>\n",
       "      <td>118296</td>\n",
       "      <td>...</td>\n",
       "      <td>10207</td>\n",
       "      <td>4079</td>\n",
       "      <td>6128</td>\n",
       "      <td>10207</td>\n",
       "      <td>4079</td>\n",
       "      <td>6128</td>\n",
       "      <td>10207</td>\n",
       "      <td>663.65</td>\n",
       "      <td>1125.05</td>\n",
       "      <td>1788.70</td>\n",
       "    </tr>\n",
       "    <tr>\n",
       "      <th>1998</th>\n",
       "      <td>118836</td>\n",
       "      <td>117550</td>\n",
       "      <td>236386</td>\n",
       "      <td>118836</td>\n",
       "      <td>117550</td>\n",
       "      <td>236386</td>\n",
       "      <td>118836</td>\n",
       "      <td>117550</td>\n",
       "      <td>236386</td>\n",
       "      <td>118836</td>\n",
       "      <td>...</td>\n",
       "      <td>10295</td>\n",
       "      <td>4114</td>\n",
       "      <td>6181</td>\n",
       "      <td>10295</td>\n",
       "      <td>4114</td>\n",
       "      <td>6181</td>\n",
       "      <td>10295</td>\n",
       "      <td>671.65</td>\n",
       "      <td>1144.20</td>\n",
       "      <td>1815.85</td>\n",
       "    </tr>\n",
       "    <tr>\n",
       "      <th>1999</th>\n",
       "      <td>119400</td>\n",
       "      <td>118068</td>\n",
       "      <td>237468</td>\n",
       "      <td>119400</td>\n",
       "      <td>118068</td>\n",
       "      <td>237468</td>\n",
       "      <td>119400</td>\n",
       "      <td>118068</td>\n",
       "      <td>237468</td>\n",
       "      <td>119400</td>\n",
       "      <td>...</td>\n",
       "      <td>10380</td>\n",
       "      <td>4148</td>\n",
       "      <td>6232</td>\n",
       "      <td>10380</td>\n",
       "      <td>4148</td>\n",
       "      <td>6232</td>\n",
       "      <td>10380</td>\n",
       "      <td>679.15</td>\n",
       "      <td>1163.10</td>\n",
       "      <td>1842.25</td>\n",
       "    </tr>\n",
       "    <tr>\n",
       "      <th>2000</th>\n",
       "      <td>120093</td>\n",
       "      <td>118714</td>\n",
       "      <td>238807</td>\n",
       "      <td>120093</td>\n",
       "      <td>118714</td>\n",
       "      <td>238807</td>\n",
       "      <td>120093</td>\n",
       "      <td>118714</td>\n",
       "      <td>238807</td>\n",
       "      <td>120093</td>\n",
       "      <td>...</td>\n",
       "      <td>10468</td>\n",
       "      <td>4184</td>\n",
       "      <td>6284</td>\n",
       "      <td>10468</td>\n",
       "      <td>4184</td>\n",
       "      <td>6284</td>\n",
       "      <td>10468</td>\n",
       "      <td>686.90</td>\n",
       "      <td>1181.70</td>\n",
       "      <td>1868.60</td>\n",
       "    </tr>\n",
       "    <tr>\n",
       "      <th>2001</th>\n",
       "      <td>120750</td>\n",
       "      <td>119312</td>\n",
       "      <td>240062</td>\n",
       "      <td>120750</td>\n",
       "      <td>119312</td>\n",
       "      <td>240062</td>\n",
       "      <td>120750</td>\n",
       "      <td>119312</td>\n",
       "      <td>240062</td>\n",
       "      <td>120750</td>\n",
       "      <td>...</td>\n",
       "      <td>10558</td>\n",
       "      <td>4223</td>\n",
       "      <td>6335</td>\n",
       "      <td>10558</td>\n",
       "      <td>4223</td>\n",
       "      <td>6335</td>\n",
       "      <td>10558</td>\n",
       "      <td>694.95</td>\n",
       "      <td>1200.00</td>\n",
       "      <td>1894.95</td>\n",
       "    </tr>\n",
       "    <tr>\n",
       "      <th>2002</th>\n",
       "      <td>121165</td>\n",
       "      <td>119669</td>\n",
       "      <td>240834</td>\n",
       "      <td>121165</td>\n",
       "      <td>119669</td>\n",
       "      <td>240834</td>\n",
       "      <td>121165</td>\n",
       "      <td>119669</td>\n",
       "      <td>240834</td>\n",
       "      <td>121165</td>\n",
       "      <td>...</td>\n",
       "      <td>10651</td>\n",
       "      <td>4263</td>\n",
       "      <td>6388</td>\n",
       "      <td>10651</td>\n",
       "      <td>4263</td>\n",
       "      <td>6388</td>\n",
       "      <td>10651</td>\n",
       "      <td>703.40</td>\n",
       "      <td>1218.55</td>\n",
       "      <td>1921.95</td>\n",
       "    </tr>\n",
       "    <tr>\n",
       "      <th>2003</th>\n",
       "      <td>121539</td>\n",
       "      <td>119966</td>\n",
       "      <td>241505</td>\n",
       "      <td>121539</td>\n",
       "      <td>119966</td>\n",
       "      <td>241505</td>\n",
       "      <td>121539</td>\n",
       "      <td>119966</td>\n",
       "      <td>241505</td>\n",
       "      <td>121539</td>\n",
       "      <td>...</td>\n",
       "      <td>10763</td>\n",
       "      <td>4313</td>\n",
       "      <td>6450</td>\n",
       "      <td>10763</td>\n",
       "      <td>4313</td>\n",
       "      <td>6450</td>\n",
       "      <td>10763</td>\n",
       "      <td>711.95</td>\n",
       "      <td>1237.30</td>\n",
       "      <td>1949.25</td>\n",
       "    </tr>\n",
       "    <tr>\n",
       "      <th>2004</th>\n",
       "      <td>121811</td>\n",
       "      <td>120120</td>\n",
       "      <td>241931</td>\n",
       "      <td>121811</td>\n",
       "      <td>120120</td>\n",
       "      <td>241931</td>\n",
       "      <td>121811</td>\n",
       "      <td>120120</td>\n",
       "      <td>241931</td>\n",
       "      <td>121811</td>\n",
       "      <td>...</td>\n",
       "      <td>10914</td>\n",
       "      <td>4385</td>\n",
       "      <td>6529</td>\n",
       "      <td>10914</td>\n",
       "      <td>4385</td>\n",
       "      <td>6529</td>\n",
       "      <td>10914</td>\n",
       "      <td>719.55</td>\n",
       "      <td>1254.15</td>\n",
       "      <td>1973.70</td>\n",
       "    </tr>\n",
       "    <tr>\n",
       "      <th>2005</th>\n",
       "      <td>121932</td>\n",
       "      <td>120105</td>\n",
       "      <td>242037</td>\n",
       "      <td>121932</td>\n",
       "      <td>120105</td>\n",
       "      <td>242037</td>\n",
       "      <td>121932</td>\n",
       "      <td>120105</td>\n",
       "      <td>242037</td>\n",
       "      <td>121932</td>\n",
       "      <td>...</td>\n",
       "      <td>11127</td>\n",
       "      <td>4488</td>\n",
       "      <td>6639</td>\n",
       "      <td>11127</td>\n",
       "      <td>4488</td>\n",
       "      <td>6639</td>\n",
       "      <td>11127</td>\n",
       "      <td>727.75</td>\n",
       "      <td>1272.10</td>\n",
       "      <td>1999.85</td>\n",
       "    </tr>\n",
       "    <tr>\n",
       "      <th>2006</th>\n",
       "      <td>122259</td>\n",
       "      <td>120287</td>\n",
       "      <td>242546</td>\n",
       "      <td>122259</td>\n",
       "      <td>120287</td>\n",
       "      <td>242546</td>\n",
       "      <td>122259</td>\n",
       "      <td>120287</td>\n",
       "      <td>242546</td>\n",
       "      <td>122259</td>\n",
       "      <td>...</td>\n",
       "      <td>11408</td>\n",
       "      <td>4623</td>\n",
       "      <td>6785</td>\n",
       "      <td>11408</td>\n",
       "      <td>4623</td>\n",
       "      <td>6785</td>\n",
       "      <td>11408</td>\n",
       "      <td>737.15</td>\n",
       "      <td>1293.60</td>\n",
       "      <td>2030.75</td>\n",
       "    </tr>\n",
       "    <tr>\n",
       "      <th>2007</th>\n",
       "      <td>122914</td>\n",
       "      <td>120782</td>\n",
       "      <td>243696</td>\n",
       "      <td>122914</td>\n",
       "      <td>120782</td>\n",
       "      <td>243696</td>\n",
       "      <td>122914</td>\n",
       "      <td>120782</td>\n",
       "      <td>243696</td>\n",
       "      <td>122914</td>\n",
       "      <td>...</td>\n",
       "      <td>11744</td>\n",
       "      <td>4786</td>\n",
       "      <td>6958</td>\n",
       "      <td>11744</td>\n",
       "      <td>4786</td>\n",
       "      <td>6958</td>\n",
       "      <td>11744</td>\n",
       "      <td>746.95</td>\n",
       "      <td>1315.65</td>\n",
       "      <td>2062.60</td>\n",
       "    </tr>\n",
       "    <tr>\n",
       "      <th>2008</th>\n",
       "      <td>123731</td>\n",
       "      <td>121444</td>\n",
       "      <td>245175</td>\n",
       "      <td>123731</td>\n",
       "      <td>121444</td>\n",
       "      <td>245175</td>\n",
       "      <td>123731</td>\n",
       "      <td>121444</td>\n",
       "      <td>245175</td>\n",
       "      <td>123731</td>\n",
       "      <td>...</td>\n",
       "      <td>12134</td>\n",
       "      <td>4975</td>\n",
       "      <td>7159</td>\n",
       "      <td>12134</td>\n",
       "      <td>4975</td>\n",
       "      <td>7159</td>\n",
       "      <td>12134</td>\n",
       "      <td>758.15</td>\n",
       "      <td>1338.40</td>\n",
       "      <td>2096.55</td>\n",
       "    </tr>\n",
       "    <tr>\n",
       "      <th>2009</th>\n",
       "      <td>124681</td>\n",
       "      <td>122269</td>\n",
       "      <td>246950</td>\n",
       "      <td>124681</td>\n",
       "      <td>122269</td>\n",
       "      <td>246950</td>\n",
       "      <td>124681</td>\n",
       "      <td>122269</td>\n",
       "      <td>246950</td>\n",
       "      <td>124681</td>\n",
       "      <td>...</td>\n",
       "      <td>12569</td>\n",
       "      <td>5183</td>\n",
       "      <td>7386</td>\n",
       "      <td>12569</td>\n",
       "      <td>5183</td>\n",
       "      <td>7386</td>\n",
       "      <td>12569</td>\n",
       "      <td>772.40</td>\n",
       "      <td>1362.75</td>\n",
       "      <td>2135.15</td>\n",
       "    </tr>\n",
       "    <tr>\n",
       "      <th>2010</th>\n",
       "      <td>124861</td>\n",
       "      <td>122356</td>\n",
       "      <td>247217</td>\n",
       "      <td>124861</td>\n",
       "      <td>122356</td>\n",
       "      <td>247217</td>\n",
       "      <td>124861</td>\n",
       "      <td>122356</td>\n",
       "      <td>247217</td>\n",
       "      <td>124861</td>\n",
       "      <td>...</td>\n",
       "      <td>12901</td>\n",
       "      <td>5348</td>\n",
       "      <td>7553</td>\n",
       "      <td>12901</td>\n",
       "      <td>5348</td>\n",
       "      <td>7553</td>\n",
       "      <td>12901</td>\n",
       "      <td>773.90</td>\n",
       "      <td>1360.55</td>\n",
       "      <td>2134.45</td>\n",
       "    </tr>\n",
       "    <tr>\n",
       "      <th>2011</th>\n",
       "      <td>124937</td>\n",
       "      <td>122388</td>\n",
       "      <td>247325</td>\n",
       "      <td>124937</td>\n",
       "      <td>122388</td>\n",
       "      <td>247325</td>\n",
       "      <td>124937</td>\n",
       "      <td>122388</td>\n",
       "      <td>247325</td>\n",
       "      <td>124937</td>\n",
       "      <td>...</td>\n",
       "      <td>13265</td>\n",
       "      <td>5526</td>\n",
       "      <td>7739</td>\n",
       "      <td>13265</td>\n",
       "      <td>5526</td>\n",
       "      <td>7739</td>\n",
       "      <td>13265</td>\n",
       "      <td>780.60</td>\n",
       "      <td>1363.70</td>\n",
       "      <td>2144.30</td>\n",
       "    </tr>\n",
       "    <tr>\n",
       "      <th>2012</th>\n",
       "      <td>125615</td>\n",
       "      <td>123072</td>\n",
       "      <td>248687</td>\n",
       "      <td>125615</td>\n",
       "      <td>123072</td>\n",
       "      <td>248687</td>\n",
       "      <td>125615</td>\n",
       "      <td>123072</td>\n",
       "      <td>248687</td>\n",
       "      <td>125615</td>\n",
       "      <td>...</td>\n",
       "      <td>13807</td>\n",
       "      <td>5778</td>\n",
       "      <td>8029</td>\n",
       "      <td>13807</td>\n",
       "      <td>5778</td>\n",
       "      <td>8029</td>\n",
       "      <td>13807</td>\n",
       "      <td>809.00</td>\n",
       "      <td>1401.95</td>\n",
       "      <td>2210.95</td>\n",
       "    </tr>\n",
       "    <tr>\n",
       "      <th>2023</th>\n",
       "      <td>124824</td>\n",
       "      <td>122286</td>\n",
       "      <td>247110</td>\n",
       "      <td>124824</td>\n",
       "      <td>122286</td>\n",
       "      <td>247110</td>\n",
       "      <td>124824</td>\n",
       "      <td>122286</td>\n",
       "      <td>247110</td>\n",
       "      <td>124824</td>\n",
       "      <td>...</td>\n",
       "      <td>18524</td>\n",
       "      <td>7590</td>\n",
       "      <td>10934</td>\n",
       "      <td>18524</td>\n",
       "      <td>7590</td>\n",
       "      <td>10934</td>\n",
       "      <td>18524</td>\n",
       "      <td>1194.45</td>\n",
       "      <td>1986.55</td>\n",
       "      <td>3181.00</td>\n",
       "    </tr>\n",
       "  </tbody>\n",
       "</table>\n",
       "<p>24 rows × 243 columns</p>\n",
       "</div>"
      ],
      "text/plain": [
       "             Male Population Age 0  Female Population Age 0  \\\n",
       "Region Year                                                   \n",
       "Haiti  1990                 110694                   109899   \n",
       "       1991                 112761                   111911   \n",
       "       1992                 114464                   113556   \n",
       "       1993                 115758                   114788   \n",
       "       1994                 116666                   115632   \n",
       "       1995                 117289                   116189   \n",
       "       1996                 117784                   116624   \n",
       "       1997                 118296                   117073   \n",
       "       1998                 118836                   117550   \n",
       "       1999                 119400                   118068   \n",
       "       2000                 120093                   118714   \n",
       "       2001                 120750                   119312   \n",
       "       2002                 121165                   119669   \n",
       "       2003                 121539                   119966   \n",
       "       2004                 121811                   120120   \n",
       "       2005                 121932                   120105   \n",
       "       2006                 122259                   120287   \n",
       "       2007                 122914                   120782   \n",
       "       2008                 123731                   121444   \n",
       "       2009                 124681                   122269   \n",
       "       2010                 124861                   122356   \n",
       "       2011                 124937                   122388   \n",
       "       2012                 125615                   123072   \n",
       "       2023                 124824                   122286   \n",
       "\n",
       "             Total Population Age 0  Male Population Age 1  \\\n",
       "Region Year                                                  \n",
       "Haiti  1990                  220593                 110694   \n",
       "       1991                  224672                 112761   \n",
       "       1992                  228020                 114464   \n",
       "       1993                  230546                 115758   \n",
       "       1994                  232298                 116666   \n",
       "       1995                  233478                 117289   \n",
       "       1996                  234408                 117784   \n",
       "       1997                  235369                 118296   \n",
       "       1998                  236386                 118836   \n",
       "       1999                  237468                 119400   \n",
       "       2000                  238807                 120093   \n",
       "       2001                  240062                 120750   \n",
       "       2002                  240834                 121165   \n",
       "       2003                  241505                 121539   \n",
       "       2004                  241931                 121811   \n",
       "       2005                  242037                 121932   \n",
       "       2006                  242546                 122259   \n",
       "       2007                  243696                 122914   \n",
       "       2008                  245175                 123731   \n",
       "       2009                  246950                 124681   \n",
       "       2010                  247217                 124861   \n",
       "       2011                  247325                 124937   \n",
       "       2012                  248687                 125615   \n",
       "       2023                  247110                 124824   \n",
       "\n",
       "             Female Population Age 1  Total Population Age 1  \\\n",
       "Region Year                                                    \n",
       "Haiti  1990                   109899                  220593   \n",
       "       1991                   111911                  224672   \n",
       "       1992                   113556                  228020   \n",
       "       1993                   114788                  230546   \n",
       "       1994                   115632                  232298   \n",
       "       1995                   116189                  233478   \n",
       "       1996                   116624                  234408   \n",
       "       1997                   117073                  235369   \n",
       "       1998                   117550                  236386   \n",
       "       1999                   118068                  237468   \n",
       "       2000                   118714                  238807   \n",
       "       2001                   119312                  240062   \n",
       "       2002                   119669                  240834   \n",
       "       2003                   119966                  241505   \n",
       "       2004                   120120                  241931   \n",
       "       2005                   120105                  242037   \n",
       "       2006                   120287                  242546   \n",
       "       2007                   120782                  243696   \n",
       "       2008                   121444                  245175   \n",
       "       2009                   122269                  246950   \n",
       "       2010                   122356                  247217   \n",
       "       2011                   122388                  247325   \n",
       "       2012                   123072                  248687   \n",
       "       2023                   122286                  247110   \n",
       "\n",
       "             Male Population Age 2  Female Population Age 2  \\\n",
       "Region Year                                                   \n",
       "Haiti  1990                 110694                   109899   \n",
       "       1991                 112761                   111911   \n",
       "       1992                 114464                   113556   \n",
       "       1993                 115758                   114788   \n",
       "       1994                 116666                   115632   \n",
       "       1995                 117289                   116189   \n",
       "       1996                 117784                   116624   \n",
       "       1997                 118296                   117073   \n",
       "       1998                 118836                   117550   \n",
       "       1999                 119400                   118068   \n",
       "       2000                 120093                   118714   \n",
       "       2001                 120750                   119312   \n",
       "       2002                 121165                   119669   \n",
       "       2003                 121539                   119966   \n",
       "       2004                 121811                   120120   \n",
       "       2005                 121932                   120105   \n",
       "       2006                 122259                   120287   \n",
       "       2007                 122914                   120782   \n",
       "       2008                 123731                   121444   \n",
       "       2009                 124681                   122269   \n",
       "       2010                 124861                   122356   \n",
       "       2011                 124937                   122388   \n",
       "       2012                 125615                   123072   \n",
       "       2023                 124824                   122286   \n",
       "\n",
       "             Total Population Age 2  Male Population Age 3  ...  \\\n",
       "Region Year                                                 ...   \n",
       "Haiti  1990                  220593                 110694  ...   \n",
       "       1991                  224672                 112761  ...   \n",
       "       1992                  228020                 114464  ...   \n",
       "       1993                  230546                 115758  ...   \n",
       "       1994                  232298                 116666  ...   \n",
       "       1995                  233478                 117289  ...   \n",
       "       1996                  234408                 117784  ...   \n",
       "       1997                  235369                 118296  ...   \n",
       "       1998                  236386                 118836  ...   \n",
       "       1999                  237468                 119400  ...   \n",
       "       2000                  238807                 120093  ...   \n",
       "       2001                  240062                 120750  ...   \n",
       "       2002                  240834                 121165  ...   \n",
       "       2003                  241505                 121539  ...   \n",
       "       2004                  241931                 121811  ...   \n",
       "       2005                  242037                 121932  ...   \n",
       "       2006                  242546                 122259  ...   \n",
       "       2007                  243696                 122914  ...   \n",
       "       2008                  245175                 123731  ...   \n",
       "       2009                  246950                 124681  ...   \n",
       "       2010                  247217                 124861  ...   \n",
       "       2011                  247325                 124937  ...   \n",
       "       2012                  248687                 125615  ...   \n",
       "       2023                  247110                 124824  ...   \n",
       "\n",
       "             Total Population Age 77  Male Population Age 78  \\\n",
       "Region Year                                                    \n",
       "Haiti  1990                     9643                    3886   \n",
       "       1991                     9737                    3920   \n",
       "       1992                     9821                    3947   \n",
       "       1993                     9898                    3970   \n",
       "       1994                     9971                    3993   \n",
       "       1995                    10045                    4019   \n",
       "       1996                    10123                    4047   \n",
       "       1997                    10207                    4079   \n",
       "       1998                    10295                    4114   \n",
       "       1999                    10380                    4148   \n",
       "       2000                    10468                    4184   \n",
       "       2001                    10558                    4223   \n",
       "       2002                    10651                    4263   \n",
       "       2003                    10763                    4313   \n",
       "       2004                    10914                    4385   \n",
       "       2005                    11127                    4488   \n",
       "       2006                    11408                    4623   \n",
       "       2007                    11744                    4786   \n",
       "       2008                    12134                    4975   \n",
       "       2009                    12569                    5183   \n",
       "       2010                    12901                    5348   \n",
       "       2011                    13265                    5526   \n",
       "       2012                    13807                    5778   \n",
       "       2023                    18524                    7590   \n",
       "\n",
       "             Female Population Age 78  Total Population Age 78  \\\n",
       "Region Year                                                      \n",
       "Haiti  1990                      5757                     9643   \n",
       "       1991                      5817                     9737   \n",
       "       1992                      5874                     9821   \n",
       "       1993                      5928                     9898   \n",
       "       1994                      5978                     9971   \n",
       "       1995                      6026                    10045   \n",
       "       1996                      6076                    10123   \n",
       "       1997                      6128                    10207   \n",
       "       1998                      6181                    10295   \n",
       "       1999                      6232                    10380   \n",
       "       2000                      6284                    10468   \n",
       "       2001                      6335                    10558   \n",
       "       2002                      6388                    10651   \n",
       "       2003                      6450                    10763   \n",
       "       2004                      6529                    10914   \n",
       "       2005                      6639                    11127   \n",
       "       2006                      6785                    11408   \n",
       "       2007                      6958                    11744   \n",
       "       2008                      7159                    12134   \n",
       "       2009                      7386                    12569   \n",
       "       2010                      7553                    12901   \n",
       "       2011                      7739                    13265   \n",
       "       2012                      8029                    13807   \n",
       "       2023                     10934                    18524   \n",
       "\n",
       "             Male Population Age 79  Female Population Age 79  \\\n",
       "Region Year                                                     \n",
       "Haiti  1990                    3886                      5757   \n",
       "       1991                    3920                      5817   \n",
       "       1992                    3947                      5874   \n",
       "       1993                    3970                      5928   \n",
       "       1994                    3993                      5978   \n",
       "       1995                    4019                      6026   \n",
       "       1996                    4047                      6076   \n",
       "       1997                    4079                      6128   \n",
       "       1998                    4114                      6181   \n",
       "       1999                    4148                      6232   \n",
       "       2000                    4184                      6284   \n",
       "       2001                    4223                      6335   \n",
       "       2002                    4263                      6388   \n",
       "       2003                    4313                      6450   \n",
       "       2004                    4385                      6529   \n",
       "       2005                    4488                      6639   \n",
       "       2006                    4623                      6785   \n",
       "       2007                    4786                      6958   \n",
       "       2008                    4975                      7159   \n",
       "       2009                    5183                      7386   \n",
       "       2010                    5348                      7553   \n",
       "       2011                    5526                      7739   \n",
       "       2012                    5778                      8029   \n",
       "       2023                    7590                     10934   \n",
       "\n",
       "             Total Population Age 79  Male Population Age 80  \\\n",
       "Region Year                                                    \n",
       "Haiti  1990                     9643                  588.95   \n",
       "       1991                     9737                  600.90   \n",
       "       1992                     9821                  612.90   \n",
       "       1993                     9898                  624.65   \n",
       "       1994                     9971                  635.60   \n",
       "       1995                    10045                  645.70   \n",
       "       1996                    10123                  655.00   \n",
       "       1997                    10207                  663.65   \n",
       "       1998                    10295                  671.65   \n",
       "       1999                    10380                  679.15   \n",
       "       2000                    10468                  686.90   \n",
       "       2001                    10558                  694.95   \n",
       "       2002                    10651                  703.40   \n",
       "       2003                    10763                  711.95   \n",
       "       2004                    10914                  719.55   \n",
       "       2005                    11127                  727.75   \n",
       "       2006                    11408                  737.15   \n",
       "       2007                    11744                  746.95   \n",
       "       2008                    12134                  758.15   \n",
       "       2009                    12569                  772.40   \n",
       "       2010                    12901                  773.90   \n",
       "       2011                    13265                  780.60   \n",
       "       2012                    13807                  809.00   \n",
       "       2023                    18524                 1194.45   \n",
       "\n",
       "             Female Population Age 80  Total Population Age 80  \n",
       "Region Year                                                     \n",
       "Haiti  1990                    989.00                  1577.95  \n",
       "       1991                   1010.35                  1611.25  \n",
       "       1992                   1030.75                  1643.65  \n",
       "       1993                   1050.20                  1674.85  \n",
       "       1994                   1068.55                  1704.15  \n",
       "       1995                   1086.85                  1732.55  \n",
       "       1996                   1105.80                  1760.80  \n",
       "       1997                   1125.05                  1788.70  \n",
       "       1998                   1144.20                  1815.85  \n",
       "       1999                   1163.10                  1842.25  \n",
       "       2000                   1181.70                  1868.60  \n",
       "       2001                   1200.00                  1894.95  \n",
       "       2002                   1218.55                  1921.95  \n",
       "       2003                   1237.30                  1949.25  \n",
       "       2004                   1254.15                  1973.70  \n",
       "       2005                   1272.10                  1999.85  \n",
       "       2006                   1293.60                  2030.75  \n",
       "       2007                   1315.65                  2062.60  \n",
       "       2008                   1338.40                  2096.55  \n",
       "       2009                   1362.75                  2135.15  \n",
       "       2010                   1360.55                  2134.45  \n",
       "       2011                   1363.70                  2144.30  \n",
       "       2012                   1401.95                  2210.95  \n",
       "       2023                   1986.55                  3181.00  \n",
       "\n",
       "[24 rows x 243 columns]"
      ]
     },
     "execution_count": 6,
     "metadata": {},
     "output_type": "execute_result"
    }
   ],
   "source": [
    "population_df = create_population_dataframe([\"Haiti\"], [1990, 1991, 1992, 1993, 1994, 1995, 1996, 1997, 1998, 1999, 2000, 2001, 2002, 2003, 2004, 2005, 2006, 2007, 2008, 2009, 2010, 2011, 2012, 2023], [0, 80])\n",
    "population_df"
   ]
  },
  {
   "cell_type": "markdown",
   "metadata": {},
   "source": [
    "# Unit Tests"
   ]
  },
  {
   "cell_type": "code",
   "execution_count": 7,
   "metadata": {},
   "outputs": [],
   "source": [
    "# This unit test verifies that there were more females than males in the Jamaica aged between 60-80 in the year 2010.\n",
    "\n",
    "assert(population(2010, \"males\", [60, 80], \"Jamaica\") < population(2010, \"females\", [60, 80], \"Jamaica\")), \"Error\"\n"
   ]
  },
  {
   "cell_type": "code",
   "execution_count": 8,
   "metadata": {},
   "outputs": [],
   "source": [
    "# This unit test verifies that there were more than 50,000 Moroccon residents between the ages of 20-50 in the year 2020.\n",
    "\n",
    "assert(population(2020, \"all\", [20, 50], \"Morocco\") > 50000), \"Error\"\n"
   ]
  },
  {
   "cell_type": "code",
   "execution_count": 9,
   "metadata": {},
   "outputs": [
    {
     "ename": "TypeError",
     "evalue": "'NoneType' object does not support item deletion",
     "output_type": "error",
     "traceback": [
      "\u001b[0;31m---------------------------------------------------------------------------\u001b[0m",
      "\u001b[0;31mTypeError\u001b[0m                                 Traceback (most recent call last)",
      "Cell \u001b[0;32mIn[9], line 3\u001b[0m\n\u001b[1;32m      1\u001b[0m \u001b[38;5;66;03m# This unit test verifies that there were more Chinese residents between the ages 40-59 than the ages 60-79 in the year 1990\u001b[39;00m\n\u001b[0;32m----> 3\u001b[0m \u001b[38;5;28;01massert\u001b[39;00m(population(\u001b[38;5;241m1990\u001b[39m, \u001b[38;5;124m\"\u001b[39m\u001b[38;5;124mall\u001b[39m\u001b[38;5;124m\"\u001b[39m, [\u001b[38;5;241m40\u001b[39m, \u001b[38;5;241m59\u001b[39m], \u001b[38;5;124m\"\u001b[39m\u001b[38;5;124mChina\u001b[39m\u001b[38;5;124m\"\u001b[39m) \u001b[38;5;241m>\u001b[39m \u001b[43mpopulation\u001b[49m\u001b[43m(\u001b[49m\u001b[38;5;241;43m1990\u001b[39;49m\u001b[43m,\u001b[49m\u001b[43m \u001b[49m\u001b[38;5;124;43m\"\u001b[39;49m\u001b[38;5;124;43mall\u001b[39;49m\u001b[38;5;124;43m\"\u001b[39;49m\u001b[43m,\u001b[49m\u001b[43m \u001b[49m\u001b[43m[\u001b[49m\u001b[38;5;241;43m60\u001b[39;49m\u001b[43m,\u001b[49m\u001b[43m \u001b[49m\u001b[38;5;241;43m79\u001b[39;49m\u001b[43m]\u001b[49m\u001b[43m,\u001b[49m\u001b[43m \u001b[49m\u001b[38;5;124;43m\"\u001b[39;49m\u001b[38;5;124;43mChina\u001b[39;49m\u001b[38;5;124;43m\"\u001b[39;49m\u001b[43m)\u001b[49m), \u001b[38;5;124m\"\u001b[39m\u001b[38;5;124mError\u001b[39m\u001b[38;5;124m\"\u001b[39m\n",
      "Cell \u001b[0;32mIn[2], line 95\u001b[0m, in \u001b[0;36mpopulation\u001b[0;34m(year, sex, age_range, place)\u001b[0m\n\u001b[1;32m     93\u001b[0m     \u001b[38;5;28;01mraise\u001b[39;00m \u001b[38;5;167;01mValueError\u001b[39;00m(\u001b[38;5;124mf\u001b[39m\u001b[38;5;124m\"\u001b[39m\u001b[38;5;124mThe region \u001b[39m\u001b[38;5;124m'\u001b[39m\u001b[38;5;132;01m{\u001b[39;00mplace\u001b[38;5;132;01m}\u001b[39;00m\u001b[38;5;124m'\u001b[39m\u001b[38;5;124m is not valid. Please choose from the following regions: \u001b[39m\u001b[38;5;132;01m{\u001b[39;00mvalid_regions\u001b[38;5;132;01m}\u001b[39;00m\u001b[38;5;124m\"\u001b[39m)\n\u001b[1;32m     94\u001b[0m \u001b[38;5;28;01mif\u001b[39;00m sex \u001b[38;5;129;01min\u001b[39;00m [\u001b[38;5;124m\"\u001b[39m\u001b[38;5;124mall\u001b[39m\u001b[38;5;124m\"\u001b[39m, \u001b[38;5;124m\"\u001b[39m\u001b[38;5;124mpeople\u001b[39m\u001b[38;5;124m\"\u001b[39m, \u001b[38;5;124m\"\u001b[39m\u001b[38;5;124mp\u001b[39m\u001b[38;5;124m\"\u001b[39m, \u001b[38;5;124m\"\u001b[39m\u001b[38;5;124mP\u001b[39m\u001b[38;5;124m\"\u001b[39m, \u001b[38;5;124m\"\u001b[39m\u001b[38;5;124mPeople\u001b[39m\u001b[38;5;124m\"\u001b[39m, \u001b[38;5;124m\"\u001b[39m\u001b[38;5;124mAll\u001b[39m\u001b[38;5;124m\"\u001b[39m, \u001b[38;5;124m\"\u001b[39m\u001b[38;5;124mEveryone\u001b[39m\u001b[38;5;124m\"\u001b[39m]:\n\u001b[0;32m---> 95\u001b[0m   female_dict \u001b[38;5;241m=\u001b[39m \u001b[43mdict_helper\u001b[49m\u001b[43m(\u001b[49m\u001b[43myear\u001b[49m\u001b[43m,\u001b[49m\u001b[43m \u001b[49m\u001b[38;5;124;43m\"\u001b[39;49m\u001b[38;5;124;43mfemales\u001b[39;49m\u001b[38;5;124;43m\"\u001b[39;49m\u001b[43m,\u001b[49m\u001b[43m \u001b[49m\u001b[43mage_range\u001b[49m\u001b[43m,\u001b[49m\u001b[43m \u001b[49m\u001b[43mplace\u001b[49m\u001b[43m)\u001b[49m\n\u001b[1;32m     96\u001b[0m   male_dict \u001b[38;5;241m=\u001b[39m dict_helper(year, \u001b[38;5;124m\"\u001b[39m\u001b[38;5;124mmales\u001b[39m\u001b[38;5;124m\"\u001b[39m, age_range, place)\n\u001b[1;32m     97\u001b[0m   \u001b[38;5;28;01mreturn\u001b[39;00m \u001b[38;5;28msum\u001b[39m(female_dict\u001b[38;5;241m.\u001b[39mvalues()) \u001b[38;5;241m+\u001b[39m \u001b[38;5;28msum\u001b[39m(male_dict\u001b[38;5;241m.\u001b[39mvalues())\n",
      "Cell \u001b[0;32mIn[2], line 71\u001b[0m, in \u001b[0;36mdict_helper\u001b[0;34m(year, sex, age_range, place)\u001b[0m\n\u001b[1;32m     68\u001b[0m range_index \u001b[38;5;241m=\u001b[39m \u001b[38;5;28mnext\u001b[39m((i \u001b[38;5;28;01mfor\u001b[39;00m i, min_val \u001b[38;5;129;01min\u001b[39;00m \u001b[38;5;28menumerate\u001b[39m(possible_minimums) \u001b[38;5;28;01mif\u001b[39;00m\n\u001b[1;32m     69\u001b[0m                     min_val \u001b[38;5;241m<\u001b[39m\u001b[38;5;241m=\u001b[39m age \u001b[38;5;129;01mand\u001b[39;00m age \u001b[38;5;241m<\u001b[39m\u001b[38;5;241m=\u001b[39m possible_maximums[i]), \u001b[38;5;28;01mNone\u001b[39;00m)\n\u001b[1;32m     70\u001b[0m \u001b[38;5;28;01mif\u001b[39;00m range_index \u001b[38;5;129;01mis\u001b[39;00m \u001b[38;5;129;01mnot\u001b[39;00m \u001b[38;5;28;01mNone\u001b[39;00m:\n\u001b[0;32m---> 71\u001b[0m     popl_value \u001b[38;5;241m=\u001b[39m \u001b[43mpopulation_range\u001b[49m\u001b[43m(\u001b[49m\u001b[43myear\u001b[49m\u001b[43m,\u001b[49m\u001b[43m \u001b[49m\u001b[43msex\u001b[49m\u001b[43m,\u001b[49m\u001b[43m \u001b[49m\u001b[43m[\u001b[49m\u001b[43mpossible_minimums\u001b[49m\u001b[43m[\u001b[49m\u001b[43mrange_index\u001b[49m\u001b[43m]\u001b[49m\u001b[43m,\u001b[49m\u001b[43m \u001b[49m\u001b[43mpossible_maximums\u001b[49m\u001b[43m[\u001b[49m\u001b[43mrange_index\u001b[49m\u001b[43m]\u001b[49m\u001b[43m]\u001b[49m\u001b[43m,\u001b[49m\u001b[43m \u001b[49m\u001b[43mplace\u001b[49m\u001b[43m)\u001b[49m \u001b[38;5;241m/\u001b[39m\u001b[38;5;241m/\u001b[39m \u001b[38;5;241m5\u001b[39m\n\u001b[1;32m     72\u001b[0m     my_dict[age] \u001b[38;5;241m=\u001b[39m popl_value\n\u001b[1;32m     73\u001b[0m \u001b[38;5;28;01melif\u001b[39;00m age \u001b[38;5;241m>\u001b[39m\u001b[38;5;241m=\u001b[39m \u001b[38;5;241m80\u001b[39m \u001b[38;5;129;01mand\u001b[39;00m age \u001b[38;5;241m<\u001b[39m\u001b[38;5;241m=\u001b[39m \u001b[38;5;241m100\u001b[39m:\n",
      "Cell \u001b[0;32mIn[2], line 35\u001b[0m, in \u001b[0;36mpopulation_range\u001b[0;34m(year, sex, age_range, place)\u001b[0m\n\u001b[1;32m     32\u001b[0m \u001b[38;5;66;03m# Getting the country code via the name.\u001b[39;00m\n\u001b[1;32m     33\u001b[0m country_code \u001b[38;5;241m=\u001b[39m country_dict\u001b[38;5;241m.\u001b[39mget(place)\n\u001b[0;32m---> 35\u001b[0m df \u001b[38;5;241m=\u001b[39m \u001b[43mwbdata\u001b[49m\u001b[38;5;241;43m.\u001b[39;49m\u001b[43mget_dataframe\u001b[49m\u001b[43m(\u001b[49m\u001b[43m{\u001b[49m\u001b[38;5;124;43m\"\u001b[39;49m\u001b[38;5;124;43mSP.POP.\u001b[39;49m\u001b[38;5;124;43m\"\u001b[39;49m\u001b[43m \u001b[49m\u001b[38;5;241;43m+\u001b[39;49m\u001b[43m \u001b[49m\u001b[43mrange_string\u001b[49m\u001b[43m \u001b[49m\u001b[38;5;241;43m+\u001b[39;49m\u001b[43m \u001b[49m\u001b[38;5;124;43m\"\u001b[39;49m\u001b[38;5;124;43m.\u001b[39;49m\u001b[38;5;124;43m\"\u001b[39;49m\u001b[43m \u001b[49m\u001b[38;5;241;43m+\u001b[39;49m\u001b[43m \u001b[49m\u001b[43msex_used\u001b[49m\u001b[43m:\u001b[49m\u001b[43m \u001b[49m\u001b[38;5;124;43m\"\u001b[39;49m\u001b[38;5;124;43mPopulation\u001b[39;49m\u001b[38;5;124;43m\"\u001b[39;49m\u001b[43m}\u001b[49m\u001b[43m,\u001b[49m\n\u001b[1;32m     36\u001b[0m \u001b[43m                          \u001b[49m\u001b[43mcountry\u001b[49m\u001b[38;5;241;43m=\u001b[39;49m\u001b[43m \u001b[49m\u001b[43m{\u001b[49m\u001b[43mcountry_code\u001b[49m\u001b[43m:\u001b[49m\u001b[43m \u001b[49m\u001b[43mplace\u001b[49m\u001b[43m}\u001b[49m\u001b[43m)\u001b[49m\u001b[38;5;241m.\u001b[39msqueeze()\n\u001b[1;32m     37\u001b[0m df \u001b[38;5;241m=\u001b[39m df\u001b[38;5;241m.\u001b[39mto_frame()\u001b[38;5;241m.\u001b[39mreset_index()\n\u001b[1;32m     38\u001b[0m population_total \u001b[38;5;241m=\u001b[39m \u001b[38;5;28mint\u001b[39m(df[df[\u001b[38;5;124m\"\u001b[39m\u001b[38;5;124mdate\u001b[39m\u001b[38;5;124m\"\u001b[39m] \u001b[38;5;241m==\u001b[39m \u001b[38;5;28mstr\u001b[39m(year)][\u001b[38;5;124m\"\u001b[39m\u001b[38;5;124mPopulation\u001b[39m\u001b[38;5;124m\"\u001b[39m]\u001b[38;5;241m.\u001b[39miloc[\u001b[38;5;241m0\u001b[39m])\n",
      "File \u001b[0;32m~/Documents/GitHub/EEP153_Project1_TeamGaryBecker/.venv/lib/python3.12/site-packages/decorator.py:232\u001b[0m, in \u001b[0;36mdecorate.<locals>.fun\u001b[0;34m(*args, **kw)\u001b[0m\n\u001b[1;32m    230\u001b[0m \u001b[38;5;28;01mif\u001b[39;00m \u001b[38;5;129;01mnot\u001b[39;00m kwsyntax:\n\u001b[1;32m    231\u001b[0m     args, kw \u001b[38;5;241m=\u001b[39m fix(args, kw, sig)\n\u001b[0;32m--> 232\u001b[0m \u001b[38;5;28;01mreturn\u001b[39;00m \u001b[43mcaller\u001b[49m\u001b[43m(\u001b[49m\u001b[43mfunc\u001b[49m\u001b[43m,\u001b[49m\u001b[43m \u001b[49m\u001b[38;5;241;43m*\u001b[39;49m\u001b[43m(\u001b[49m\u001b[43mextras\u001b[49m\u001b[43m \u001b[49m\u001b[38;5;241;43m+\u001b[39;49m\u001b[43m \u001b[49m\u001b[43margs\u001b[49m\u001b[43m)\u001b[49m\u001b[43m,\u001b[49m\u001b[43m \u001b[49m\u001b[38;5;241;43m*\u001b[39;49m\u001b[38;5;241;43m*\u001b[39;49m\u001b[43mkw\u001b[49m\u001b[43m)\u001b[49m\n",
      "File \u001b[0;32m~/Documents/GitHub/EEP153_Project1_TeamGaryBecker/.venv/lib/python3.12/site-packages/wbdata/client.py:120\u001b[0m, in \u001b[0;36mneeds_pandas\u001b[0;34m(f, *args, **kwargs)\u001b[0m\n\u001b[1;32m    118\u001b[0m \u001b[38;5;28;01mif\u001b[39;00m pd \u001b[38;5;129;01mis\u001b[39;00m \u001b[38;5;28;01mNone\u001b[39;00m:\n\u001b[1;32m    119\u001b[0m     \u001b[38;5;28;01mraise\u001b[39;00m \u001b[38;5;167;01mRuntimeError\u001b[39;00m(\u001b[38;5;124mf\u001b[39m\u001b[38;5;124m\"\u001b[39m\u001b[38;5;132;01m{\u001b[39;00mf\u001b[38;5;241m.\u001b[39m\u001b[38;5;18m__name__\u001b[39m\u001b[38;5;132;01m}\u001b[39;00m\u001b[38;5;124m requires pandas\u001b[39m\u001b[38;5;124m\"\u001b[39m)\n\u001b[0;32m--> 120\u001b[0m \u001b[38;5;28;01mreturn\u001b[39;00m \u001b[43mf\u001b[49m\u001b[43m(\u001b[49m\u001b[38;5;241;43m*\u001b[39;49m\u001b[43margs\u001b[49m\u001b[43m,\u001b[49m\u001b[43m \u001b[49m\u001b[38;5;241;43m*\u001b[39;49m\u001b[38;5;241;43m*\u001b[39;49m\u001b[43mkwargs\u001b[49m\u001b[43m)\u001b[49m\n",
      "File \u001b[0;32m~/Documents/GitHub/EEP153_Project1_TeamGaryBecker/.venv/lib/python3.12/site-packages/wbdata/client.py:544\u001b[0m, in \u001b[0;36mClient.get_dataframe\u001b[0;34m(self, indicators, country, date, freq, source, parse_dates, keep_levels, skip_cache)\u001b[0m\n\u001b[1;32m    491\u001b[0m \u001b[38;5;129m@needs_pandas\u001b[39m\n\u001b[1;32m    492\u001b[0m \u001b[38;5;28;01mdef\u001b[39;00m\u001b[38;5;250m \u001b[39m\u001b[38;5;21mget_dataframe\u001b[39m(\n\u001b[1;32m    493\u001b[0m     \u001b[38;5;28mself\u001b[39m,\n\u001b[0;32m   (...)\u001b[0m\n\u001b[1;32m    506\u001b[0m     skip_cache: \u001b[38;5;28mbool\u001b[39m \u001b[38;5;241m=\u001b[39m \u001b[38;5;28;01mFalse\u001b[39;00m,\n\u001b[1;32m    507\u001b[0m ) \u001b[38;5;241m-\u001b[39m\u001b[38;5;241m>\u001b[39m DataFrame:\n\u001b[1;32m    508\u001b[0m \u001b[38;5;250m    \u001b[39m\u001b[38;5;124;03m\"\"\"\u001b[39;00m\n\u001b[1;32m    509\u001b[0m \u001b[38;5;124;03m    Download a set of indicators and  merge them into a pandas DataFrame.\u001b[39;00m\n\u001b[1;32m    510\u001b[0m \n\u001b[0;32m   (...)\u001b[0m\n\u001b[1;32m    540\u001b[0m \n\u001b[1;32m    541\u001b[0m \u001b[38;5;124;03m    \"\"\"\u001b[39;00m\n\u001b[1;32m    542\u001b[0m     df \u001b[38;5;241m=\u001b[39m DataFrame(\n\u001b[1;32m    543\u001b[0m         serieses\u001b[38;5;241m=\u001b[39m{\n\u001b[0;32m--> 544\u001b[0m             name: \u001b[38;5;28;43mself\u001b[39;49m\u001b[38;5;241;43m.\u001b[39;49m\u001b[43mget_series\u001b[49m\u001b[43m(\u001b[49m\n\u001b[1;32m    545\u001b[0m \u001b[43m                \u001b[49m\u001b[43mindicator\u001b[49m\u001b[38;5;241;43m=\u001b[39;49m\u001b[43mindicator\u001b[49m\u001b[43m,\u001b[49m\n\u001b[1;32m    546\u001b[0m \u001b[43m                \u001b[49m\u001b[43mcountry\u001b[49m\u001b[38;5;241;43m=\u001b[39;49m\u001b[43mcountry\u001b[49m\u001b[43m,\u001b[49m\n\u001b[1;32m    547\u001b[0m \u001b[43m                \u001b[49m\u001b[43mdate\u001b[49m\u001b[38;5;241;43m=\u001b[39;49m\u001b[43mdate\u001b[49m\u001b[43m,\u001b[49m\n\u001b[1;32m    548\u001b[0m \u001b[43m                \u001b[49m\u001b[43mfreq\u001b[49m\u001b[38;5;241;43m=\u001b[39;49m\u001b[43mfreq\u001b[49m\u001b[43m,\u001b[49m\n\u001b[1;32m    549\u001b[0m \u001b[43m                \u001b[49m\u001b[43msource\u001b[49m\u001b[38;5;241;43m=\u001b[39;49m\u001b[43msource\u001b[49m\u001b[43m,\u001b[49m\n\u001b[1;32m    550\u001b[0m \u001b[43m                \u001b[49m\u001b[43mparse_dates\u001b[49m\u001b[38;5;241;43m=\u001b[39;49m\u001b[43mparse_dates\u001b[49m\u001b[43m,\u001b[49m\n\u001b[1;32m    551\u001b[0m \u001b[43m                \u001b[49m\u001b[43mkeep_levels\u001b[49m\u001b[38;5;241;43m=\u001b[39;49m\u001b[38;5;28;43;01mTrue\u001b[39;49;00m\u001b[43m,\u001b[49m\n\u001b[1;32m    552\u001b[0m \u001b[43m                \u001b[49m\u001b[43mskip_cache\u001b[49m\u001b[38;5;241;43m=\u001b[39;49m\u001b[43mskip_cache\u001b[49m\u001b[43m,\u001b[49m\n\u001b[1;32m    553\u001b[0m \u001b[43m            \u001b[49m\u001b[43m)\u001b[49m\n\u001b[1;32m    554\u001b[0m             \u001b[38;5;28;01mfor\u001b[39;00m indicator, name \u001b[38;5;129;01min\u001b[39;00m indicators\u001b[38;5;241m.\u001b[39mitems()\n\u001b[1;32m    555\u001b[0m         }\n\u001b[1;32m    556\u001b[0m     )\n\u001b[1;32m    557\u001b[0m     \u001b[38;5;28;01mif\u001b[39;00m \u001b[38;5;129;01mnot\u001b[39;00m keep_levels \u001b[38;5;129;01mand\u001b[39;00m \u001b[38;5;28mlen\u001b[39m(\u001b[38;5;28mset\u001b[39m(df\u001b[38;5;241m.\u001b[39mindex\u001b[38;5;241m.\u001b[39mget_level_values(\u001b[38;5;241m0\u001b[39m))) \u001b[38;5;241m==\u001b[39m \u001b[38;5;241m1\u001b[39m:\n\u001b[1;32m    558\u001b[0m         df\u001b[38;5;241m.\u001b[39mindex \u001b[38;5;241m=\u001b[39m df\u001b[38;5;241m.\u001b[39mindex\u001b[38;5;241m.\u001b[39mdroplevel(\u001b[38;5;241m0\u001b[39m)\n",
      "File \u001b[0;32m~/Documents/GitHub/EEP153_Project1_TeamGaryBecker/.venv/lib/python3.12/site-packages/decorator.py:232\u001b[0m, in \u001b[0;36mdecorate.<locals>.fun\u001b[0;34m(*args, **kw)\u001b[0m\n\u001b[1;32m    230\u001b[0m \u001b[38;5;28;01mif\u001b[39;00m \u001b[38;5;129;01mnot\u001b[39;00m kwsyntax:\n\u001b[1;32m    231\u001b[0m     args, kw \u001b[38;5;241m=\u001b[39m fix(args, kw, sig)\n\u001b[0;32m--> 232\u001b[0m \u001b[38;5;28;01mreturn\u001b[39;00m \u001b[43mcaller\u001b[49m\u001b[43m(\u001b[49m\u001b[43mfunc\u001b[49m\u001b[43m,\u001b[49m\u001b[43m \u001b[49m\u001b[38;5;241;43m*\u001b[39;49m\u001b[43m(\u001b[49m\u001b[43mextras\u001b[49m\u001b[43m \u001b[49m\u001b[38;5;241;43m+\u001b[39;49m\u001b[43m \u001b[49m\u001b[43margs\u001b[49m\u001b[43m)\u001b[49m\u001b[43m,\u001b[49m\u001b[43m \u001b[49m\u001b[38;5;241;43m*\u001b[39;49m\u001b[38;5;241;43m*\u001b[39;49m\u001b[43mkw\u001b[49m\u001b[43m)\u001b[49m\n",
      "File \u001b[0;32m~/Documents/GitHub/EEP153_Project1_TeamGaryBecker/.venv/lib/python3.12/site-packages/wbdata/client.py:120\u001b[0m, in \u001b[0;36mneeds_pandas\u001b[0;34m(f, *args, **kwargs)\u001b[0m\n\u001b[1;32m    118\u001b[0m \u001b[38;5;28;01mif\u001b[39;00m pd \u001b[38;5;129;01mis\u001b[39;00m \u001b[38;5;28;01mNone\u001b[39;00m:\n\u001b[1;32m    119\u001b[0m     \u001b[38;5;28;01mraise\u001b[39;00m \u001b[38;5;167;01mRuntimeError\u001b[39;00m(\u001b[38;5;124mf\u001b[39m\u001b[38;5;124m\"\u001b[39m\u001b[38;5;132;01m{\u001b[39;00mf\u001b[38;5;241m.\u001b[39m\u001b[38;5;18m__name__\u001b[39m\u001b[38;5;132;01m}\u001b[39;00m\u001b[38;5;124m requires pandas\u001b[39m\u001b[38;5;124m\"\u001b[39m)\n\u001b[0;32m--> 120\u001b[0m \u001b[38;5;28;01mreturn\u001b[39;00m \u001b[43mf\u001b[49m\u001b[43m(\u001b[49m\u001b[38;5;241;43m*\u001b[39;49m\u001b[43margs\u001b[49m\u001b[43m,\u001b[49m\u001b[43m \u001b[49m\u001b[38;5;241;43m*\u001b[39;49m\u001b[38;5;241;43m*\u001b[39;49m\u001b[43mkwargs\u001b[49m\u001b[43m)\u001b[49m\n",
      "File \u001b[0;32m~/Documents/GitHub/EEP153_Project1_TeamGaryBecker/.venv/lib/python3.12/site-packages/wbdata/client.py:469\u001b[0m, in \u001b[0;36mClient.get_series\u001b[0;34m(self, indicator, country, date, freq, source, parse_dates, name, keep_levels, skip_cache)\u001b[0m\n\u001b[1;32m    418\u001b[0m \u001b[38;5;129m@needs_pandas\u001b[39m\n\u001b[1;32m    419\u001b[0m \u001b[38;5;28;01mdef\u001b[39;00m\u001b[38;5;250m \u001b[39m\u001b[38;5;21mget_series\u001b[39m(\n\u001b[1;32m    420\u001b[0m     \u001b[38;5;28mself\u001b[39m,\n\u001b[0;32m   (...)\u001b[0m\n\u001b[1;32m    434\u001b[0m     skip_cache: \u001b[38;5;28mbool\u001b[39m \u001b[38;5;241m=\u001b[39m \u001b[38;5;28;01mFalse\u001b[39;00m,\n\u001b[1;32m    435\u001b[0m ) \u001b[38;5;241m-\u001b[39m\u001b[38;5;241m>\u001b[39m Series:\n\u001b[1;32m    436\u001b[0m \u001b[38;5;250m    \u001b[39m\u001b[38;5;124;03m\"\"\"\u001b[39;00m\n\u001b[1;32m    437\u001b[0m \u001b[38;5;124;03m    Retrieve data for a single indicator as a pandas Series.\u001b[39;00m\n\u001b[1;32m    438\u001b[0m \n\u001b[0;32m   (...)\u001b[0m\n\u001b[1;32m    467\u001b[0m \u001b[38;5;124;03m            only have one value, the country level is dropped.\u001b[39;00m\n\u001b[1;32m    468\u001b[0m \u001b[38;5;124;03m    \"\"\"\u001b[39;00m\n\u001b[0;32m--> 469\u001b[0m     raw_data \u001b[38;5;241m=\u001b[39m \u001b[38;5;28;43mself\u001b[39;49m\u001b[38;5;241;43m.\u001b[39;49m\u001b[43mget_data\u001b[49m\u001b[43m(\u001b[49m\n\u001b[1;32m    470\u001b[0m \u001b[43m        \u001b[49m\u001b[43mindicator\u001b[49m\u001b[38;5;241;43m=\u001b[39;49m\u001b[43mindicator\u001b[49m\u001b[43m,\u001b[49m\n\u001b[1;32m    471\u001b[0m \u001b[43m        \u001b[49m\u001b[43mcountry\u001b[49m\u001b[38;5;241;43m=\u001b[39;49m\u001b[43mcountry\u001b[49m\u001b[43m,\u001b[49m\n\u001b[1;32m    472\u001b[0m \u001b[43m        \u001b[49m\u001b[43mdate\u001b[49m\u001b[38;5;241;43m=\u001b[39;49m\u001b[43mdate\u001b[49m\u001b[43m,\u001b[49m\n\u001b[1;32m    473\u001b[0m \u001b[43m        \u001b[49m\u001b[43mfreq\u001b[49m\u001b[38;5;241;43m=\u001b[39;49m\u001b[43mfreq\u001b[49m\u001b[43m,\u001b[49m\n\u001b[1;32m    474\u001b[0m \u001b[43m        \u001b[49m\u001b[43msource\u001b[49m\u001b[38;5;241;43m=\u001b[39;49m\u001b[43msource\u001b[49m\u001b[43m,\u001b[49m\n\u001b[1;32m    475\u001b[0m \u001b[43m        \u001b[49m\u001b[43mparse_dates\u001b[49m\u001b[38;5;241;43m=\u001b[39;49m\u001b[43mparse_dates\u001b[49m\u001b[43m,\u001b[49m\n\u001b[1;32m    476\u001b[0m \u001b[43m        \u001b[49m\u001b[43mskip_cache\u001b[49m\u001b[38;5;241;43m=\u001b[39;49m\u001b[43mskip_cache\u001b[49m\u001b[43m,\u001b[49m\n\u001b[1;32m    477\u001b[0m \u001b[43m    \u001b[49m\u001b[43m)\u001b[49m\n\u001b[1;32m    478\u001b[0m     df \u001b[38;5;241m=\u001b[39m pd\u001b[38;5;241m.\u001b[39mDataFrame(\n\u001b[1;32m    479\u001b[0m         [[i[\u001b[38;5;124m\"\u001b[39m\u001b[38;5;124mcountry\u001b[39m\u001b[38;5;124m\"\u001b[39m][\u001b[38;5;124m\"\u001b[39m\u001b[38;5;124mvalue\u001b[39m\u001b[38;5;124m\"\u001b[39m], i[\u001b[38;5;124m\"\u001b[39m\u001b[38;5;124mdate\u001b[39m\u001b[38;5;124m\"\u001b[39m], i[\u001b[38;5;124m\"\u001b[39m\u001b[38;5;124mvalue\u001b[39m\u001b[38;5;124m\"\u001b[39m]] \u001b[38;5;28;01mfor\u001b[39;00m i \u001b[38;5;129;01min\u001b[39;00m raw_data],\n\u001b[1;32m    480\u001b[0m         columns\u001b[38;5;241m=\u001b[39m[\u001b[38;5;124m\"\u001b[39m\u001b[38;5;124mcountry\u001b[39m\u001b[38;5;124m\"\u001b[39m, \u001b[38;5;124m\"\u001b[39m\u001b[38;5;124mdate\u001b[39m\u001b[38;5;124m\"\u001b[39m, name],\n\u001b[1;32m    481\u001b[0m     )\n\u001b[1;32m    482\u001b[0m     df[name] \u001b[38;5;241m=\u001b[39m df[name]\u001b[38;5;241m.\u001b[39mmap(_cast_float)\n",
      "File \u001b[0;32m~/Documents/GitHub/EEP153_Project1_TeamGaryBecker/.venv/lib/python3.12/site-packages/wbdata/client.py:228\u001b[0m, in \u001b[0;36mClient.get_data\u001b[0;34m(self, indicator, country, date, freq, source, parse_dates, skip_cache)\u001b[0m\n\u001b[1;32m    226\u001b[0m \u001b[38;5;28;01mif\u001b[39;00m source:\n\u001b[1;32m    227\u001b[0m     params[\u001b[38;5;124m\"\u001b[39m\u001b[38;5;124msource\u001b[39m\u001b[38;5;124m\"\u001b[39m] \u001b[38;5;241m=\u001b[39m source\n\u001b[0;32m--> 228\u001b[0m data \u001b[38;5;241m=\u001b[39m \u001b[38;5;28;43mself\u001b[39;49m\u001b[38;5;241;43m.\u001b[39;49m\u001b[43mfetcher\u001b[49m\u001b[38;5;241;43m.\u001b[39;49m\u001b[43mfetch\u001b[49m\u001b[43m(\u001b[49m\u001b[43murl\u001b[49m\u001b[38;5;241;43m=\u001b[39;49m\u001b[43murl\u001b[49m\u001b[43m,\u001b[49m\u001b[43m \u001b[49m\u001b[43mparams\u001b[49m\u001b[38;5;241;43m=\u001b[39;49m\u001b[43mparams\u001b[49m\u001b[43m,\u001b[49m\u001b[43m \u001b[49m\u001b[43mskip_cache\u001b[49m\u001b[38;5;241;43m=\u001b[39;49m\u001b[43mskip_cache\u001b[49m\u001b[43m)\u001b[49m\n\u001b[1;32m    229\u001b[0m \u001b[38;5;28;01mif\u001b[39;00m parse_dates:\n\u001b[1;32m    230\u001b[0m     dates\u001b[38;5;241m.\u001b[39mparse_row_dates(data)\n",
      "File \u001b[0;32m~/Documents/GitHub/EEP153_Project1_TeamGaryBecker/.venv/lib/python3.12/site-packages/wbdata/fetcher.py:155\u001b[0m, in \u001b[0;36mFetcher.fetch\u001b[0;34m(self, url, params, skip_cache)\u001b[0m\n\u001b[1;32m    153\u001b[0m rows: List[Dict[\u001b[38;5;28mstr\u001b[39m, Any]] \u001b[38;5;241m=\u001b[39m []\n\u001b[1;32m    154\u001b[0m \u001b[38;5;28;01mwhile\u001b[39;00m pages \u001b[38;5;241m!=\u001b[39m page:\n\u001b[0;32m--> 155\u001b[0m     response \u001b[38;5;241m=\u001b[39m \u001b[38;5;28;43mself\u001b[39;49m\u001b[38;5;241;43m.\u001b[39;49m\u001b[43m_get_response\u001b[49m\u001b[43m(\u001b[49m\n\u001b[1;32m    156\u001b[0m \u001b[43m        \u001b[49m\u001b[43murl\u001b[49m\u001b[38;5;241;43m=\u001b[39;49m\u001b[43murl\u001b[49m\u001b[43m,\u001b[49m\n\u001b[1;32m    157\u001b[0m \u001b[43m        \u001b[49m\u001b[43mparams\u001b[49m\u001b[38;5;241;43m=\u001b[39;49m\u001b[43mparams\u001b[49m\u001b[43m,\u001b[49m\n\u001b[1;32m    158\u001b[0m \u001b[43m        \u001b[49m\u001b[43mskip_cache\u001b[49m\u001b[38;5;241;43m=\u001b[39;49m\u001b[43mskip_cache\u001b[49m\u001b[43m,\u001b[49m\n\u001b[1;32m    159\u001b[0m \u001b[43m    \u001b[49m\u001b[43m)\u001b[49m\n\u001b[1;32m    160\u001b[0m     rows\u001b[38;5;241m.\u001b[39mextend(response\u001b[38;5;241m.\u001b[39mrows)\n\u001b[1;32m    161\u001b[0m     page, pages \u001b[38;5;241m=\u001b[39m response\u001b[38;5;241m.\u001b[39mpage, response\u001b[38;5;241m.\u001b[39mpages\n",
      "File \u001b[0;32m~/Documents/GitHub/EEP153_Project1_TeamGaryBecker/.venv/lib/python3.12/site-packages/wbdata/fetcher.py:128\u001b[0m, in \u001b[0;36mFetcher._get_response\u001b[0;34m(self, url, params, skip_cache)\u001b[0m\n\u001b[1;32m    126\u001b[0m \u001b[38;5;28;01melse\u001b[39;00m:\n\u001b[1;32m    127\u001b[0m     body \u001b[38;5;241m=\u001b[39m \u001b[38;5;28mself\u001b[39m\u001b[38;5;241m.\u001b[39m_get_response_body(url, params)\n\u001b[0;32m--> 128\u001b[0m     \u001b[38;5;28;43mself\u001b[39;49m\u001b[38;5;241;43m.\u001b[39;49m\u001b[43mcache\u001b[49m\u001b[43m[\u001b[49m\u001b[43mkey\u001b[49m\u001b[43m]\u001b[49m \u001b[38;5;241m=\u001b[39m body\n\u001b[1;32m    129\u001b[0m \u001b[38;5;28;01mreturn\u001b[39;00m ParsedResponse\u001b[38;5;241m.\u001b[39mfrom_response(\u001b[38;5;28mtuple\u001b[39m(json\u001b[38;5;241m.\u001b[39mloads(body)))\n",
      "File \u001b[0;32m~/Documents/GitHub/EEP153_Project1_TeamGaryBecker/.venv/lib/python3.12/site-packages/shelved_cache/persistent_cache.py:92\u001b[0m, in \u001b[0;36mPersistentCache.__setitem__\u001b[0;34m(self, key, value)\u001b[0m\n\u001b[1;32m     90\u001b[0m     \u001b[38;5;28mself\u001b[39m\u001b[38;5;241m.\u001b[39mpersistent_dict[hkey] \u001b[38;5;241m=\u001b[39m (key, value)\n\u001b[1;32m     91\u001b[0m     \u001b[38;5;28mself\u001b[39m\u001b[38;5;241m.\u001b[39mpersistent_dict\u001b[38;5;241m.\u001b[39msync()\n\u001b[0;32m---> 92\u001b[0m \u001b[38;5;28;43mself\u001b[39;49m\u001b[38;5;241;43m.\u001b[39;49m\u001b[43mwrapped\u001b[49m\u001b[43m[\u001b[49m\u001b[43mkey\u001b[49m\u001b[43m]\u001b[49m \u001b[38;5;241m=\u001b[39m value\n",
      "File \u001b[0;32m~/Documents/GitHub/EEP153_Project1_TeamGaryBecker/.venv/lib/python3.12/site-packages/cachetools/__init__.py:425\u001b[0m, in \u001b[0;36mTTLCache.__setitem__\u001b[0;34m(self, key, value, cache_setitem)\u001b[0m\n\u001b[1;32m    423\u001b[0m \u001b[38;5;28;01mwith\u001b[39;00m \u001b[38;5;28mself\u001b[39m\u001b[38;5;241m.\u001b[39mtimer \u001b[38;5;28;01mas\u001b[39;00m time:\n\u001b[1;32m    424\u001b[0m     \u001b[38;5;28mself\u001b[39m\u001b[38;5;241m.\u001b[39mexpire(time)\n\u001b[0;32m--> 425\u001b[0m     \u001b[43mcache_setitem\u001b[49m\u001b[43m(\u001b[49m\u001b[38;5;28;43mself\u001b[39;49m\u001b[43m,\u001b[49m\u001b[43m \u001b[49m\u001b[43mkey\u001b[49m\u001b[43m,\u001b[49m\u001b[43m \u001b[49m\u001b[43mvalue\u001b[49m\u001b[43m)\u001b[49m\n\u001b[1;32m    426\u001b[0m \u001b[38;5;28;01mtry\u001b[39;00m:\n\u001b[1;32m    427\u001b[0m     link \u001b[38;5;241m=\u001b[39m \u001b[38;5;28mself\u001b[39m\u001b[38;5;241m.\u001b[39m__getlink(key)\n",
      "File \u001b[0;32m~/Documents/GitHub/EEP153_Project1_TeamGaryBecker/.venv/lib/python3.12/site-packages/cachetools/__init__.py:78\u001b[0m, in \u001b[0;36mCache.__setitem__\u001b[0;34m(self, key, value)\u001b[0m\n\u001b[1;32m     76\u001b[0m \u001b[38;5;28;01mif\u001b[39;00m key \u001b[38;5;129;01mnot\u001b[39;00m \u001b[38;5;129;01min\u001b[39;00m \u001b[38;5;28mself\u001b[39m\u001b[38;5;241m.\u001b[39m__data \u001b[38;5;129;01mor\u001b[39;00m \u001b[38;5;28mself\u001b[39m\u001b[38;5;241m.\u001b[39m__size[key] \u001b[38;5;241m<\u001b[39m size:\n\u001b[1;32m     77\u001b[0m     \u001b[38;5;28;01mwhile\u001b[39;00m \u001b[38;5;28mself\u001b[39m\u001b[38;5;241m.\u001b[39m__currsize \u001b[38;5;241m+\u001b[39m size \u001b[38;5;241m>\u001b[39m maxsize:\n\u001b[0;32m---> 78\u001b[0m         \u001b[38;5;28;43mself\u001b[39;49m\u001b[38;5;241;43m.\u001b[39;49m\u001b[43mpopitem\u001b[49m\u001b[43m(\u001b[49m\u001b[43m)\u001b[49m\n\u001b[1;32m     79\u001b[0m \u001b[38;5;28;01mif\u001b[39;00m key \u001b[38;5;129;01min\u001b[39;00m \u001b[38;5;28mself\u001b[39m\u001b[38;5;241m.\u001b[39m__data:\n\u001b[1;32m     80\u001b[0m     diffsize \u001b[38;5;241m=\u001b[39m size \u001b[38;5;241m-\u001b[39m \u001b[38;5;28mself\u001b[39m\u001b[38;5;241m.\u001b[39m__size[key]\n",
      "File \u001b[0;32m~/Documents/GitHub/EEP153_Project1_TeamGaryBecker/.venv/lib/python3.12/site-packages/cachetools/__init__.py:503\u001b[0m, in \u001b[0;36mTTLCache.popitem\u001b[0;34m(self)\u001b[0m\n\u001b[1;32m    501\u001b[0m     \u001b[38;5;28;01mraise\u001b[39;00m \u001b[38;5;167;01mKeyError\u001b[39;00m(\u001b[38;5;124m\"\u001b[39m\u001b[38;5;132;01m%s\u001b[39;00m\u001b[38;5;124m is empty\u001b[39m\u001b[38;5;124m\"\u001b[39m \u001b[38;5;241m%\u001b[39m \u001b[38;5;28mtype\u001b[39m(\u001b[38;5;28mself\u001b[39m)\u001b[38;5;241m.\u001b[39m\u001b[38;5;18m__name__\u001b[39m) \u001b[38;5;28;01mfrom\u001b[39;00m\u001b[38;5;250m \u001b[39m\u001b[38;5;28;01mNone\u001b[39;00m\n\u001b[1;32m    502\u001b[0m \u001b[38;5;28;01melse\u001b[39;00m:\n\u001b[0;32m--> 503\u001b[0m     \u001b[38;5;28;01mreturn\u001b[39;00m (key, \u001b[38;5;28;43mself\u001b[39;49m\u001b[38;5;241;43m.\u001b[39;49m\u001b[43mpop\u001b[49m\u001b[43m(\u001b[49m\u001b[43mkey\u001b[49m\u001b[43m)\u001b[49m)\n",
      "File \u001b[0;32m~/Documents/GitHub/EEP153_Project1_TeamGaryBecker/.venv/lib/python3.12/site-packages/cachetools/__init__.py:369\u001b[0m, in \u001b[0;36m_TimedCache.pop\u001b[0;34m(self, *args, **kwargs)\u001b[0m\n\u001b[1;32m    367\u001b[0m \u001b[38;5;28;01mdef\u001b[39;00m\u001b[38;5;250m \u001b[39m\u001b[38;5;21mpop\u001b[39m(\u001b[38;5;28mself\u001b[39m, \u001b[38;5;241m*\u001b[39margs, \u001b[38;5;241m*\u001b[39m\u001b[38;5;241m*\u001b[39mkwargs):\n\u001b[1;32m    368\u001b[0m     \u001b[38;5;28;01mwith\u001b[39;00m \u001b[38;5;28mself\u001b[39m\u001b[38;5;241m.\u001b[39m__timer:\n\u001b[0;32m--> 369\u001b[0m         \u001b[38;5;28;01mreturn\u001b[39;00m \u001b[43mCache\u001b[49m\u001b[38;5;241;43m.\u001b[39;49m\u001b[43mpop\u001b[49m\u001b[43m(\u001b[49m\u001b[38;5;28;43mself\u001b[39;49m\u001b[43m,\u001b[49m\u001b[43m \u001b[49m\u001b[38;5;241;43m*\u001b[39;49m\u001b[43margs\u001b[49m\u001b[43m,\u001b[49m\u001b[43m \u001b[49m\u001b[38;5;241;43m*\u001b[39;49m\u001b[38;5;241;43m*\u001b[39;49m\u001b[43mkwargs\u001b[49m\u001b[43m)\u001b[49m\n",
      "File \u001b[0;32m~/Documents/GitHub/EEP153_Project1_TeamGaryBecker/.venv/lib/python3.12/site-packages/cachetools/__init__.py:113\u001b[0m, in \u001b[0;36mCache.pop\u001b[0;34m(self, key, default)\u001b[0m\n\u001b[1;32m    111\u001b[0m \u001b[38;5;28;01mif\u001b[39;00m key \u001b[38;5;129;01min\u001b[39;00m \u001b[38;5;28mself\u001b[39m:\n\u001b[1;32m    112\u001b[0m     value \u001b[38;5;241m=\u001b[39m \u001b[38;5;28mself\u001b[39m[key]\n\u001b[0;32m--> 113\u001b[0m     \u001b[38;5;28;01mdel\u001b[39;00m \u001b[38;5;28;43mself\u001b[39;49m\u001b[43m[\u001b[49m\u001b[43mkey\u001b[49m\u001b[43m]\u001b[49m\n\u001b[1;32m    114\u001b[0m \u001b[38;5;28;01melif\u001b[39;00m default \u001b[38;5;129;01mis\u001b[39;00m \u001b[38;5;28mself\u001b[39m\u001b[38;5;241m.\u001b[39m__marker:\n\u001b[1;32m    115\u001b[0m     \u001b[38;5;28;01mraise\u001b[39;00m \u001b[38;5;167;01mKeyError\u001b[39;00m(key)\n",
      "File \u001b[0;32m~/Documents/GitHub/EEP153_Project1_TeamGaryBecker/.venv/lib/python3.12/site-packages/shelved_cache/persistent_cache.py:25\u001b[0m, in \u001b[0;36mDelMixin.__delitem__\u001b[0;34m(self, key)\u001b[0m\n\u001b[1;32m     23\u001b[0m \u001b[38;5;28;01mdef\u001b[39;00m\u001b[38;5;250m \u001b[39m\u001b[38;5;21m__delitem__\u001b[39m(\u001b[38;5;28mself\u001b[39m, key):\n\u001b[1;32m     24\u001b[0m     \u001b[38;5;28msuper\u001b[39m()\u001b[38;5;241m.\u001b[39m\u001b[38;5;21m__delitem__\u001b[39m(key)\n\u001b[0;32m---> 25\u001b[0m     \u001b[38;5;28;43mself\u001b[39;49m\u001b[38;5;241;43m.\u001b[39;49m\u001b[43mdelete_callback\u001b[49m\u001b[43m(\u001b[49m\u001b[43mkey\u001b[49m\u001b[43m)\u001b[49m\n",
      "File \u001b[0;32m~/Documents/GitHub/EEP153_Project1_TeamGaryBecker/.venv/lib/python3.12/site-packages/shelved_cache/persistent_cache.py:78\u001b[0m, in \u001b[0;36mPersistentCache.delete_callback\u001b[0;34m(self, key)\u001b[0m\n\u001b[1;32m     76\u001b[0m hkey \u001b[38;5;241m=\u001b[39m \u001b[38;5;28mself\u001b[39m\u001b[38;5;241m.\u001b[39mhash_key(key)\n\u001b[1;32m     77\u001b[0m \u001b[38;5;28;01mtry\u001b[39;00m:\n\u001b[0;32m---> 78\u001b[0m     \u001b[38;5;28;01mdel\u001b[39;00m \u001b[38;5;28;43mself\u001b[39;49m\u001b[38;5;241;43m.\u001b[39;49m\u001b[43mpersistent_dict\u001b[49m\u001b[43m[\u001b[49m\u001b[43mhkey\u001b[49m\u001b[43m]\u001b[49m\n\u001b[1;32m     79\u001b[0m \u001b[38;5;28;01mexcept\u001b[39;00m \u001b[38;5;167;01mKeyError\u001b[39;00m:\n\u001b[1;32m     80\u001b[0m     logger\u001b[38;5;241m.\u001b[39mwarning(\u001b[38;5;124mf\u001b[39m\u001b[38;5;124m\"\u001b[39m\u001b[38;5;124mKey \u001b[39m\u001b[38;5;124m'\u001b[39m\u001b[38;5;132;01m{\u001b[39;00mhkey\u001b[38;5;132;01m}\u001b[39;00m\u001b[38;5;124m'\u001b[39m\u001b[38;5;124m not in persistent cache.\u001b[39m\u001b[38;5;124m\"\u001b[39m)\n",
      "\u001b[0;31mTypeError\u001b[0m: 'NoneType' object does not support item deletion"
     ]
    }
   ],
   "source": [
    "# This unit test verifies that there were more Chinese residents between the ages 40-59 than the ages 60-79 in the year 1990\n",
    "\n",
    "assert(population(1990, \"all\", [40, 59], \"China\") > population(1990, \"all\", [60, 79], \"China\")), \"Error\"\n"
   ]
  },
  {
   "cell_type": "code",
   "execution_count": 10,
   "metadata": {},
   "outputs": [
    {
     "ename": "TypeError",
     "evalue": "'NoneType' object does not support item deletion",
     "output_type": "error",
     "traceback": [
      "\u001b[0;31m---------------------------------------------------------------------------\u001b[0m",
      "\u001b[0;31mTypeError\u001b[0m                                 Traceback (most recent call last)",
      "Cell \u001b[0;32mIn[10], line 3\u001b[0m\n\u001b[1;32m      1\u001b[0m \u001b[38;5;66;03m# This unit test verifies that there were more Lebanese residents between the ages 30-50 in the year 2019 than in the year 2020.\u001b[39;00m\n\u001b[0;32m----> 3\u001b[0m \u001b[38;5;28;01massert\u001b[39;00m(\u001b[43mpopulation\u001b[49m\u001b[43m(\u001b[49m\u001b[38;5;241;43m2019\u001b[39;49m\u001b[43m,\u001b[49m\u001b[43m \u001b[49m\u001b[38;5;124;43m\"\u001b[39;49m\u001b[38;5;124;43mall\u001b[39;49m\u001b[38;5;124;43m\"\u001b[39;49m\u001b[43m,\u001b[49m\u001b[43m \u001b[49m\u001b[43m[\u001b[49m\u001b[38;5;241;43m30\u001b[39;49m\u001b[43m,\u001b[49m\u001b[43m \u001b[49m\u001b[38;5;241;43m50\u001b[39;49m\u001b[43m]\u001b[49m\u001b[43m,\u001b[49m\u001b[43m \u001b[49m\u001b[38;5;124;43m\"\u001b[39;49m\u001b[38;5;124;43mLebanon\u001b[39;49m\u001b[38;5;124;43m\"\u001b[39;49m\u001b[43m)\u001b[49m \u001b[38;5;241m>\u001b[39m population(\u001b[38;5;241m2020\u001b[39m, \u001b[38;5;124m\"\u001b[39m\u001b[38;5;124mall\u001b[39m\u001b[38;5;124m\"\u001b[39m, [\u001b[38;5;241m30\u001b[39m, \u001b[38;5;241m50\u001b[39m], \u001b[38;5;124m\"\u001b[39m\u001b[38;5;124mLebanon\u001b[39m\u001b[38;5;124m\"\u001b[39m)), \u001b[38;5;124m\"\u001b[39m\u001b[38;5;124mError\u001b[39m\u001b[38;5;124m\"\u001b[39m\n",
      "Cell \u001b[0;32mIn[2], line 95\u001b[0m, in \u001b[0;36mpopulation\u001b[0;34m(year, sex, age_range, place)\u001b[0m\n\u001b[1;32m     93\u001b[0m     \u001b[38;5;28;01mraise\u001b[39;00m \u001b[38;5;167;01mValueError\u001b[39;00m(\u001b[38;5;124mf\u001b[39m\u001b[38;5;124m\"\u001b[39m\u001b[38;5;124mThe region \u001b[39m\u001b[38;5;124m'\u001b[39m\u001b[38;5;132;01m{\u001b[39;00mplace\u001b[38;5;132;01m}\u001b[39;00m\u001b[38;5;124m'\u001b[39m\u001b[38;5;124m is not valid. Please choose from the following regions: \u001b[39m\u001b[38;5;132;01m{\u001b[39;00mvalid_regions\u001b[38;5;132;01m}\u001b[39;00m\u001b[38;5;124m\"\u001b[39m)\n\u001b[1;32m     94\u001b[0m \u001b[38;5;28;01mif\u001b[39;00m sex \u001b[38;5;129;01min\u001b[39;00m [\u001b[38;5;124m\"\u001b[39m\u001b[38;5;124mall\u001b[39m\u001b[38;5;124m\"\u001b[39m, \u001b[38;5;124m\"\u001b[39m\u001b[38;5;124mpeople\u001b[39m\u001b[38;5;124m\"\u001b[39m, \u001b[38;5;124m\"\u001b[39m\u001b[38;5;124mp\u001b[39m\u001b[38;5;124m\"\u001b[39m, \u001b[38;5;124m\"\u001b[39m\u001b[38;5;124mP\u001b[39m\u001b[38;5;124m\"\u001b[39m, \u001b[38;5;124m\"\u001b[39m\u001b[38;5;124mPeople\u001b[39m\u001b[38;5;124m\"\u001b[39m, \u001b[38;5;124m\"\u001b[39m\u001b[38;5;124mAll\u001b[39m\u001b[38;5;124m\"\u001b[39m, \u001b[38;5;124m\"\u001b[39m\u001b[38;5;124mEveryone\u001b[39m\u001b[38;5;124m\"\u001b[39m]:\n\u001b[0;32m---> 95\u001b[0m   female_dict \u001b[38;5;241m=\u001b[39m \u001b[43mdict_helper\u001b[49m\u001b[43m(\u001b[49m\u001b[43myear\u001b[49m\u001b[43m,\u001b[49m\u001b[43m \u001b[49m\u001b[38;5;124;43m\"\u001b[39;49m\u001b[38;5;124;43mfemales\u001b[39;49m\u001b[38;5;124;43m\"\u001b[39;49m\u001b[43m,\u001b[49m\u001b[43m \u001b[49m\u001b[43mage_range\u001b[49m\u001b[43m,\u001b[49m\u001b[43m \u001b[49m\u001b[43mplace\u001b[49m\u001b[43m)\u001b[49m\n\u001b[1;32m     96\u001b[0m   male_dict \u001b[38;5;241m=\u001b[39m dict_helper(year, \u001b[38;5;124m\"\u001b[39m\u001b[38;5;124mmales\u001b[39m\u001b[38;5;124m\"\u001b[39m, age_range, place)\n\u001b[1;32m     97\u001b[0m   \u001b[38;5;28;01mreturn\u001b[39;00m \u001b[38;5;28msum\u001b[39m(female_dict\u001b[38;5;241m.\u001b[39mvalues()) \u001b[38;5;241m+\u001b[39m \u001b[38;5;28msum\u001b[39m(male_dict\u001b[38;5;241m.\u001b[39mvalues())\n",
      "Cell \u001b[0;32mIn[2], line 71\u001b[0m, in \u001b[0;36mdict_helper\u001b[0;34m(year, sex, age_range, place)\u001b[0m\n\u001b[1;32m     68\u001b[0m range_index \u001b[38;5;241m=\u001b[39m \u001b[38;5;28mnext\u001b[39m((i \u001b[38;5;28;01mfor\u001b[39;00m i, min_val \u001b[38;5;129;01min\u001b[39;00m \u001b[38;5;28menumerate\u001b[39m(possible_minimums) \u001b[38;5;28;01mif\u001b[39;00m\n\u001b[1;32m     69\u001b[0m                     min_val \u001b[38;5;241m<\u001b[39m\u001b[38;5;241m=\u001b[39m age \u001b[38;5;129;01mand\u001b[39;00m age \u001b[38;5;241m<\u001b[39m\u001b[38;5;241m=\u001b[39m possible_maximums[i]), \u001b[38;5;28;01mNone\u001b[39;00m)\n\u001b[1;32m     70\u001b[0m \u001b[38;5;28;01mif\u001b[39;00m range_index \u001b[38;5;129;01mis\u001b[39;00m \u001b[38;5;129;01mnot\u001b[39;00m \u001b[38;5;28;01mNone\u001b[39;00m:\n\u001b[0;32m---> 71\u001b[0m     popl_value \u001b[38;5;241m=\u001b[39m \u001b[43mpopulation_range\u001b[49m\u001b[43m(\u001b[49m\u001b[43myear\u001b[49m\u001b[43m,\u001b[49m\u001b[43m \u001b[49m\u001b[43msex\u001b[49m\u001b[43m,\u001b[49m\u001b[43m \u001b[49m\u001b[43m[\u001b[49m\u001b[43mpossible_minimums\u001b[49m\u001b[43m[\u001b[49m\u001b[43mrange_index\u001b[49m\u001b[43m]\u001b[49m\u001b[43m,\u001b[49m\u001b[43m \u001b[49m\u001b[43mpossible_maximums\u001b[49m\u001b[43m[\u001b[49m\u001b[43mrange_index\u001b[49m\u001b[43m]\u001b[49m\u001b[43m]\u001b[49m\u001b[43m,\u001b[49m\u001b[43m \u001b[49m\u001b[43mplace\u001b[49m\u001b[43m)\u001b[49m \u001b[38;5;241m/\u001b[39m\u001b[38;5;241m/\u001b[39m \u001b[38;5;241m5\u001b[39m\n\u001b[1;32m     72\u001b[0m     my_dict[age] \u001b[38;5;241m=\u001b[39m popl_value\n\u001b[1;32m     73\u001b[0m \u001b[38;5;28;01melif\u001b[39;00m age \u001b[38;5;241m>\u001b[39m\u001b[38;5;241m=\u001b[39m \u001b[38;5;241m80\u001b[39m \u001b[38;5;129;01mand\u001b[39;00m age \u001b[38;5;241m<\u001b[39m\u001b[38;5;241m=\u001b[39m \u001b[38;5;241m100\u001b[39m:\n",
      "Cell \u001b[0;32mIn[2], line 35\u001b[0m, in \u001b[0;36mpopulation_range\u001b[0;34m(year, sex, age_range, place)\u001b[0m\n\u001b[1;32m     32\u001b[0m \u001b[38;5;66;03m# Getting the country code via the name.\u001b[39;00m\n\u001b[1;32m     33\u001b[0m country_code \u001b[38;5;241m=\u001b[39m country_dict\u001b[38;5;241m.\u001b[39mget(place)\n\u001b[0;32m---> 35\u001b[0m df \u001b[38;5;241m=\u001b[39m \u001b[43mwbdata\u001b[49m\u001b[38;5;241;43m.\u001b[39;49m\u001b[43mget_dataframe\u001b[49m\u001b[43m(\u001b[49m\u001b[43m{\u001b[49m\u001b[38;5;124;43m\"\u001b[39;49m\u001b[38;5;124;43mSP.POP.\u001b[39;49m\u001b[38;5;124;43m\"\u001b[39;49m\u001b[43m \u001b[49m\u001b[38;5;241;43m+\u001b[39;49m\u001b[43m \u001b[49m\u001b[43mrange_string\u001b[49m\u001b[43m \u001b[49m\u001b[38;5;241;43m+\u001b[39;49m\u001b[43m \u001b[49m\u001b[38;5;124;43m\"\u001b[39;49m\u001b[38;5;124;43m.\u001b[39;49m\u001b[38;5;124;43m\"\u001b[39;49m\u001b[43m \u001b[49m\u001b[38;5;241;43m+\u001b[39;49m\u001b[43m \u001b[49m\u001b[43msex_used\u001b[49m\u001b[43m:\u001b[49m\u001b[43m \u001b[49m\u001b[38;5;124;43m\"\u001b[39;49m\u001b[38;5;124;43mPopulation\u001b[39;49m\u001b[38;5;124;43m\"\u001b[39;49m\u001b[43m}\u001b[49m\u001b[43m,\u001b[49m\n\u001b[1;32m     36\u001b[0m \u001b[43m                          \u001b[49m\u001b[43mcountry\u001b[49m\u001b[38;5;241;43m=\u001b[39;49m\u001b[43m \u001b[49m\u001b[43m{\u001b[49m\u001b[43mcountry_code\u001b[49m\u001b[43m:\u001b[49m\u001b[43m \u001b[49m\u001b[43mplace\u001b[49m\u001b[43m}\u001b[49m\u001b[43m)\u001b[49m\u001b[38;5;241m.\u001b[39msqueeze()\n\u001b[1;32m     37\u001b[0m df \u001b[38;5;241m=\u001b[39m df\u001b[38;5;241m.\u001b[39mto_frame()\u001b[38;5;241m.\u001b[39mreset_index()\n\u001b[1;32m     38\u001b[0m population_total \u001b[38;5;241m=\u001b[39m \u001b[38;5;28mint\u001b[39m(df[df[\u001b[38;5;124m\"\u001b[39m\u001b[38;5;124mdate\u001b[39m\u001b[38;5;124m\"\u001b[39m] \u001b[38;5;241m==\u001b[39m \u001b[38;5;28mstr\u001b[39m(year)][\u001b[38;5;124m\"\u001b[39m\u001b[38;5;124mPopulation\u001b[39m\u001b[38;5;124m\"\u001b[39m]\u001b[38;5;241m.\u001b[39miloc[\u001b[38;5;241m0\u001b[39m])\n",
      "File \u001b[0;32m~/Documents/GitHub/EEP153_Project1_TeamGaryBecker/.venv/lib/python3.12/site-packages/decorator.py:232\u001b[0m, in \u001b[0;36mdecorate.<locals>.fun\u001b[0;34m(*args, **kw)\u001b[0m\n\u001b[1;32m    230\u001b[0m \u001b[38;5;28;01mif\u001b[39;00m \u001b[38;5;129;01mnot\u001b[39;00m kwsyntax:\n\u001b[1;32m    231\u001b[0m     args, kw \u001b[38;5;241m=\u001b[39m fix(args, kw, sig)\n\u001b[0;32m--> 232\u001b[0m \u001b[38;5;28;01mreturn\u001b[39;00m \u001b[43mcaller\u001b[49m\u001b[43m(\u001b[49m\u001b[43mfunc\u001b[49m\u001b[43m,\u001b[49m\u001b[43m \u001b[49m\u001b[38;5;241;43m*\u001b[39;49m\u001b[43m(\u001b[49m\u001b[43mextras\u001b[49m\u001b[43m \u001b[49m\u001b[38;5;241;43m+\u001b[39;49m\u001b[43m \u001b[49m\u001b[43margs\u001b[49m\u001b[43m)\u001b[49m\u001b[43m,\u001b[49m\u001b[43m \u001b[49m\u001b[38;5;241;43m*\u001b[39;49m\u001b[38;5;241;43m*\u001b[39;49m\u001b[43mkw\u001b[49m\u001b[43m)\u001b[49m\n",
      "File \u001b[0;32m~/Documents/GitHub/EEP153_Project1_TeamGaryBecker/.venv/lib/python3.12/site-packages/wbdata/client.py:120\u001b[0m, in \u001b[0;36mneeds_pandas\u001b[0;34m(f, *args, **kwargs)\u001b[0m\n\u001b[1;32m    118\u001b[0m \u001b[38;5;28;01mif\u001b[39;00m pd \u001b[38;5;129;01mis\u001b[39;00m \u001b[38;5;28;01mNone\u001b[39;00m:\n\u001b[1;32m    119\u001b[0m     \u001b[38;5;28;01mraise\u001b[39;00m \u001b[38;5;167;01mRuntimeError\u001b[39;00m(\u001b[38;5;124mf\u001b[39m\u001b[38;5;124m\"\u001b[39m\u001b[38;5;132;01m{\u001b[39;00mf\u001b[38;5;241m.\u001b[39m\u001b[38;5;18m__name__\u001b[39m\u001b[38;5;132;01m}\u001b[39;00m\u001b[38;5;124m requires pandas\u001b[39m\u001b[38;5;124m\"\u001b[39m)\n\u001b[0;32m--> 120\u001b[0m \u001b[38;5;28;01mreturn\u001b[39;00m \u001b[43mf\u001b[49m\u001b[43m(\u001b[49m\u001b[38;5;241;43m*\u001b[39;49m\u001b[43margs\u001b[49m\u001b[43m,\u001b[49m\u001b[43m \u001b[49m\u001b[38;5;241;43m*\u001b[39;49m\u001b[38;5;241;43m*\u001b[39;49m\u001b[43mkwargs\u001b[49m\u001b[43m)\u001b[49m\n",
      "File \u001b[0;32m~/Documents/GitHub/EEP153_Project1_TeamGaryBecker/.venv/lib/python3.12/site-packages/wbdata/client.py:544\u001b[0m, in \u001b[0;36mClient.get_dataframe\u001b[0;34m(self, indicators, country, date, freq, source, parse_dates, keep_levels, skip_cache)\u001b[0m\n\u001b[1;32m    491\u001b[0m \u001b[38;5;129m@needs_pandas\u001b[39m\n\u001b[1;32m    492\u001b[0m \u001b[38;5;28;01mdef\u001b[39;00m\u001b[38;5;250m \u001b[39m\u001b[38;5;21mget_dataframe\u001b[39m(\n\u001b[1;32m    493\u001b[0m     \u001b[38;5;28mself\u001b[39m,\n\u001b[0;32m   (...)\u001b[0m\n\u001b[1;32m    506\u001b[0m     skip_cache: \u001b[38;5;28mbool\u001b[39m \u001b[38;5;241m=\u001b[39m \u001b[38;5;28;01mFalse\u001b[39;00m,\n\u001b[1;32m    507\u001b[0m ) \u001b[38;5;241m-\u001b[39m\u001b[38;5;241m>\u001b[39m DataFrame:\n\u001b[1;32m    508\u001b[0m \u001b[38;5;250m    \u001b[39m\u001b[38;5;124;03m\"\"\"\u001b[39;00m\n\u001b[1;32m    509\u001b[0m \u001b[38;5;124;03m    Download a set of indicators and  merge them into a pandas DataFrame.\u001b[39;00m\n\u001b[1;32m    510\u001b[0m \n\u001b[0;32m   (...)\u001b[0m\n\u001b[1;32m    540\u001b[0m \n\u001b[1;32m    541\u001b[0m \u001b[38;5;124;03m    \"\"\"\u001b[39;00m\n\u001b[1;32m    542\u001b[0m     df \u001b[38;5;241m=\u001b[39m DataFrame(\n\u001b[1;32m    543\u001b[0m         serieses\u001b[38;5;241m=\u001b[39m{\n\u001b[0;32m--> 544\u001b[0m             name: \u001b[38;5;28;43mself\u001b[39;49m\u001b[38;5;241;43m.\u001b[39;49m\u001b[43mget_series\u001b[49m\u001b[43m(\u001b[49m\n\u001b[1;32m    545\u001b[0m \u001b[43m                \u001b[49m\u001b[43mindicator\u001b[49m\u001b[38;5;241;43m=\u001b[39;49m\u001b[43mindicator\u001b[49m\u001b[43m,\u001b[49m\n\u001b[1;32m    546\u001b[0m \u001b[43m                \u001b[49m\u001b[43mcountry\u001b[49m\u001b[38;5;241;43m=\u001b[39;49m\u001b[43mcountry\u001b[49m\u001b[43m,\u001b[49m\n\u001b[1;32m    547\u001b[0m \u001b[43m                \u001b[49m\u001b[43mdate\u001b[49m\u001b[38;5;241;43m=\u001b[39;49m\u001b[43mdate\u001b[49m\u001b[43m,\u001b[49m\n\u001b[1;32m    548\u001b[0m \u001b[43m                \u001b[49m\u001b[43mfreq\u001b[49m\u001b[38;5;241;43m=\u001b[39;49m\u001b[43mfreq\u001b[49m\u001b[43m,\u001b[49m\n\u001b[1;32m    549\u001b[0m \u001b[43m                \u001b[49m\u001b[43msource\u001b[49m\u001b[38;5;241;43m=\u001b[39;49m\u001b[43msource\u001b[49m\u001b[43m,\u001b[49m\n\u001b[1;32m    550\u001b[0m \u001b[43m                \u001b[49m\u001b[43mparse_dates\u001b[49m\u001b[38;5;241;43m=\u001b[39;49m\u001b[43mparse_dates\u001b[49m\u001b[43m,\u001b[49m\n\u001b[1;32m    551\u001b[0m \u001b[43m                \u001b[49m\u001b[43mkeep_levels\u001b[49m\u001b[38;5;241;43m=\u001b[39;49m\u001b[38;5;28;43;01mTrue\u001b[39;49;00m\u001b[43m,\u001b[49m\n\u001b[1;32m    552\u001b[0m \u001b[43m                \u001b[49m\u001b[43mskip_cache\u001b[49m\u001b[38;5;241;43m=\u001b[39;49m\u001b[43mskip_cache\u001b[49m\u001b[43m,\u001b[49m\n\u001b[1;32m    553\u001b[0m \u001b[43m            \u001b[49m\u001b[43m)\u001b[49m\n\u001b[1;32m    554\u001b[0m             \u001b[38;5;28;01mfor\u001b[39;00m indicator, name \u001b[38;5;129;01min\u001b[39;00m indicators\u001b[38;5;241m.\u001b[39mitems()\n\u001b[1;32m    555\u001b[0m         }\n\u001b[1;32m    556\u001b[0m     )\n\u001b[1;32m    557\u001b[0m     \u001b[38;5;28;01mif\u001b[39;00m \u001b[38;5;129;01mnot\u001b[39;00m keep_levels \u001b[38;5;129;01mand\u001b[39;00m \u001b[38;5;28mlen\u001b[39m(\u001b[38;5;28mset\u001b[39m(df\u001b[38;5;241m.\u001b[39mindex\u001b[38;5;241m.\u001b[39mget_level_values(\u001b[38;5;241m0\u001b[39m))) \u001b[38;5;241m==\u001b[39m \u001b[38;5;241m1\u001b[39m:\n\u001b[1;32m    558\u001b[0m         df\u001b[38;5;241m.\u001b[39mindex \u001b[38;5;241m=\u001b[39m df\u001b[38;5;241m.\u001b[39mindex\u001b[38;5;241m.\u001b[39mdroplevel(\u001b[38;5;241m0\u001b[39m)\n",
      "File \u001b[0;32m~/Documents/GitHub/EEP153_Project1_TeamGaryBecker/.venv/lib/python3.12/site-packages/decorator.py:232\u001b[0m, in \u001b[0;36mdecorate.<locals>.fun\u001b[0;34m(*args, **kw)\u001b[0m\n\u001b[1;32m    230\u001b[0m \u001b[38;5;28;01mif\u001b[39;00m \u001b[38;5;129;01mnot\u001b[39;00m kwsyntax:\n\u001b[1;32m    231\u001b[0m     args, kw \u001b[38;5;241m=\u001b[39m fix(args, kw, sig)\n\u001b[0;32m--> 232\u001b[0m \u001b[38;5;28;01mreturn\u001b[39;00m \u001b[43mcaller\u001b[49m\u001b[43m(\u001b[49m\u001b[43mfunc\u001b[49m\u001b[43m,\u001b[49m\u001b[43m \u001b[49m\u001b[38;5;241;43m*\u001b[39;49m\u001b[43m(\u001b[49m\u001b[43mextras\u001b[49m\u001b[43m \u001b[49m\u001b[38;5;241;43m+\u001b[39;49m\u001b[43m \u001b[49m\u001b[43margs\u001b[49m\u001b[43m)\u001b[49m\u001b[43m,\u001b[49m\u001b[43m \u001b[49m\u001b[38;5;241;43m*\u001b[39;49m\u001b[38;5;241;43m*\u001b[39;49m\u001b[43mkw\u001b[49m\u001b[43m)\u001b[49m\n",
      "File \u001b[0;32m~/Documents/GitHub/EEP153_Project1_TeamGaryBecker/.venv/lib/python3.12/site-packages/wbdata/client.py:120\u001b[0m, in \u001b[0;36mneeds_pandas\u001b[0;34m(f, *args, **kwargs)\u001b[0m\n\u001b[1;32m    118\u001b[0m \u001b[38;5;28;01mif\u001b[39;00m pd \u001b[38;5;129;01mis\u001b[39;00m \u001b[38;5;28;01mNone\u001b[39;00m:\n\u001b[1;32m    119\u001b[0m     \u001b[38;5;28;01mraise\u001b[39;00m \u001b[38;5;167;01mRuntimeError\u001b[39;00m(\u001b[38;5;124mf\u001b[39m\u001b[38;5;124m\"\u001b[39m\u001b[38;5;132;01m{\u001b[39;00mf\u001b[38;5;241m.\u001b[39m\u001b[38;5;18m__name__\u001b[39m\u001b[38;5;132;01m}\u001b[39;00m\u001b[38;5;124m requires pandas\u001b[39m\u001b[38;5;124m\"\u001b[39m)\n\u001b[0;32m--> 120\u001b[0m \u001b[38;5;28;01mreturn\u001b[39;00m \u001b[43mf\u001b[49m\u001b[43m(\u001b[49m\u001b[38;5;241;43m*\u001b[39;49m\u001b[43margs\u001b[49m\u001b[43m,\u001b[49m\u001b[43m \u001b[49m\u001b[38;5;241;43m*\u001b[39;49m\u001b[38;5;241;43m*\u001b[39;49m\u001b[43mkwargs\u001b[49m\u001b[43m)\u001b[49m\n",
      "File \u001b[0;32m~/Documents/GitHub/EEP153_Project1_TeamGaryBecker/.venv/lib/python3.12/site-packages/wbdata/client.py:469\u001b[0m, in \u001b[0;36mClient.get_series\u001b[0;34m(self, indicator, country, date, freq, source, parse_dates, name, keep_levels, skip_cache)\u001b[0m\n\u001b[1;32m    418\u001b[0m \u001b[38;5;129m@needs_pandas\u001b[39m\n\u001b[1;32m    419\u001b[0m \u001b[38;5;28;01mdef\u001b[39;00m\u001b[38;5;250m \u001b[39m\u001b[38;5;21mget_series\u001b[39m(\n\u001b[1;32m    420\u001b[0m     \u001b[38;5;28mself\u001b[39m,\n\u001b[0;32m   (...)\u001b[0m\n\u001b[1;32m    434\u001b[0m     skip_cache: \u001b[38;5;28mbool\u001b[39m \u001b[38;5;241m=\u001b[39m \u001b[38;5;28;01mFalse\u001b[39;00m,\n\u001b[1;32m    435\u001b[0m ) \u001b[38;5;241m-\u001b[39m\u001b[38;5;241m>\u001b[39m Series:\n\u001b[1;32m    436\u001b[0m \u001b[38;5;250m    \u001b[39m\u001b[38;5;124;03m\"\"\"\u001b[39;00m\n\u001b[1;32m    437\u001b[0m \u001b[38;5;124;03m    Retrieve data for a single indicator as a pandas Series.\u001b[39;00m\n\u001b[1;32m    438\u001b[0m \n\u001b[0;32m   (...)\u001b[0m\n\u001b[1;32m    467\u001b[0m \u001b[38;5;124;03m            only have one value, the country level is dropped.\u001b[39;00m\n\u001b[1;32m    468\u001b[0m \u001b[38;5;124;03m    \"\"\"\u001b[39;00m\n\u001b[0;32m--> 469\u001b[0m     raw_data \u001b[38;5;241m=\u001b[39m \u001b[38;5;28;43mself\u001b[39;49m\u001b[38;5;241;43m.\u001b[39;49m\u001b[43mget_data\u001b[49m\u001b[43m(\u001b[49m\n\u001b[1;32m    470\u001b[0m \u001b[43m        \u001b[49m\u001b[43mindicator\u001b[49m\u001b[38;5;241;43m=\u001b[39;49m\u001b[43mindicator\u001b[49m\u001b[43m,\u001b[49m\n\u001b[1;32m    471\u001b[0m \u001b[43m        \u001b[49m\u001b[43mcountry\u001b[49m\u001b[38;5;241;43m=\u001b[39;49m\u001b[43mcountry\u001b[49m\u001b[43m,\u001b[49m\n\u001b[1;32m    472\u001b[0m \u001b[43m        \u001b[49m\u001b[43mdate\u001b[49m\u001b[38;5;241;43m=\u001b[39;49m\u001b[43mdate\u001b[49m\u001b[43m,\u001b[49m\n\u001b[1;32m    473\u001b[0m \u001b[43m        \u001b[49m\u001b[43mfreq\u001b[49m\u001b[38;5;241;43m=\u001b[39;49m\u001b[43mfreq\u001b[49m\u001b[43m,\u001b[49m\n\u001b[1;32m    474\u001b[0m \u001b[43m        \u001b[49m\u001b[43msource\u001b[49m\u001b[38;5;241;43m=\u001b[39;49m\u001b[43msource\u001b[49m\u001b[43m,\u001b[49m\n\u001b[1;32m    475\u001b[0m \u001b[43m        \u001b[49m\u001b[43mparse_dates\u001b[49m\u001b[38;5;241;43m=\u001b[39;49m\u001b[43mparse_dates\u001b[49m\u001b[43m,\u001b[49m\n\u001b[1;32m    476\u001b[0m \u001b[43m        \u001b[49m\u001b[43mskip_cache\u001b[49m\u001b[38;5;241;43m=\u001b[39;49m\u001b[43mskip_cache\u001b[49m\u001b[43m,\u001b[49m\n\u001b[1;32m    477\u001b[0m \u001b[43m    \u001b[49m\u001b[43m)\u001b[49m\n\u001b[1;32m    478\u001b[0m     df \u001b[38;5;241m=\u001b[39m pd\u001b[38;5;241m.\u001b[39mDataFrame(\n\u001b[1;32m    479\u001b[0m         [[i[\u001b[38;5;124m\"\u001b[39m\u001b[38;5;124mcountry\u001b[39m\u001b[38;5;124m\"\u001b[39m][\u001b[38;5;124m\"\u001b[39m\u001b[38;5;124mvalue\u001b[39m\u001b[38;5;124m\"\u001b[39m], i[\u001b[38;5;124m\"\u001b[39m\u001b[38;5;124mdate\u001b[39m\u001b[38;5;124m\"\u001b[39m], i[\u001b[38;5;124m\"\u001b[39m\u001b[38;5;124mvalue\u001b[39m\u001b[38;5;124m\"\u001b[39m]] \u001b[38;5;28;01mfor\u001b[39;00m i \u001b[38;5;129;01min\u001b[39;00m raw_data],\n\u001b[1;32m    480\u001b[0m         columns\u001b[38;5;241m=\u001b[39m[\u001b[38;5;124m\"\u001b[39m\u001b[38;5;124mcountry\u001b[39m\u001b[38;5;124m\"\u001b[39m, \u001b[38;5;124m\"\u001b[39m\u001b[38;5;124mdate\u001b[39m\u001b[38;5;124m\"\u001b[39m, name],\n\u001b[1;32m    481\u001b[0m     )\n\u001b[1;32m    482\u001b[0m     df[name] \u001b[38;5;241m=\u001b[39m df[name]\u001b[38;5;241m.\u001b[39mmap(_cast_float)\n",
      "File \u001b[0;32m~/Documents/GitHub/EEP153_Project1_TeamGaryBecker/.venv/lib/python3.12/site-packages/wbdata/client.py:228\u001b[0m, in \u001b[0;36mClient.get_data\u001b[0;34m(self, indicator, country, date, freq, source, parse_dates, skip_cache)\u001b[0m\n\u001b[1;32m    226\u001b[0m \u001b[38;5;28;01mif\u001b[39;00m source:\n\u001b[1;32m    227\u001b[0m     params[\u001b[38;5;124m\"\u001b[39m\u001b[38;5;124msource\u001b[39m\u001b[38;5;124m\"\u001b[39m] \u001b[38;5;241m=\u001b[39m source\n\u001b[0;32m--> 228\u001b[0m data \u001b[38;5;241m=\u001b[39m \u001b[38;5;28;43mself\u001b[39;49m\u001b[38;5;241;43m.\u001b[39;49m\u001b[43mfetcher\u001b[49m\u001b[38;5;241;43m.\u001b[39;49m\u001b[43mfetch\u001b[49m\u001b[43m(\u001b[49m\u001b[43murl\u001b[49m\u001b[38;5;241;43m=\u001b[39;49m\u001b[43murl\u001b[49m\u001b[43m,\u001b[49m\u001b[43m \u001b[49m\u001b[43mparams\u001b[49m\u001b[38;5;241;43m=\u001b[39;49m\u001b[43mparams\u001b[49m\u001b[43m,\u001b[49m\u001b[43m \u001b[49m\u001b[43mskip_cache\u001b[49m\u001b[38;5;241;43m=\u001b[39;49m\u001b[43mskip_cache\u001b[49m\u001b[43m)\u001b[49m\n\u001b[1;32m    229\u001b[0m \u001b[38;5;28;01mif\u001b[39;00m parse_dates:\n\u001b[1;32m    230\u001b[0m     dates\u001b[38;5;241m.\u001b[39mparse_row_dates(data)\n",
      "File \u001b[0;32m~/Documents/GitHub/EEP153_Project1_TeamGaryBecker/.venv/lib/python3.12/site-packages/wbdata/fetcher.py:155\u001b[0m, in \u001b[0;36mFetcher.fetch\u001b[0;34m(self, url, params, skip_cache)\u001b[0m\n\u001b[1;32m    153\u001b[0m rows: List[Dict[\u001b[38;5;28mstr\u001b[39m, Any]] \u001b[38;5;241m=\u001b[39m []\n\u001b[1;32m    154\u001b[0m \u001b[38;5;28;01mwhile\u001b[39;00m pages \u001b[38;5;241m!=\u001b[39m page:\n\u001b[0;32m--> 155\u001b[0m     response \u001b[38;5;241m=\u001b[39m \u001b[38;5;28;43mself\u001b[39;49m\u001b[38;5;241;43m.\u001b[39;49m\u001b[43m_get_response\u001b[49m\u001b[43m(\u001b[49m\n\u001b[1;32m    156\u001b[0m \u001b[43m        \u001b[49m\u001b[43murl\u001b[49m\u001b[38;5;241;43m=\u001b[39;49m\u001b[43murl\u001b[49m\u001b[43m,\u001b[49m\n\u001b[1;32m    157\u001b[0m \u001b[43m        \u001b[49m\u001b[43mparams\u001b[49m\u001b[38;5;241;43m=\u001b[39;49m\u001b[43mparams\u001b[49m\u001b[43m,\u001b[49m\n\u001b[1;32m    158\u001b[0m \u001b[43m        \u001b[49m\u001b[43mskip_cache\u001b[49m\u001b[38;5;241;43m=\u001b[39;49m\u001b[43mskip_cache\u001b[49m\u001b[43m,\u001b[49m\n\u001b[1;32m    159\u001b[0m \u001b[43m    \u001b[49m\u001b[43m)\u001b[49m\n\u001b[1;32m    160\u001b[0m     rows\u001b[38;5;241m.\u001b[39mextend(response\u001b[38;5;241m.\u001b[39mrows)\n\u001b[1;32m    161\u001b[0m     page, pages \u001b[38;5;241m=\u001b[39m response\u001b[38;5;241m.\u001b[39mpage, response\u001b[38;5;241m.\u001b[39mpages\n",
      "File \u001b[0;32m~/Documents/GitHub/EEP153_Project1_TeamGaryBecker/.venv/lib/python3.12/site-packages/wbdata/fetcher.py:128\u001b[0m, in \u001b[0;36mFetcher._get_response\u001b[0;34m(self, url, params, skip_cache)\u001b[0m\n\u001b[1;32m    126\u001b[0m \u001b[38;5;28;01melse\u001b[39;00m:\n\u001b[1;32m    127\u001b[0m     body \u001b[38;5;241m=\u001b[39m \u001b[38;5;28mself\u001b[39m\u001b[38;5;241m.\u001b[39m_get_response_body(url, params)\n\u001b[0;32m--> 128\u001b[0m     \u001b[38;5;28;43mself\u001b[39;49m\u001b[38;5;241;43m.\u001b[39;49m\u001b[43mcache\u001b[49m\u001b[43m[\u001b[49m\u001b[43mkey\u001b[49m\u001b[43m]\u001b[49m \u001b[38;5;241m=\u001b[39m body\n\u001b[1;32m    129\u001b[0m \u001b[38;5;28;01mreturn\u001b[39;00m ParsedResponse\u001b[38;5;241m.\u001b[39mfrom_response(\u001b[38;5;28mtuple\u001b[39m(json\u001b[38;5;241m.\u001b[39mloads(body)))\n",
      "File \u001b[0;32m~/Documents/GitHub/EEP153_Project1_TeamGaryBecker/.venv/lib/python3.12/site-packages/shelved_cache/persistent_cache.py:92\u001b[0m, in \u001b[0;36mPersistentCache.__setitem__\u001b[0;34m(self, key, value)\u001b[0m\n\u001b[1;32m     90\u001b[0m     \u001b[38;5;28mself\u001b[39m\u001b[38;5;241m.\u001b[39mpersistent_dict[hkey] \u001b[38;5;241m=\u001b[39m (key, value)\n\u001b[1;32m     91\u001b[0m     \u001b[38;5;28mself\u001b[39m\u001b[38;5;241m.\u001b[39mpersistent_dict\u001b[38;5;241m.\u001b[39msync()\n\u001b[0;32m---> 92\u001b[0m \u001b[38;5;28;43mself\u001b[39;49m\u001b[38;5;241;43m.\u001b[39;49m\u001b[43mwrapped\u001b[49m\u001b[43m[\u001b[49m\u001b[43mkey\u001b[49m\u001b[43m]\u001b[49m \u001b[38;5;241m=\u001b[39m value\n",
      "File \u001b[0;32m~/Documents/GitHub/EEP153_Project1_TeamGaryBecker/.venv/lib/python3.12/site-packages/cachetools/__init__.py:425\u001b[0m, in \u001b[0;36mTTLCache.__setitem__\u001b[0;34m(self, key, value, cache_setitem)\u001b[0m\n\u001b[1;32m    423\u001b[0m \u001b[38;5;28;01mwith\u001b[39;00m \u001b[38;5;28mself\u001b[39m\u001b[38;5;241m.\u001b[39mtimer \u001b[38;5;28;01mas\u001b[39;00m time:\n\u001b[1;32m    424\u001b[0m     \u001b[38;5;28mself\u001b[39m\u001b[38;5;241m.\u001b[39mexpire(time)\n\u001b[0;32m--> 425\u001b[0m     \u001b[43mcache_setitem\u001b[49m\u001b[43m(\u001b[49m\u001b[38;5;28;43mself\u001b[39;49m\u001b[43m,\u001b[49m\u001b[43m \u001b[49m\u001b[43mkey\u001b[49m\u001b[43m,\u001b[49m\u001b[43m \u001b[49m\u001b[43mvalue\u001b[49m\u001b[43m)\u001b[49m\n\u001b[1;32m    426\u001b[0m \u001b[38;5;28;01mtry\u001b[39;00m:\n\u001b[1;32m    427\u001b[0m     link \u001b[38;5;241m=\u001b[39m \u001b[38;5;28mself\u001b[39m\u001b[38;5;241m.\u001b[39m__getlink(key)\n",
      "File \u001b[0;32m~/Documents/GitHub/EEP153_Project1_TeamGaryBecker/.venv/lib/python3.12/site-packages/cachetools/__init__.py:78\u001b[0m, in \u001b[0;36mCache.__setitem__\u001b[0;34m(self, key, value)\u001b[0m\n\u001b[1;32m     76\u001b[0m \u001b[38;5;28;01mif\u001b[39;00m key \u001b[38;5;129;01mnot\u001b[39;00m \u001b[38;5;129;01min\u001b[39;00m \u001b[38;5;28mself\u001b[39m\u001b[38;5;241m.\u001b[39m__data \u001b[38;5;129;01mor\u001b[39;00m \u001b[38;5;28mself\u001b[39m\u001b[38;5;241m.\u001b[39m__size[key] \u001b[38;5;241m<\u001b[39m size:\n\u001b[1;32m     77\u001b[0m     \u001b[38;5;28;01mwhile\u001b[39;00m \u001b[38;5;28mself\u001b[39m\u001b[38;5;241m.\u001b[39m__currsize \u001b[38;5;241m+\u001b[39m size \u001b[38;5;241m>\u001b[39m maxsize:\n\u001b[0;32m---> 78\u001b[0m         \u001b[38;5;28;43mself\u001b[39;49m\u001b[38;5;241;43m.\u001b[39;49m\u001b[43mpopitem\u001b[49m\u001b[43m(\u001b[49m\u001b[43m)\u001b[49m\n\u001b[1;32m     79\u001b[0m \u001b[38;5;28;01mif\u001b[39;00m key \u001b[38;5;129;01min\u001b[39;00m \u001b[38;5;28mself\u001b[39m\u001b[38;5;241m.\u001b[39m__data:\n\u001b[1;32m     80\u001b[0m     diffsize \u001b[38;5;241m=\u001b[39m size \u001b[38;5;241m-\u001b[39m \u001b[38;5;28mself\u001b[39m\u001b[38;5;241m.\u001b[39m__size[key]\n",
      "File \u001b[0;32m~/Documents/GitHub/EEP153_Project1_TeamGaryBecker/.venv/lib/python3.12/site-packages/cachetools/__init__.py:503\u001b[0m, in \u001b[0;36mTTLCache.popitem\u001b[0;34m(self)\u001b[0m\n\u001b[1;32m    501\u001b[0m     \u001b[38;5;28;01mraise\u001b[39;00m \u001b[38;5;167;01mKeyError\u001b[39;00m(\u001b[38;5;124m\"\u001b[39m\u001b[38;5;132;01m%s\u001b[39;00m\u001b[38;5;124m is empty\u001b[39m\u001b[38;5;124m\"\u001b[39m \u001b[38;5;241m%\u001b[39m \u001b[38;5;28mtype\u001b[39m(\u001b[38;5;28mself\u001b[39m)\u001b[38;5;241m.\u001b[39m\u001b[38;5;18m__name__\u001b[39m) \u001b[38;5;28;01mfrom\u001b[39;00m\u001b[38;5;250m \u001b[39m\u001b[38;5;28;01mNone\u001b[39;00m\n\u001b[1;32m    502\u001b[0m \u001b[38;5;28;01melse\u001b[39;00m:\n\u001b[0;32m--> 503\u001b[0m     \u001b[38;5;28;01mreturn\u001b[39;00m (key, \u001b[38;5;28;43mself\u001b[39;49m\u001b[38;5;241;43m.\u001b[39;49m\u001b[43mpop\u001b[49m\u001b[43m(\u001b[49m\u001b[43mkey\u001b[49m\u001b[43m)\u001b[49m)\n",
      "File \u001b[0;32m~/Documents/GitHub/EEP153_Project1_TeamGaryBecker/.venv/lib/python3.12/site-packages/cachetools/__init__.py:369\u001b[0m, in \u001b[0;36m_TimedCache.pop\u001b[0;34m(self, *args, **kwargs)\u001b[0m\n\u001b[1;32m    367\u001b[0m \u001b[38;5;28;01mdef\u001b[39;00m\u001b[38;5;250m \u001b[39m\u001b[38;5;21mpop\u001b[39m(\u001b[38;5;28mself\u001b[39m, \u001b[38;5;241m*\u001b[39margs, \u001b[38;5;241m*\u001b[39m\u001b[38;5;241m*\u001b[39mkwargs):\n\u001b[1;32m    368\u001b[0m     \u001b[38;5;28;01mwith\u001b[39;00m \u001b[38;5;28mself\u001b[39m\u001b[38;5;241m.\u001b[39m__timer:\n\u001b[0;32m--> 369\u001b[0m         \u001b[38;5;28;01mreturn\u001b[39;00m \u001b[43mCache\u001b[49m\u001b[38;5;241;43m.\u001b[39;49m\u001b[43mpop\u001b[49m\u001b[43m(\u001b[49m\u001b[38;5;28;43mself\u001b[39;49m\u001b[43m,\u001b[49m\u001b[43m \u001b[49m\u001b[38;5;241;43m*\u001b[39;49m\u001b[43margs\u001b[49m\u001b[43m,\u001b[49m\u001b[43m \u001b[49m\u001b[38;5;241;43m*\u001b[39;49m\u001b[38;5;241;43m*\u001b[39;49m\u001b[43mkwargs\u001b[49m\u001b[43m)\u001b[49m\n",
      "File \u001b[0;32m~/Documents/GitHub/EEP153_Project1_TeamGaryBecker/.venv/lib/python3.12/site-packages/cachetools/__init__.py:113\u001b[0m, in \u001b[0;36mCache.pop\u001b[0;34m(self, key, default)\u001b[0m\n\u001b[1;32m    111\u001b[0m \u001b[38;5;28;01mif\u001b[39;00m key \u001b[38;5;129;01min\u001b[39;00m \u001b[38;5;28mself\u001b[39m:\n\u001b[1;32m    112\u001b[0m     value \u001b[38;5;241m=\u001b[39m \u001b[38;5;28mself\u001b[39m[key]\n\u001b[0;32m--> 113\u001b[0m     \u001b[38;5;28;01mdel\u001b[39;00m \u001b[38;5;28;43mself\u001b[39;49m\u001b[43m[\u001b[49m\u001b[43mkey\u001b[49m\u001b[43m]\u001b[49m\n\u001b[1;32m    114\u001b[0m \u001b[38;5;28;01melif\u001b[39;00m default \u001b[38;5;129;01mis\u001b[39;00m \u001b[38;5;28mself\u001b[39m\u001b[38;5;241m.\u001b[39m__marker:\n\u001b[1;32m    115\u001b[0m     \u001b[38;5;28;01mraise\u001b[39;00m \u001b[38;5;167;01mKeyError\u001b[39;00m(key)\n",
      "File \u001b[0;32m~/Documents/GitHub/EEP153_Project1_TeamGaryBecker/.venv/lib/python3.12/site-packages/shelved_cache/persistent_cache.py:25\u001b[0m, in \u001b[0;36mDelMixin.__delitem__\u001b[0;34m(self, key)\u001b[0m\n\u001b[1;32m     23\u001b[0m \u001b[38;5;28;01mdef\u001b[39;00m\u001b[38;5;250m \u001b[39m\u001b[38;5;21m__delitem__\u001b[39m(\u001b[38;5;28mself\u001b[39m, key):\n\u001b[1;32m     24\u001b[0m     \u001b[38;5;28msuper\u001b[39m()\u001b[38;5;241m.\u001b[39m\u001b[38;5;21m__delitem__\u001b[39m(key)\n\u001b[0;32m---> 25\u001b[0m     \u001b[38;5;28;43mself\u001b[39;49m\u001b[38;5;241;43m.\u001b[39;49m\u001b[43mdelete_callback\u001b[49m\u001b[43m(\u001b[49m\u001b[43mkey\u001b[49m\u001b[43m)\u001b[49m\n",
      "File \u001b[0;32m~/Documents/GitHub/EEP153_Project1_TeamGaryBecker/.venv/lib/python3.12/site-packages/shelved_cache/persistent_cache.py:78\u001b[0m, in \u001b[0;36mPersistentCache.delete_callback\u001b[0;34m(self, key)\u001b[0m\n\u001b[1;32m     76\u001b[0m hkey \u001b[38;5;241m=\u001b[39m \u001b[38;5;28mself\u001b[39m\u001b[38;5;241m.\u001b[39mhash_key(key)\n\u001b[1;32m     77\u001b[0m \u001b[38;5;28;01mtry\u001b[39;00m:\n\u001b[0;32m---> 78\u001b[0m     \u001b[38;5;28;01mdel\u001b[39;00m \u001b[38;5;28;43mself\u001b[39;49m\u001b[38;5;241;43m.\u001b[39;49m\u001b[43mpersistent_dict\u001b[49m\u001b[43m[\u001b[49m\u001b[43mhkey\u001b[49m\u001b[43m]\u001b[49m\n\u001b[1;32m     79\u001b[0m \u001b[38;5;28;01mexcept\u001b[39;00m \u001b[38;5;167;01mKeyError\u001b[39;00m:\n\u001b[1;32m     80\u001b[0m     logger\u001b[38;5;241m.\u001b[39mwarning(\u001b[38;5;124mf\u001b[39m\u001b[38;5;124m\"\u001b[39m\u001b[38;5;124mKey \u001b[39m\u001b[38;5;124m'\u001b[39m\u001b[38;5;132;01m{\u001b[39;00mhkey\u001b[38;5;132;01m}\u001b[39;00m\u001b[38;5;124m'\u001b[39m\u001b[38;5;124m not in persistent cache.\u001b[39m\u001b[38;5;124m\"\u001b[39m)\n",
      "\u001b[0;31mTypeError\u001b[0m: 'NoneType' object does not support item deletion"
     ]
    }
   ],
   "source": [
    "# This unit test verifies that there were more Lebanese residents between the ages 30-50 in the year 2019 than in the year 2020.\n",
    "\n",
    "assert(population(2019, \"all\", [30, 50], \"Lebanon\") > population(2020, \"all\", [30, 50], \"Lebanon\")), \"Error\""
   ]
  },
  {
   "cell_type": "code",
   "execution_count": 11,
   "metadata": {},
   "outputs": [
    {
     "ename": "TypeError",
     "evalue": "'NoneType' object does not support item deletion",
     "output_type": "error",
     "traceback": [
      "\u001b[0;31m---------------------------------------------------------------------------\u001b[0m",
      "\u001b[0;31mTypeError\u001b[0m                                 Traceback (most recent call last)",
      "Cell \u001b[0;32mIn[11], line 3\u001b[0m\n\u001b[1;32m      1\u001b[0m \u001b[38;5;66;03m# This unit test verifies that there were more Canadian residents between the ages 5-15 than the ages 60-79 in the year 1990\u001b[39;00m\n\u001b[0;32m----> 3\u001b[0m \u001b[38;5;28;01massert\u001b[39;00m(\u001b[43mpopulation\u001b[49m\u001b[43m(\u001b[49m\u001b[38;5;241;43m1990\u001b[39;49m\u001b[43m,\u001b[49m\u001b[43m \u001b[49m\u001b[38;5;124;43m\"\u001b[39;49m\u001b[38;5;124;43mall\u001b[39;49m\u001b[38;5;124;43m\"\u001b[39;49m\u001b[43m,\u001b[49m\u001b[43m \u001b[49m\u001b[43m[\u001b[49m\u001b[38;5;241;43m5\u001b[39;49m\u001b[43m,\u001b[49m\u001b[43m \u001b[49m\u001b[38;5;241;43m15\u001b[39;49m\u001b[43m]\u001b[49m\u001b[43m,\u001b[49m\u001b[43m \u001b[49m\u001b[38;5;124;43m\"\u001b[39;49m\u001b[38;5;124;43mCanada\u001b[39;49m\u001b[38;5;124;43m\"\u001b[39;49m\u001b[43m)\u001b[49m \u001b[38;5;241m>\u001b[39m population(\u001b[38;5;241m1990\u001b[39m, \u001b[38;5;124m\"\u001b[39m\u001b[38;5;124mall\u001b[39m\u001b[38;5;124m\"\u001b[39m, [\u001b[38;5;241m60\u001b[39m, \u001b[38;5;241m79\u001b[39m], \u001b[38;5;124m\"\u001b[39m\u001b[38;5;124mCanada\u001b[39m\u001b[38;5;124m\"\u001b[39m)), \u001b[38;5;124m\"\u001b[39m\u001b[38;5;124mError\u001b[39m\u001b[38;5;124m\"\u001b[39m\n",
      "Cell \u001b[0;32mIn[2], line 95\u001b[0m, in \u001b[0;36mpopulation\u001b[0;34m(year, sex, age_range, place)\u001b[0m\n\u001b[1;32m     93\u001b[0m     \u001b[38;5;28;01mraise\u001b[39;00m \u001b[38;5;167;01mValueError\u001b[39;00m(\u001b[38;5;124mf\u001b[39m\u001b[38;5;124m\"\u001b[39m\u001b[38;5;124mThe region \u001b[39m\u001b[38;5;124m'\u001b[39m\u001b[38;5;132;01m{\u001b[39;00mplace\u001b[38;5;132;01m}\u001b[39;00m\u001b[38;5;124m'\u001b[39m\u001b[38;5;124m is not valid. Please choose from the following regions: \u001b[39m\u001b[38;5;132;01m{\u001b[39;00mvalid_regions\u001b[38;5;132;01m}\u001b[39;00m\u001b[38;5;124m\"\u001b[39m)\n\u001b[1;32m     94\u001b[0m \u001b[38;5;28;01mif\u001b[39;00m sex \u001b[38;5;129;01min\u001b[39;00m [\u001b[38;5;124m\"\u001b[39m\u001b[38;5;124mall\u001b[39m\u001b[38;5;124m\"\u001b[39m, \u001b[38;5;124m\"\u001b[39m\u001b[38;5;124mpeople\u001b[39m\u001b[38;5;124m\"\u001b[39m, \u001b[38;5;124m\"\u001b[39m\u001b[38;5;124mp\u001b[39m\u001b[38;5;124m\"\u001b[39m, \u001b[38;5;124m\"\u001b[39m\u001b[38;5;124mP\u001b[39m\u001b[38;5;124m\"\u001b[39m, \u001b[38;5;124m\"\u001b[39m\u001b[38;5;124mPeople\u001b[39m\u001b[38;5;124m\"\u001b[39m, \u001b[38;5;124m\"\u001b[39m\u001b[38;5;124mAll\u001b[39m\u001b[38;5;124m\"\u001b[39m, \u001b[38;5;124m\"\u001b[39m\u001b[38;5;124mEveryone\u001b[39m\u001b[38;5;124m\"\u001b[39m]:\n\u001b[0;32m---> 95\u001b[0m   female_dict \u001b[38;5;241m=\u001b[39m \u001b[43mdict_helper\u001b[49m\u001b[43m(\u001b[49m\u001b[43myear\u001b[49m\u001b[43m,\u001b[49m\u001b[43m \u001b[49m\u001b[38;5;124;43m\"\u001b[39;49m\u001b[38;5;124;43mfemales\u001b[39;49m\u001b[38;5;124;43m\"\u001b[39;49m\u001b[43m,\u001b[49m\u001b[43m \u001b[49m\u001b[43mage_range\u001b[49m\u001b[43m,\u001b[49m\u001b[43m \u001b[49m\u001b[43mplace\u001b[49m\u001b[43m)\u001b[49m\n\u001b[1;32m     96\u001b[0m   male_dict \u001b[38;5;241m=\u001b[39m dict_helper(year, \u001b[38;5;124m\"\u001b[39m\u001b[38;5;124mmales\u001b[39m\u001b[38;5;124m\"\u001b[39m, age_range, place)\n\u001b[1;32m     97\u001b[0m   \u001b[38;5;28;01mreturn\u001b[39;00m \u001b[38;5;28msum\u001b[39m(female_dict\u001b[38;5;241m.\u001b[39mvalues()) \u001b[38;5;241m+\u001b[39m \u001b[38;5;28msum\u001b[39m(male_dict\u001b[38;5;241m.\u001b[39mvalues())\n",
      "Cell \u001b[0;32mIn[2], line 71\u001b[0m, in \u001b[0;36mdict_helper\u001b[0;34m(year, sex, age_range, place)\u001b[0m\n\u001b[1;32m     68\u001b[0m range_index \u001b[38;5;241m=\u001b[39m \u001b[38;5;28mnext\u001b[39m((i \u001b[38;5;28;01mfor\u001b[39;00m i, min_val \u001b[38;5;129;01min\u001b[39;00m \u001b[38;5;28menumerate\u001b[39m(possible_minimums) \u001b[38;5;28;01mif\u001b[39;00m\n\u001b[1;32m     69\u001b[0m                     min_val \u001b[38;5;241m<\u001b[39m\u001b[38;5;241m=\u001b[39m age \u001b[38;5;129;01mand\u001b[39;00m age \u001b[38;5;241m<\u001b[39m\u001b[38;5;241m=\u001b[39m possible_maximums[i]), \u001b[38;5;28;01mNone\u001b[39;00m)\n\u001b[1;32m     70\u001b[0m \u001b[38;5;28;01mif\u001b[39;00m range_index \u001b[38;5;129;01mis\u001b[39;00m \u001b[38;5;129;01mnot\u001b[39;00m \u001b[38;5;28;01mNone\u001b[39;00m:\n\u001b[0;32m---> 71\u001b[0m     popl_value \u001b[38;5;241m=\u001b[39m \u001b[43mpopulation_range\u001b[49m\u001b[43m(\u001b[49m\u001b[43myear\u001b[49m\u001b[43m,\u001b[49m\u001b[43m \u001b[49m\u001b[43msex\u001b[49m\u001b[43m,\u001b[49m\u001b[43m \u001b[49m\u001b[43m[\u001b[49m\u001b[43mpossible_minimums\u001b[49m\u001b[43m[\u001b[49m\u001b[43mrange_index\u001b[49m\u001b[43m]\u001b[49m\u001b[43m,\u001b[49m\u001b[43m \u001b[49m\u001b[43mpossible_maximums\u001b[49m\u001b[43m[\u001b[49m\u001b[43mrange_index\u001b[49m\u001b[43m]\u001b[49m\u001b[43m]\u001b[49m\u001b[43m,\u001b[49m\u001b[43m \u001b[49m\u001b[43mplace\u001b[49m\u001b[43m)\u001b[49m \u001b[38;5;241m/\u001b[39m\u001b[38;5;241m/\u001b[39m \u001b[38;5;241m5\u001b[39m\n\u001b[1;32m     72\u001b[0m     my_dict[age] \u001b[38;5;241m=\u001b[39m popl_value\n\u001b[1;32m     73\u001b[0m \u001b[38;5;28;01melif\u001b[39;00m age \u001b[38;5;241m>\u001b[39m\u001b[38;5;241m=\u001b[39m \u001b[38;5;241m80\u001b[39m \u001b[38;5;129;01mand\u001b[39;00m age \u001b[38;5;241m<\u001b[39m\u001b[38;5;241m=\u001b[39m \u001b[38;5;241m100\u001b[39m:\n",
      "Cell \u001b[0;32mIn[2], line 35\u001b[0m, in \u001b[0;36mpopulation_range\u001b[0;34m(year, sex, age_range, place)\u001b[0m\n\u001b[1;32m     32\u001b[0m \u001b[38;5;66;03m# Getting the country code via the name.\u001b[39;00m\n\u001b[1;32m     33\u001b[0m country_code \u001b[38;5;241m=\u001b[39m country_dict\u001b[38;5;241m.\u001b[39mget(place)\n\u001b[0;32m---> 35\u001b[0m df \u001b[38;5;241m=\u001b[39m \u001b[43mwbdata\u001b[49m\u001b[38;5;241;43m.\u001b[39;49m\u001b[43mget_dataframe\u001b[49m\u001b[43m(\u001b[49m\u001b[43m{\u001b[49m\u001b[38;5;124;43m\"\u001b[39;49m\u001b[38;5;124;43mSP.POP.\u001b[39;49m\u001b[38;5;124;43m\"\u001b[39;49m\u001b[43m \u001b[49m\u001b[38;5;241;43m+\u001b[39;49m\u001b[43m \u001b[49m\u001b[43mrange_string\u001b[49m\u001b[43m \u001b[49m\u001b[38;5;241;43m+\u001b[39;49m\u001b[43m \u001b[49m\u001b[38;5;124;43m\"\u001b[39;49m\u001b[38;5;124;43m.\u001b[39;49m\u001b[38;5;124;43m\"\u001b[39;49m\u001b[43m \u001b[49m\u001b[38;5;241;43m+\u001b[39;49m\u001b[43m \u001b[49m\u001b[43msex_used\u001b[49m\u001b[43m:\u001b[49m\u001b[43m \u001b[49m\u001b[38;5;124;43m\"\u001b[39;49m\u001b[38;5;124;43mPopulation\u001b[39;49m\u001b[38;5;124;43m\"\u001b[39;49m\u001b[43m}\u001b[49m\u001b[43m,\u001b[49m\n\u001b[1;32m     36\u001b[0m \u001b[43m                          \u001b[49m\u001b[43mcountry\u001b[49m\u001b[38;5;241;43m=\u001b[39;49m\u001b[43m \u001b[49m\u001b[43m{\u001b[49m\u001b[43mcountry_code\u001b[49m\u001b[43m:\u001b[49m\u001b[43m \u001b[49m\u001b[43mplace\u001b[49m\u001b[43m}\u001b[49m\u001b[43m)\u001b[49m\u001b[38;5;241m.\u001b[39msqueeze()\n\u001b[1;32m     37\u001b[0m df \u001b[38;5;241m=\u001b[39m df\u001b[38;5;241m.\u001b[39mto_frame()\u001b[38;5;241m.\u001b[39mreset_index()\n\u001b[1;32m     38\u001b[0m population_total \u001b[38;5;241m=\u001b[39m \u001b[38;5;28mint\u001b[39m(df[df[\u001b[38;5;124m\"\u001b[39m\u001b[38;5;124mdate\u001b[39m\u001b[38;5;124m\"\u001b[39m] \u001b[38;5;241m==\u001b[39m \u001b[38;5;28mstr\u001b[39m(year)][\u001b[38;5;124m\"\u001b[39m\u001b[38;5;124mPopulation\u001b[39m\u001b[38;5;124m\"\u001b[39m]\u001b[38;5;241m.\u001b[39miloc[\u001b[38;5;241m0\u001b[39m])\n",
      "File \u001b[0;32m~/Documents/GitHub/EEP153_Project1_TeamGaryBecker/.venv/lib/python3.12/site-packages/decorator.py:232\u001b[0m, in \u001b[0;36mdecorate.<locals>.fun\u001b[0;34m(*args, **kw)\u001b[0m\n\u001b[1;32m    230\u001b[0m \u001b[38;5;28;01mif\u001b[39;00m \u001b[38;5;129;01mnot\u001b[39;00m kwsyntax:\n\u001b[1;32m    231\u001b[0m     args, kw \u001b[38;5;241m=\u001b[39m fix(args, kw, sig)\n\u001b[0;32m--> 232\u001b[0m \u001b[38;5;28;01mreturn\u001b[39;00m \u001b[43mcaller\u001b[49m\u001b[43m(\u001b[49m\u001b[43mfunc\u001b[49m\u001b[43m,\u001b[49m\u001b[43m \u001b[49m\u001b[38;5;241;43m*\u001b[39;49m\u001b[43m(\u001b[49m\u001b[43mextras\u001b[49m\u001b[43m \u001b[49m\u001b[38;5;241;43m+\u001b[39;49m\u001b[43m \u001b[49m\u001b[43margs\u001b[49m\u001b[43m)\u001b[49m\u001b[43m,\u001b[49m\u001b[43m \u001b[49m\u001b[38;5;241;43m*\u001b[39;49m\u001b[38;5;241;43m*\u001b[39;49m\u001b[43mkw\u001b[49m\u001b[43m)\u001b[49m\n",
      "File \u001b[0;32m~/Documents/GitHub/EEP153_Project1_TeamGaryBecker/.venv/lib/python3.12/site-packages/wbdata/client.py:120\u001b[0m, in \u001b[0;36mneeds_pandas\u001b[0;34m(f, *args, **kwargs)\u001b[0m\n\u001b[1;32m    118\u001b[0m \u001b[38;5;28;01mif\u001b[39;00m pd \u001b[38;5;129;01mis\u001b[39;00m \u001b[38;5;28;01mNone\u001b[39;00m:\n\u001b[1;32m    119\u001b[0m     \u001b[38;5;28;01mraise\u001b[39;00m \u001b[38;5;167;01mRuntimeError\u001b[39;00m(\u001b[38;5;124mf\u001b[39m\u001b[38;5;124m\"\u001b[39m\u001b[38;5;132;01m{\u001b[39;00mf\u001b[38;5;241m.\u001b[39m\u001b[38;5;18m__name__\u001b[39m\u001b[38;5;132;01m}\u001b[39;00m\u001b[38;5;124m requires pandas\u001b[39m\u001b[38;5;124m\"\u001b[39m)\n\u001b[0;32m--> 120\u001b[0m \u001b[38;5;28;01mreturn\u001b[39;00m \u001b[43mf\u001b[49m\u001b[43m(\u001b[49m\u001b[38;5;241;43m*\u001b[39;49m\u001b[43margs\u001b[49m\u001b[43m,\u001b[49m\u001b[43m \u001b[49m\u001b[38;5;241;43m*\u001b[39;49m\u001b[38;5;241;43m*\u001b[39;49m\u001b[43mkwargs\u001b[49m\u001b[43m)\u001b[49m\n",
      "File \u001b[0;32m~/Documents/GitHub/EEP153_Project1_TeamGaryBecker/.venv/lib/python3.12/site-packages/wbdata/client.py:544\u001b[0m, in \u001b[0;36mClient.get_dataframe\u001b[0;34m(self, indicators, country, date, freq, source, parse_dates, keep_levels, skip_cache)\u001b[0m\n\u001b[1;32m    491\u001b[0m \u001b[38;5;129m@needs_pandas\u001b[39m\n\u001b[1;32m    492\u001b[0m \u001b[38;5;28;01mdef\u001b[39;00m\u001b[38;5;250m \u001b[39m\u001b[38;5;21mget_dataframe\u001b[39m(\n\u001b[1;32m    493\u001b[0m     \u001b[38;5;28mself\u001b[39m,\n\u001b[0;32m   (...)\u001b[0m\n\u001b[1;32m    506\u001b[0m     skip_cache: \u001b[38;5;28mbool\u001b[39m \u001b[38;5;241m=\u001b[39m \u001b[38;5;28;01mFalse\u001b[39;00m,\n\u001b[1;32m    507\u001b[0m ) \u001b[38;5;241m-\u001b[39m\u001b[38;5;241m>\u001b[39m DataFrame:\n\u001b[1;32m    508\u001b[0m \u001b[38;5;250m    \u001b[39m\u001b[38;5;124;03m\"\"\"\u001b[39;00m\n\u001b[1;32m    509\u001b[0m \u001b[38;5;124;03m    Download a set of indicators and  merge them into a pandas DataFrame.\u001b[39;00m\n\u001b[1;32m    510\u001b[0m \n\u001b[0;32m   (...)\u001b[0m\n\u001b[1;32m    540\u001b[0m \n\u001b[1;32m    541\u001b[0m \u001b[38;5;124;03m    \"\"\"\u001b[39;00m\n\u001b[1;32m    542\u001b[0m     df \u001b[38;5;241m=\u001b[39m DataFrame(\n\u001b[1;32m    543\u001b[0m         serieses\u001b[38;5;241m=\u001b[39m{\n\u001b[0;32m--> 544\u001b[0m             name: \u001b[38;5;28;43mself\u001b[39;49m\u001b[38;5;241;43m.\u001b[39;49m\u001b[43mget_series\u001b[49m\u001b[43m(\u001b[49m\n\u001b[1;32m    545\u001b[0m \u001b[43m                \u001b[49m\u001b[43mindicator\u001b[49m\u001b[38;5;241;43m=\u001b[39;49m\u001b[43mindicator\u001b[49m\u001b[43m,\u001b[49m\n\u001b[1;32m    546\u001b[0m \u001b[43m                \u001b[49m\u001b[43mcountry\u001b[49m\u001b[38;5;241;43m=\u001b[39;49m\u001b[43mcountry\u001b[49m\u001b[43m,\u001b[49m\n\u001b[1;32m    547\u001b[0m \u001b[43m                \u001b[49m\u001b[43mdate\u001b[49m\u001b[38;5;241;43m=\u001b[39;49m\u001b[43mdate\u001b[49m\u001b[43m,\u001b[49m\n\u001b[1;32m    548\u001b[0m \u001b[43m                \u001b[49m\u001b[43mfreq\u001b[49m\u001b[38;5;241;43m=\u001b[39;49m\u001b[43mfreq\u001b[49m\u001b[43m,\u001b[49m\n\u001b[1;32m    549\u001b[0m \u001b[43m                \u001b[49m\u001b[43msource\u001b[49m\u001b[38;5;241;43m=\u001b[39;49m\u001b[43msource\u001b[49m\u001b[43m,\u001b[49m\n\u001b[1;32m    550\u001b[0m \u001b[43m                \u001b[49m\u001b[43mparse_dates\u001b[49m\u001b[38;5;241;43m=\u001b[39;49m\u001b[43mparse_dates\u001b[49m\u001b[43m,\u001b[49m\n\u001b[1;32m    551\u001b[0m \u001b[43m                \u001b[49m\u001b[43mkeep_levels\u001b[49m\u001b[38;5;241;43m=\u001b[39;49m\u001b[38;5;28;43;01mTrue\u001b[39;49;00m\u001b[43m,\u001b[49m\n\u001b[1;32m    552\u001b[0m \u001b[43m                \u001b[49m\u001b[43mskip_cache\u001b[49m\u001b[38;5;241;43m=\u001b[39;49m\u001b[43mskip_cache\u001b[49m\u001b[43m,\u001b[49m\n\u001b[1;32m    553\u001b[0m \u001b[43m            \u001b[49m\u001b[43m)\u001b[49m\n\u001b[1;32m    554\u001b[0m             \u001b[38;5;28;01mfor\u001b[39;00m indicator, name \u001b[38;5;129;01min\u001b[39;00m indicators\u001b[38;5;241m.\u001b[39mitems()\n\u001b[1;32m    555\u001b[0m         }\n\u001b[1;32m    556\u001b[0m     )\n\u001b[1;32m    557\u001b[0m     \u001b[38;5;28;01mif\u001b[39;00m \u001b[38;5;129;01mnot\u001b[39;00m keep_levels \u001b[38;5;129;01mand\u001b[39;00m \u001b[38;5;28mlen\u001b[39m(\u001b[38;5;28mset\u001b[39m(df\u001b[38;5;241m.\u001b[39mindex\u001b[38;5;241m.\u001b[39mget_level_values(\u001b[38;5;241m0\u001b[39m))) \u001b[38;5;241m==\u001b[39m \u001b[38;5;241m1\u001b[39m:\n\u001b[1;32m    558\u001b[0m         df\u001b[38;5;241m.\u001b[39mindex \u001b[38;5;241m=\u001b[39m df\u001b[38;5;241m.\u001b[39mindex\u001b[38;5;241m.\u001b[39mdroplevel(\u001b[38;5;241m0\u001b[39m)\n",
      "File \u001b[0;32m~/Documents/GitHub/EEP153_Project1_TeamGaryBecker/.venv/lib/python3.12/site-packages/decorator.py:232\u001b[0m, in \u001b[0;36mdecorate.<locals>.fun\u001b[0;34m(*args, **kw)\u001b[0m\n\u001b[1;32m    230\u001b[0m \u001b[38;5;28;01mif\u001b[39;00m \u001b[38;5;129;01mnot\u001b[39;00m kwsyntax:\n\u001b[1;32m    231\u001b[0m     args, kw \u001b[38;5;241m=\u001b[39m fix(args, kw, sig)\n\u001b[0;32m--> 232\u001b[0m \u001b[38;5;28;01mreturn\u001b[39;00m \u001b[43mcaller\u001b[49m\u001b[43m(\u001b[49m\u001b[43mfunc\u001b[49m\u001b[43m,\u001b[49m\u001b[43m \u001b[49m\u001b[38;5;241;43m*\u001b[39;49m\u001b[43m(\u001b[49m\u001b[43mextras\u001b[49m\u001b[43m \u001b[49m\u001b[38;5;241;43m+\u001b[39;49m\u001b[43m \u001b[49m\u001b[43margs\u001b[49m\u001b[43m)\u001b[49m\u001b[43m,\u001b[49m\u001b[43m \u001b[49m\u001b[38;5;241;43m*\u001b[39;49m\u001b[38;5;241;43m*\u001b[39;49m\u001b[43mkw\u001b[49m\u001b[43m)\u001b[49m\n",
      "File \u001b[0;32m~/Documents/GitHub/EEP153_Project1_TeamGaryBecker/.venv/lib/python3.12/site-packages/wbdata/client.py:120\u001b[0m, in \u001b[0;36mneeds_pandas\u001b[0;34m(f, *args, **kwargs)\u001b[0m\n\u001b[1;32m    118\u001b[0m \u001b[38;5;28;01mif\u001b[39;00m pd \u001b[38;5;129;01mis\u001b[39;00m \u001b[38;5;28;01mNone\u001b[39;00m:\n\u001b[1;32m    119\u001b[0m     \u001b[38;5;28;01mraise\u001b[39;00m \u001b[38;5;167;01mRuntimeError\u001b[39;00m(\u001b[38;5;124mf\u001b[39m\u001b[38;5;124m\"\u001b[39m\u001b[38;5;132;01m{\u001b[39;00mf\u001b[38;5;241m.\u001b[39m\u001b[38;5;18m__name__\u001b[39m\u001b[38;5;132;01m}\u001b[39;00m\u001b[38;5;124m requires pandas\u001b[39m\u001b[38;5;124m\"\u001b[39m)\n\u001b[0;32m--> 120\u001b[0m \u001b[38;5;28;01mreturn\u001b[39;00m \u001b[43mf\u001b[49m\u001b[43m(\u001b[49m\u001b[38;5;241;43m*\u001b[39;49m\u001b[43margs\u001b[49m\u001b[43m,\u001b[49m\u001b[43m \u001b[49m\u001b[38;5;241;43m*\u001b[39;49m\u001b[38;5;241;43m*\u001b[39;49m\u001b[43mkwargs\u001b[49m\u001b[43m)\u001b[49m\n",
      "File \u001b[0;32m~/Documents/GitHub/EEP153_Project1_TeamGaryBecker/.venv/lib/python3.12/site-packages/wbdata/client.py:469\u001b[0m, in \u001b[0;36mClient.get_series\u001b[0;34m(self, indicator, country, date, freq, source, parse_dates, name, keep_levels, skip_cache)\u001b[0m\n\u001b[1;32m    418\u001b[0m \u001b[38;5;129m@needs_pandas\u001b[39m\n\u001b[1;32m    419\u001b[0m \u001b[38;5;28;01mdef\u001b[39;00m\u001b[38;5;250m \u001b[39m\u001b[38;5;21mget_series\u001b[39m(\n\u001b[1;32m    420\u001b[0m     \u001b[38;5;28mself\u001b[39m,\n\u001b[0;32m   (...)\u001b[0m\n\u001b[1;32m    434\u001b[0m     skip_cache: \u001b[38;5;28mbool\u001b[39m \u001b[38;5;241m=\u001b[39m \u001b[38;5;28;01mFalse\u001b[39;00m,\n\u001b[1;32m    435\u001b[0m ) \u001b[38;5;241m-\u001b[39m\u001b[38;5;241m>\u001b[39m Series:\n\u001b[1;32m    436\u001b[0m \u001b[38;5;250m    \u001b[39m\u001b[38;5;124;03m\"\"\"\u001b[39;00m\n\u001b[1;32m    437\u001b[0m \u001b[38;5;124;03m    Retrieve data for a single indicator as a pandas Series.\u001b[39;00m\n\u001b[1;32m    438\u001b[0m \n\u001b[0;32m   (...)\u001b[0m\n\u001b[1;32m    467\u001b[0m \u001b[38;5;124;03m            only have one value, the country level is dropped.\u001b[39;00m\n\u001b[1;32m    468\u001b[0m \u001b[38;5;124;03m    \"\"\"\u001b[39;00m\n\u001b[0;32m--> 469\u001b[0m     raw_data \u001b[38;5;241m=\u001b[39m \u001b[38;5;28;43mself\u001b[39;49m\u001b[38;5;241;43m.\u001b[39;49m\u001b[43mget_data\u001b[49m\u001b[43m(\u001b[49m\n\u001b[1;32m    470\u001b[0m \u001b[43m        \u001b[49m\u001b[43mindicator\u001b[49m\u001b[38;5;241;43m=\u001b[39;49m\u001b[43mindicator\u001b[49m\u001b[43m,\u001b[49m\n\u001b[1;32m    471\u001b[0m \u001b[43m        \u001b[49m\u001b[43mcountry\u001b[49m\u001b[38;5;241;43m=\u001b[39;49m\u001b[43mcountry\u001b[49m\u001b[43m,\u001b[49m\n\u001b[1;32m    472\u001b[0m \u001b[43m        \u001b[49m\u001b[43mdate\u001b[49m\u001b[38;5;241;43m=\u001b[39;49m\u001b[43mdate\u001b[49m\u001b[43m,\u001b[49m\n\u001b[1;32m    473\u001b[0m \u001b[43m        \u001b[49m\u001b[43mfreq\u001b[49m\u001b[38;5;241;43m=\u001b[39;49m\u001b[43mfreq\u001b[49m\u001b[43m,\u001b[49m\n\u001b[1;32m    474\u001b[0m \u001b[43m        \u001b[49m\u001b[43msource\u001b[49m\u001b[38;5;241;43m=\u001b[39;49m\u001b[43msource\u001b[49m\u001b[43m,\u001b[49m\n\u001b[1;32m    475\u001b[0m \u001b[43m        \u001b[49m\u001b[43mparse_dates\u001b[49m\u001b[38;5;241;43m=\u001b[39;49m\u001b[43mparse_dates\u001b[49m\u001b[43m,\u001b[49m\n\u001b[1;32m    476\u001b[0m \u001b[43m        \u001b[49m\u001b[43mskip_cache\u001b[49m\u001b[38;5;241;43m=\u001b[39;49m\u001b[43mskip_cache\u001b[49m\u001b[43m,\u001b[49m\n\u001b[1;32m    477\u001b[0m \u001b[43m    \u001b[49m\u001b[43m)\u001b[49m\n\u001b[1;32m    478\u001b[0m     df \u001b[38;5;241m=\u001b[39m pd\u001b[38;5;241m.\u001b[39mDataFrame(\n\u001b[1;32m    479\u001b[0m         [[i[\u001b[38;5;124m\"\u001b[39m\u001b[38;5;124mcountry\u001b[39m\u001b[38;5;124m\"\u001b[39m][\u001b[38;5;124m\"\u001b[39m\u001b[38;5;124mvalue\u001b[39m\u001b[38;5;124m\"\u001b[39m], i[\u001b[38;5;124m\"\u001b[39m\u001b[38;5;124mdate\u001b[39m\u001b[38;5;124m\"\u001b[39m], i[\u001b[38;5;124m\"\u001b[39m\u001b[38;5;124mvalue\u001b[39m\u001b[38;5;124m\"\u001b[39m]] \u001b[38;5;28;01mfor\u001b[39;00m i \u001b[38;5;129;01min\u001b[39;00m raw_data],\n\u001b[1;32m    480\u001b[0m         columns\u001b[38;5;241m=\u001b[39m[\u001b[38;5;124m\"\u001b[39m\u001b[38;5;124mcountry\u001b[39m\u001b[38;5;124m\"\u001b[39m, \u001b[38;5;124m\"\u001b[39m\u001b[38;5;124mdate\u001b[39m\u001b[38;5;124m\"\u001b[39m, name],\n\u001b[1;32m    481\u001b[0m     )\n\u001b[1;32m    482\u001b[0m     df[name] \u001b[38;5;241m=\u001b[39m df[name]\u001b[38;5;241m.\u001b[39mmap(_cast_float)\n",
      "File \u001b[0;32m~/Documents/GitHub/EEP153_Project1_TeamGaryBecker/.venv/lib/python3.12/site-packages/wbdata/client.py:228\u001b[0m, in \u001b[0;36mClient.get_data\u001b[0;34m(self, indicator, country, date, freq, source, parse_dates, skip_cache)\u001b[0m\n\u001b[1;32m    226\u001b[0m \u001b[38;5;28;01mif\u001b[39;00m source:\n\u001b[1;32m    227\u001b[0m     params[\u001b[38;5;124m\"\u001b[39m\u001b[38;5;124msource\u001b[39m\u001b[38;5;124m\"\u001b[39m] \u001b[38;5;241m=\u001b[39m source\n\u001b[0;32m--> 228\u001b[0m data \u001b[38;5;241m=\u001b[39m \u001b[38;5;28;43mself\u001b[39;49m\u001b[38;5;241;43m.\u001b[39;49m\u001b[43mfetcher\u001b[49m\u001b[38;5;241;43m.\u001b[39;49m\u001b[43mfetch\u001b[49m\u001b[43m(\u001b[49m\u001b[43murl\u001b[49m\u001b[38;5;241;43m=\u001b[39;49m\u001b[43murl\u001b[49m\u001b[43m,\u001b[49m\u001b[43m \u001b[49m\u001b[43mparams\u001b[49m\u001b[38;5;241;43m=\u001b[39;49m\u001b[43mparams\u001b[49m\u001b[43m,\u001b[49m\u001b[43m \u001b[49m\u001b[43mskip_cache\u001b[49m\u001b[38;5;241;43m=\u001b[39;49m\u001b[43mskip_cache\u001b[49m\u001b[43m)\u001b[49m\n\u001b[1;32m    229\u001b[0m \u001b[38;5;28;01mif\u001b[39;00m parse_dates:\n\u001b[1;32m    230\u001b[0m     dates\u001b[38;5;241m.\u001b[39mparse_row_dates(data)\n",
      "File \u001b[0;32m~/Documents/GitHub/EEP153_Project1_TeamGaryBecker/.venv/lib/python3.12/site-packages/wbdata/fetcher.py:155\u001b[0m, in \u001b[0;36mFetcher.fetch\u001b[0;34m(self, url, params, skip_cache)\u001b[0m\n\u001b[1;32m    153\u001b[0m rows: List[Dict[\u001b[38;5;28mstr\u001b[39m, Any]] \u001b[38;5;241m=\u001b[39m []\n\u001b[1;32m    154\u001b[0m \u001b[38;5;28;01mwhile\u001b[39;00m pages \u001b[38;5;241m!=\u001b[39m page:\n\u001b[0;32m--> 155\u001b[0m     response \u001b[38;5;241m=\u001b[39m \u001b[38;5;28;43mself\u001b[39;49m\u001b[38;5;241;43m.\u001b[39;49m\u001b[43m_get_response\u001b[49m\u001b[43m(\u001b[49m\n\u001b[1;32m    156\u001b[0m \u001b[43m        \u001b[49m\u001b[43murl\u001b[49m\u001b[38;5;241;43m=\u001b[39;49m\u001b[43murl\u001b[49m\u001b[43m,\u001b[49m\n\u001b[1;32m    157\u001b[0m \u001b[43m        \u001b[49m\u001b[43mparams\u001b[49m\u001b[38;5;241;43m=\u001b[39;49m\u001b[43mparams\u001b[49m\u001b[43m,\u001b[49m\n\u001b[1;32m    158\u001b[0m \u001b[43m        \u001b[49m\u001b[43mskip_cache\u001b[49m\u001b[38;5;241;43m=\u001b[39;49m\u001b[43mskip_cache\u001b[49m\u001b[43m,\u001b[49m\n\u001b[1;32m    159\u001b[0m \u001b[43m    \u001b[49m\u001b[43m)\u001b[49m\n\u001b[1;32m    160\u001b[0m     rows\u001b[38;5;241m.\u001b[39mextend(response\u001b[38;5;241m.\u001b[39mrows)\n\u001b[1;32m    161\u001b[0m     page, pages \u001b[38;5;241m=\u001b[39m response\u001b[38;5;241m.\u001b[39mpage, response\u001b[38;5;241m.\u001b[39mpages\n",
      "File \u001b[0;32m~/Documents/GitHub/EEP153_Project1_TeamGaryBecker/.venv/lib/python3.12/site-packages/wbdata/fetcher.py:128\u001b[0m, in \u001b[0;36mFetcher._get_response\u001b[0;34m(self, url, params, skip_cache)\u001b[0m\n\u001b[1;32m    126\u001b[0m \u001b[38;5;28;01melse\u001b[39;00m:\n\u001b[1;32m    127\u001b[0m     body \u001b[38;5;241m=\u001b[39m \u001b[38;5;28mself\u001b[39m\u001b[38;5;241m.\u001b[39m_get_response_body(url, params)\n\u001b[0;32m--> 128\u001b[0m     \u001b[38;5;28;43mself\u001b[39;49m\u001b[38;5;241;43m.\u001b[39;49m\u001b[43mcache\u001b[49m\u001b[43m[\u001b[49m\u001b[43mkey\u001b[49m\u001b[43m]\u001b[49m \u001b[38;5;241m=\u001b[39m body\n\u001b[1;32m    129\u001b[0m \u001b[38;5;28;01mreturn\u001b[39;00m ParsedResponse\u001b[38;5;241m.\u001b[39mfrom_response(\u001b[38;5;28mtuple\u001b[39m(json\u001b[38;5;241m.\u001b[39mloads(body)))\n",
      "File \u001b[0;32m~/Documents/GitHub/EEP153_Project1_TeamGaryBecker/.venv/lib/python3.12/site-packages/shelved_cache/persistent_cache.py:92\u001b[0m, in \u001b[0;36mPersistentCache.__setitem__\u001b[0;34m(self, key, value)\u001b[0m\n\u001b[1;32m     90\u001b[0m     \u001b[38;5;28mself\u001b[39m\u001b[38;5;241m.\u001b[39mpersistent_dict[hkey] \u001b[38;5;241m=\u001b[39m (key, value)\n\u001b[1;32m     91\u001b[0m     \u001b[38;5;28mself\u001b[39m\u001b[38;5;241m.\u001b[39mpersistent_dict\u001b[38;5;241m.\u001b[39msync()\n\u001b[0;32m---> 92\u001b[0m \u001b[38;5;28;43mself\u001b[39;49m\u001b[38;5;241;43m.\u001b[39;49m\u001b[43mwrapped\u001b[49m\u001b[43m[\u001b[49m\u001b[43mkey\u001b[49m\u001b[43m]\u001b[49m \u001b[38;5;241m=\u001b[39m value\n",
      "File \u001b[0;32m~/Documents/GitHub/EEP153_Project1_TeamGaryBecker/.venv/lib/python3.12/site-packages/cachetools/__init__.py:425\u001b[0m, in \u001b[0;36mTTLCache.__setitem__\u001b[0;34m(self, key, value, cache_setitem)\u001b[0m\n\u001b[1;32m    423\u001b[0m \u001b[38;5;28;01mwith\u001b[39;00m \u001b[38;5;28mself\u001b[39m\u001b[38;5;241m.\u001b[39mtimer \u001b[38;5;28;01mas\u001b[39;00m time:\n\u001b[1;32m    424\u001b[0m     \u001b[38;5;28mself\u001b[39m\u001b[38;5;241m.\u001b[39mexpire(time)\n\u001b[0;32m--> 425\u001b[0m     \u001b[43mcache_setitem\u001b[49m\u001b[43m(\u001b[49m\u001b[38;5;28;43mself\u001b[39;49m\u001b[43m,\u001b[49m\u001b[43m \u001b[49m\u001b[43mkey\u001b[49m\u001b[43m,\u001b[49m\u001b[43m \u001b[49m\u001b[43mvalue\u001b[49m\u001b[43m)\u001b[49m\n\u001b[1;32m    426\u001b[0m \u001b[38;5;28;01mtry\u001b[39;00m:\n\u001b[1;32m    427\u001b[0m     link \u001b[38;5;241m=\u001b[39m \u001b[38;5;28mself\u001b[39m\u001b[38;5;241m.\u001b[39m__getlink(key)\n",
      "File \u001b[0;32m~/Documents/GitHub/EEP153_Project1_TeamGaryBecker/.venv/lib/python3.12/site-packages/cachetools/__init__.py:78\u001b[0m, in \u001b[0;36mCache.__setitem__\u001b[0;34m(self, key, value)\u001b[0m\n\u001b[1;32m     76\u001b[0m \u001b[38;5;28;01mif\u001b[39;00m key \u001b[38;5;129;01mnot\u001b[39;00m \u001b[38;5;129;01min\u001b[39;00m \u001b[38;5;28mself\u001b[39m\u001b[38;5;241m.\u001b[39m__data \u001b[38;5;129;01mor\u001b[39;00m \u001b[38;5;28mself\u001b[39m\u001b[38;5;241m.\u001b[39m__size[key] \u001b[38;5;241m<\u001b[39m size:\n\u001b[1;32m     77\u001b[0m     \u001b[38;5;28;01mwhile\u001b[39;00m \u001b[38;5;28mself\u001b[39m\u001b[38;5;241m.\u001b[39m__currsize \u001b[38;5;241m+\u001b[39m size \u001b[38;5;241m>\u001b[39m maxsize:\n\u001b[0;32m---> 78\u001b[0m         \u001b[38;5;28;43mself\u001b[39;49m\u001b[38;5;241;43m.\u001b[39;49m\u001b[43mpopitem\u001b[49m\u001b[43m(\u001b[49m\u001b[43m)\u001b[49m\n\u001b[1;32m     79\u001b[0m \u001b[38;5;28;01mif\u001b[39;00m key \u001b[38;5;129;01min\u001b[39;00m \u001b[38;5;28mself\u001b[39m\u001b[38;5;241m.\u001b[39m__data:\n\u001b[1;32m     80\u001b[0m     diffsize \u001b[38;5;241m=\u001b[39m size \u001b[38;5;241m-\u001b[39m \u001b[38;5;28mself\u001b[39m\u001b[38;5;241m.\u001b[39m__size[key]\n",
      "File \u001b[0;32m~/Documents/GitHub/EEP153_Project1_TeamGaryBecker/.venv/lib/python3.12/site-packages/cachetools/__init__.py:503\u001b[0m, in \u001b[0;36mTTLCache.popitem\u001b[0;34m(self)\u001b[0m\n\u001b[1;32m    501\u001b[0m     \u001b[38;5;28;01mraise\u001b[39;00m \u001b[38;5;167;01mKeyError\u001b[39;00m(\u001b[38;5;124m\"\u001b[39m\u001b[38;5;132;01m%s\u001b[39;00m\u001b[38;5;124m is empty\u001b[39m\u001b[38;5;124m\"\u001b[39m \u001b[38;5;241m%\u001b[39m \u001b[38;5;28mtype\u001b[39m(\u001b[38;5;28mself\u001b[39m)\u001b[38;5;241m.\u001b[39m\u001b[38;5;18m__name__\u001b[39m) \u001b[38;5;28;01mfrom\u001b[39;00m\u001b[38;5;250m \u001b[39m\u001b[38;5;28;01mNone\u001b[39;00m\n\u001b[1;32m    502\u001b[0m \u001b[38;5;28;01melse\u001b[39;00m:\n\u001b[0;32m--> 503\u001b[0m     \u001b[38;5;28;01mreturn\u001b[39;00m (key, \u001b[38;5;28;43mself\u001b[39;49m\u001b[38;5;241;43m.\u001b[39;49m\u001b[43mpop\u001b[49m\u001b[43m(\u001b[49m\u001b[43mkey\u001b[49m\u001b[43m)\u001b[49m)\n",
      "File \u001b[0;32m~/Documents/GitHub/EEP153_Project1_TeamGaryBecker/.venv/lib/python3.12/site-packages/cachetools/__init__.py:369\u001b[0m, in \u001b[0;36m_TimedCache.pop\u001b[0;34m(self, *args, **kwargs)\u001b[0m\n\u001b[1;32m    367\u001b[0m \u001b[38;5;28;01mdef\u001b[39;00m\u001b[38;5;250m \u001b[39m\u001b[38;5;21mpop\u001b[39m(\u001b[38;5;28mself\u001b[39m, \u001b[38;5;241m*\u001b[39margs, \u001b[38;5;241m*\u001b[39m\u001b[38;5;241m*\u001b[39mkwargs):\n\u001b[1;32m    368\u001b[0m     \u001b[38;5;28;01mwith\u001b[39;00m \u001b[38;5;28mself\u001b[39m\u001b[38;5;241m.\u001b[39m__timer:\n\u001b[0;32m--> 369\u001b[0m         \u001b[38;5;28;01mreturn\u001b[39;00m \u001b[43mCache\u001b[49m\u001b[38;5;241;43m.\u001b[39;49m\u001b[43mpop\u001b[49m\u001b[43m(\u001b[49m\u001b[38;5;28;43mself\u001b[39;49m\u001b[43m,\u001b[49m\u001b[43m \u001b[49m\u001b[38;5;241;43m*\u001b[39;49m\u001b[43margs\u001b[49m\u001b[43m,\u001b[49m\u001b[43m \u001b[49m\u001b[38;5;241;43m*\u001b[39;49m\u001b[38;5;241;43m*\u001b[39;49m\u001b[43mkwargs\u001b[49m\u001b[43m)\u001b[49m\n",
      "File \u001b[0;32m~/Documents/GitHub/EEP153_Project1_TeamGaryBecker/.venv/lib/python3.12/site-packages/cachetools/__init__.py:113\u001b[0m, in \u001b[0;36mCache.pop\u001b[0;34m(self, key, default)\u001b[0m\n\u001b[1;32m    111\u001b[0m \u001b[38;5;28;01mif\u001b[39;00m key \u001b[38;5;129;01min\u001b[39;00m \u001b[38;5;28mself\u001b[39m:\n\u001b[1;32m    112\u001b[0m     value \u001b[38;5;241m=\u001b[39m \u001b[38;5;28mself\u001b[39m[key]\n\u001b[0;32m--> 113\u001b[0m     \u001b[38;5;28;01mdel\u001b[39;00m \u001b[38;5;28;43mself\u001b[39;49m\u001b[43m[\u001b[49m\u001b[43mkey\u001b[49m\u001b[43m]\u001b[49m\n\u001b[1;32m    114\u001b[0m \u001b[38;5;28;01melif\u001b[39;00m default \u001b[38;5;129;01mis\u001b[39;00m \u001b[38;5;28mself\u001b[39m\u001b[38;5;241m.\u001b[39m__marker:\n\u001b[1;32m    115\u001b[0m     \u001b[38;5;28;01mraise\u001b[39;00m \u001b[38;5;167;01mKeyError\u001b[39;00m(key)\n",
      "File \u001b[0;32m~/Documents/GitHub/EEP153_Project1_TeamGaryBecker/.venv/lib/python3.12/site-packages/shelved_cache/persistent_cache.py:25\u001b[0m, in \u001b[0;36mDelMixin.__delitem__\u001b[0;34m(self, key)\u001b[0m\n\u001b[1;32m     23\u001b[0m \u001b[38;5;28;01mdef\u001b[39;00m\u001b[38;5;250m \u001b[39m\u001b[38;5;21m__delitem__\u001b[39m(\u001b[38;5;28mself\u001b[39m, key):\n\u001b[1;32m     24\u001b[0m     \u001b[38;5;28msuper\u001b[39m()\u001b[38;5;241m.\u001b[39m\u001b[38;5;21m__delitem__\u001b[39m(key)\n\u001b[0;32m---> 25\u001b[0m     \u001b[38;5;28;43mself\u001b[39;49m\u001b[38;5;241;43m.\u001b[39;49m\u001b[43mdelete_callback\u001b[49m\u001b[43m(\u001b[49m\u001b[43mkey\u001b[49m\u001b[43m)\u001b[49m\n",
      "File \u001b[0;32m~/Documents/GitHub/EEP153_Project1_TeamGaryBecker/.venv/lib/python3.12/site-packages/shelved_cache/persistent_cache.py:78\u001b[0m, in \u001b[0;36mPersistentCache.delete_callback\u001b[0;34m(self, key)\u001b[0m\n\u001b[1;32m     76\u001b[0m hkey \u001b[38;5;241m=\u001b[39m \u001b[38;5;28mself\u001b[39m\u001b[38;5;241m.\u001b[39mhash_key(key)\n\u001b[1;32m     77\u001b[0m \u001b[38;5;28;01mtry\u001b[39;00m:\n\u001b[0;32m---> 78\u001b[0m     \u001b[38;5;28;01mdel\u001b[39;00m \u001b[38;5;28;43mself\u001b[39;49m\u001b[38;5;241;43m.\u001b[39;49m\u001b[43mpersistent_dict\u001b[49m\u001b[43m[\u001b[49m\u001b[43mhkey\u001b[49m\u001b[43m]\u001b[49m\n\u001b[1;32m     79\u001b[0m \u001b[38;5;28;01mexcept\u001b[39;00m \u001b[38;5;167;01mKeyError\u001b[39;00m:\n\u001b[1;32m     80\u001b[0m     logger\u001b[38;5;241m.\u001b[39mwarning(\u001b[38;5;124mf\u001b[39m\u001b[38;5;124m\"\u001b[39m\u001b[38;5;124mKey \u001b[39m\u001b[38;5;124m'\u001b[39m\u001b[38;5;132;01m{\u001b[39;00mhkey\u001b[38;5;132;01m}\u001b[39;00m\u001b[38;5;124m'\u001b[39m\u001b[38;5;124m not in persistent cache.\u001b[39m\u001b[38;5;124m\"\u001b[39m)\n",
      "\u001b[0;31mTypeError\u001b[0m: 'NoneType' object does not support item deletion"
     ]
    }
   ],
   "source": [
    "# This unit test verifies that there were more Canadian residents between the ages 5-15 than the ages 60-79 in the year 1990\n",
    "\n",
    "assert(population(1990, \"all\", [5, 15], \"Canada\") > population(1990, \"all\", [60, 79], \"Canada\")), \"Error\""
   ]
  },
  {
   "cell_type": "markdown",
   "metadata": {},
   "source": [
    "# Population Pyramids"
   ]
  },
  {
   "cell_type": "code",
   "execution_count": 12,
   "metadata": {},
   "outputs": [],
   "source": [
    "def population_pyramid(df, year, region):\n",
    "    \"\"\"Plots a population pyramid for a given year and region. Parameters:\n",
    "    - df (pd.DataFrame): Population data with columns for male and female population by age\n",
    "    - year (int): The year for which the pyramid should be plotted\n",
    "    - region (str): The region to visualize\n",
    "    \"\"\"\n",
    "    # Extract data for the given year and region\n",
    "    try:\n",
    "        data = df.loc[(region, year)]\n",
    "    except KeyError:\n",
    "        raise ValueError(f\"No data available for {region} in {year}.\")\n",
    "    \n",
    "    # Extract age groups\n",
    "    age_groups = sorted(set(int(col.split()[-1]) for col in df.columns if 'Population Age' in col))\n",
    "    \n",
    "    # Retrieve male and female population counts\n",
    "    male_counts = [-data[f'Male Population Age {age}'] for age in age_groups]  # Negative for left-side visualization\n",
    "    female_counts = [data[f'Female Population Age {age}'] for age in age_groups]\n",
    "\n",
    "    # Create the figure\n",
    "    fig = go.Figure()\n",
    "\n",
    "    fig.add_trace(go.Bar(y=age_groups, x=male_counts, name='Males', orientation='h', marker=dict(color='blue')))\n",
    "\n",
    "    fig.add_trace(go.Bar(y=age_groups, x=female_counts, name='Females', orientation='h', marker=dict(color='red')))\n",
    "\n",
    "    # Customize layout\n",
    "    fig.update_layout(title=f'Population Pyramid for {region} in {year}', xaxis=dict(title='Population', tickformat=',d'), yaxis=dict(title='Age'), barmode='relative', bargap=0.1, bargroupgap=0)\n",
    "\n",
    "    # Show the plot\n",
    "    fig.show()"
   ]
  },
  {
   "cell_type": "code",
   "execution_count": 13,
   "metadata": {},
   "outputs": [
    {
     "data": {
      "application/vnd.plotly.v1+json": {
       "config": {
        "plotlyServerURL": "https://plot.ly"
       },
       "data": [
        {
         "marker": {
          "color": "blue"
         },
         "name": "Males",
         "orientation": "h",
         "type": "bar",
         "x": [
          -124861,
          -124861,
          -124861,
          -124861,
          -124861,
          -118230,
          -118230,
          -118230,
          -118230,
          -118230,
          -114629,
          -114629,
          -114629,
          -114629,
          -114629,
          -109159,
          -109159,
          -109159,
          -109159,
          -109159,
          -98089,
          -98089,
          -98089,
          -98089,
          -98089,
          -82444,
          -82444,
          -82444,
          -82444,
          -82444,
          -69368,
          -69368,
          -69368,
          -69368,
          -69368,
          -57540,
          -57540,
          -57540,
          -57540,
          -57540,
          -47813,
          -47813,
          -47813,
          -47813,
          -47813,
          -39974,
          -39974,
          -39974,
          -39974,
          -39974,
          -32871,
          -32871,
          -32871,
          -32871,
          -32871,
          -26078,
          -26078,
          -26078,
          -26078,
          -26078,
          -19779,
          -19779,
          -19779,
          -19779,
          -19779,
          -15059,
          -15059,
          -15059,
          -15059,
          -15059,
          -10082,
          -10082,
          -10082,
          -10082,
          -10082,
          -5348,
          -5348,
          -5348,
          -5348,
          -5348,
          -773.9
         ],
         "y": [
          0,
          1,
          2,
          3,
          4,
          5,
          6,
          7,
          8,
          9,
          10,
          11,
          12,
          13,
          14,
          15,
          16,
          17,
          18,
          19,
          20,
          21,
          22,
          23,
          24,
          25,
          26,
          27,
          28,
          29,
          30,
          31,
          32,
          33,
          34,
          35,
          36,
          37,
          38,
          39,
          40,
          41,
          42,
          43,
          44,
          45,
          46,
          47,
          48,
          49,
          50,
          51,
          52,
          53,
          54,
          55,
          56,
          57,
          58,
          59,
          60,
          61,
          62,
          63,
          64,
          65,
          66,
          67,
          68,
          69,
          70,
          71,
          72,
          73,
          74,
          75,
          76,
          77,
          78,
          79,
          80
         ]
        },
        {
         "marker": {
          "color": "red"
         },
         "name": "Females",
         "orientation": "h",
         "type": "bar",
         "x": [
          122356,
          122356,
          122356,
          122356,
          122356,
          116798,
          116798,
          116798,
          116798,
          116798,
          113779,
          113779,
          113779,
          113779,
          113779,
          108569,
          108569,
          108569,
          108569,
          108569,
          97753,
          97753,
          97753,
          97753,
          97753,
          82169,
          82169,
          82169,
          82169,
          82169,
          69051,
          69051,
          69051,
          69051,
          69051,
          57505,
          57505,
          57505,
          57505,
          57505,
          48246,
          48246,
          48246,
          48246,
          48246,
          40983,
          40983,
          40983,
          40983,
          40983,
          34580,
          34580,
          34580,
          34580,
          34580,
          28614,
          28614,
          28614,
          28614,
          28614,
          22659,
          22659,
          22659,
          22659,
          22659,
          17511,
          17511,
          17511,
          17511,
          17511,
          12657,
          12657,
          12657,
          12657,
          12657,
          7553,
          7553,
          7553,
          7553,
          7553,
          1360.55
         ],
         "y": [
          0,
          1,
          2,
          3,
          4,
          5,
          6,
          7,
          8,
          9,
          10,
          11,
          12,
          13,
          14,
          15,
          16,
          17,
          18,
          19,
          20,
          21,
          22,
          23,
          24,
          25,
          26,
          27,
          28,
          29,
          30,
          31,
          32,
          33,
          34,
          35,
          36,
          37,
          38,
          39,
          40,
          41,
          42,
          43,
          44,
          45,
          46,
          47,
          48,
          49,
          50,
          51,
          52,
          53,
          54,
          55,
          56,
          57,
          58,
          59,
          60,
          61,
          62,
          63,
          64,
          65,
          66,
          67,
          68,
          69,
          70,
          71,
          72,
          73,
          74,
          75,
          76,
          77,
          78,
          79,
          80
         ]
        }
       ],
       "layout": {
        "bargap": 0.1,
        "bargroupgap": 0,
        "barmode": "relative",
        "template": {
         "data": {
          "bar": [
           {
            "error_x": {
             "color": "#2a3f5f"
            },
            "error_y": {
             "color": "#2a3f5f"
            },
            "marker": {
             "line": {
              "color": "#E5ECF6",
              "width": 0.5
             },
             "pattern": {
              "fillmode": "overlay",
              "size": 10,
              "solidity": 0.2
             }
            },
            "type": "bar"
           }
          ],
          "barpolar": [
           {
            "marker": {
             "line": {
              "color": "#E5ECF6",
              "width": 0.5
             },
             "pattern": {
              "fillmode": "overlay",
              "size": 10,
              "solidity": 0.2
             }
            },
            "type": "barpolar"
           }
          ],
          "carpet": [
           {
            "aaxis": {
             "endlinecolor": "#2a3f5f",
             "gridcolor": "white",
             "linecolor": "white",
             "minorgridcolor": "white",
             "startlinecolor": "#2a3f5f"
            },
            "baxis": {
             "endlinecolor": "#2a3f5f",
             "gridcolor": "white",
             "linecolor": "white",
             "minorgridcolor": "white",
             "startlinecolor": "#2a3f5f"
            },
            "type": "carpet"
           }
          ],
          "choropleth": [
           {
            "colorbar": {
             "outlinewidth": 0,
             "ticks": ""
            },
            "type": "choropleth"
           }
          ],
          "contour": [
           {
            "colorbar": {
             "outlinewidth": 0,
             "ticks": ""
            },
            "colorscale": [
             [
              0,
              "#0d0887"
             ],
             [
              0.1111111111111111,
              "#46039f"
             ],
             [
              0.2222222222222222,
              "#7201a8"
             ],
             [
              0.3333333333333333,
              "#9c179e"
             ],
             [
              0.4444444444444444,
              "#bd3786"
             ],
             [
              0.5555555555555556,
              "#d8576b"
             ],
             [
              0.6666666666666666,
              "#ed7953"
             ],
             [
              0.7777777777777778,
              "#fb9f3a"
             ],
             [
              0.8888888888888888,
              "#fdca26"
             ],
             [
              1,
              "#f0f921"
             ]
            ],
            "type": "contour"
           }
          ],
          "contourcarpet": [
           {
            "colorbar": {
             "outlinewidth": 0,
             "ticks": ""
            },
            "type": "contourcarpet"
           }
          ],
          "heatmap": [
           {
            "colorbar": {
             "outlinewidth": 0,
             "ticks": ""
            },
            "colorscale": [
             [
              0,
              "#0d0887"
             ],
             [
              0.1111111111111111,
              "#46039f"
             ],
             [
              0.2222222222222222,
              "#7201a8"
             ],
             [
              0.3333333333333333,
              "#9c179e"
             ],
             [
              0.4444444444444444,
              "#bd3786"
             ],
             [
              0.5555555555555556,
              "#d8576b"
             ],
             [
              0.6666666666666666,
              "#ed7953"
             ],
             [
              0.7777777777777778,
              "#fb9f3a"
             ],
             [
              0.8888888888888888,
              "#fdca26"
             ],
             [
              1,
              "#f0f921"
             ]
            ],
            "type": "heatmap"
           }
          ],
          "histogram": [
           {
            "marker": {
             "pattern": {
              "fillmode": "overlay",
              "size": 10,
              "solidity": 0.2
             }
            },
            "type": "histogram"
           }
          ],
          "histogram2d": [
           {
            "colorbar": {
             "outlinewidth": 0,
             "ticks": ""
            },
            "colorscale": [
             [
              0,
              "#0d0887"
             ],
             [
              0.1111111111111111,
              "#46039f"
             ],
             [
              0.2222222222222222,
              "#7201a8"
             ],
             [
              0.3333333333333333,
              "#9c179e"
             ],
             [
              0.4444444444444444,
              "#bd3786"
             ],
             [
              0.5555555555555556,
              "#d8576b"
             ],
             [
              0.6666666666666666,
              "#ed7953"
             ],
             [
              0.7777777777777778,
              "#fb9f3a"
             ],
             [
              0.8888888888888888,
              "#fdca26"
             ],
             [
              1,
              "#f0f921"
             ]
            ],
            "type": "histogram2d"
           }
          ],
          "histogram2dcontour": [
           {
            "colorbar": {
             "outlinewidth": 0,
             "ticks": ""
            },
            "colorscale": [
             [
              0,
              "#0d0887"
             ],
             [
              0.1111111111111111,
              "#46039f"
             ],
             [
              0.2222222222222222,
              "#7201a8"
             ],
             [
              0.3333333333333333,
              "#9c179e"
             ],
             [
              0.4444444444444444,
              "#bd3786"
             ],
             [
              0.5555555555555556,
              "#d8576b"
             ],
             [
              0.6666666666666666,
              "#ed7953"
             ],
             [
              0.7777777777777778,
              "#fb9f3a"
             ],
             [
              0.8888888888888888,
              "#fdca26"
             ],
             [
              1,
              "#f0f921"
             ]
            ],
            "type": "histogram2dcontour"
           }
          ],
          "mesh3d": [
           {
            "colorbar": {
             "outlinewidth": 0,
             "ticks": ""
            },
            "type": "mesh3d"
           }
          ],
          "parcoords": [
           {
            "line": {
             "colorbar": {
              "outlinewidth": 0,
              "ticks": ""
             }
            },
            "type": "parcoords"
           }
          ],
          "pie": [
           {
            "automargin": true,
            "type": "pie"
           }
          ],
          "scatter": [
           {
            "fillpattern": {
             "fillmode": "overlay",
             "size": 10,
             "solidity": 0.2
            },
            "type": "scatter"
           }
          ],
          "scatter3d": [
           {
            "line": {
             "colorbar": {
              "outlinewidth": 0,
              "ticks": ""
             }
            },
            "marker": {
             "colorbar": {
              "outlinewidth": 0,
              "ticks": ""
             }
            },
            "type": "scatter3d"
           }
          ],
          "scattercarpet": [
           {
            "marker": {
             "colorbar": {
              "outlinewidth": 0,
              "ticks": ""
             }
            },
            "type": "scattercarpet"
           }
          ],
          "scattergeo": [
           {
            "marker": {
             "colorbar": {
              "outlinewidth": 0,
              "ticks": ""
             }
            },
            "type": "scattergeo"
           }
          ],
          "scattergl": [
           {
            "marker": {
             "colorbar": {
              "outlinewidth": 0,
              "ticks": ""
             }
            },
            "type": "scattergl"
           }
          ],
          "scattermap": [
           {
            "marker": {
             "colorbar": {
              "outlinewidth": 0,
              "ticks": ""
             }
            },
            "type": "scattermap"
           }
          ],
          "scattermapbox": [
           {
            "marker": {
             "colorbar": {
              "outlinewidth": 0,
              "ticks": ""
             }
            },
            "type": "scattermapbox"
           }
          ],
          "scatterpolar": [
           {
            "marker": {
             "colorbar": {
              "outlinewidth": 0,
              "ticks": ""
             }
            },
            "type": "scatterpolar"
           }
          ],
          "scatterpolargl": [
           {
            "marker": {
             "colorbar": {
              "outlinewidth": 0,
              "ticks": ""
             }
            },
            "type": "scatterpolargl"
           }
          ],
          "scatterternary": [
           {
            "marker": {
             "colorbar": {
              "outlinewidth": 0,
              "ticks": ""
             }
            },
            "type": "scatterternary"
           }
          ],
          "surface": [
           {
            "colorbar": {
             "outlinewidth": 0,
             "ticks": ""
            },
            "colorscale": [
             [
              0,
              "#0d0887"
             ],
             [
              0.1111111111111111,
              "#46039f"
             ],
             [
              0.2222222222222222,
              "#7201a8"
             ],
             [
              0.3333333333333333,
              "#9c179e"
             ],
             [
              0.4444444444444444,
              "#bd3786"
             ],
             [
              0.5555555555555556,
              "#d8576b"
             ],
             [
              0.6666666666666666,
              "#ed7953"
             ],
             [
              0.7777777777777778,
              "#fb9f3a"
             ],
             [
              0.8888888888888888,
              "#fdca26"
             ],
             [
              1,
              "#f0f921"
             ]
            ],
            "type": "surface"
           }
          ],
          "table": [
           {
            "cells": {
             "fill": {
              "color": "#EBF0F8"
             },
             "line": {
              "color": "white"
             }
            },
            "header": {
             "fill": {
              "color": "#C8D4E3"
             },
             "line": {
              "color": "white"
             }
            },
            "type": "table"
           }
          ]
         },
         "layout": {
          "annotationdefaults": {
           "arrowcolor": "#2a3f5f",
           "arrowhead": 0,
           "arrowwidth": 1
          },
          "autotypenumbers": "strict",
          "coloraxis": {
           "colorbar": {
            "outlinewidth": 0,
            "ticks": ""
           }
          },
          "colorscale": {
           "diverging": [
            [
             0,
             "#8e0152"
            ],
            [
             0.1,
             "#c51b7d"
            ],
            [
             0.2,
             "#de77ae"
            ],
            [
             0.3,
             "#f1b6da"
            ],
            [
             0.4,
             "#fde0ef"
            ],
            [
             0.5,
             "#f7f7f7"
            ],
            [
             0.6,
             "#e6f5d0"
            ],
            [
             0.7,
             "#b8e186"
            ],
            [
             0.8,
             "#7fbc41"
            ],
            [
             0.9,
             "#4d9221"
            ],
            [
             1,
             "#276419"
            ]
           ],
           "sequential": [
            [
             0,
             "#0d0887"
            ],
            [
             0.1111111111111111,
             "#46039f"
            ],
            [
             0.2222222222222222,
             "#7201a8"
            ],
            [
             0.3333333333333333,
             "#9c179e"
            ],
            [
             0.4444444444444444,
             "#bd3786"
            ],
            [
             0.5555555555555556,
             "#d8576b"
            ],
            [
             0.6666666666666666,
             "#ed7953"
            ],
            [
             0.7777777777777778,
             "#fb9f3a"
            ],
            [
             0.8888888888888888,
             "#fdca26"
            ],
            [
             1,
             "#f0f921"
            ]
           ],
           "sequentialminus": [
            [
             0,
             "#0d0887"
            ],
            [
             0.1111111111111111,
             "#46039f"
            ],
            [
             0.2222222222222222,
             "#7201a8"
            ],
            [
             0.3333333333333333,
             "#9c179e"
            ],
            [
             0.4444444444444444,
             "#bd3786"
            ],
            [
             0.5555555555555556,
             "#d8576b"
            ],
            [
             0.6666666666666666,
             "#ed7953"
            ],
            [
             0.7777777777777778,
             "#fb9f3a"
            ],
            [
             0.8888888888888888,
             "#fdca26"
            ],
            [
             1,
             "#f0f921"
            ]
           ]
          },
          "colorway": [
           "#636efa",
           "#EF553B",
           "#00cc96",
           "#ab63fa",
           "#FFA15A",
           "#19d3f3",
           "#FF6692",
           "#B6E880",
           "#FF97FF",
           "#FECB52"
          ],
          "font": {
           "color": "#2a3f5f"
          },
          "geo": {
           "bgcolor": "white",
           "lakecolor": "white",
           "landcolor": "#E5ECF6",
           "showlakes": true,
           "showland": true,
           "subunitcolor": "white"
          },
          "hoverlabel": {
           "align": "left"
          },
          "hovermode": "closest",
          "mapbox": {
           "style": "light"
          },
          "paper_bgcolor": "white",
          "plot_bgcolor": "#E5ECF6",
          "polar": {
           "angularaxis": {
            "gridcolor": "white",
            "linecolor": "white",
            "ticks": ""
           },
           "bgcolor": "#E5ECF6",
           "radialaxis": {
            "gridcolor": "white",
            "linecolor": "white",
            "ticks": ""
           }
          },
          "scene": {
           "xaxis": {
            "backgroundcolor": "#E5ECF6",
            "gridcolor": "white",
            "gridwidth": 2,
            "linecolor": "white",
            "showbackground": true,
            "ticks": "",
            "zerolinecolor": "white"
           },
           "yaxis": {
            "backgroundcolor": "#E5ECF6",
            "gridcolor": "white",
            "gridwidth": 2,
            "linecolor": "white",
            "showbackground": true,
            "ticks": "",
            "zerolinecolor": "white"
           },
           "zaxis": {
            "backgroundcolor": "#E5ECF6",
            "gridcolor": "white",
            "gridwidth": 2,
            "linecolor": "white",
            "showbackground": true,
            "ticks": "",
            "zerolinecolor": "white"
           }
          },
          "shapedefaults": {
           "line": {
            "color": "#2a3f5f"
           }
          },
          "ternary": {
           "aaxis": {
            "gridcolor": "white",
            "linecolor": "white",
            "ticks": ""
           },
           "baxis": {
            "gridcolor": "white",
            "linecolor": "white",
            "ticks": ""
           },
           "bgcolor": "#E5ECF6",
           "caxis": {
            "gridcolor": "white",
            "linecolor": "white",
            "ticks": ""
           }
          },
          "title": {
           "x": 0.05
          },
          "xaxis": {
           "automargin": true,
           "gridcolor": "white",
           "linecolor": "white",
           "ticks": "",
           "title": {
            "standoff": 15
           },
           "zerolinecolor": "white",
           "zerolinewidth": 2
          },
          "yaxis": {
           "automargin": true,
           "gridcolor": "white",
           "linecolor": "white",
           "ticks": "",
           "title": {
            "standoff": 15
           },
           "zerolinecolor": "white",
           "zerolinewidth": 2
          }
         }
        },
        "title": {
         "text": "Population Pyramid for Haiti in 2010"
        },
        "xaxis": {
         "tickformat": ",d",
         "title": {
          "text": "Population"
         }
        },
        "yaxis": {
         "title": {
          "text": "Age"
         }
        }
       }
      }
     },
     "metadata": {},
     "output_type": "display_data"
    }
   ],
   "source": [
    "population_pyramid(population_df, 2010, \"Haiti\")"
   ]
  },
  {
   "cell_type": "code",
   "execution_count": 14,
   "metadata": {},
   "outputs": [],
   "source": [
    "def animated_population_pyramid(df, region):\n",
    "    \"\"\"Creates an animated population pyramid for a given region with male and female population data over 5-year intervals. Parameters:\n",
    "    - df (pd.DataFrame): Population data with male and female counts by age-sex groups for each year\n",
    "    - region (str): The region to visualize\n",
    "    \"\"\"\n",
    "    # Extract years from the DataFrame index, and filter for every 5 years\n",
    "    years = [year for year in range(1990, 2021, 5) if year in df.index.get_level_values(1).unique()]\n",
    "    \n",
    "    # Initialize a list for the traces (bars) to be added to the plot\n",
    "    traces = []\n",
    "\n",
    "    # Iterate through each year and add the population pyramid for each\n",
    "    for year in years:\n",
    "        try:\n",
    "            # Debugging: Check if data exists for the region and year\n",
    "            print(f\"Retrieving data for {region} in {year}...\")\n",
    "            data = df.loc[(region, year)]  # Get the population data for this year\n",
    "            \n",
    "            # Extract age groups \n",
    "            age_groups = sorted(set(int(col.split()[-1]) for col in df.columns if 'Population Age' in col))\n",
    "\n",
    "            # Retrieve male and female population counts for this year\n",
    "            male_counts = [-data[f'Male Population Age {age}'] for age in age_groups]  \n",
    "            female_counts = [data[f'Female Population Age {age}'] for age in age_groups]\n",
    "\n",
    "            # Add Male trace for this year\n",
    "            traces.append(go.Bar(x=male_counts, y=age_groups, orientation='h', name=f'Men {year}', hoverinfo='skip',opacity=0.7))\n",
    "\n",
    "            # Add Female trace for this year\n",
    "            traces.append(go.Bar(x=female_counts, y=age_groups, orientation='h', name=f'Women {year}', hoverinfo='skip', opacity=0.7))\n",
    "\n",
    "        except KeyError:\n",
    "            print(f\"No data found for {region} in {year}\")\n",
    "\n",
    "    # Create the layout for the plot\n",
    "    layout = go.Layout(title=f\"Population Pyramid for {region}\", xaxis=dict(title=\"Population\", tickformat=',d'), yaxis=dict(title=\"Age Group\"), barmode='overlay', bargap=0.1, bargroupgap=0,\n",
    "                       legend=dict(x=1.05, y=1, traceorder='normal', font=dict(size=12), bgcolor='rgba(255, 255, 255, 0.7)', bordercolor='Black', borderwidth=1))\n",
    "\n",
    "    # If there are traces to plot, create the figure\n",
    "    if traces:\n",
    "        fig = go.Figure(data=traces, layout=layout)\n",
    "        fig.show()\n",
    "    else:\n",
    "        print(f\"No data to display for {region}\")"
   ]
  },
  {
   "cell_type": "code",
   "execution_count": 15,
   "metadata": {},
   "outputs": [
    {
     "name": "stdout",
     "output_type": "stream",
     "text": [
      "Retrieving data for Haiti in 1990...\n",
      "Retrieving data for Haiti in 1995...\n",
      "Retrieving data for Haiti in 2000...\n",
      "Retrieving data for Haiti in 2005...\n",
      "Retrieving data for Haiti in 2010...\n"
     ]
    },
    {
     "data": {
      "application/vnd.plotly.v1+json": {
       "config": {
        "plotlyServerURL": "https://plot.ly"
       },
       "data": [
        {
         "hoverinfo": "skip",
         "name": "Men 1990",
         "opacity": 0.7,
         "orientation": "h",
         "type": "bar",
         "x": [
          -110694,
          -110694,
          -110694,
          -110694,
          -110694,
          -94025,
          -94025,
          -94025,
          -94025,
          -94025,
          -83012,
          -83012,
          -83012,
          -83012,
          -83012,
          -72005,
          -72005,
          -72005,
          -72005,
          -72005,
          -61098,
          -61098,
          -61098,
          -61098,
          -61098,
          -51505,
          -51505,
          -51505,
          -51505,
          -51505,
          -43212,
          -43212,
          -43212,
          -43212,
          -43212,
          -35871,
          -35871,
          -35871,
          -35871,
          -35871,
          -29562,
          -29562,
          -29562,
          -29562,
          -29562,
          -25744,
          -25744,
          -25744,
          -25744,
          -25744,
          -21432,
          -21432,
          -21432,
          -21432,
          -21432,
          -16112,
          -16112,
          -16112,
          -16112,
          -16112,
          -11878,
          -11878,
          -11878,
          -11878,
          -11878,
          -9106,
          -9106,
          -9106,
          -9106,
          -9106,
          -6457,
          -6457,
          -6457,
          -6457,
          -6457,
          -3886,
          -3886,
          -3886,
          -3886,
          -3886,
          -588.95
         ],
         "y": [
          0,
          1,
          2,
          3,
          4,
          5,
          6,
          7,
          8,
          9,
          10,
          11,
          12,
          13,
          14,
          15,
          16,
          17,
          18,
          19,
          20,
          21,
          22,
          23,
          24,
          25,
          26,
          27,
          28,
          29,
          30,
          31,
          32,
          33,
          34,
          35,
          36,
          37,
          38,
          39,
          40,
          41,
          42,
          43,
          44,
          45,
          46,
          47,
          48,
          49,
          50,
          51,
          52,
          53,
          54,
          55,
          56,
          57,
          58,
          59,
          60,
          61,
          62,
          63,
          64,
          65,
          66,
          67,
          68,
          69,
          70,
          71,
          72,
          73,
          74,
          75,
          76,
          77,
          78,
          79,
          80
         ]
        },
        {
         "hoverinfo": "skip",
         "name": "Women 1990",
         "opacity": 0.7,
         "orientation": "h",
         "type": "bar",
         "x": [
          109899,
          109899,
          109899,
          109899,
          109899,
          93617,
          93617,
          93617,
          93617,
          93617,
          82553,
          82553,
          82553,
          82553,
          82553,
          71658,
          71658,
          71658,
          71658,
          71658,
          60911,
          60911,
          60911,
          60911,
          60911,
          51541,
          51541,
          51541,
          51541,
          51541,
          43543,
          43543,
          43543,
          43543,
          43543,
          36715,
          36715,
          36715,
          36715,
          36715,
          30549,
          30549,
          30549,
          30549,
          30549,
          26057,
          26057,
          26057,
          26057,
          26057,
          22472,
          22472,
          22472,
          22472,
          22472,
          17999,
          17999,
          17999,
          17999,
          17999,
          14609,
          14609,
          14609,
          14609,
          14609,
          12024,
          12024,
          12024,
          12024,
          12024,
          9061,
          9061,
          9061,
          9061,
          9061,
          5757,
          5757,
          5757,
          5757,
          5757,
          989
         ],
         "y": [
          0,
          1,
          2,
          3,
          4,
          5,
          6,
          7,
          8,
          9,
          10,
          11,
          12,
          13,
          14,
          15,
          16,
          17,
          18,
          19,
          20,
          21,
          22,
          23,
          24,
          25,
          26,
          27,
          28,
          29,
          30,
          31,
          32,
          33,
          34,
          35,
          36,
          37,
          38,
          39,
          40,
          41,
          42,
          43,
          44,
          45,
          46,
          47,
          48,
          49,
          50,
          51,
          52,
          53,
          54,
          55,
          56,
          57,
          58,
          59,
          60,
          61,
          62,
          63,
          64,
          65,
          66,
          67,
          68,
          69,
          70,
          71,
          72,
          73,
          74,
          75,
          76,
          77,
          78,
          79,
          80
         ]
        },
        {
         "hoverinfo": "skip",
         "name": "Men 1995",
         "opacity": 0.7,
         "orientation": "h",
         "type": "bar",
         "x": [
          -117289,
          -117289,
          -117289,
          -117289,
          -117289,
          -105598,
          -105598,
          -105598,
          -105598,
          -105598,
          -92566,
          -92566,
          -92566,
          -92566,
          -92566,
          -80959,
          -80959,
          -80959,
          -80959,
          -80959,
          -68312,
          -68312,
          -68312,
          -68312,
          -68312,
          -56952,
          -56952,
          -56952,
          -56952,
          -56952,
          -47944,
          -47944,
          -47944,
          -47944,
          -47944,
          -40277,
          -40277,
          -40277,
          -40277,
          -40277,
          -33389,
          -33389,
          -33389,
          -33389,
          -33389,
          -27353,
          -27353,
          -27353,
          -27353,
          -27353,
          -23532,
          -23532,
          -23532,
          -23532,
          -23532,
          -19131,
          -19131,
          -19131,
          -19131,
          -19131,
          -13816,
          -13816,
          -13816,
          -13816,
          -13816,
          -9547,
          -9547,
          -9547,
          -9547,
          -9547,
          -6643,
          -6643,
          -6643,
          -6643,
          -6643,
          -4019,
          -4019,
          -4019,
          -4019,
          -4019,
          -645.7
         ],
         "y": [
          0,
          1,
          2,
          3,
          4,
          5,
          6,
          7,
          8,
          9,
          10,
          11,
          12,
          13,
          14,
          15,
          16,
          17,
          18,
          19,
          20,
          21,
          22,
          23,
          24,
          25,
          26,
          27,
          28,
          29,
          30,
          31,
          32,
          33,
          34,
          35,
          36,
          37,
          38,
          39,
          40,
          41,
          42,
          43,
          44,
          45,
          46,
          47,
          48,
          49,
          50,
          51,
          52,
          53,
          54,
          55,
          56,
          57,
          58,
          59,
          60,
          61,
          62,
          63,
          64,
          65,
          66,
          67,
          68,
          69,
          70,
          71,
          72,
          73,
          74,
          75,
          76,
          77,
          78,
          79,
          80
         ]
        },
        {
         "hoverinfo": "skip",
         "name": "Women 1995",
         "opacity": 0.7,
         "orientation": "h",
         "type": "bar",
         "x": [
          116189,
          116189,
          116189,
          116189,
          116189,
          105083,
          105083,
          105083,
          105083,
          105083,
          92059,
          92059,
          92059,
          92059,
          92059,
          80322,
          80322,
          80322,
          80322,
          80322,
          67799,
          67799,
          67799,
          67799,
          67799,
          56695,
          56695,
          56695,
          56695,
          56695,
          47944,
          47944,
          47944,
          47944,
          47944,
          40679,
          40679,
          40679,
          40679,
          40679,
          34422,
          34422,
          34422,
          34422,
          34422,
          28651,
          28651,
          28651,
          28651,
          28651,
          24264,
          24264,
          24264,
          24264,
          24264,
          20586,
          20586,
          20586,
          20586,
          20586,
          15978,
          15978,
          15978,
          15978,
          15978,
          12281,
          12281,
          12281,
          12281,
          12281,
          9263,
          9263,
          9263,
          9263,
          9263,
          6026,
          6026,
          6026,
          6026,
          6026,
          1086.85
         ],
         "y": [
          0,
          1,
          2,
          3,
          4,
          5,
          6,
          7,
          8,
          9,
          10,
          11,
          12,
          13,
          14,
          15,
          16,
          17,
          18,
          19,
          20,
          21,
          22,
          23,
          24,
          25,
          26,
          27,
          28,
          29,
          30,
          31,
          32,
          33,
          34,
          35,
          36,
          37,
          38,
          39,
          40,
          41,
          42,
          43,
          44,
          45,
          46,
          47,
          48,
          49,
          50,
          51,
          52,
          53,
          54,
          55,
          56,
          57,
          58,
          59,
          60,
          61,
          62,
          63,
          64,
          65,
          66,
          67,
          68,
          69,
          70,
          71,
          72,
          73,
          74,
          75,
          76,
          77,
          78,
          79,
          80
         ]
        },
        {
         "hoverinfo": "skip",
         "name": "Men 2000",
         "opacity": 0.7,
         "orientation": "h",
         "type": "bar",
         "x": [
          -120093,
          -120093,
          -120093,
          -120093,
          -120093,
          -112886,
          -112886,
          -112886,
          -112886,
          -112886,
          -104162,
          -104162,
          -104162,
          -104162,
          -104162,
          -90538,
          -90538,
          -90538,
          -90538,
          -90538,
          -77268,
          -77268,
          -77268,
          -77268,
          -77268,
          -64184,
          -64184,
          -64184,
          -64184,
          -64184,
          -53426,
          -53426,
          -53426,
          -53426,
          -53426,
          -45034,
          -45034,
          -45034,
          -45034,
          -45034,
          -37788,
          -37788,
          -37788,
          -37788,
          -37788,
          -31139,
          -31139,
          -31139,
          -31139,
          -31139,
          -25168,
          -25168,
          -25168,
          -25168,
          -25168,
          -21159,
          -21159,
          -21159,
          -21159,
          -21159,
          -16548,
          -16548,
          -16548,
          -16548,
          -16548,
          -11223,
          -11223,
          -11223,
          -11223,
          -11223,
          -7039,
          -7039,
          -7039,
          -7039,
          -7039,
          -4184,
          -4184,
          -4184,
          -4184,
          -4184,
          -686.9
         ],
         "y": [
          0,
          1,
          2,
          3,
          4,
          5,
          6,
          7,
          8,
          9,
          10,
          11,
          12,
          13,
          14,
          15,
          16,
          17,
          18,
          19,
          20,
          21,
          22,
          23,
          24,
          25,
          26,
          27,
          28,
          29,
          30,
          31,
          32,
          33,
          34,
          35,
          36,
          37,
          38,
          39,
          40,
          41,
          42,
          43,
          44,
          45,
          46,
          47,
          48,
          49,
          50,
          51,
          52,
          53,
          54,
          55,
          56,
          57,
          58,
          59,
          60,
          61,
          62,
          63,
          64,
          65,
          66,
          67,
          68,
          69,
          70,
          71,
          72,
          73,
          74,
          75,
          76,
          77,
          78,
          79,
          80
         ]
        },
        {
         "hoverinfo": "skip",
         "name": "Women 2000",
         "opacity": 0.7,
         "orientation": "h",
         "type": "bar",
         "x": [
          118714,
          118714,
          118714,
          118714,
          118714,
          112158,
          112158,
          112158,
          112158,
          112158,
          103636,
          103636,
          103636,
          103636,
          103636,
          89944,
          89944,
          89944,
          89944,
          89944,
          76573,
          76573,
          76573,
          76573,
          76573,
          63689,
          63689,
          63689,
          63689,
          63689,
          53205,
          53205,
          53205,
          53205,
          53205,
          45170,
          45170,
          45170,
          45170,
          45170,
          38444,
          38444,
          38444,
          38444,
          38444,
          32527,
          32527,
          32527,
          32527,
          32527,
          26873,
          26873,
          26873,
          26873,
          26873,
          22403,
          22403,
          22403,
          22403,
          22403,
          18465,
          18465,
          18465,
          18465,
          18465,
          13611,
          13611,
          13611,
          13611,
          13611,
          9610,
          9610,
          9610,
          9610,
          9610,
          6284,
          6284,
          6284,
          6284,
          6284,
          1181.7
         ],
         "y": [
          0,
          1,
          2,
          3,
          4,
          5,
          6,
          7,
          8,
          9,
          10,
          11,
          12,
          13,
          14,
          15,
          16,
          17,
          18,
          19,
          20,
          21,
          22,
          23,
          24,
          25,
          26,
          27,
          28,
          29,
          30,
          31,
          32,
          33,
          34,
          35,
          36,
          37,
          38,
          39,
          40,
          41,
          42,
          43,
          44,
          45,
          46,
          47,
          48,
          49,
          50,
          51,
          52,
          53,
          54,
          55,
          56,
          57,
          58,
          59,
          60,
          61,
          62,
          63,
          64,
          65,
          66,
          67,
          68,
          69,
          70,
          71,
          72,
          73,
          74,
          75,
          76,
          77,
          78,
          79,
          80
         ]
        },
        {
         "hoverinfo": "skip",
         "name": "Men 2005",
         "opacity": 0.7,
         "orientation": "h",
         "type": "bar",
         "x": [
          -121932,
          -121932,
          -121932,
          -121932,
          -121932,
          -116294,
          -116294,
          -116294,
          -116294,
          -116294,
          -111476,
          -111476,
          -111476,
          -111476,
          -111476,
          -102124,
          -102124,
          -102124,
          -102124,
          -102124,
          -86867,
          -86867,
          -86867,
          -86867,
          -86867,
          -73163,
          -73163,
          -73163,
          -73163,
          -73163,
          -60686,
          -60686,
          -60686,
          -60686,
          -60686,
          -50540,
          -50540,
          -50540,
          -50540,
          -50540,
          -42539,
          -42539,
          -42539,
          -42539,
          -42539,
          -35475,
          -35475,
          -35475,
          -35475,
          -35475,
          -28842,
          -28842,
          -28842,
          -28842,
          -28842,
          -22757,
          -22757,
          -22757,
          -22757,
          -22757,
          -18418,
          -18418,
          -18418,
          -18418,
          -18418,
          -13551,
          -13551,
          -13551,
          -13551,
          -13551,
          -8359,
          -8359,
          -8359,
          -8359,
          -8359,
          -4488,
          -4488,
          -4488,
          -4488,
          -4488,
          -727.75
         ],
         "y": [
          0,
          1,
          2,
          3,
          4,
          5,
          6,
          7,
          8,
          9,
          10,
          11,
          12,
          13,
          14,
          15,
          16,
          17,
          18,
          19,
          20,
          21,
          22,
          23,
          24,
          25,
          26,
          27,
          28,
          29,
          30,
          31,
          32,
          33,
          34,
          35,
          36,
          37,
          38,
          39,
          40,
          41,
          42,
          43,
          44,
          45,
          46,
          47,
          48,
          49,
          50,
          51,
          52,
          53,
          54,
          55,
          56,
          57,
          58,
          59,
          60,
          61,
          62,
          63,
          64,
          65,
          66,
          67,
          68,
          69,
          70,
          71,
          72,
          73,
          74,
          75,
          76,
          77,
          78,
          79,
          80
         ]
        },
        {
         "hoverinfo": "skip",
         "name": "Women 2005",
         "opacity": 0.7,
         "orientation": "h",
         "type": "bar",
         "x": [
          120105,
          120105,
          120105,
          120105,
          120105,
          115340,
          115340,
          115340,
          115340,
          115340,
          110850,
          110850,
          110850,
          110850,
          110850,
          101632,
          101632,
          101632,
          101632,
          101632,
          86366,
          86366,
          86366,
          86366,
          86366,
          72625,
          72625,
          72625,
          72625,
          72625,
          60339,
          60339,
          60339,
          60339,
          60339,
          50549,
          50549,
          50549,
          50549,
          50549,
          43013,
          43013,
          43013,
          43013,
          43013,
          36575,
          36575,
          36575,
          36575,
          36575,
          30719,
          30719,
          30719,
          30719,
          30719,
          24995,
          24995,
          24995,
          24995,
          24995,
          20268,
          20268,
          20268,
          20268,
          20268,
          15909,
          15909,
          15909,
          15909,
          15909,
          10805,
          10805,
          10805,
          10805,
          10805,
          6639,
          6639,
          6639,
          6639,
          6639,
          1272.1
         ],
         "y": [
          0,
          1,
          2,
          3,
          4,
          5,
          6,
          7,
          8,
          9,
          10,
          11,
          12,
          13,
          14,
          15,
          16,
          17,
          18,
          19,
          20,
          21,
          22,
          23,
          24,
          25,
          26,
          27,
          28,
          29,
          30,
          31,
          32,
          33,
          34,
          35,
          36,
          37,
          38,
          39,
          40,
          41,
          42,
          43,
          44,
          45,
          46,
          47,
          48,
          49,
          50,
          51,
          52,
          53,
          54,
          55,
          56,
          57,
          58,
          59,
          60,
          61,
          62,
          63,
          64,
          65,
          66,
          67,
          68,
          69,
          70,
          71,
          72,
          73,
          74,
          75,
          76,
          77,
          78,
          79,
          80
         ]
        },
        {
         "hoverinfo": "skip",
         "name": "Men 2010",
         "opacity": 0.7,
         "orientation": "h",
         "type": "bar",
         "x": [
          -124861,
          -124861,
          -124861,
          -124861,
          -124861,
          -118230,
          -118230,
          -118230,
          -118230,
          -118230,
          -114629,
          -114629,
          -114629,
          -114629,
          -114629,
          -109159,
          -109159,
          -109159,
          -109159,
          -109159,
          -98089,
          -98089,
          -98089,
          -98089,
          -98089,
          -82444,
          -82444,
          -82444,
          -82444,
          -82444,
          -69368,
          -69368,
          -69368,
          -69368,
          -69368,
          -57540,
          -57540,
          -57540,
          -57540,
          -57540,
          -47813,
          -47813,
          -47813,
          -47813,
          -47813,
          -39974,
          -39974,
          -39974,
          -39974,
          -39974,
          -32871,
          -32871,
          -32871,
          -32871,
          -32871,
          -26078,
          -26078,
          -26078,
          -26078,
          -26078,
          -19779,
          -19779,
          -19779,
          -19779,
          -19779,
          -15059,
          -15059,
          -15059,
          -15059,
          -15059,
          -10082,
          -10082,
          -10082,
          -10082,
          -10082,
          -5348,
          -5348,
          -5348,
          -5348,
          -5348,
          -773.9
         ],
         "y": [
          0,
          1,
          2,
          3,
          4,
          5,
          6,
          7,
          8,
          9,
          10,
          11,
          12,
          13,
          14,
          15,
          16,
          17,
          18,
          19,
          20,
          21,
          22,
          23,
          24,
          25,
          26,
          27,
          28,
          29,
          30,
          31,
          32,
          33,
          34,
          35,
          36,
          37,
          38,
          39,
          40,
          41,
          42,
          43,
          44,
          45,
          46,
          47,
          48,
          49,
          50,
          51,
          52,
          53,
          54,
          55,
          56,
          57,
          58,
          59,
          60,
          61,
          62,
          63,
          64,
          65,
          66,
          67,
          68,
          69,
          70,
          71,
          72,
          73,
          74,
          75,
          76,
          77,
          78,
          79,
          80
         ]
        },
        {
         "hoverinfo": "skip",
         "name": "Women 2010",
         "opacity": 0.7,
         "orientation": "h",
         "type": "bar",
         "x": [
          122356,
          122356,
          122356,
          122356,
          122356,
          116798,
          116798,
          116798,
          116798,
          116798,
          113779,
          113779,
          113779,
          113779,
          113779,
          108569,
          108569,
          108569,
          108569,
          108569,
          97753,
          97753,
          97753,
          97753,
          97753,
          82169,
          82169,
          82169,
          82169,
          82169,
          69051,
          69051,
          69051,
          69051,
          69051,
          57505,
          57505,
          57505,
          57505,
          57505,
          48246,
          48246,
          48246,
          48246,
          48246,
          40983,
          40983,
          40983,
          40983,
          40983,
          34580,
          34580,
          34580,
          34580,
          34580,
          28614,
          28614,
          28614,
          28614,
          28614,
          22659,
          22659,
          22659,
          22659,
          22659,
          17511,
          17511,
          17511,
          17511,
          17511,
          12657,
          12657,
          12657,
          12657,
          12657,
          7553,
          7553,
          7553,
          7553,
          7553,
          1360.55
         ],
         "y": [
          0,
          1,
          2,
          3,
          4,
          5,
          6,
          7,
          8,
          9,
          10,
          11,
          12,
          13,
          14,
          15,
          16,
          17,
          18,
          19,
          20,
          21,
          22,
          23,
          24,
          25,
          26,
          27,
          28,
          29,
          30,
          31,
          32,
          33,
          34,
          35,
          36,
          37,
          38,
          39,
          40,
          41,
          42,
          43,
          44,
          45,
          46,
          47,
          48,
          49,
          50,
          51,
          52,
          53,
          54,
          55,
          56,
          57,
          58,
          59,
          60,
          61,
          62,
          63,
          64,
          65,
          66,
          67,
          68,
          69,
          70,
          71,
          72,
          73,
          74,
          75,
          76,
          77,
          78,
          79,
          80
         ]
        }
       ],
       "layout": {
        "bargap": 0.1,
        "bargroupgap": 0,
        "barmode": "overlay",
        "legend": {
         "bgcolor": "rgba(255, 255, 255, 0.7)",
         "bordercolor": "Black",
         "borderwidth": 1,
         "font": {
          "size": 12
         },
         "traceorder": "normal",
         "x": 1.05,
         "y": 1
        },
        "template": {
         "data": {
          "bar": [
           {
            "error_x": {
             "color": "#2a3f5f"
            },
            "error_y": {
             "color": "#2a3f5f"
            },
            "marker": {
             "line": {
              "color": "#E5ECF6",
              "width": 0.5
             },
             "pattern": {
              "fillmode": "overlay",
              "size": 10,
              "solidity": 0.2
             }
            },
            "type": "bar"
           }
          ],
          "barpolar": [
           {
            "marker": {
             "line": {
              "color": "#E5ECF6",
              "width": 0.5
             },
             "pattern": {
              "fillmode": "overlay",
              "size": 10,
              "solidity": 0.2
             }
            },
            "type": "barpolar"
           }
          ],
          "carpet": [
           {
            "aaxis": {
             "endlinecolor": "#2a3f5f",
             "gridcolor": "white",
             "linecolor": "white",
             "minorgridcolor": "white",
             "startlinecolor": "#2a3f5f"
            },
            "baxis": {
             "endlinecolor": "#2a3f5f",
             "gridcolor": "white",
             "linecolor": "white",
             "minorgridcolor": "white",
             "startlinecolor": "#2a3f5f"
            },
            "type": "carpet"
           }
          ],
          "choropleth": [
           {
            "colorbar": {
             "outlinewidth": 0,
             "ticks": ""
            },
            "type": "choropleth"
           }
          ],
          "contour": [
           {
            "colorbar": {
             "outlinewidth": 0,
             "ticks": ""
            },
            "colorscale": [
             [
              0,
              "#0d0887"
             ],
             [
              0.1111111111111111,
              "#46039f"
             ],
             [
              0.2222222222222222,
              "#7201a8"
             ],
             [
              0.3333333333333333,
              "#9c179e"
             ],
             [
              0.4444444444444444,
              "#bd3786"
             ],
             [
              0.5555555555555556,
              "#d8576b"
             ],
             [
              0.6666666666666666,
              "#ed7953"
             ],
             [
              0.7777777777777778,
              "#fb9f3a"
             ],
             [
              0.8888888888888888,
              "#fdca26"
             ],
             [
              1,
              "#f0f921"
             ]
            ],
            "type": "contour"
           }
          ],
          "contourcarpet": [
           {
            "colorbar": {
             "outlinewidth": 0,
             "ticks": ""
            },
            "type": "contourcarpet"
           }
          ],
          "heatmap": [
           {
            "colorbar": {
             "outlinewidth": 0,
             "ticks": ""
            },
            "colorscale": [
             [
              0,
              "#0d0887"
             ],
             [
              0.1111111111111111,
              "#46039f"
             ],
             [
              0.2222222222222222,
              "#7201a8"
             ],
             [
              0.3333333333333333,
              "#9c179e"
             ],
             [
              0.4444444444444444,
              "#bd3786"
             ],
             [
              0.5555555555555556,
              "#d8576b"
             ],
             [
              0.6666666666666666,
              "#ed7953"
             ],
             [
              0.7777777777777778,
              "#fb9f3a"
             ],
             [
              0.8888888888888888,
              "#fdca26"
             ],
             [
              1,
              "#f0f921"
             ]
            ],
            "type": "heatmap"
           }
          ],
          "histogram": [
           {
            "marker": {
             "pattern": {
              "fillmode": "overlay",
              "size": 10,
              "solidity": 0.2
             }
            },
            "type": "histogram"
           }
          ],
          "histogram2d": [
           {
            "colorbar": {
             "outlinewidth": 0,
             "ticks": ""
            },
            "colorscale": [
             [
              0,
              "#0d0887"
             ],
             [
              0.1111111111111111,
              "#46039f"
             ],
             [
              0.2222222222222222,
              "#7201a8"
             ],
             [
              0.3333333333333333,
              "#9c179e"
             ],
             [
              0.4444444444444444,
              "#bd3786"
             ],
             [
              0.5555555555555556,
              "#d8576b"
             ],
             [
              0.6666666666666666,
              "#ed7953"
             ],
             [
              0.7777777777777778,
              "#fb9f3a"
             ],
             [
              0.8888888888888888,
              "#fdca26"
             ],
             [
              1,
              "#f0f921"
             ]
            ],
            "type": "histogram2d"
           }
          ],
          "histogram2dcontour": [
           {
            "colorbar": {
             "outlinewidth": 0,
             "ticks": ""
            },
            "colorscale": [
             [
              0,
              "#0d0887"
             ],
             [
              0.1111111111111111,
              "#46039f"
             ],
             [
              0.2222222222222222,
              "#7201a8"
             ],
             [
              0.3333333333333333,
              "#9c179e"
             ],
             [
              0.4444444444444444,
              "#bd3786"
             ],
             [
              0.5555555555555556,
              "#d8576b"
             ],
             [
              0.6666666666666666,
              "#ed7953"
             ],
             [
              0.7777777777777778,
              "#fb9f3a"
             ],
             [
              0.8888888888888888,
              "#fdca26"
             ],
             [
              1,
              "#f0f921"
             ]
            ],
            "type": "histogram2dcontour"
           }
          ],
          "mesh3d": [
           {
            "colorbar": {
             "outlinewidth": 0,
             "ticks": ""
            },
            "type": "mesh3d"
           }
          ],
          "parcoords": [
           {
            "line": {
             "colorbar": {
              "outlinewidth": 0,
              "ticks": ""
             }
            },
            "type": "parcoords"
           }
          ],
          "pie": [
           {
            "automargin": true,
            "type": "pie"
           }
          ],
          "scatter": [
           {
            "fillpattern": {
             "fillmode": "overlay",
             "size": 10,
             "solidity": 0.2
            },
            "type": "scatter"
           }
          ],
          "scatter3d": [
           {
            "line": {
             "colorbar": {
              "outlinewidth": 0,
              "ticks": ""
             }
            },
            "marker": {
             "colorbar": {
              "outlinewidth": 0,
              "ticks": ""
             }
            },
            "type": "scatter3d"
           }
          ],
          "scattercarpet": [
           {
            "marker": {
             "colorbar": {
              "outlinewidth": 0,
              "ticks": ""
             }
            },
            "type": "scattercarpet"
           }
          ],
          "scattergeo": [
           {
            "marker": {
             "colorbar": {
              "outlinewidth": 0,
              "ticks": ""
             }
            },
            "type": "scattergeo"
           }
          ],
          "scattergl": [
           {
            "marker": {
             "colorbar": {
              "outlinewidth": 0,
              "ticks": ""
             }
            },
            "type": "scattergl"
           }
          ],
          "scattermap": [
           {
            "marker": {
             "colorbar": {
              "outlinewidth": 0,
              "ticks": ""
             }
            },
            "type": "scattermap"
           }
          ],
          "scattermapbox": [
           {
            "marker": {
             "colorbar": {
              "outlinewidth": 0,
              "ticks": ""
             }
            },
            "type": "scattermapbox"
           }
          ],
          "scatterpolar": [
           {
            "marker": {
             "colorbar": {
              "outlinewidth": 0,
              "ticks": ""
             }
            },
            "type": "scatterpolar"
           }
          ],
          "scatterpolargl": [
           {
            "marker": {
             "colorbar": {
              "outlinewidth": 0,
              "ticks": ""
             }
            },
            "type": "scatterpolargl"
           }
          ],
          "scatterternary": [
           {
            "marker": {
             "colorbar": {
              "outlinewidth": 0,
              "ticks": ""
             }
            },
            "type": "scatterternary"
           }
          ],
          "surface": [
           {
            "colorbar": {
             "outlinewidth": 0,
             "ticks": ""
            },
            "colorscale": [
             [
              0,
              "#0d0887"
             ],
             [
              0.1111111111111111,
              "#46039f"
             ],
             [
              0.2222222222222222,
              "#7201a8"
             ],
             [
              0.3333333333333333,
              "#9c179e"
             ],
             [
              0.4444444444444444,
              "#bd3786"
             ],
             [
              0.5555555555555556,
              "#d8576b"
             ],
             [
              0.6666666666666666,
              "#ed7953"
             ],
             [
              0.7777777777777778,
              "#fb9f3a"
             ],
             [
              0.8888888888888888,
              "#fdca26"
             ],
             [
              1,
              "#f0f921"
             ]
            ],
            "type": "surface"
           }
          ],
          "table": [
           {
            "cells": {
             "fill": {
              "color": "#EBF0F8"
             },
             "line": {
              "color": "white"
             }
            },
            "header": {
             "fill": {
              "color": "#C8D4E3"
             },
             "line": {
              "color": "white"
             }
            },
            "type": "table"
           }
          ]
         },
         "layout": {
          "annotationdefaults": {
           "arrowcolor": "#2a3f5f",
           "arrowhead": 0,
           "arrowwidth": 1
          },
          "autotypenumbers": "strict",
          "coloraxis": {
           "colorbar": {
            "outlinewidth": 0,
            "ticks": ""
           }
          },
          "colorscale": {
           "diverging": [
            [
             0,
             "#8e0152"
            ],
            [
             0.1,
             "#c51b7d"
            ],
            [
             0.2,
             "#de77ae"
            ],
            [
             0.3,
             "#f1b6da"
            ],
            [
             0.4,
             "#fde0ef"
            ],
            [
             0.5,
             "#f7f7f7"
            ],
            [
             0.6,
             "#e6f5d0"
            ],
            [
             0.7,
             "#b8e186"
            ],
            [
             0.8,
             "#7fbc41"
            ],
            [
             0.9,
             "#4d9221"
            ],
            [
             1,
             "#276419"
            ]
           ],
           "sequential": [
            [
             0,
             "#0d0887"
            ],
            [
             0.1111111111111111,
             "#46039f"
            ],
            [
             0.2222222222222222,
             "#7201a8"
            ],
            [
             0.3333333333333333,
             "#9c179e"
            ],
            [
             0.4444444444444444,
             "#bd3786"
            ],
            [
             0.5555555555555556,
             "#d8576b"
            ],
            [
             0.6666666666666666,
             "#ed7953"
            ],
            [
             0.7777777777777778,
             "#fb9f3a"
            ],
            [
             0.8888888888888888,
             "#fdca26"
            ],
            [
             1,
             "#f0f921"
            ]
           ],
           "sequentialminus": [
            [
             0,
             "#0d0887"
            ],
            [
             0.1111111111111111,
             "#46039f"
            ],
            [
             0.2222222222222222,
             "#7201a8"
            ],
            [
             0.3333333333333333,
             "#9c179e"
            ],
            [
             0.4444444444444444,
             "#bd3786"
            ],
            [
             0.5555555555555556,
             "#d8576b"
            ],
            [
             0.6666666666666666,
             "#ed7953"
            ],
            [
             0.7777777777777778,
             "#fb9f3a"
            ],
            [
             0.8888888888888888,
             "#fdca26"
            ],
            [
             1,
             "#f0f921"
            ]
           ]
          },
          "colorway": [
           "#636efa",
           "#EF553B",
           "#00cc96",
           "#ab63fa",
           "#FFA15A",
           "#19d3f3",
           "#FF6692",
           "#B6E880",
           "#FF97FF",
           "#FECB52"
          ],
          "font": {
           "color": "#2a3f5f"
          },
          "geo": {
           "bgcolor": "white",
           "lakecolor": "white",
           "landcolor": "#E5ECF6",
           "showlakes": true,
           "showland": true,
           "subunitcolor": "white"
          },
          "hoverlabel": {
           "align": "left"
          },
          "hovermode": "closest",
          "mapbox": {
           "style": "light"
          },
          "paper_bgcolor": "white",
          "plot_bgcolor": "#E5ECF6",
          "polar": {
           "angularaxis": {
            "gridcolor": "white",
            "linecolor": "white",
            "ticks": ""
           },
           "bgcolor": "#E5ECF6",
           "radialaxis": {
            "gridcolor": "white",
            "linecolor": "white",
            "ticks": ""
           }
          },
          "scene": {
           "xaxis": {
            "backgroundcolor": "#E5ECF6",
            "gridcolor": "white",
            "gridwidth": 2,
            "linecolor": "white",
            "showbackground": true,
            "ticks": "",
            "zerolinecolor": "white"
           },
           "yaxis": {
            "backgroundcolor": "#E5ECF6",
            "gridcolor": "white",
            "gridwidth": 2,
            "linecolor": "white",
            "showbackground": true,
            "ticks": "",
            "zerolinecolor": "white"
           },
           "zaxis": {
            "backgroundcolor": "#E5ECF6",
            "gridcolor": "white",
            "gridwidth": 2,
            "linecolor": "white",
            "showbackground": true,
            "ticks": "",
            "zerolinecolor": "white"
           }
          },
          "shapedefaults": {
           "line": {
            "color": "#2a3f5f"
           }
          },
          "ternary": {
           "aaxis": {
            "gridcolor": "white",
            "linecolor": "white",
            "ticks": ""
           },
           "baxis": {
            "gridcolor": "white",
            "linecolor": "white",
            "ticks": ""
           },
           "bgcolor": "#E5ECF6",
           "caxis": {
            "gridcolor": "white",
            "linecolor": "white",
            "ticks": ""
           }
          },
          "title": {
           "x": 0.05
          },
          "xaxis": {
           "automargin": true,
           "gridcolor": "white",
           "linecolor": "white",
           "ticks": "",
           "title": {
            "standoff": 15
           },
           "zerolinecolor": "white",
           "zerolinewidth": 2
          },
          "yaxis": {
           "automargin": true,
           "gridcolor": "white",
           "linecolor": "white",
           "ticks": "",
           "title": {
            "standoff": 15
           },
           "zerolinecolor": "white",
           "zerolinewidth": 2
          }
         }
        },
        "title": {
         "text": "Population Pyramid for Haiti"
        },
        "xaxis": {
         "tickformat": ",d",
         "title": {
          "text": "Population"
         }
        },
        "yaxis": {
         "title": {
          "text": "Age Group"
         }
        }
       }
      }
     },
     "metadata": {},
     "output_type": "display_data"
    }
   ],
   "source": [
    "animated_population_pyramid(population_df, \"Haiti\")"
   ]
  },
  {
   "cell_type": "markdown",
   "metadata": {},
   "source": [
    "# Population Maps"
   ]
  },
  {
   "cell_type": "markdown",
   "metadata": {},
   "source": [
    "### Topography of Hispaniola "
   ]
  },
  {
   "cell_type": "code",
   "execution_count": 11,
   "metadata": {},
   "outputs": [
    {
     "name": "stdout",
     "output_type": "stream",
     "text": [
      "Requirement already satisfied: rasterio in ./.venv/lib/python3.12/site-packages (1.4.3)\n",
      "Requirement already satisfied: affine in ./.venv/lib/python3.12/site-packages (from rasterio) (2.4.0)\n",
      "Requirement already satisfied: attrs in ./.venv/lib/python3.12/site-packages (from rasterio) (25.1.0)\n",
      "Requirement already satisfied: certifi in ./.venv/lib/python3.12/site-packages (from rasterio) (2024.12.14)\n",
      "Requirement already satisfied: click>=4.0 in ./.venv/lib/python3.12/site-packages (from rasterio) (8.1.8)\n",
      "Requirement already satisfied: cligj>=0.5 in ./.venv/lib/python3.12/site-packages (from rasterio) (0.7.2)\n",
      "Requirement already satisfied: numpy>=1.24 in ./.venv/lib/python3.12/site-packages (from rasterio) (2.2.2)\n",
      "Requirement already satisfied: click-plugins in ./.venv/lib/python3.12/site-packages (from rasterio) (1.1.1)\n",
      "Requirement already satisfied: pyparsing in ./.venv/lib/python3.12/site-packages (from rasterio) (3.2.1)\n",
      "\n",
      "\u001b[1m[\u001b[0m\u001b[34;49mnotice\u001b[0m\u001b[1;39;49m]\u001b[0m\u001b[39;49m A new release of pip is available: \u001b[0m\u001b[31;49m24.3.1\u001b[0m\u001b[39;49m -> \u001b[0m\u001b[32;49m25.0\u001b[0m\n",
      "\u001b[1m[\u001b[0m\u001b[34;49mnotice\u001b[0m\u001b[1;39;49m]\u001b[0m\u001b[39;49m To update, run: \u001b[0m\u001b[32;49mpip install --upgrade pip\u001b[0m\n",
      "Note: you may need to restart the kernel to use updated packages.\n"
     ]
    },
    {
     "data": {
      "image/png": "[encoded data removed]",
      "text/plain": [
       "<Figure size 1000x600 with 1 Axes>"
      ]
     },
     "metadata": {},
     "output_type": "display_data"
    }
   ],
   "source": [
    "%pip install rasterio\n",
    "\n",
    "from matplotlib.pyplot import show\n",
    "import matplotlib.pyplot as plt\n",
    "import rasterio\n",
    "import rasterio.plot\n",
    "import geopandas as gpd\n",
    "\n",
    "boundary_dom = gpd.read_file(\"gadm41_DOM_2.json\")\n",
    "\n",
    "\n",
    "boundary_hti = gpd.read_file(\"gadm41_HTI_2.json\")\n",
    "\n",
    "\n",
    "fig, ax = plt.subplots(figsize=(10, 6))\n",
    "topography_data = rasterio.open('hgt_files/mosaic_srtm.tif')\n",
    "\n",
    "rasterio.plot.show(\n",
    "    source=topography_data,\n",
    "    ax=ax,\n",
    "    cmap='viridis',\n",
    "    title = \"Elevation of Hispaniola\"\n",
    ")\n",
    "\n",
    "\n",
    "# -- Now overlay the boundaries\n",
    "boundary_dom.plot(ax=ax, facecolor='none', edgecolor='red',  linewidth=1)\n",
    "boundary_hti.plot(ax=ax, facecolor='none', edgecolor='blue', linewidth=1)\n",
    "\n",
    "plt.show()"
   ]
  },
  {
   "cell_type": "markdown",
   "metadata": {},
   "source": [
    "# Other Visualizations"
   ]
  },
  {
   "cell_type": "markdown",
   "metadata": {},
   "source": [
    "**Mortality Rate**"
   ]
  },
  {
   "cell_type": "code",
   "execution_count": 16,
   "metadata": {
    "scrolled": true
   },
   "outputs": [
    {
     "ename": "TypeError",
     "evalue": "'NoneType' object does not support item deletion",
     "output_type": "error",
     "traceback": [
      "\u001b[0;31m---------------------------------------------------------------------------\u001b[0m",
      "\u001b[0;31mTypeError\u001b[0m                                 Traceback (most recent call last)",
      "Cell \u001b[0;32mIn[16], line 6\u001b[0m\n\u001b[1;32m      1\u001b[0m pd\u001b[38;5;241m.\u001b[39moptions\u001b[38;5;241m.\u001b[39mplotting\u001b[38;5;241m.\u001b[39mbackend \u001b[38;5;241m=\u001b[39m \u001b[38;5;124m'\u001b[39m\u001b[38;5;124mplotly\u001b[39m\u001b[38;5;124m'\u001b[39m\n\u001b[1;32m      3\u001b[0m indicators \u001b[38;5;241m=\u001b[39m {\u001b[38;5;124m\"\u001b[39m\u001b[38;5;124mSP.DYN.AMRT.MA\u001b[39m\u001b[38;5;124m\"\u001b[39m: \u001b[38;5;124m\"\u001b[39m\u001b[38;5;124mMortality rate, adult, male (per 1,000 male adults)\u001b[39m\u001b[38;5;124m\"\u001b[39m,\n\u001b[1;32m      4\u001b[0m               \u001b[38;5;124m\"\u001b[39m\u001b[38;5;124mSP.DYN.AMRT.FE\u001b[39m\u001b[38;5;124m\"\u001b[39m: \u001b[38;5;124m\"\u001b[39m\u001b[38;5;124mMortality rate, adult, female (per 1,000 female adults)\u001b[39m\u001b[38;5;124m\"\u001b[39m}\n\u001b[0;32m----> 6\u001b[0m data \u001b[38;5;241m=\u001b[39m \u001b[43mwbdata\u001b[49m\u001b[38;5;241;43m.\u001b[39;49m\u001b[43mget_dataframe\u001b[49m\u001b[43m(\u001b[49m\u001b[43mindicators\u001b[49m\u001b[43m,\u001b[49m\u001b[43m \u001b[49m\u001b[43mcountry\u001b[49m\u001b[38;5;241;43m=\u001b[39;49m\u001b[38;5;124;43m\"\u001b[39;49m\u001b[38;5;124;43mHTI\u001b[39;49m\u001b[38;5;124;43m\"\u001b[39;49m\u001b[43m,\u001b[49m\u001b[43m \u001b[49m\u001b[43mparse_dates\u001b[49m\u001b[38;5;241;43m=\u001b[39;49m\u001b[38;5;28;43;01mTrue\u001b[39;49;00m\u001b[43m)\u001b[49m\n\u001b[1;32m      7\u001b[0m fig \u001b[38;5;241m=\u001b[39m data\u001b[38;5;241m.\u001b[39mplot(title\u001b[38;5;241m=\u001b[39m\u001b[38;5;124m\"\u001b[39m\u001b[38;5;124mMortality Rate (per 1,000 adults)\u001b[39m\u001b[38;5;124m\"\u001b[39m)\n\u001b[1;32m      8\u001b[0m fig\u001b[38;5;241m.\u001b[39mfor_each_trace(\u001b[38;5;28;01mlambda\u001b[39;00m t: t\u001b[38;5;241m.\u001b[39mupdate(name\u001b[38;5;241m=\u001b[39m\u001b[38;5;124m\"\u001b[39m\u001b[38;5;124mMales\u001b[39m\u001b[38;5;124m\"\u001b[39m) \u001b[38;5;28;01mif\u001b[39;00m t\u001b[38;5;241m.\u001b[39mname \u001b[38;5;241m==\u001b[39m indicators[\u001b[38;5;124m\"\u001b[39m\u001b[38;5;124mSP.DYN.AMRT.MA\u001b[39m\u001b[38;5;124m\"\u001b[39m] \u001b[38;5;28;01melse\u001b[39;00m t\u001b[38;5;241m.\u001b[39mupdate(name\u001b[38;5;241m=\u001b[39m\u001b[38;5;124m\"\u001b[39m\u001b[38;5;124mFemales\u001b[39m\u001b[38;5;124m\"\u001b[39m))\n",
      "File \u001b[0;32m~/Documents/GitHub/EEP153_Project1_TeamGaryBecker/.venv/lib/python3.12/site-packages/decorator.py:232\u001b[0m, in \u001b[0;36mdecorate.<locals>.fun\u001b[0;34m(*args, **kw)\u001b[0m\n\u001b[1;32m    230\u001b[0m \u001b[38;5;28;01mif\u001b[39;00m \u001b[38;5;129;01mnot\u001b[39;00m kwsyntax:\n\u001b[1;32m    231\u001b[0m     args, kw \u001b[38;5;241m=\u001b[39m fix(args, kw, sig)\n\u001b[0;32m--> 232\u001b[0m \u001b[38;5;28;01mreturn\u001b[39;00m \u001b[43mcaller\u001b[49m\u001b[43m(\u001b[49m\u001b[43mfunc\u001b[49m\u001b[43m,\u001b[49m\u001b[43m \u001b[49m\u001b[38;5;241;43m*\u001b[39;49m\u001b[43m(\u001b[49m\u001b[43mextras\u001b[49m\u001b[43m \u001b[49m\u001b[38;5;241;43m+\u001b[39;49m\u001b[43m \u001b[49m\u001b[43margs\u001b[49m\u001b[43m)\u001b[49m\u001b[43m,\u001b[49m\u001b[43m \u001b[49m\u001b[38;5;241;43m*\u001b[39;49m\u001b[38;5;241;43m*\u001b[39;49m\u001b[43mkw\u001b[49m\u001b[43m)\u001b[49m\n",
      "File \u001b[0;32m~/Documents/GitHub/EEP153_Project1_TeamGaryBecker/.venv/lib/python3.12/site-packages/wbdata/client.py:120\u001b[0m, in \u001b[0;36mneeds_pandas\u001b[0;34m(f, *args, **kwargs)\u001b[0m\n\u001b[1;32m    118\u001b[0m \u001b[38;5;28;01mif\u001b[39;00m pd \u001b[38;5;129;01mis\u001b[39;00m \u001b[38;5;28;01mNone\u001b[39;00m:\n\u001b[1;32m    119\u001b[0m     \u001b[38;5;28;01mraise\u001b[39;00m \u001b[38;5;167;01mRuntimeError\u001b[39;00m(\u001b[38;5;124mf\u001b[39m\u001b[38;5;124m\"\u001b[39m\u001b[38;5;132;01m{\u001b[39;00mf\u001b[38;5;241m.\u001b[39m\u001b[38;5;18m__name__\u001b[39m\u001b[38;5;132;01m}\u001b[39;00m\u001b[38;5;124m requires pandas\u001b[39m\u001b[38;5;124m\"\u001b[39m)\n\u001b[0;32m--> 120\u001b[0m \u001b[38;5;28;01mreturn\u001b[39;00m \u001b[43mf\u001b[49m\u001b[43m(\u001b[49m\u001b[38;5;241;43m*\u001b[39;49m\u001b[43margs\u001b[49m\u001b[43m,\u001b[49m\u001b[43m \u001b[49m\u001b[38;5;241;43m*\u001b[39;49m\u001b[38;5;241;43m*\u001b[39;49m\u001b[43mkwargs\u001b[49m\u001b[43m)\u001b[49m\n",
      "File \u001b[0;32m~/Documents/GitHub/EEP153_Project1_TeamGaryBecker/.venv/lib/python3.12/site-packages/wbdata/client.py:544\u001b[0m, in \u001b[0;36mClient.get_dataframe\u001b[0;34m(self, indicators, country, date, freq, source, parse_dates, keep_levels, skip_cache)\u001b[0m\n\u001b[1;32m    491\u001b[0m \u001b[38;5;129m@needs_pandas\u001b[39m\n\u001b[1;32m    492\u001b[0m \u001b[38;5;28;01mdef\u001b[39;00m\u001b[38;5;250m \u001b[39m\u001b[38;5;21mget_dataframe\u001b[39m(\n\u001b[1;32m    493\u001b[0m     \u001b[38;5;28mself\u001b[39m,\n\u001b[0;32m   (...)\u001b[0m\n\u001b[1;32m    506\u001b[0m     skip_cache: \u001b[38;5;28mbool\u001b[39m \u001b[38;5;241m=\u001b[39m \u001b[38;5;28;01mFalse\u001b[39;00m,\n\u001b[1;32m    507\u001b[0m ) \u001b[38;5;241m-\u001b[39m\u001b[38;5;241m>\u001b[39m DataFrame:\n\u001b[1;32m    508\u001b[0m \u001b[38;5;250m    \u001b[39m\u001b[38;5;124;03m\"\"\"\u001b[39;00m\n\u001b[1;32m    509\u001b[0m \u001b[38;5;124;03m    Download a set of indicators and  merge them into a pandas DataFrame.\u001b[39;00m\n\u001b[1;32m    510\u001b[0m \n\u001b[0;32m   (...)\u001b[0m\n\u001b[1;32m    540\u001b[0m \n\u001b[1;32m    541\u001b[0m \u001b[38;5;124;03m    \"\"\"\u001b[39;00m\n\u001b[1;32m    542\u001b[0m     df \u001b[38;5;241m=\u001b[39m DataFrame(\n\u001b[1;32m    543\u001b[0m         serieses\u001b[38;5;241m=\u001b[39m{\n\u001b[0;32m--> 544\u001b[0m             name: \u001b[38;5;28;43mself\u001b[39;49m\u001b[38;5;241;43m.\u001b[39;49m\u001b[43mget_series\u001b[49m\u001b[43m(\u001b[49m\n\u001b[1;32m    545\u001b[0m \u001b[43m                \u001b[49m\u001b[43mindicator\u001b[49m\u001b[38;5;241;43m=\u001b[39;49m\u001b[43mindicator\u001b[49m\u001b[43m,\u001b[49m\n\u001b[1;32m    546\u001b[0m \u001b[43m                \u001b[49m\u001b[43mcountry\u001b[49m\u001b[38;5;241;43m=\u001b[39;49m\u001b[43mcountry\u001b[49m\u001b[43m,\u001b[49m\n\u001b[1;32m    547\u001b[0m \u001b[43m                \u001b[49m\u001b[43mdate\u001b[49m\u001b[38;5;241;43m=\u001b[39;49m\u001b[43mdate\u001b[49m\u001b[43m,\u001b[49m\n\u001b[1;32m    548\u001b[0m \u001b[43m                \u001b[49m\u001b[43mfreq\u001b[49m\u001b[38;5;241;43m=\u001b[39;49m\u001b[43mfreq\u001b[49m\u001b[43m,\u001b[49m\n\u001b[1;32m    549\u001b[0m \u001b[43m                \u001b[49m\u001b[43msource\u001b[49m\u001b[38;5;241;43m=\u001b[39;49m\u001b[43msource\u001b[49m\u001b[43m,\u001b[49m\n\u001b[1;32m    550\u001b[0m \u001b[43m                \u001b[49m\u001b[43mparse_dates\u001b[49m\u001b[38;5;241;43m=\u001b[39;49m\u001b[43mparse_dates\u001b[49m\u001b[43m,\u001b[49m\n\u001b[1;32m    551\u001b[0m \u001b[43m                \u001b[49m\u001b[43mkeep_levels\u001b[49m\u001b[38;5;241;43m=\u001b[39;49m\u001b[38;5;28;43;01mTrue\u001b[39;49;00m\u001b[43m,\u001b[49m\n\u001b[1;32m    552\u001b[0m \u001b[43m                \u001b[49m\u001b[43mskip_cache\u001b[49m\u001b[38;5;241;43m=\u001b[39;49m\u001b[43mskip_cache\u001b[49m\u001b[43m,\u001b[49m\n\u001b[1;32m    553\u001b[0m \u001b[43m            \u001b[49m\u001b[43m)\u001b[49m\n\u001b[1;32m    554\u001b[0m             \u001b[38;5;28;01mfor\u001b[39;00m indicator, name \u001b[38;5;129;01min\u001b[39;00m indicators\u001b[38;5;241m.\u001b[39mitems()\n\u001b[1;32m    555\u001b[0m         }\n\u001b[1;32m    556\u001b[0m     )\n\u001b[1;32m    557\u001b[0m     \u001b[38;5;28;01mif\u001b[39;00m \u001b[38;5;129;01mnot\u001b[39;00m keep_levels \u001b[38;5;129;01mand\u001b[39;00m \u001b[38;5;28mlen\u001b[39m(\u001b[38;5;28mset\u001b[39m(df\u001b[38;5;241m.\u001b[39mindex\u001b[38;5;241m.\u001b[39mget_level_values(\u001b[38;5;241m0\u001b[39m))) \u001b[38;5;241m==\u001b[39m \u001b[38;5;241m1\u001b[39m:\n\u001b[1;32m    558\u001b[0m         df\u001b[38;5;241m.\u001b[39mindex \u001b[38;5;241m=\u001b[39m df\u001b[38;5;241m.\u001b[39mindex\u001b[38;5;241m.\u001b[39mdroplevel(\u001b[38;5;241m0\u001b[39m)\n",
      "File \u001b[0;32m~/Documents/GitHub/EEP153_Project1_TeamGaryBecker/.venv/lib/python3.12/site-packages/decorator.py:232\u001b[0m, in \u001b[0;36mdecorate.<locals>.fun\u001b[0;34m(*args, **kw)\u001b[0m\n\u001b[1;32m    230\u001b[0m \u001b[38;5;28;01mif\u001b[39;00m \u001b[38;5;129;01mnot\u001b[39;00m kwsyntax:\n\u001b[1;32m    231\u001b[0m     args, kw \u001b[38;5;241m=\u001b[39m fix(args, kw, sig)\n\u001b[0;32m--> 232\u001b[0m \u001b[38;5;28;01mreturn\u001b[39;00m \u001b[43mcaller\u001b[49m\u001b[43m(\u001b[49m\u001b[43mfunc\u001b[49m\u001b[43m,\u001b[49m\u001b[43m \u001b[49m\u001b[38;5;241;43m*\u001b[39;49m\u001b[43m(\u001b[49m\u001b[43mextras\u001b[49m\u001b[43m \u001b[49m\u001b[38;5;241;43m+\u001b[39;49m\u001b[43m \u001b[49m\u001b[43margs\u001b[49m\u001b[43m)\u001b[49m\u001b[43m,\u001b[49m\u001b[43m \u001b[49m\u001b[38;5;241;43m*\u001b[39;49m\u001b[38;5;241;43m*\u001b[39;49m\u001b[43mkw\u001b[49m\u001b[43m)\u001b[49m\n",
      "File \u001b[0;32m~/Documents/GitHub/EEP153_Project1_TeamGaryBecker/.venv/lib/python3.12/site-packages/wbdata/client.py:120\u001b[0m, in \u001b[0;36mneeds_pandas\u001b[0;34m(f, *args, **kwargs)\u001b[0m\n\u001b[1;32m    118\u001b[0m \u001b[38;5;28;01mif\u001b[39;00m pd \u001b[38;5;129;01mis\u001b[39;00m \u001b[38;5;28;01mNone\u001b[39;00m:\n\u001b[1;32m    119\u001b[0m     \u001b[38;5;28;01mraise\u001b[39;00m \u001b[38;5;167;01mRuntimeError\u001b[39;00m(\u001b[38;5;124mf\u001b[39m\u001b[38;5;124m\"\u001b[39m\u001b[38;5;132;01m{\u001b[39;00mf\u001b[38;5;241m.\u001b[39m\u001b[38;5;18m__name__\u001b[39m\u001b[38;5;132;01m}\u001b[39;00m\u001b[38;5;124m requires pandas\u001b[39m\u001b[38;5;124m\"\u001b[39m)\n\u001b[0;32m--> 120\u001b[0m \u001b[38;5;28;01mreturn\u001b[39;00m \u001b[43mf\u001b[49m\u001b[43m(\u001b[49m\u001b[38;5;241;43m*\u001b[39;49m\u001b[43margs\u001b[49m\u001b[43m,\u001b[49m\u001b[43m \u001b[49m\u001b[38;5;241;43m*\u001b[39;49m\u001b[38;5;241;43m*\u001b[39;49m\u001b[43mkwargs\u001b[49m\u001b[43m)\u001b[49m\n",
      "File \u001b[0;32m~/Documents/GitHub/EEP153_Project1_TeamGaryBecker/.venv/lib/python3.12/site-packages/wbdata/client.py:469\u001b[0m, in \u001b[0;36mClient.get_series\u001b[0;34m(self, indicator, country, date, freq, source, parse_dates, name, keep_levels, skip_cache)\u001b[0m\n\u001b[1;32m    418\u001b[0m \u001b[38;5;129m@needs_pandas\u001b[39m\n\u001b[1;32m    419\u001b[0m \u001b[38;5;28;01mdef\u001b[39;00m\u001b[38;5;250m \u001b[39m\u001b[38;5;21mget_series\u001b[39m(\n\u001b[1;32m    420\u001b[0m     \u001b[38;5;28mself\u001b[39m,\n\u001b[0;32m   (...)\u001b[0m\n\u001b[1;32m    434\u001b[0m     skip_cache: \u001b[38;5;28mbool\u001b[39m \u001b[38;5;241m=\u001b[39m \u001b[38;5;28;01mFalse\u001b[39;00m,\n\u001b[1;32m    435\u001b[0m ) \u001b[38;5;241m-\u001b[39m\u001b[38;5;241m>\u001b[39m Series:\n\u001b[1;32m    436\u001b[0m \u001b[38;5;250m    \u001b[39m\u001b[38;5;124;03m\"\"\"\u001b[39;00m\n\u001b[1;32m    437\u001b[0m \u001b[38;5;124;03m    Retrieve data for a single indicator as a pandas Series.\u001b[39;00m\n\u001b[1;32m    438\u001b[0m \n\u001b[0;32m   (...)\u001b[0m\n\u001b[1;32m    467\u001b[0m \u001b[38;5;124;03m            only have one value, the country level is dropped.\u001b[39;00m\n\u001b[1;32m    468\u001b[0m \u001b[38;5;124;03m    \"\"\"\u001b[39;00m\n\u001b[0;32m--> 469\u001b[0m     raw_data \u001b[38;5;241m=\u001b[39m \u001b[38;5;28;43mself\u001b[39;49m\u001b[38;5;241;43m.\u001b[39;49m\u001b[43mget_data\u001b[49m\u001b[43m(\u001b[49m\n\u001b[1;32m    470\u001b[0m \u001b[43m        \u001b[49m\u001b[43mindicator\u001b[49m\u001b[38;5;241;43m=\u001b[39;49m\u001b[43mindicator\u001b[49m\u001b[43m,\u001b[49m\n\u001b[1;32m    471\u001b[0m \u001b[43m        \u001b[49m\u001b[43mcountry\u001b[49m\u001b[38;5;241;43m=\u001b[39;49m\u001b[43mcountry\u001b[49m\u001b[43m,\u001b[49m\n\u001b[1;32m    472\u001b[0m \u001b[43m        \u001b[49m\u001b[43mdate\u001b[49m\u001b[38;5;241;43m=\u001b[39;49m\u001b[43mdate\u001b[49m\u001b[43m,\u001b[49m\n\u001b[1;32m    473\u001b[0m \u001b[43m        \u001b[49m\u001b[43mfreq\u001b[49m\u001b[38;5;241;43m=\u001b[39;49m\u001b[43mfreq\u001b[49m\u001b[43m,\u001b[49m\n\u001b[1;32m    474\u001b[0m \u001b[43m        \u001b[49m\u001b[43msource\u001b[49m\u001b[38;5;241;43m=\u001b[39;49m\u001b[43msource\u001b[49m\u001b[43m,\u001b[49m\n\u001b[1;32m    475\u001b[0m \u001b[43m        \u001b[49m\u001b[43mparse_dates\u001b[49m\u001b[38;5;241;43m=\u001b[39;49m\u001b[43mparse_dates\u001b[49m\u001b[43m,\u001b[49m\n\u001b[1;32m    476\u001b[0m \u001b[43m        \u001b[49m\u001b[43mskip_cache\u001b[49m\u001b[38;5;241;43m=\u001b[39;49m\u001b[43mskip_cache\u001b[49m\u001b[43m,\u001b[49m\n\u001b[1;32m    477\u001b[0m \u001b[43m    \u001b[49m\u001b[43m)\u001b[49m\n\u001b[1;32m    478\u001b[0m     df \u001b[38;5;241m=\u001b[39m pd\u001b[38;5;241m.\u001b[39mDataFrame(\n\u001b[1;32m    479\u001b[0m         [[i[\u001b[38;5;124m\"\u001b[39m\u001b[38;5;124mcountry\u001b[39m\u001b[38;5;124m\"\u001b[39m][\u001b[38;5;124m\"\u001b[39m\u001b[38;5;124mvalue\u001b[39m\u001b[38;5;124m\"\u001b[39m], i[\u001b[38;5;124m\"\u001b[39m\u001b[38;5;124mdate\u001b[39m\u001b[38;5;124m\"\u001b[39m], i[\u001b[38;5;124m\"\u001b[39m\u001b[38;5;124mvalue\u001b[39m\u001b[38;5;124m\"\u001b[39m]] \u001b[38;5;28;01mfor\u001b[39;00m i \u001b[38;5;129;01min\u001b[39;00m raw_data],\n\u001b[1;32m    480\u001b[0m         columns\u001b[38;5;241m=\u001b[39m[\u001b[38;5;124m\"\u001b[39m\u001b[38;5;124mcountry\u001b[39m\u001b[38;5;124m\"\u001b[39m, \u001b[38;5;124m\"\u001b[39m\u001b[38;5;124mdate\u001b[39m\u001b[38;5;124m\"\u001b[39m, name],\n\u001b[1;32m    481\u001b[0m     )\n\u001b[1;32m    482\u001b[0m     df[name] \u001b[38;5;241m=\u001b[39m df[name]\u001b[38;5;241m.\u001b[39mmap(_cast_float)\n",
      "File \u001b[0;32m~/Documents/GitHub/EEP153_Project1_TeamGaryBecker/.venv/lib/python3.12/site-packages/wbdata/client.py:228\u001b[0m, in \u001b[0;36mClient.get_data\u001b[0;34m(self, indicator, country, date, freq, source, parse_dates, skip_cache)\u001b[0m\n\u001b[1;32m    226\u001b[0m \u001b[38;5;28;01mif\u001b[39;00m source:\n\u001b[1;32m    227\u001b[0m     params[\u001b[38;5;124m\"\u001b[39m\u001b[38;5;124msource\u001b[39m\u001b[38;5;124m\"\u001b[39m] \u001b[38;5;241m=\u001b[39m source\n\u001b[0;32m--> 228\u001b[0m data \u001b[38;5;241m=\u001b[39m \u001b[38;5;28;43mself\u001b[39;49m\u001b[38;5;241;43m.\u001b[39;49m\u001b[43mfetcher\u001b[49m\u001b[38;5;241;43m.\u001b[39;49m\u001b[43mfetch\u001b[49m\u001b[43m(\u001b[49m\u001b[43murl\u001b[49m\u001b[38;5;241;43m=\u001b[39;49m\u001b[43murl\u001b[49m\u001b[43m,\u001b[49m\u001b[43m \u001b[49m\u001b[43mparams\u001b[49m\u001b[38;5;241;43m=\u001b[39;49m\u001b[43mparams\u001b[49m\u001b[43m,\u001b[49m\u001b[43m \u001b[49m\u001b[43mskip_cache\u001b[49m\u001b[38;5;241;43m=\u001b[39;49m\u001b[43mskip_cache\u001b[49m\u001b[43m)\u001b[49m\n\u001b[1;32m    229\u001b[0m \u001b[38;5;28;01mif\u001b[39;00m parse_dates:\n\u001b[1;32m    230\u001b[0m     dates\u001b[38;5;241m.\u001b[39mparse_row_dates(data)\n",
      "File \u001b[0;32m~/Documents/GitHub/EEP153_Project1_TeamGaryBecker/.venv/lib/python3.12/site-packages/wbdata/fetcher.py:155\u001b[0m, in \u001b[0;36mFetcher.fetch\u001b[0;34m(self, url, params, skip_cache)\u001b[0m\n\u001b[1;32m    153\u001b[0m rows: List[Dict[\u001b[38;5;28mstr\u001b[39m, Any]] \u001b[38;5;241m=\u001b[39m []\n\u001b[1;32m    154\u001b[0m \u001b[38;5;28;01mwhile\u001b[39;00m pages \u001b[38;5;241m!=\u001b[39m page:\n\u001b[0;32m--> 155\u001b[0m     response \u001b[38;5;241m=\u001b[39m \u001b[38;5;28;43mself\u001b[39;49m\u001b[38;5;241;43m.\u001b[39;49m\u001b[43m_get_response\u001b[49m\u001b[43m(\u001b[49m\n\u001b[1;32m    156\u001b[0m \u001b[43m        \u001b[49m\u001b[43murl\u001b[49m\u001b[38;5;241;43m=\u001b[39;49m\u001b[43murl\u001b[49m\u001b[43m,\u001b[49m\n\u001b[1;32m    157\u001b[0m \u001b[43m        \u001b[49m\u001b[43mparams\u001b[49m\u001b[38;5;241;43m=\u001b[39;49m\u001b[43mparams\u001b[49m\u001b[43m,\u001b[49m\n\u001b[1;32m    158\u001b[0m \u001b[43m        \u001b[49m\u001b[43mskip_cache\u001b[49m\u001b[38;5;241;43m=\u001b[39;49m\u001b[43mskip_cache\u001b[49m\u001b[43m,\u001b[49m\n\u001b[1;32m    159\u001b[0m \u001b[43m    \u001b[49m\u001b[43m)\u001b[49m\n\u001b[1;32m    160\u001b[0m     rows\u001b[38;5;241m.\u001b[39mextend(response\u001b[38;5;241m.\u001b[39mrows)\n\u001b[1;32m    161\u001b[0m     page, pages \u001b[38;5;241m=\u001b[39m response\u001b[38;5;241m.\u001b[39mpage, response\u001b[38;5;241m.\u001b[39mpages\n",
      "File \u001b[0;32m~/Documents/GitHub/EEP153_Project1_TeamGaryBecker/.venv/lib/python3.12/site-packages/wbdata/fetcher.py:128\u001b[0m, in \u001b[0;36mFetcher._get_response\u001b[0;34m(self, url, params, skip_cache)\u001b[0m\n\u001b[1;32m    126\u001b[0m \u001b[38;5;28;01melse\u001b[39;00m:\n\u001b[1;32m    127\u001b[0m     body \u001b[38;5;241m=\u001b[39m \u001b[38;5;28mself\u001b[39m\u001b[38;5;241m.\u001b[39m_get_response_body(url, params)\n\u001b[0;32m--> 128\u001b[0m     \u001b[38;5;28;43mself\u001b[39;49m\u001b[38;5;241;43m.\u001b[39;49m\u001b[43mcache\u001b[49m\u001b[43m[\u001b[49m\u001b[43mkey\u001b[49m\u001b[43m]\u001b[49m \u001b[38;5;241m=\u001b[39m body\n\u001b[1;32m    129\u001b[0m \u001b[38;5;28;01mreturn\u001b[39;00m ParsedResponse\u001b[38;5;241m.\u001b[39mfrom_response(\u001b[38;5;28mtuple\u001b[39m(json\u001b[38;5;241m.\u001b[39mloads(body)))\n",
      "File \u001b[0;32m~/Documents/GitHub/EEP153_Project1_TeamGaryBecker/.venv/lib/python3.12/site-packages/shelved_cache/persistent_cache.py:92\u001b[0m, in \u001b[0;36mPersistentCache.__setitem__\u001b[0;34m(self, key, value)\u001b[0m\n\u001b[1;32m     90\u001b[0m     \u001b[38;5;28mself\u001b[39m\u001b[38;5;241m.\u001b[39mpersistent_dict[hkey] \u001b[38;5;241m=\u001b[39m (key, value)\n\u001b[1;32m     91\u001b[0m     \u001b[38;5;28mself\u001b[39m\u001b[38;5;241m.\u001b[39mpersistent_dict\u001b[38;5;241m.\u001b[39msync()\n\u001b[0;32m---> 92\u001b[0m \u001b[38;5;28;43mself\u001b[39;49m\u001b[38;5;241;43m.\u001b[39;49m\u001b[43mwrapped\u001b[49m\u001b[43m[\u001b[49m\u001b[43mkey\u001b[49m\u001b[43m]\u001b[49m \u001b[38;5;241m=\u001b[39m value\n",
      "File \u001b[0;32m~/Documents/GitHub/EEP153_Project1_TeamGaryBecker/.venv/lib/python3.12/site-packages/cachetools/__init__.py:425\u001b[0m, in \u001b[0;36mTTLCache.__setitem__\u001b[0;34m(self, key, value, cache_setitem)\u001b[0m\n\u001b[1;32m    423\u001b[0m \u001b[38;5;28;01mwith\u001b[39;00m \u001b[38;5;28mself\u001b[39m\u001b[38;5;241m.\u001b[39mtimer \u001b[38;5;28;01mas\u001b[39;00m time:\n\u001b[1;32m    424\u001b[0m     \u001b[38;5;28mself\u001b[39m\u001b[38;5;241m.\u001b[39mexpire(time)\n\u001b[0;32m--> 425\u001b[0m     \u001b[43mcache_setitem\u001b[49m\u001b[43m(\u001b[49m\u001b[38;5;28;43mself\u001b[39;49m\u001b[43m,\u001b[49m\u001b[43m \u001b[49m\u001b[43mkey\u001b[49m\u001b[43m,\u001b[49m\u001b[43m \u001b[49m\u001b[43mvalue\u001b[49m\u001b[43m)\u001b[49m\n\u001b[1;32m    426\u001b[0m \u001b[38;5;28;01mtry\u001b[39;00m:\n\u001b[1;32m    427\u001b[0m     link \u001b[38;5;241m=\u001b[39m \u001b[38;5;28mself\u001b[39m\u001b[38;5;241m.\u001b[39m__getlink(key)\n",
      "File \u001b[0;32m~/Documents/GitHub/EEP153_Project1_TeamGaryBecker/.venv/lib/python3.12/site-packages/cachetools/__init__.py:78\u001b[0m, in \u001b[0;36mCache.__setitem__\u001b[0;34m(self, key, value)\u001b[0m\n\u001b[1;32m     76\u001b[0m \u001b[38;5;28;01mif\u001b[39;00m key \u001b[38;5;129;01mnot\u001b[39;00m \u001b[38;5;129;01min\u001b[39;00m \u001b[38;5;28mself\u001b[39m\u001b[38;5;241m.\u001b[39m__data \u001b[38;5;129;01mor\u001b[39;00m \u001b[38;5;28mself\u001b[39m\u001b[38;5;241m.\u001b[39m__size[key] \u001b[38;5;241m<\u001b[39m size:\n\u001b[1;32m     77\u001b[0m     \u001b[38;5;28;01mwhile\u001b[39;00m \u001b[38;5;28mself\u001b[39m\u001b[38;5;241m.\u001b[39m__currsize \u001b[38;5;241m+\u001b[39m size \u001b[38;5;241m>\u001b[39m maxsize:\n\u001b[0;32m---> 78\u001b[0m         \u001b[38;5;28;43mself\u001b[39;49m\u001b[38;5;241;43m.\u001b[39;49m\u001b[43mpopitem\u001b[49m\u001b[43m(\u001b[49m\u001b[43m)\u001b[49m\n\u001b[1;32m     79\u001b[0m \u001b[38;5;28;01mif\u001b[39;00m key \u001b[38;5;129;01min\u001b[39;00m \u001b[38;5;28mself\u001b[39m\u001b[38;5;241m.\u001b[39m__data:\n\u001b[1;32m     80\u001b[0m     diffsize \u001b[38;5;241m=\u001b[39m size \u001b[38;5;241m-\u001b[39m \u001b[38;5;28mself\u001b[39m\u001b[38;5;241m.\u001b[39m__size[key]\n",
      "File \u001b[0;32m~/Documents/GitHub/EEP153_Project1_TeamGaryBecker/.venv/lib/python3.12/site-packages/cachetools/__init__.py:503\u001b[0m, in \u001b[0;36mTTLCache.popitem\u001b[0;34m(self)\u001b[0m\n\u001b[1;32m    501\u001b[0m     \u001b[38;5;28;01mraise\u001b[39;00m \u001b[38;5;167;01mKeyError\u001b[39;00m(\u001b[38;5;124m\"\u001b[39m\u001b[38;5;132;01m%s\u001b[39;00m\u001b[38;5;124m is empty\u001b[39m\u001b[38;5;124m\"\u001b[39m \u001b[38;5;241m%\u001b[39m \u001b[38;5;28mtype\u001b[39m(\u001b[38;5;28mself\u001b[39m)\u001b[38;5;241m.\u001b[39m\u001b[38;5;18m__name__\u001b[39m) \u001b[38;5;28;01mfrom\u001b[39;00m\u001b[38;5;250m \u001b[39m\u001b[38;5;28;01mNone\u001b[39;00m\n\u001b[1;32m    502\u001b[0m \u001b[38;5;28;01melse\u001b[39;00m:\n\u001b[0;32m--> 503\u001b[0m     \u001b[38;5;28;01mreturn\u001b[39;00m (key, \u001b[38;5;28;43mself\u001b[39;49m\u001b[38;5;241;43m.\u001b[39;49m\u001b[43mpop\u001b[49m\u001b[43m(\u001b[49m\u001b[43mkey\u001b[49m\u001b[43m)\u001b[49m)\n",
      "File \u001b[0;32m~/Documents/GitHub/EEP153_Project1_TeamGaryBecker/.venv/lib/python3.12/site-packages/cachetools/__init__.py:369\u001b[0m, in \u001b[0;36m_TimedCache.pop\u001b[0;34m(self, *args, **kwargs)\u001b[0m\n\u001b[1;32m    367\u001b[0m \u001b[38;5;28;01mdef\u001b[39;00m\u001b[38;5;250m \u001b[39m\u001b[38;5;21mpop\u001b[39m(\u001b[38;5;28mself\u001b[39m, \u001b[38;5;241m*\u001b[39margs, \u001b[38;5;241m*\u001b[39m\u001b[38;5;241m*\u001b[39mkwargs):\n\u001b[1;32m    368\u001b[0m     \u001b[38;5;28;01mwith\u001b[39;00m \u001b[38;5;28mself\u001b[39m\u001b[38;5;241m.\u001b[39m__timer:\n\u001b[0;32m--> 369\u001b[0m         \u001b[38;5;28;01mreturn\u001b[39;00m \u001b[43mCache\u001b[49m\u001b[38;5;241;43m.\u001b[39;49m\u001b[43mpop\u001b[49m\u001b[43m(\u001b[49m\u001b[38;5;28;43mself\u001b[39;49m\u001b[43m,\u001b[49m\u001b[43m \u001b[49m\u001b[38;5;241;43m*\u001b[39;49m\u001b[43margs\u001b[49m\u001b[43m,\u001b[49m\u001b[43m \u001b[49m\u001b[38;5;241;43m*\u001b[39;49m\u001b[38;5;241;43m*\u001b[39;49m\u001b[43mkwargs\u001b[49m\u001b[43m)\u001b[49m\n",
      "File \u001b[0;32m~/Documents/GitHub/EEP153_Project1_TeamGaryBecker/.venv/lib/python3.12/site-packages/cachetools/__init__.py:113\u001b[0m, in \u001b[0;36mCache.pop\u001b[0;34m(self, key, default)\u001b[0m\n\u001b[1;32m    111\u001b[0m \u001b[38;5;28;01mif\u001b[39;00m key \u001b[38;5;129;01min\u001b[39;00m \u001b[38;5;28mself\u001b[39m:\n\u001b[1;32m    112\u001b[0m     value \u001b[38;5;241m=\u001b[39m \u001b[38;5;28mself\u001b[39m[key]\n\u001b[0;32m--> 113\u001b[0m     \u001b[38;5;28;01mdel\u001b[39;00m \u001b[38;5;28;43mself\u001b[39;49m\u001b[43m[\u001b[49m\u001b[43mkey\u001b[49m\u001b[43m]\u001b[49m\n\u001b[1;32m    114\u001b[0m \u001b[38;5;28;01melif\u001b[39;00m default \u001b[38;5;129;01mis\u001b[39;00m \u001b[38;5;28mself\u001b[39m\u001b[38;5;241m.\u001b[39m__marker:\n\u001b[1;32m    115\u001b[0m     \u001b[38;5;28;01mraise\u001b[39;00m \u001b[38;5;167;01mKeyError\u001b[39;00m(key)\n",
      "File \u001b[0;32m~/Documents/GitHub/EEP153_Project1_TeamGaryBecker/.venv/lib/python3.12/site-packages/shelved_cache/persistent_cache.py:25\u001b[0m, in \u001b[0;36mDelMixin.__delitem__\u001b[0;34m(self, key)\u001b[0m\n\u001b[1;32m     23\u001b[0m \u001b[38;5;28;01mdef\u001b[39;00m\u001b[38;5;250m \u001b[39m\u001b[38;5;21m__delitem__\u001b[39m(\u001b[38;5;28mself\u001b[39m, key):\n\u001b[1;32m     24\u001b[0m     \u001b[38;5;28msuper\u001b[39m()\u001b[38;5;241m.\u001b[39m\u001b[38;5;21m__delitem__\u001b[39m(key)\n\u001b[0;32m---> 25\u001b[0m     \u001b[38;5;28;43mself\u001b[39;49m\u001b[38;5;241;43m.\u001b[39;49m\u001b[43mdelete_callback\u001b[49m\u001b[43m(\u001b[49m\u001b[43mkey\u001b[49m\u001b[43m)\u001b[49m\n",
      "File \u001b[0;32m~/Documents/GitHub/EEP153_Project1_TeamGaryBecker/.venv/lib/python3.12/site-packages/shelved_cache/persistent_cache.py:78\u001b[0m, in \u001b[0;36mPersistentCache.delete_callback\u001b[0;34m(self, key)\u001b[0m\n\u001b[1;32m     76\u001b[0m hkey \u001b[38;5;241m=\u001b[39m \u001b[38;5;28mself\u001b[39m\u001b[38;5;241m.\u001b[39mhash_key(key)\n\u001b[1;32m     77\u001b[0m \u001b[38;5;28;01mtry\u001b[39;00m:\n\u001b[0;32m---> 78\u001b[0m     \u001b[38;5;28;01mdel\u001b[39;00m \u001b[38;5;28;43mself\u001b[39;49m\u001b[38;5;241;43m.\u001b[39;49m\u001b[43mpersistent_dict\u001b[49m\u001b[43m[\u001b[49m\u001b[43mhkey\u001b[49m\u001b[43m]\u001b[49m\n\u001b[1;32m     79\u001b[0m \u001b[38;5;28;01mexcept\u001b[39;00m \u001b[38;5;167;01mKeyError\u001b[39;00m:\n\u001b[1;32m     80\u001b[0m     logger\u001b[38;5;241m.\u001b[39mwarning(\u001b[38;5;124mf\u001b[39m\u001b[38;5;124m\"\u001b[39m\u001b[38;5;124mKey \u001b[39m\u001b[38;5;124m'\u001b[39m\u001b[38;5;132;01m{\u001b[39;00mhkey\u001b[38;5;132;01m}\u001b[39;00m\u001b[38;5;124m'\u001b[39m\u001b[38;5;124m not in persistent cache.\u001b[39m\u001b[38;5;124m\"\u001b[39m)\n",
      "\u001b[0;31mTypeError\u001b[0m: 'NoneType' object does not support item deletion"
     ]
    }
   ],
   "source": [
    "pd.options.plotting.backend = 'plotly'\n",
    "\n",
    "indicators = {\"SP.DYN.AMRT.MA\": \"Mortality rate, adult, male (per 1,000 male adults)\",\n",
    "              \"SP.DYN.AMRT.FE\": \"Mortality rate, adult, female (per 1,000 female adults)\"}\n",
    "\n",
    "data = wbdata.get_dataframe(indicators, country=\"HTI\", parse_dates=True)\n",
    "fig = data.plot(title=\"Mortality Rate (per 1,000 adults)\")\n",
    "fig.for_each_trace(lambda t: t.update(name=\"Males\") if t.name == indicators[\"SP.DYN.AMRT.MA\"] else t.update(name=\"Females\"))\n",
    "fig.show()"
   ]
  },
  {
   "cell_type": "markdown",
   "metadata": {},
   "source": [
    "**Crude Death Rate**"
   ]
  },
  {
   "cell_type": "code",
   "execution_count": 17,
   "metadata": {},
   "outputs": [
    {
     "data": {
      "application/vnd.plotly.v1+json": {
       "config": {
        "plotlyServerURL": "https://plot.ly"
       },
       "data": [
        {
         "hovertemplate": "variable=Death rate, crude (per 1,000 people)<br>Year=%{x}<br>Rate=%{y}<extra></extra>",
         "legendgroup": "Death rate, crude (per 1,000 people)",
         "line": {
          "color": "#636efa",
          "dash": "solid"
         },
         "marker": {
          "symbol": "circle"
         },
         "mode": "lines",
         "name": "Death rate, crude (per 1,000 people)",
         "orientation": "v",
         "showlegend": true,
         "type": "scatter",
         "x": [
          "2023-01-01T00:00:00.000000000",
          "2022-01-01T00:00:00.000000000",
          "2021-01-01T00:00:00.000000000",
          "2020-01-01T00:00:00.000000000",
          "2019-01-01T00:00:00.000000000",
          "2018-01-01T00:00:00.000000000",
          "2017-01-01T00:00:00.000000000",
          "2016-01-01T00:00:00.000000000",
          "2015-01-01T00:00:00.000000000",
          "2014-01-01T00:00:00.000000000",
          "2013-01-01T00:00:00.000000000",
          "2012-01-01T00:00:00.000000000",
          "2011-01-01T00:00:00.000000000",
          "2010-01-01T00:00:00.000000000",
          "2009-01-01T00:00:00.000000000",
          "2008-01-01T00:00:00.000000000",
          "2007-01-01T00:00:00.000000000",
          "2006-01-01T00:00:00.000000000",
          "2005-01-01T00:00:00.000000000",
          "2004-01-01T00:00:00.000000000",
          "2003-01-01T00:00:00.000000000",
          "2002-01-01T00:00:00.000000000",
          "2001-01-01T00:00:00.000000000",
          "2000-01-01T00:00:00.000000000",
          "1999-01-01T00:00:00.000000000",
          "1998-01-01T00:00:00.000000000",
          "1997-01-01T00:00:00.000000000",
          "1996-01-01T00:00:00.000000000",
          "1995-01-01T00:00:00.000000000",
          "1994-01-01T00:00:00.000000000",
          "1993-01-01T00:00:00.000000000",
          "1992-01-01T00:00:00.000000000",
          "1991-01-01T00:00:00.000000000",
          "1990-01-01T00:00:00.000000000",
          "1989-01-01T00:00:00.000000000",
          "1988-01-01T00:00:00.000000000",
          "1987-01-01T00:00:00.000000000",
          "1986-01-01T00:00:00.000000000",
          "1985-01-01T00:00:00.000000000",
          "1984-01-01T00:00:00.000000000",
          "1983-01-01T00:00:00.000000000",
          "1982-01-01T00:00:00.000000000",
          "1981-01-01T00:00:00.000000000",
          "1980-01-01T00:00:00.000000000",
          "1979-01-01T00:00:00.000000000",
          "1978-01-01T00:00:00.000000000",
          "1977-01-01T00:00:00.000000000",
          "1976-01-01T00:00:00.000000000",
          "1975-01-01T00:00:00.000000000",
          "1974-01-01T00:00:00.000000000",
          "1973-01-01T00:00:00.000000000",
          "1972-01-01T00:00:00.000000000",
          "1971-01-01T00:00:00.000000000",
          "1970-01-01T00:00:00.000000000",
          "1969-01-01T00:00:00.000000000",
          "1968-01-01T00:00:00.000000000",
          "1967-01-01T00:00:00.000000000",
          "1966-01-01T00:00:00.000000000",
          "1965-01-01T00:00:00.000000000",
          "1964-01-01T00:00:00.000000000",
          "1963-01-01T00:00:00.000000000",
          "1962-01-01T00:00:00.000000000",
          "1961-01-01T00:00:00.000000000",
          "1960-01-01T00:00:00.000000000"
         ],
         "xaxis": "x",
         "y": {
          "bdata": "AAAAAAAA+H/2KFyPwvUgQCcxCKwcWiFAJzEIrBxaIEAdWmQ7388fQMuhRbbz/R9AukkMAisHIEDfT42XblIgQOkmMQisXCBAI9v5fmp8IECNl24Sg8AgQEa28/3U+CBAoBov3SSGIUCwcmiR7bwxQKRwPQrXYyFA2/l+ary0IUA5tMh2vt8hQF66SQwCKyJA7nw/NV56IkCR7Xw/NV4kQFTjpZvEYCNAsp3vp8YLJEDufD81XnokQDvfT42XriRAVOOlm8QgJUCyne+nxgsmQJhuEoPAyiZAsp3vp8ZLJ0CiRbbz/RQoQLByaJHtPClAUI2XbhLDKUB1kxgEVo4qQAIrhxbZTitAAiuHFtkOLEA9CtejcH0sQFpkO99PzSxAnMQgsHJoLUDByqFFtvMtQJ7vp8ZLdy5Asp3vp8YLL0AQWDm0yHYvQOOlm8Qg8C9A2c73U+MlMEA5tMh2vl8wQKjGSzeJgTBAarx0kxikMEBzaJHtfL8wQAisHFpk2zBAmpmZmZn5MEBkO99PjRcxQJ7vp8ZLNzFAHVpkO99vMUBvEoPAyqExQHWTGARW7jFA/Knx0k1CMkAv3SQGgZUyQPCnxks36TJAYOXQIttZM0Bg5dAi25kzQHE9Ctej8DNAexSuR+GaNUBaZDvfT400QFCNl24S4zRAF9nO91NDNUA=",
          "dtype": "f8"
         },
         "yaxis": "y"
        }
       ],
       "layout": {
        "legend": {
         "title": {
          "text": "variable"
         },
         "tracegroupgap": 0
        },
        "showlegend": false,
        "template": {
         "data": {
          "bar": [
           {
            "error_x": {
             "color": "#2a3f5f"
            },
            "error_y": {
             "color": "#2a3f5f"
            },
            "marker": {
             "line": {
              "color": "#E5ECF6",
              "width": 0.5
             },
             "pattern": {
              "fillmode": "overlay",
              "size": 10,
              "solidity": 0.2
             }
            },
            "type": "bar"
           }
          ],
          "barpolar": [
           {
            "marker": {
             "line": {
              "color": "#E5ECF6",
              "width": 0.5
             },
             "pattern": {
              "fillmode": "overlay",
              "size": 10,
              "solidity": 0.2
             }
            },
            "type": "barpolar"
           }
          ],
          "carpet": [
           {
            "aaxis": {
             "endlinecolor": "#2a3f5f",
             "gridcolor": "white",
             "linecolor": "white",
             "minorgridcolor": "white",
             "startlinecolor": "#2a3f5f"
            },
            "baxis": {
             "endlinecolor": "#2a3f5f",
             "gridcolor": "white",
             "linecolor": "white",
             "minorgridcolor": "white",
             "startlinecolor": "#2a3f5f"
            },
            "type": "carpet"
           }
          ],
          "choropleth": [
           {
            "colorbar": {
             "outlinewidth": 0,
             "ticks": ""
            },
            "type": "choropleth"
           }
          ],
          "contour": [
           {
            "colorbar": {
             "outlinewidth": 0,
             "ticks": ""
            },
            "colorscale": [
             [
              0,
              "#0d0887"
             ],
             [
              0.1111111111111111,
              "#46039f"
             ],
             [
              0.2222222222222222,
              "#7201a8"
             ],
             [
              0.3333333333333333,
              "#9c179e"
             ],
             [
              0.4444444444444444,
              "#bd3786"
             ],
             [
              0.5555555555555556,
              "#d8576b"
             ],
             [
              0.6666666666666666,
              "#ed7953"
             ],
             [
              0.7777777777777778,
              "#fb9f3a"
             ],
             [
              0.8888888888888888,
              "#fdca26"
             ],
             [
              1,
              "#f0f921"
             ]
            ],
            "type": "contour"
           }
          ],
          "contourcarpet": [
           {
            "colorbar": {
             "outlinewidth": 0,
             "ticks": ""
            },
            "type": "contourcarpet"
           }
          ],
          "heatmap": [
           {
            "colorbar": {
             "outlinewidth": 0,
             "ticks": ""
            },
            "colorscale": [
             [
              0,
              "#0d0887"
             ],
             [
              0.1111111111111111,
              "#46039f"
             ],
             [
              0.2222222222222222,
              "#7201a8"
             ],
             [
              0.3333333333333333,
              "#9c179e"
             ],
             [
              0.4444444444444444,
              "#bd3786"
             ],
             [
              0.5555555555555556,
              "#d8576b"
             ],
             [
              0.6666666666666666,
              "#ed7953"
             ],
             [
              0.7777777777777778,
              "#fb9f3a"
             ],
             [
              0.8888888888888888,
              "#fdca26"
             ],
             [
              1,
              "#f0f921"
             ]
            ],
            "type": "heatmap"
           }
          ],
          "histogram": [
           {
            "marker": {
             "pattern": {
              "fillmode": "overlay",
              "size": 10,
              "solidity": 0.2
             }
            },
            "type": "histogram"
           }
          ],
          "histogram2d": [
           {
            "colorbar": {
             "outlinewidth": 0,
             "ticks": ""
            },
            "colorscale": [
             [
              0,
              "#0d0887"
             ],
             [
              0.1111111111111111,
              "#46039f"
             ],
             [
              0.2222222222222222,
              "#7201a8"
             ],
             [
              0.3333333333333333,
              "#9c179e"
             ],
             [
              0.4444444444444444,
              "#bd3786"
             ],
             [
              0.5555555555555556,
              "#d8576b"
             ],
             [
              0.6666666666666666,
              "#ed7953"
             ],
             [
              0.7777777777777778,
              "#fb9f3a"
             ],
             [
              0.8888888888888888,
              "#fdca26"
             ],
             [
              1,
              "#f0f921"
             ]
            ],
            "type": "histogram2d"
           }
          ],
          "histogram2dcontour": [
           {
            "colorbar": {
             "outlinewidth": 0,
             "ticks": ""
            },
            "colorscale": [
             [
              0,
              "#0d0887"
             ],
             [
              0.1111111111111111,
              "#46039f"
             ],
             [
              0.2222222222222222,
              "#7201a8"
             ],
             [
              0.3333333333333333,
              "#9c179e"
             ],
             [
              0.4444444444444444,
              "#bd3786"
             ],
             [
              0.5555555555555556,
              "#d8576b"
             ],
             [
              0.6666666666666666,
              "#ed7953"
             ],
             [
              0.7777777777777778,
              "#fb9f3a"
             ],
             [
              0.8888888888888888,
              "#fdca26"
             ],
             [
              1,
              "#f0f921"
             ]
            ],
            "type": "histogram2dcontour"
           }
          ],
          "mesh3d": [
           {
            "colorbar": {
             "outlinewidth": 0,
             "ticks": ""
            },
            "type": "mesh3d"
           }
          ],
          "parcoords": [
           {
            "line": {
             "colorbar": {
              "outlinewidth": 0,
              "ticks": ""
             }
            },
            "type": "parcoords"
           }
          ],
          "pie": [
           {
            "automargin": true,
            "type": "pie"
           }
          ],
          "scatter": [
           {
            "fillpattern": {
             "fillmode": "overlay",
             "size": 10,
             "solidity": 0.2
            },
            "type": "scatter"
           }
          ],
          "scatter3d": [
           {
            "line": {
             "colorbar": {
              "outlinewidth": 0,
              "ticks": ""
             }
            },
            "marker": {
             "colorbar": {
              "outlinewidth": 0,
              "ticks": ""
             }
            },
            "type": "scatter3d"
           }
          ],
          "scattercarpet": [
           {
            "marker": {
             "colorbar": {
              "outlinewidth": 0,
              "ticks": ""
             }
            },
            "type": "scattercarpet"
           }
          ],
          "scattergeo": [
           {
            "marker": {
             "colorbar": {
              "outlinewidth": 0,
              "ticks": ""
             }
            },
            "type": "scattergeo"
           }
          ],
          "scattergl": [
           {
            "marker": {
             "colorbar": {
              "outlinewidth": 0,
              "ticks": ""
             }
            },
            "type": "scattergl"
           }
          ],
          "scattermap": [
           {
            "marker": {
             "colorbar": {
              "outlinewidth": 0,
              "ticks": ""
             }
            },
            "type": "scattermap"
           }
          ],
          "scattermapbox": [
           {
            "marker": {
             "colorbar": {
              "outlinewidth": 0,
              "ticks": ""
             }
            },
            "type": "scattermapbox"
           }
          ],
          "scatterpolar": [
           {
            "marker": {
             "colorbar": {
              "outlinewidth": 0,
              "ticks": ""
             }
            },
            "type": "scatterpolar"
           }
          ],
          "scatterpolargl": [
           {
            "marker": {
             "colorbar": {
              "outlinewidth": 0,
              "ticks": ""
             }
            },
            "type": "scatterpolargl"
           }
          ],
          "scatterternary": [
           {
            "marker": {
             "colorbar": {
              "outlinewidth": 0,
              "ticks": ""
             }
            },
            "type": "scatterternary"
           }
          ],
          "surface": [
           {
            "colorbar": {
             "outlinewidth": 0,
             "ticks": ""
            },
            "colorscale": [
             [
              0,
              "#0d0887"
             ],
             [
              0.1111111111111111,
              "#46039f"
             ],
             [
              0.2222222222222222,
              "#7201a8"
             ],
             [
              0.3333333333333333,
              "#9c179e"
             ],
             [
              0.4444444444444444,
              "#bd3786"
             ],
             [
              0.5555555555555556,
              "#d8576b"
             ],
             [
              0.6666666666666666,
              "#ed7953"
             ],
             [
              0.7777777777777778,
              "#fb9f3a"
             ],
             [
              0.8888888888888888,
              "#fdca26"
             ],
             [
              1,
              "#f0f921"
             ]
            ],
            "type": "surface"
           }
          ],
          "table": [
           {
            "cells": {
             "fill": {
              "color": "#EBF0F8"
             },
             "line": {
              "color": "white"
             }
            },
            "header": {
             "fill": {
              "color": "#C8D4E3"
             },
             "line": {
              "color": "white"
             }
            },
            "type": "table"
           }
          ]
         },
         "layout": {
          "annotationdefaults": {
           "arrowcolor": "#2a3f5f",
           "arrowhead": 0,
           "arrowwidth": 1
          },
          "autotypenumbers": "strict",
          "coloraxis": {
           "colorbar": {
            "outlinewidth": 0,
            "ticks": ""
           }
          },
          "colorscale": {
           "diverging": [
            [
             0,
             "#8e0152"
            ],
            [
             0.1,
             "#c51b7d"
            ],
            [
             0.2,
             "#de77ae"
            ],
            [
             0.3,
             "#f1b6da"
            ],
            [
             0.4,
             "#fde0ef"
            ],
            [
             0.5,
             "#f7f7f7"
            ],
            [
             0.6,
             "#e6f5d0"
            ],
            [
             0.7,
             "#b8e186"
            ],
            [
             0.8,
             "#7fbc41"
            ],
            [
             0.9,
             "#4d9221"
            ],
            [
             1,
             "#276419"
            ]
           ],
           "sequential": [
            [
             0,
             "#0d0887"
            ],
            [
             0.1111111111111111,
             "#46039f"
            ],
            [
             0.2222222222222222,
             "#7201a8"
            ],
            [
             0.3333333333333333,
             "#9c179e"
            ],
            [
             0.4444444444444444,
             "#bd3786"
            ],
            [
             0.5555555555555556,
             "#d8576b"
            ],
            [
             0.6666666666666666,
             "#ed7953"
            ],
            [
             0.7777777777777778,
             "#fb9f3a"
            ],
            [
             0.8888888888888888,
             "#fdca26"
            ],
            [
             1,
             "#f0f921"
            ]
           ],
           "sequentialminus": [
            [
             0,
             "#0d0887"
            ],
            [
             0.1111111111111111,
             "#46039f"
            ],
            [
             0.2222222222222222,
             "#7201a8"
            ],
            [
             0.3333333333333333,
             "#9c179e"
            ],
            [
             0.4444444444444444,
             "#bd3786"
            ],
            [
             0.5555555555555556,
             "#d8576b"
            ],
            [
             0.6666666666666666,
             "#ed7953"
            ],
            [
             0.7777777777777778,
             "#fb9f3a"
            ],
            [
             0.8888888888888888,
             "#fdca26"
            ],
            [
             1,
             "#f0f921"
            ]
           ]
          },
          "colorway": [
           "#636efa",
           "#EF553B",
           "#00cc96",
           "#ab63fa",
           "#FFA15A",
           "#19d3f3",
           "#FF6692",
           "#B6E880",
           "#FF97FF",
           "#FECB52"
          ],
          "font": {
           "color": "#2a3f5f"
          },
          "geo": {
           "bgcolor": "white",
           "lakecolor": "white",
           "landcolor": "#E5ECF6",
           "showlakes": true,
           "showland": true,
           "subunitcolor": "white"
          },
          "hoverlabel": {
           "align": "left"
          },
          "hovermode": "closest",
          "mapbox": {
           "style": "light"
          },
          "paper_bgcolor": "white",
          "plot_bgcolor": "#E5ECF6",
          "polar": {
           "angularaxis": {
            "gridcolor": "white",
            "linecolor": "white",
            "ticks": ""
           },
           "bgcolor": "#E5ECF6",
           "radialaxis": {
            "gridcolor": "white",
            "linecolor": "white",
            "ticks": ""
           }
          },
          "scene": {
           "xaxis": {
            "backgroundcolor": "#E5ECF6",
            "gridcolor": "white",
            "gridwidth": 2,
            "linecolor": "white",
            "showbackground": true,
            "ticks": "",
            "zerolinecolor": "white"
           },
           "yaxis": {
            "backgroundcolor": "#E5ECF6",
            "gridcolor": "white",
            "gridwidth": 2,
            "linecolor": "white",
            "showbackground": true,
            "ticks": "",
            "zerolinecolor": "white"
           },
           "zaxis": {
            "backgroundcolor": "#E5ECF6",
            "gridcolor": "white",
            "gridwidth": 2,
            "linecolor": "white",
            "showbackground": true,
            "ticks": "",
            "zerolinecolor": "white"
           }
          },
          "shapedefaults": {
           "line": {
            "color": "#2a3f5f"
           }
          },
          "ternary": {
           "aaxis": {
            "gridcolor": "white",
            "linecolor": "white",
            "ticks": ""
           },
           "baxis": {
            "gridcolor": "white",
            "linecolor": "white",
            "ticks": ""
           },
           "bgcolor": "#E5ECF6",
           "caxis": {
            "gridcolor": "white",
            "linecolor": "white",
            "ticks": ""
           }
          },
          "title": {
           "x": 0.05
          },
          "xaxis": {
           "automargin": true,
           "gridcolor": "white",
           "linecolor": "white",
           "ticks": "",
           "title": {
            "standoff": 15
           },
           "zerolinecolor": "white",
           "zerolinewidth": 2
          },
          "yaxis": {
           "automargin": true,
           "gridcolor": "white",
           "linecolor": "white",
           "ticks": "",
           "title": {
            "standoff": 15
           },
           "zerolinecolor": "white",
           "zerolinewidth": 2
          }
         }
        },
        "title": {
         "text": "Death Rate (per 1,000 adults)"
        },
        "xaxis": {
         "anchor": "y",
         "domain": [
          0,
          1
         ],
         "title": {
          "text": "Year"
         }
        },
        "yaxis": {
         "anchor": "x",
         "domain": [
          0,
          1
         ],
         "title": {
          "text": "Rate"
         }
        }
       }
      }
     },
     "metadata": {},
     "output_type": "display_data"
    }
   ],
   "source": [
    "cdr_ind = {\"SP.DYN.CDRT.IN\":\"Death rate, crude (per 1,000 people)\"}\n",
    "\n",
    "data = wbdata.get_dataframe(cdr_ind, country=\"HTI\", parse_dates=True)\n",
    "fig = data.plot(title=\"Death Rate (per 1,000 adults)\", labels=dict(date='Year', value='Rate'))\n",
    "fig.update_layout(showlegend=False)\n",
    "fig.show()"
   ]
  },
  {
   "cell_type": "markdown",
   "metadata": {},
   "source": [
    "**Agricultural Land**"
   ]
  },
  {
   "cell_type": "code",
   "execution_count": 18,
   "metadata": {},
   "outputs": [
    {
     "ename": "TypeError",
     "evalue": "'NoneType' object does not support item deletion",
     "output_type": "error",
     "traceback": [
      "\u001b[0;31m---------------------------------------------------------------------------\u001b[0m",
      "\u001b[0;31mTypeError\u001b[0m                                 Traceback (most recent call last)",
      "Cell \u001b[0;32mIn[18], line 3\u001b[0m\n\u001b[1;32m      1\u001b[0m indicator1 \u001b[38;5;241m=\u001b[39m {\u001b[38;5;124m\"\u001b[39m\u001b[38;5;124mAG.LND.AGRI.ZS\u001b[39m\u001b[38;5;124m\"\u001b[39m:\u001b[38;5;124m\"\u001b[39m\u001b[38;5;124mAgricultural land (\u001b[39m\u001b[38;5;132;01m% o\u001b[39;00m\u001b[38;5;124mf land area)\u001b[39m\u001b[38;5;124m\"\u001b[39m}\n\u001b[0;32m----> 3\u001b[0m data \u001b[38;5;241m=\u001b[39m \u001b[43mwbdata\u001b[49m\u001b[38;5;241;43m.\u001b[39;49m\u001b[43mget_dataframe\u001b[49m\u001b[43m(\u001b[49m\u001b[43mindicator1\u001b[49m\u001b[43m,\u001b[49m\u001b[43m \u001b[49m\u001b[43mcountry\u001b[49m\u001b[38;5;241;43m=\u001b[39;49m\u001b[38;5;124;43m\"\u001b[39;49m\u001b[38;5;124;43mHTI\u001b[39;49m\u001b[38;5;124;43m\"\u001b[39;49m\u001b[43m,\u001b[49m\u001b[43m \u001b[49m\u001b[43mparse_dates\u001b[49m\u001b[38;5;241;43m=\u001b[39;49m\u001b[38;5;28;43;01mTrue\u001b[39;49;00m\u001b[43m)\u001b[49m\n\u001b[1;32m      4\u001b[0m fig \u001b[38;5;241m=\u001b[39m data\u001b[38;5;241m.\u001b[39mplot(title\u001b[38;5;241m=\u001b[39m\u001b[38;5;124m\"\u001b[39m\u001b[38;5;124mAgricultural Land Percentage\u001b[39m\u001b[38;5;124m\"\u001b[39m, labels\u001b[38;5;241m=\u001b[39m\u001b[38;5;28mdict\u001b[39m(date\u001b[38;5;241m=\u001b[39m\u001b[38;5;124m'\u001b[39m\u001b[38;5;124mYear\u001b[39m\u001b[38;5;124m'\u001b[39m,value\u001b[38;5;241m=\u001b[39m\u001b[38;5;124m'\u001b[39m\u001b[38;5;132;01m% o\u001b[39;00m\u001b[38;5;124mf Land Area\u001b[39m\u001b[38;5;124m'\u001b[39m))\n\u001b[1;32m      5\u001b[0m fig\u001b[38;5;241m.\u001b[39mupdate_layout(showlegend\u001b[38;5;241m=\u001b[39m\u001b[38;5;28;01mFalse\u001b[39;00m)\n",
      "File \u001b[0;32m~/Documents/GitHub/EEP153_Project1_TeamGaryBecker/.venv/lib/python3.12/site-packages/decorator.py:232\u001b[0m, in \u001b[0;36mdecorate.<locals>.fun\u001b[0;34m(*args, **kw)\u001b[0m\n\u001b[1;32m    230\u001b[0m \u001b[38;5;28;01mif\u001b[39;00m \u001b[38;5;129;01mnot\u001b[39;00m kwsyntax:\n\u001b[1;32m    231\u001b[0m     args, kw \u001b[38;5;241m=\u001b[39m fix(args, kw, sig)\n\u001b[0;32m--> 232\u001b[0m \u001b[38;5;28;01mreturn\u001b[39;00m \u001b[43mcaller\u001b[49m\u001b[43m(\u001b[49m\u001b[43mfunc\u001b[49m\u001b[43m,\u001b[49m\u001b[43m \u001b[49m\u001b[38;5;241;43m*\u001b[39;49m\u001b[43m(\u001b[49m\u001b[43mextras\u001b[49m\u001b[43m \u001b[49m\u001b[38;5;241;43m+\u001b[39;49m\u001b[43m \u001b[49m\u001b[43margs\u001b[49m\u001b[43m)\u001b[49m\u001b[43m,\u001b[49m\u001b[43m \u001b[49m\u001b[38;5;241;43m*\u001b[39;49m\u001b[38;5;241;43m*\u001b[39;49m\u001b[43mkw\u001b[49m\u001b[43m)\u001b[49m\n",
      "File \u001b[0;32m~/Documents/GitHub/EEP153_Project1_TeamGaryBecker/.venv/lib/python3.12/site-packages/wbdata/client.py:120\u001b[0m, in \u001b[0;36mneeds_pandas\u001b[0;34m(f, *args, **kwargs)\u001b[0m\n\u001b[1;32m    118\u001b[0m \u001b[38;5;28;01mif\u001b[39;00m pd \u001b[38;5;129;01mis\u001b[39;00m \u001b[38;5;28;01mNone\u001b[39;00m:\n\u001b[1;32m    119\u001b[0m     \u001b[38;5;28;01mraise\u001b[39;00m \u001b[38;5;167;01mRuntimeError\u001b[39;00m(\u001b[38;5;124mf\u001b[39m\u001b[38;5;124m\"\u001b[39m\u001b[38;5;132;01m{\u001b[39;00mf\u001b[38;5;241m.\u001b[39m\u001b[38;5;18m__name__\u001b[39m\u001b[38;5;132;01m}\u001b[39;00m\u001b[38;5;124m requires pandas\u001b[39m\u001b[38;5;124m\"\u001b[39m)\n\u001b[0;32m--> 120\u001b[0m \u001b[38;5;28;01mreturn\u001b[39;00m \u001b[43mf\u001b[49m\u001b[43m(\u001b[49m\u001b[38;5;241;43m*\u001b[39;49m\u001b[43margs\u001b[49m\u001b[43m,\u001b[49m\u001b[43m \u001b[49m\u001b[38;5;241;43m*\u001b[39;49m\u001b[38;5;241;43m*\u001b[39;49m\u001b[43mkwargs\u001b[49m\u001b[43m)\u001b[49m\n",
      "File \u001b[0;32m~/Documents/GitHub/EEP153_Project1_TeamGaryBecker/.venv/lib/python3.12/site-packages/wbdata/client.py:544\u001b[0m, in \u001b[0;36mClient.get_dataframe\u001b[0;34m(self, indicators, country, date, freq, source, parse_dates, keep_levels, skip_cache)\u001b[0m\n\u001b[1;32m    491\u001b[0m \u001b[38;5;129m@needs_pandas\u001b[39m\n\u001b[1;32m    492\u001b[0m \u001b[38;5;28;01mdef\u001b[39;00m\u001b[38;5;250m \u001b[39m\u001b[38;5;21mget_dataframe\u001b[39m(\n\u001b[1;32m    493\u001b[0m     \u001b[38;5;28mself\u001b[39m,\n\u001b[0;32m   (...)\u001b[0m\n\u001b[1;32m    506\u001b[0m     skip_cache: \u001b[38;5;28mbool\u001b[39m \u001b[38;5;241m=\u001b[39m \u001b[38;5;28;01mFalse\u001b[39;00m,\n\u001b[1;32m    507\u001b[0m ) \u001b[38;5;241m-\u001b[39m\u001b[38;5;241m>\u001b[39m DataFrame:\n\u001b[1;32m    508\u001b[0m \u001b[38;5;250m    \u001b[39m\u001b[38;5;124;03m\"\"\"\u001b[39;00m\n\u001b[1;32m    509\u001b[0m \u001b[38;5;124;03m    Download a set of indicators and  merge them into a pandas DataFrame.\u001b[39;00m\n\u001b[1;32m    510\u001b[0m \n\u001b[0;32m   (...)\u001b[0m\n\u001b[1;32m    540\u001b[0m \n\u001b[1;32m    541\u001b[0m \u001b[38;5;124;03m    \"\"\"\u001b[39;00m\n\u001b[1;32m    542\u001b[0m     df \u001b[38;5;241m=\u001b[39m DataFrame(\n\u001b[1;32m    543\u001b[0m         serieses\u001b[38;5;241m=\u001b[39m{\n\u001b[0;32m--> 544\u001b[0m             name: \u001b[38;5;28;43mself\u001b[39;49m\u001b[38;5;241;43m.\u001b[39;49m\u001b[43mget_series\u001b[49m\u001b[43m(\u001b[49m\n\u001b[1;32m    545\u001b[0m \u001b[43m                \u001b[49m\u001b[43mindicator\u001b[49m\u001b[38;5;241;43m=\u001b[39;49m\u001b[43mindicator\u001b[49m\u001b[43m,\u001b[49m\n\u001b[1;32m    546\u001b[0m \u001b[43m                \u001b[49m\u001b[43mcountry\u001b[49m\u001b[38;5;241;43m=\u001b[39;49m\u001b[43mcountry\u001b[49m\u001b[43m,\u001b[49m\n\u001b[1;32m    547\u001b[0m \u001b[43m                \u001b[49m\u001b[43mdate\u001b[49m\u001b[38;5;241;43m=\u001b[39;49m\u001b[43mdate\u001b[49m\u001b[43m,\u001b[49m\n\u001b[1;32m    548\u001b[0m \u001b[43m                \u001b[49m\u001b[43mfreq\u001b[49m\u001b[38;5;241;43m=\u001b[39;49m\u001b[43mfreq\u001b[49m\u001b[43m,\u001b[49m\n\u001b[1;32m    549\u001b[0m \u001b[43m                \u001b[49m\u001b[43msource\u001b[49m\u001b[38;5;241;43m=\u001b[39;49m\u001b[43msource\u001b[49m\u001b[43m,\u001b[49m\n\u001b[1;32m    550\u001b[0m \u001b[43m                \u001b[49m\u001b[43mparse_dates\u001b[49m\u001b[38;5;241;43m=\u001b[39;49m\u001b[43mparse_dates\u001b[49m\u001b[43m,\u001b[49m\n\u001b[1;32m    551\u001b[0m \u001b[43m                \u001b[49m\u001b[43mkeep_levels\u001b[49m\u001b[38;5;241;43m=\u001b[39;49m\u001b[38;5;28;43;01mTrue\u001b[39;49;00m\u001b[43m,\u001b[49m\n\u001b[1;32m    552\u001b[0m \u001b[43m                \u001b[49m\u001b[43mskip_cache\u001b[49m\u001b[38;5;241;43m=\u001b[39;49m\u001b[43mskip_cache\u001b[49m\u001b[43m,\u001b[49m\n\u001b[1;32m    553\u001b[0m \u001b[43m            \u001b[49m\u001b[43m)\u001b[49m\n\u001b[1;32m    554\u001b[0m             \u001b[38;5;28;01mfor\u001b[39;00m indicator, name \u001b[38;5;129;01min\u001b[39;00m indicators\u001b[38;5;241m.\u001b[39mitems()\n\u001b[1;32m    555\u001b[0m         }\n\u001b[1;32m    556\u001b[0m     )\n\u001b[1;32m    557\u001b[0m     \u001b[38;5;28;01mif\u001b[39;00m \u001b[38;5;129;01mnot\u001b[39;00m keep_levels \u001b[38;5;129;01mand\u001b[39;00m \u001b[38;5;28mlen\u001b[39m(\u001b[38;5;28mset\u001b[39m(df\u001b[38;5;241m.\u001b[39mindex\u001b[38;5;241m.\u001b[39mget_level_values(\u001b[38;5;241m0\u001b[39m))) \u001b[38;5;241m==\u001b[39m \u001b[38;5;241m1\u001b[39m:\n\u001b[1;32m    558\u001b[0m         df\u001b[38;5;241m.\u001b[39mindex \u001b[38;5;241m=\u001b[39m df\u001b[38;5;241m.\u001b[39mindex\u001b[38;5;241m.\u001b[39mdroplevel(\u001b[38;5;241m0\u001b[39m)\n",
      "File \u001b[0;32m~/Documents/GitHub/EEP153_Project1_TeamGaryBecker/.venv/lib/python3.12/site-packages/decorator.py:232\u001b[0m, in \u001b[0;36mdecorate.<locals>.fun\u001b[0;34m(*args, **kw)\u001b[0m\n\u001b[1;32m    230\u001b[0m \u001b[38;5;28;01mif\u001b[39;00m \u001b[38;5;129;01mnot\u001b[39;00m kwsyntax:\n\u001b[1;32m    231\u001b[0m     args, kw \u001b[38;5;241m=\u001b[39m fix(args, kw, sig)\n\u001b[0;32m--> 232\u001b[0m \u001b[38;5;28;01mreturn\u001b[39;00m \u001b[43mcaller\u001b[49m\u001b[43m(\u001b[49m\u001b[43mfunc\u001b[49m\u001b[43m,\u001b[49m\u001b[43m \u001b[49m\u001b[38;5;241;43m*\u001b[39;49m\u001b[43m(\u001b[49m\u001b[43mextras\u001b[49m\u001b[43m \u001b[49m\u001b[38;5;241;43m+\u001b[39;49m\u001b[43m \u001b[49m\u001b[43margs\u001b[49m\u001b[43m)\u001b[49m\u001b[43m,\u001b[49m\u001b[43m \u001b[49m\u001b[38;5;241;43m*\u001b[39;49m\u001b[38;5;241;43m*\u001b[39;49m\u001b[43mkw\u001b[49m\u001b[43m)\u001b[49m\n",
      "File \u001b[0;32m~/Documents/GitHub/EEP153_Project1_TeamGaryBecker/.venv/lib/python3.12/site-packages/wbdata/client.py:120\u001b[0m, in \u001b[0;36mneeds_pandas\u001b[0;34m(f, *args, **kwargs)\u001b[0m\n\u001b[1;32m    118\u001b[0m \u001b[38;5;28;01mif\u001b[39;00m pd \u001b[38;5;129;01mis\u001b[39;00m \u001b[38;5;28;01mNone\u001b[39;00m:\n\u001b[1;32m    119\u001b[0m     \u001b[38;5;28;01mraise\u001b[39;00m \u001b[38;5;167;01mRuntimeError\u001b[39;00m(\u001b[38;5;124mf\u001b[39m\u001b[38;5;124m\"\u001b[39m\u001b[38;5;132;01m{\u001b[39;00mf\u001b[38;5;241m.\u001b[39m\u001b[38;5;18m__name__\u001b[39m\u001b[38;5;132;01m}\u001b[39;00m\u001b[38;5;124m requires pandas\u001b[39m\u001b[38;5;124m\"\u001b[39m)\n\u001b[0;32m--> 120\u001b[0m \u001b[38;5;28;01mreturn\u001b[39;00m \u001b[43mf\u001b[49m\u001b[43m(\u001b[49m\u001b[38;5;241;43m*\u001b[39;49m\u001b[43margs\u001b[49m\u001b[43m,\u001b[49m\u001b[43m \u001b[49m\u001b[38;5;241;43m*\u001b[39;49m\u001b[38;5;241;43m*\u001b[39;49m\u001b[43mkwargs\u001b[49m\u001b[43m)\u001b[49m\n",
      "File \u001b[0;32m~/Documents/GitHub/EEP153_Project1_TeamGaryBecker/.venv/lib/python3.12/site-packages/wbdata/client.py:469\u001b[0m, in \u001b[0;36mClient.get_series\u001b[0;34m(self, indicator, country, date, freq, source, parse_dates, name, keep_levels, skip_cache)\u001b[0m\n\u001b[1;32m    418\u001b[0m \u001b[38;5;129m@needs_pandas\u001b[39m\n\u001b[1;32m    419\u001b[0m \u001b[38;5;28;01mdef\u001b[39;00m\u001b[38;5;250m \u001b[39m\u001b[38;5;21mget_series\u001b[39m(\n\u001b[1;32m    420\u001b[0m     \u001b[38;5;28mself\u001b[39m,\n\u001b[0;32m   (...)\u001b[0m\n\u001b[1;32m    434\u001b[0m     skip_cache: \u001b[38;5;28mbool\u001b[39m \u001b[38;5;241m=\u001b[39m \u001b[38;5;28;01mFalse\u001b[39;00m,\n\u001b[1;32m    435\u001b[0m ) \u001b[38;5;241m-\u001b[39m\u001b[38;5;241m>\u001b[39m Series:\n\u001b[1;32m    436\u001b[0m \u001b[38;5;250m    \u001b[39m\u001b[38;5;124;03m\"\"\"\u001b[39;00m\n\u001b[1;32m    437\u001b[0m \u001b[38;5;124;03m    Retrieve data for a single indicator as a pandas Series.\u001b[39;00m\n\u001b[1;32m    438\u001b[0m \n\u001b[0;32m   (...)\u001b[0m\n\u001b[1;32m    467\u001b[0m \u001b[38;5;124;03m            only have one value, the country level is dropped.\u001b[39;00m\n\u001b[1;32m    468\u001b[0m \u001b[38;5;124;03m    \"\"\"\u001b[39;00m\n\u001b[0;32m--> 469\u001b[0m     raw_data \u001b[38;5;241m=\u001b[39m \u001b[38;5;28;43mself\u001b[39;49m\u001b[38;5;241;43m.\u001b[39;49m\u001b[43mget_data\u001b[49m\u001b[43m(\u001b[49m\n\u001b[1;32m    470\u001b[0m \u001b[43m        \u001b[49m\u001b[43mindicator\u001b[49m\u001b[38;5;241;43m=\u001b[39;49m\u001b[43mindicator\u001b[49m\u001b[43m,\u001b[49m\n\u001b[1;32m    471\u001b[0m \u001b[43m        \u001b[49m\u001b[43mcountry\u001b[49m\u001b[38;5;241;43m=\u001b[39;49m\u001b[43mcountry\u001b[49m\u001b[43m,\u001b[49m\n\u001b[1;32m    472\u001b[0m \u001b[43m        \u001b[49m\u001b[43mdate\u001b[49m\u001b[38;5;241;43m=\u001b[39;49m\u001b[43mdate\u001b[49m\u001b[43m,\u001b[49m\n\u001b[1;32m    473\u001b[0m \u001b[43m        \u001b[49m\u001b[43mfreq\u001b[49m\u001b[38;5;241;43m=\u001b[39;49m\u001b[43mfreq\u001b[49m\u001b[43m,\u001b[49m\n\u001b[1;32m    474\u001b[0m \u001b[43m        \u001b[49m\u001b[43msource\u001b[49m\u001b[38;5;241;43m=\u001b[39;49m\u001b[43msource\u001b[49m\u001b[43m,\u001b[49m\n\u001b[1;32m    475\u001b[0m \u001b[43m        \u001b[49m\u001b[43mparse_dates\u001b[49m\u001b[38;5;241;43m=\u001b[39;49m\u001b[43mparse_dates\u001b[49m\u001b[43m,\u001b[49m\n\u001b[1;32m    476\u001b[0m \u001b[43m        \u001b[49m\u001b[43mskip_cache\u001b[49m\u001b[38;5;241;43m=\u001b[39;49m\u001b[43mskip_cache\u001b[49m\u001b[43m,\u001b[49m\n\u001b[1;32m    477\u001b[0m \u001b[43m    \u001b[49m\u001b[43m)\u001b[49m\n\u001b[1;32m    478\u001b[0m     df \u001b[38;5;241m=\u001b[39m pd\u001b[38;5;241m.\u001b[39mDataFrame(\n\u001b[1;32m    479\u001b[0m         [[i[\u001b[38;5;124m\"\u001b[39m\u001b[38;5;124mcountry\u001b[39m\u001b[38;5;124m\"\u001b[39m][\u001b[38;5;124m\"\u001b[39m\u001b[38;5;124mvalue\u001b[39m\u001b[38;5;124m\"\u001b[39m], i[\u001b[38;5;124m\"\u001b[39m\u001b[38;5;124mdate\u001b[39m\u001b[38;5;124m\"\u001b[39m], i[\u001b[38;5;124m\"\u001b[39m\u001b[38;5;124mvalue\u001b[39m\u001b[38;5;124m\"\u001b[39m]] \u001b[38;5;28;01mfor\u001b[39;00m i \u001b[38;5;129;01min\u001b[39;00m raw_data],\n\u001b[1;32m    480\u001b[0m         columns\u001b[38;5;241m=\u001b[39m[\u001b[38;5;124m\"\u001b[39m\u001b[38;5;124mcountry\u001b[39m\u001b[38;5;124m\"\u001b[39m, \u001b[38;5;124m\"\u001b[39m\u001b[38;5;124mdate\u001b[39m\u001b[38;5;124m\"\u001b[39m, name],\n\u001b[1;32m    481\u001b[0m     )\n\u001b[1;32m    482\u001b[0m     df[name] \u001b[38;5;241m=\u001b[39m df[name]\u001b[38;5;241m.\u001b[39mmap(_cast_float)\n",
      "File \u001b[0;32m~/Documents/GitHub/EEP153_Project1_TeamGaryBecker/.venv/lib/python3.12/site-packages/wbdata/client.py:228\u001b[0m, in \u001b[0;36mClient.get_data\u001b[0;34m(self, indicator, country, date, freq, source, parse_dates, skip_cache)\u001b[0m\n\u001b[1;32m    226\u001b[0m \u001b[38;5;28;01mif\u001b[39;00m source:\n\u001b[1;32m    227\u001b[0m     params[\u001b[38;5;124m\"\u001b[39m\u001b[38;5;124msource\u001b[39m\u001b[38;5;124m\"\u001b[39m] \u001b[38;5;241m=\u001b[39m source\n\u001b[0;32m--> 228\u001b[0m data \u001b[38;5;241m=\u001b[39m \u001b[38;5;28;43mself\u001b[39;49m\u001b[38;5;241;43m.\u001b[39;49m\u001b[43mfetcher\u001b[49m\u001b[38;5;241;43m.\u001b[39;49m\u001b[43mfetch\u001b[49m\u001b[43m(\u001b[49m\u001b[43murl\u001b[49m\u001b[38;5;241;43m=\u001b[39;49m\u001b[43murl\u001b[49m\u001b[43m,\u001b[49m\u001b[43m \u001b[49m\u001b[43mparams\u001b[49m\u001b[38;5;241;43m=\u001b[39;49m\u001b[43mparams\u001b[49m\u001b[43m,\u001b[49m\u001b[43m \u001b[49m\u001b[43mskip_cache\u001b[49m\u001b[38;5;241;43m=\u001b[39;49m\u001b[43mskip_cache\u001b[49m\u001b[43m)\u001b[49m\n\u001b[1;32m    229\u001b[0m \u001b[38;5;28;01mif\u001b[39;00m parse_dates:\n\u001b[1;32m    230\u001b[0m     dates\u001b[38;5;241m.\u001b[39mparse_row_dates(data)\n",
      "File \u001b[0;32m~/Documents/GitHub/EEP153_Project1_TeamGaryBecker/.venv/lib/python3.12/site-packages/wbdata/fetcher.py:155\u001b[0m, in \u001b[0;36mFetcher.fetch\u001b[0;34m(self, url, params, skip_cache)\u001b[0m\n\u001b[1;32m    153\u001b[0m rows: List[Dict[\u001b[38;5;28mstr\u001b[39m, Any]] \u001b[38;5;241m=\u001b[39m []\n\u001b[1;32m    154\u001b[0m \u001b[38;5;28;01mwhile\u001b[39;00m pages \u001b[38;5;241m!=\u001b[39m page:\n\u001b[0;32m--> 155\u001b[0m     response \u001b[38;5;241m=\u001b[39m \u001b[38;5;28;43mself\u001b[39;49m\u001b[38;5;241;43m.\u001b[39;49m\u001b[43m_get_response\u001b[49m\u001b[43m(\u001b[49m\n\u001b[1;32m    156\u001b[0m \u001b[43m        \u001b[49m\u001b[43murl\u001b[49m\u001b[38;5;241;43m=\u001b[39;49m\u001b[43murl\u001b[49m\u001b[43m,\u001b[49m\n\u001b[1;32m    157\u001b[0m \u001b[43m        \u001b[49m\u001b[43mparams\u001b[49m\u001b[38;5;241;43m=\u001b[39;49m\u001b[43mparams\u001b[49m\u001b[43m,\u001b[49m\n\u001b[1;32m    158\u001b[0m \u001b[43m        \u001b[49m\u001b[43mskip_cache\u001b[49m\u001b[38;5;241;43m=\u001b[39;49m\u001b[43mskip_cache\u001b[49m\u001b[43m,\u001b[49m\n\u001b[1;32m    159\u001b[0m \u001b[43m    \u001b[49m\u001b[43m)\u001b[49m\n\u001b[1;32m    160\u001b[0m     rows\u001b[38;5;241m.\u001b[39mextend(response\u001b[38;5;241m.\u001b[39mrows)\n\u001b[1;32m    161\u001b[0m     page, pages \u001b[38;5;241m=\u001b[39m response\u001b[38;5;241m.\u001b[39mpage, response\u001b[38;5;241m.\u001b[39mpages\n",
      "File \u001b[0;32m~/Documents/GitHub/EEP153_Project1_TeamGaryBecker/.venv/lib/python3.12/site-packages/wbdata/fetcher.py:128\u001b[0m, in \u001b[0;36mFetcher._get_response\u001b[0;34m(self, url, params, skip_cache)\u001b[0m\n\u001b[1;32m    126\u001b[0m \u001b[38;5;28;01melse\u001b[39;00m:\n\u001b[1;32m    127\u001b[0m     body \u001b[38;5;241m=\u001b[39m \u001b[38;5;28mself\u001b[39m\u001b[38;5;241m.\u001b[39m_get_response_body(url, params)\n\u001b[0;32m--> 128\u001b[0m     \u001b[38;5;28;43mself\u001b[39;49m\u001b[38;5;241;43m.\u001b[39;49m\u001b[43mcache\u001b[49m\u001b[43m[\u001b[49m\u001b[43mkey\u001b[49m\u001b[43m]\u001b[49m \u001b[38;5;241m=\u001b[39m body\n\u001b[1;32m    129\u001b[0m \u001b[38;5;28;01mreturn\u001b[39;00m ParsedResponse\u001b[38;5;241m.\u001b[39mfrom_response(\u001b[38;5;28mtuple\u001b[39m(json\u001b[38;5;241m.\u001b[39mloads(body)))\n",
      "File \u001b[0;32m~/Documents/GitHub/EEP153_Project1_TeamGaryBecker/.venv/lib/python3.12/site-packages/shelved_cache/persistent_cache.py:92\u001b[0m, in \u001b[0;36mPersistentCache.__setitem__\u001b[0;34m(self, key, value)\u001b[0m\n\u001b[1;32m     90\u001b[0m     \u001b[38;5;28mself\u001b[39m\u001b[38;5;241m.\u001b[39mpersistent_dict[hkey] \u001b[38;5;241m=\u001b[39m (key, value)\n\u001b[1;32m     91\u001b[0m     \u001b[38;5;28mself\u001b[39m\u001b[38;5;241m.\u001b[39mpersistent_dict\u001b[38;5;241m.\u001b[39msync()\n\u001b[0;32m---> 92\u001b[0m \u001b[38;5;28;43mself\u001b[39;49m\u001b[38;5;241;43m.\u001b[39;49m\u001b[43mwrapped\u001b[49m\u001b[43m[\u001b[49m\u001b[43mkey\u001b[49m\u001b[43m]\u001b[49m \u001b[38;5;241m=\u001b[39m value\n",
      "File \u001b[0;32m~/Documents/GitHub/EEP153_Project1_TeamGaryBecker/.venv/lib/python3.12/site-packages/cachetools/__init__.py:425\u001b[0m, in \u001b[0;36mTTLCache.__setitem__\u001b[0;34m(self, key, value, cache_setitem)\u001b[0m\n\u001b[1;32m    423\u001b[0m \u001b[38;5;28;01mwith\u001b[39;00m \u001b[38;5;28mself\u001b[39m\u001b[38;5;241m.\u001b[39mtimer \u001b[38;5;28;01mas\u001b[39;00m time:\n\u001b[1;32m    424\u001b[0m     \u001b[38;5;28mself\u001b[39m\u001b[38;5;241m.\u001b[39mexpire(time)\n\u001b[0;32m--> 425\u001b[0m     \u001b[43mcache_setitem\u001b[49m\u001b[43m(\u001b[49m\u001b[38;5;28;43mself\u001b[39;49m\u001b[43m,\u001b[49m\u001b[43m \u001b[49m\u001b[43mkey\u001b[49m\u001b[43m,\u001b[49m\u001b[43m \u001b[49m\u001b[43mvalue\u001b[49m\u001b[43m)\u001b[49m\n\u001b[1;32m    426\u001b[0m \u001b[38;5;28;01mtry\u001b[39;00m:\n\u001b[1;32m    427\u001b[0m     link \u001b[38;5;241m=\u001b[39m \u001b[38;5;28mself\u001b[39m\u001b[38;5;241m.\u001b[39m__getlink(key)\n",
      "File \u001b[0;32m~/Documents/GitHub/EEP153_Project1_TeamGaryBecker/.venv/lib/python3.12/site-packages/cachetools/__init__.py:78\u001b[0m, in \u001b[0;36mCache.__setitem__\u001b[0;34m(self, key, value)\u001b[0m\n\u001b[1;32m     76\u001b[0m \u001b[38;5;28;01mif\u001b[39;00m key \u001b[38;5;129;01mnot\u001b[39;00m \u001b[38;5;129;01min\u001b[39;00m \u001b[38;5;28mself\u001b[39m\u001b[38;5;241m.\u001b[39m__data \u001b[38;5;129;01mor\u001b[39;00m \u001b[38;5;28mself\u001b[39m\u001b[38;5;241m.\u001b[39m__size[key] \u001b[38;5;241m<\u001b[39m size:\n\u001b[1;32m     77\u001b[0m     \u001b[38;5;28;01mwhile\u001b[39;00m \u001b[38;5;28mself\u001b[39m\u001b[38;5;241m.\u001b[39m__currsize \u001b[38;5;241m+\u001b[39m size \u001b[38;5;241m>\u001b[39m maxsize:\n\u001b[0;32m---> 78\u001b[0m         \u001b[38;5;28;43mself\u001b[39;49m\u001b[38;5;241;43m.\u001b[39;49m\u001b[43mpopitem\u001b[49m\u001b[43m(\u001b[49m\u001b[43m)\u001b[49m\n\u001b[1;32m     79\u001b[0m \u001b[38;5;28;01mif\u001b[39;00m key \u001b[38;5;129;01min\u001b[39;00m \u001b[38;5;28mself\u001b[39m\u001b[38;5;241m.\u001b[39m__data:\n\u001b[1;32m     80\u001b[0m     diffsize \u001b[38;5;241m=\u001b[39m size \u001b[38;5;241m-\u001b[39m \u001b[38;5;28mself\u001b[39m\u001b[38;5;241m.\u001b[39m__size[key]\n",
      "File \u001b[0;32m~/Documents/GitHub/EEP153_Project1_TeamGaryBecker/.venv/lib/python3.12/site-packages/cachetools/__init__.py:503\u001b[0m, in \u001b[0;36mTTLCache.popitem\u001b[0;34m(self)\u001b[0m\n\u001b[1;32m    501\u001b[0m     \u001b[38;5;28;01mraise\u001b[39;00m \u001b[38;5;167;01mKeyError\u001b[39;00m(\u001b[38;5;124m\"\u001b[39m\u001b[38;5;132;01m%s\u001b[39;00m\u001b[38;5;124m is empty\u001b[39m\u001b[38;5;124m\"\u001b[39m \u001b[38;5;241m%\u001b[39m \u001b[38;5;28mtype\u001b[39m(\u001b[38;5;28mself\u001b[39m)\u001b[38;5;241m.\u001b[39m\u001b[38;5;18m__name__\u001b[39m) \u001b[38;5;28;01mfrom\u001b[39;00m\u001b[38;5;250m \u001b[39m\u001b[38;5;28;01mNone\u001b[39;00m\n\u001b[1;32m    502\u001b[0m \u001b[38;5;28;01melse\u001b[39;00m:\n\u001b[0;32m--> 503\u001b[0m     \u001b[38;5;28;01mreturn\u001b[39;00m (key, \u001b[38;5;28;43mself\u001b[39;49m\u001b[38;5;241;43m.\u001b[39;49m\u001b[43mpop\u001b[49m\u001b[43m(\u001b[49m\u001b[43mkey\u001b[49m\u001b[43m)\u001b[49m)\n",
      "File \u001b[0;32m~/Documents/GitHub/EEP153_Project1_TeamGaryBecker/.venv/lib/python3.12/site-packages/cachetools/__init__.py:369\u001b[0m, in \u001b[0;36m_TimedCache.pop\u001b[0;34m(self, *args, **kwargs)\u001b[0m\n\u001b[1;32m    367\u001b[0m \u001b[38;5;28;01mdef\u001b[39;00m\u001b[38;5;250m \u001b[39m\u001b[38;5;21mpop\u001b[39m(\u001b[38;5;28mself\u001b[39m, \u001b[38;5;241m*\u001b[39margs, \u001b[38;5;241m*\u001b[39m\u001b[38;5;241m*\u001b[39mkwargs):\n\u001b[1;32m    368\u001b[0m     \u001b[38;5;28;01mwith\u001b[39;00m \u001b[38;5;28mself\u001b[39m\u001b[38;5;241m.\u001b[39m__timer:\n\u001b[0;32m--> 369\u001b[0m         \u001b[38;5;28;01mreturn\u001b[39;00m \u001b[43mCache\u001b[49m\u001b[38;5;241;43m.\u001b[39;49m\u001b[43mpop\u001b[49m\u001b[43m(\u001b[49m\u001b[38;5;28;43mself\u001b[39;49m\u001b[43m,\u001b[49m\u001b[43m \u001b[49m\u001b[38;5;241;43m*\u001b[39;49m\u001b[43margs\u001b[49m\u001b[43m,\u001b[49m\u001b[43m \u001b[49m\u001b[38;5;241;43m*\u001b[39;49m\u001b[38;5;241;43m*\u001b[39;49m\u001b[43mkwargs\u001b[49m\u001b[43m)\u001b[49m\n",
      "File \u001b[0;32m~/Documents/GitHub/EEP153_Project1_TeamGaryBecker/.venv/lib/python3.12/site-packages/cachetools/__init__.py:113\u001b[0m, in \u001b[0;36mCache.pop\u001b[0;34m(self, key, default)\u001b[0m\n\u001b[1;32m    111\u001b[0m \u001b[38;5;28;01mif\u001b[39;00m key \u001b[38;5;129;01min\u001b[39;00m \u001b[38;5;28mself\u001b[39m:\n\u001b[1;32m    112\u001b[0m     value \u001b[38;5;241m=\u001b[39m \u001b[38;5;28mself\u001b[39m[key]\n\u001b[0;32m--> 113\u001b[0m     \u001b[38;5;28;01mdel\u001b[39;00m \u001b[38;5;28;43mself\u001b[39;49m\u001b[43m[\u001b[49m\u001b[43mkey\u001b[49m\u001b[43m]\u001b[49m\n\u001b[1;32m    114\u001b[0m \u001b[38;5;28;01melif\u001b[39;00m default \u001b[38;5;129;01mis\u001b[39;00m \u001b[38;5;28mself\u001b[39m\u001b[38;5;241m.\u001b[39m__marker:\n\u001b[1;32m    115\u001b[0m     \u001b[38;5;28;01mraise\u001b[39;00m \u001b[38;5;167;01mKeyError\u001b[39;00m(key)\n",
      "File \u001b[0;32m~/Documents/GitHub/EEP153_Project1_TeamGaryBecker/.venv/lib/python3.12/site-packages/shelved_cache/persistent_cache.py:25\u001b[0m, in \u001b[0;36mDelMixin.__delitem__\u001b[0;34m(self, key)\u001b[0m\n\u001b[1;32m     23\u001b[0m \u001b[38;5;28;01mdef\u001b[39;00m\u001b[38;5;250m \u001b[39m\u001b[38;5;21m__delitem__\u001b[39m(\u001b[38;5;28mself\u001b[39m, key):\n\u001b[1;32m     24\u001b[0m     \u001b[38;5;28msuper\u001b[39m()\u001b[38;5;241m.\u001b[39m\u001b[38;5;21m__delitem__\u001b[39m(key)\n\u001b[0;32m---> 25\u001b[0m     \u001b[38;5;28;43mself\u001b[39;49m\u001b[38;5;241;43m.\u001b[39;49m\u001b[43mdelete_callback\u001b[49m\u001b[43m(\u001b[49m\u001b[43mkey\u001b[49m\u001b[43m)\u001b[49m\n",
      "File \u001b[0;32m~/Documents/GitHub/EEP153_Project1_TeamGaryBecker/.venv/lib/python3.12/site-packages/shelved_cache/persistent_cache.py:78\u001b[0m, in \u001b[0;36mPersistentCache.delete_callback\u001b[0;34m(self, key)\u001b[0m\n\u001b[1;32m     76\u001b[0m hkey \u001b[38;5;241m=\u001b[39m \u001b[38;5;28mself\u001b[39m\u001b[38;5;241m.\u001b[39mhash_key(key)\n\u001b[1;32m     77\u001b[0m \u001b[38;5;28;01mtry\u001b[39;00m:\n\u001b[0;32m---> 78\u001b[0m     \u001b[38;5;28;01mdel\u001b[39;00m \u001b[38;5;28;43mself\u001b[39;49m\u001b[38;5;241;43m.\u001b[39;49m\u001b[43mpersistent_dict\u001b[49m\u001b[43m[\u001b[49m\u001b[43mhkey\u001b[49m\u001b[43m]\u001b[49m\n\u001b[1;32m     79\u001b[0m \u001b[38;5;28;01mexcept\u001b[39;00m \u001b[38;5;167;01mKeyError\u001b[39;00m:\n\u001b[1;32m     80\u001b[0m     logger\u001b[38;5;241m.\u001b[39mwarning(\u001b[38;5;124mf\u001b[39m\u001b[38;5;124m\"\u001b[39m\u001b[38;5;124mKey \u001b[39m\u001b[38;5;124m'\u001b[39m\u001b[38;5;132;01m{\u001b[39;00mhkey\u001b[38;5;132;01m}\u001b[39;00m\u001b[38;5;124m'\u001b[39m\u001b[38;5;124m not in persistent cache.\u001b[39m\u001b[38;5;124m\"\u001b[39m)\n",
      "\u001b[0;31mTypeError\u001b[0m: 'NoneType' object does not support item deletion"
     ]
    }
   ],
   "source": [
    "indicator1 = {\"AG.LND.AGRI.ZS\":\"Agricultural land (% of land area)\"}\n",
    "\n",
    "data = wbdata.get_dataframe(indicator1, country=\"HTI\", parse_dates=True)\n",
    "fig = data.plot(title=\"Agricultural Land Percentage\", labels=dict(date='Year',value='% of Land Area'))\n",
    "fig.update_layout(showlegend=False)\n",
    "fig.show()"
   ]
  },
  {
   "cell_type": "markdown",
   "metadata": {},
   "source": [
    "Agriculture Output and Factor Development (load on Datahub)"
   ]
  },
  {
   "cell_type": "code",
   "execution_count": 12,
   "metadata": {},
   "outputs": [],
   "source": [
    "\n",
    "# %pip install python_gnupg\n",
    "# %pip install -U gspread_pandas\n",
    "\n",
    "from functools import cache\n",
    "import pandas as pd\n",
    "import numpy as np\n",
    "\n",
    "pd.options.plotting.backend = 'plotly'\n",
    "\n",
    "@cache\n",
    "def get_ag_data():\n",
    "    \"\"\"Read a bunch of google worksheets into a dictionary of dataframes\"\"\"\n",
    "    data = pd.read_csv('wide_class_data.csv')\n",
    "\n",
    "    Data = {'Country':'Country/territory','WDI Code':'ISO3','Year':'Year','Output':'Outall_Index','TFP':'TFP_Index','Land':'Land_Index','Labor':'Labor_Index','Capital':'Capital_Index','Materials':'Materials_Index'}\n",
    "\n",
    "    df = data.rename(columns={v:k for k,v in Data.items()})\n",
    "    df = df[Data.keys()].set_index(['WDI Code','Country','Year'])\n",
    "\n",
    "    # Deal with some duplicate indices (drops regions)\n",
    "    df = df.loc[~df.index.duplicated(),:]\n",
    "\n",
    "    df = df.droplevel('WDI Code')\n",
    "\n",
    "    return df"
   ]
  },
  {
   "cell_type": "code",
   "execution_count": 13,
   "metadata": {},
   "outputs": [
    {
     "data": {
      "application/vnd.plotly.v1+json": {
       "config": {
        "plotlyServerURL": "https://plot.ly"
       },
       "data": [
        {
         "hovertemplate": "variable=Output<br>Year=%{x}<br>Input/Output development=%{y}<extra></extra>",
         "legendgroup": "Output",
         "line": {
          "color": "#636efa",
          "dash": "solid"
         },
         "marker": {
          "symbol": "circle"
         },
         "mode": "lines",
         "name": "Output",
         "orientation": "v",
         "showlegend": true,
         "type": "scatter",
         "x": {
          "bdata": "qQeqB6sHrAetB64HrwewB7EHsgezB7QHtQe2B7cHuAe5B7oHuwe8B70Hvge/B8AHwQfCB8MHxAfFB8YHxwfIB8kHygfLB8wHzQfOB88H0AfRB9IH0wfUB9UH1gfXB9gH2QfaB9sH3AfdB94H3wfgB+EH4gfjB+QH5Qc=",
          "dtype": "i2"
         },
         "xaxis": "x",
         "y": {
          "bdata": "AAAAAAAA8D8A1x3RWp3vP1bI9GtZX/A/p3lqBMO68D8nIUU0lhnxP7IOvW/GKfE/B+PwoPm38T/HzOiikcrxP+6F3SiKM/I/L+uahpje8j89S6hWCWDzP01RlncW0vM/V8MnfQb+8z+TwZPjOlL0P29SLBGHwPQ/0PY2H2IG9T+AIeNcodL0PxOIBoSDZ/U/7ww/Eixb9j974Rv/ZHj2P9E5jN9kSfY/+6Sge9PR9j9crfBPLnf3Pz8k73e/mPc/g6NeTnWr9z/mg+bqJHP3P/KKFXeJ1vY/BoC9ACV/9j+phZteumr2P+eiAsTBWPU/Du6In9QB9T9v/DvxVF70P+23rWrRJfQ/8u/7aXT68z/anmlrcjzzP5RnmNvqnvM/CNs1jsya9D/ejMRbKUb0P0Ekc+Dmx/Q/rlaVmTnY9T8VGnQyikv1P23O8i4EjvU/QzSZ5srr9T/ELVlOslv2P+IVWjO/d/c/sBbIoWld9z+30a5WJKD5P0Ta9c4/rfg/WNglENbx+z9ikRTxnKH9P+5de0yGSf8/XpPKEP2c/z+HXXCNExEBQPfwB/aLAAFAMgjCWItBAEAZ45GAElAAQC4LGaVWAf8/h3QsEZJe/T/hEaoIsKv6P26te/MVMvk/0yg7qloR+z8=",
          "dtype": "f8"
         },
         "yaxis": "y"
        },
        {
         "hovertemplate": "variable=TFP<br>Year=%{x}<br>Input/Output development=%{y}<extra></extra>",
         "legendgroup": "TFP",
         "line": {
          "color": "#EF553B",
          "dash": "solid"
         },
         "marker": {
          "symbol": "circle"
         },
         "mode": "lines",
         "name": "TFP",
         "orientation": "v",
         "showlegend": true,
         "type": "scatter",
         "x": {
          "bdata": "qQeqB6sHrAetB64HrwewB7EHsgezB7QHtQe2B7cHuAe5B7oHuwe8B70Hvge/B8AHwQfCB8MHxAfFB8YHxwfIB8kHygfLB8wHzQfOB88H0AfRB9IH0wfUB9UH1gfXB9gH2QfaB9sH3AfdB94H3wfgB+EH4gfjB+QH5Qc=",
          "dtype": "i2"
         },
         "xaxis": "x",
         "y": {
          "bdata": "AAAAAAAA8D+7GDVoTDXvP20xM1jE8u8/AOrmHmoZ8D/BSyEJEkrwP10mf1XPMfA/+Mo2MWh/8D/XZmyJyGnwPwweWabnhfA/bUFpMkjp8D+DP96NzPnwP8TBp7t88vE/pdKJib1M8j90MxZxdqfyP9tqmShv/fI/gu1+YrkL8z8NRkuy/HXyP9fj8qyIvfI/8wUqEHlJ8z9jVYdvh37zP3z1vBjZOPM/37AZRA558z8DDeliR+TzPzQBlWMw2PM/kkehSI698z/BzV0XM2rzP6rCk3fw9/I/tDwtUAas8j/wyR2j0pryP7JRfR0ruPI/p9f8RmWW8j/E92Yu8R7xP6l+voWDw/E/Ta9+cZE88T/ArQplew/xPxpSVvwLS/E/vm3wRV6o8T8JXuAdJ2DxP5SKpNan7fE/feZoVBav8T8qbGac+snwPxb3yEABRvE/DLikxcCK8T9GbvdtDBDyPzSVaV1uavI/vINMVK0R8j97gsz1Q27zPyMZs47PqPI/VicJGDVg8z/qbqEQ4fPzPyK8oW/5a/U/D4ogpGmq8z8l+45yZa/2P/AYa6srxfU/rc+Es24Q9T9WxgoibzH1P0t47hF1AfQ/k1XxpF0e8z811YN8i9HxPzLKeL7BTvE/wYKRBFO09D8=",
          "dtype": "f8"
         },
         "yaxis": "y"
        },
        {
         "hovertemplate": "variable=Land<br>Year=%{x}<br>Input/Output development=%{y}<extra></extra>",
         "legendgroup": "Land",
         "line": {
          "color": "#00cc96",
          "dash": "solid"
         },
         "marker": {
          "symbol": "circle"
         },
         "mode": "lines",
         "name": "Land",
         "orientation": "v",
         "showlegend": true,
         "type": "scatter",
         "x": {
          "bdata": "qQeqB6sHrAetB64HrwewB7EHsgezB7QHtQe2B7cHuAe5B7oHuwe8B70Hvge/B8AHwQfCB8MHxAfFB8YHxwfIB8kHygfLB8wHzQfOB88H0AfRB9IH0wfUB9UH1gfXB9gH2QfaB9sH3AfdB94H3wfgB+EH4gfjB+QH5Qc=",
          "dtype": "i2"
         },
         "xaxis": "x",
         "y": {
          "bdata": "AAAAAAAA8D91jGP5iRfwPzhI1GSmKPA/NL3J0Aw+8D/4eDo8KU/wP9GoWzWOZPA/4pEBLz1+8D/zeqco7JfwP6HAjyLAs/A/K8GjqZLP8D+2wbcwZevwP0DgF2HCje4/GBPJoemG7j8YE8mh6YbuPxgTyaHphu4/aq1mIJuU7j9qrWYgm5TuP3ecKc4M2e4/d5wpzgzZ7j9HnrOKSPvuP0ees4pI++4/cYYUptkD7z+bbnXBagzvP/8PW91FGe8/YbFA+SAm7z+LmaEUsi7vP/0LqxVGN+8/ETsyC6M/7z8iarkAAEjvPzSZQPZcUO8/j1Jw0bxY7z8WMWhqos/uPwZgRIXp0+4/aMhyxs9c7z/yKjIJy1vvP/IqMgnLW+8/DXfPJ0oG8T8Nd88nSgbxPw13zydKBvE/hY49tW0I8T9UWqaU+sPwP1RappT6w/A/VFqmlPrD8D/xtuiUH8bwP8N2CMVdHPI/w3YIxV0c8j/DdgjFXRzyP1/TSsWCHvI/ZWJnhxO98j8Cqt3t6vr0P/aZ5Xl6UPU/ZRIML9GD9T/2zwN8Zxr2P/bPA3xnGvY/9s8DfGca9j/2zwN8Zxr2P4sAjdnmU/U/HYhmJJAg9T+RB+Ll9WLyP5EH4uX1YvI/VMNSURJ08j8=",
          "dtype": "f8"
         },
         "yaxis": "y"
        },
        {
         "hovertemplate": "variable=Labor<br>Year=%{x}<br>Input/Output development=%{y}<extra></extra>",
         "legendgroup": "Labor",
         "line": {
          "color": "#ab63fa",
          "dash": "solid"
         },
         "marker": {
          "symbol": "circle"
         },
         "mode": "lines",
         "name": "Labor",
         "orientation": "v",
         "showlegend": true,
         "type": "scatter",
         "x": {
          "bdata": "qQeqB6sHrAetB64HrwewB7EHsgezB7QHtQe2B7cHuAe5B7oHuwe8B70Hvge/B8AHwQfCB8MHxAfFB8YHxwfIB8kHygfLB8wHzQfOB88H0AfRB9IH0wfUB9UH1gfXB9gH2QfaB9sH3AfdB94H3wfgB+EH4gfjB+QH5Qc=",
          "dtype": "i2"
         },
         "xaxis": "x",
         "y": {
          "bdata": "AAAAAAAA8D+iWNPDpRfwP52lWoOqMfA/P/4tR1BJ8D93fq89U2PwPxnXggH5evA/FCQKwf2U8D8gVS9SRqrwPyuGVOOOv/A/oY/LQXrS8D/qSeY6q+DwP283+2ra7vA/jKK5/lD48D8QkM4ugAbxP/Bxl1oOF/E/ZXsOufkp8T9xrDNKQj/xP9bRDNfpVvE/O6HqMqd18T9jPc5XZpTxP+N3akeavPE/+tm0aSvn8T+oY62+GRTyPxm6q9wJQfI/MBz2/ppr8j+xVpLuzpPyPzKRLt4CvPI/hnxuaHzf8j8Xm6gp9ALzP9VeOoEQJPM/jhlYZ0dm8z+G0MzVrbPzP5bgMsld+fM/Zymln8RS9D8iQUCVDIL0PyI4pUuSrfQ/6kpiRUjo9D9eYzvWQiz1PykO4t+3cfU/qYMsfMxZ9T+hEsnyOnv1P8VMxpQVmfU/ppPsI53T9T+qECAriw32P95/C7CNafY/BG7fByW29j/M/w9MsQD3P7HXNIgJuvc/D9nIxlx1+D+U4ejOYhr5P7mfgIK0ufk/1ZTivGlD+j++5iykYqX6P4KofriW8Po/IS66v5w9+z968jEXtpL7P23YTgxl6/s/h+nfmEo7/D/mLr3N+Ir8P63Qc77tNfw/7z8sZ2RT/D8=",
          "dtype": "f8"
         },
         "yaxis": "y"
        },
        {
         "hovertemplate": "variable=Capital<br>Year=%{x}<br>Input/Output development=%{y}<extra></extra>",
         "legendgroup": "Capital",
         "line": {
          "color": "#FFA15A",
          "dash": "solid"
         },
         "marker": {
          "symbol": "circle"
         },
         "mode": "lines",
         "name": "Capital",
         "orientation": "v",
         "showlegend": true,
         "type": "scatter",
         "x": {
          "bdata": "qQeqB6sHrAetB64HrwewB7EHsgezB7QHtQe2B7cHuAe5B7oHuwe8B70Hvge/B8AHwQfCB8MHxAfFB8YHxwfIB8kHygfLB8wHzQfOB88H0AfRB9IH0wfUB9UH1gfXB9gH2QfaB9sH3AfdB94H3wfgB+EH4gfjB+QH5Qc=",
          "dtype": "i2"
         },
         "xaxis": "x",
         "y": {
          "bdata": "AAAAAAAA8D/+7TbXaKjwP6CXR0taT/E/520jUJsB8j8oiGuqjLfyP1OccNrfTvM/WQgbEx4K9D/7OMRE68f0P+t2ZR3bYfU/dQDrYoA49j83+5yOB0j3PzGeMa/nAPg/5yAZjIBT+D8qsDc+Y2P4P6dbWWw6tPg/RNGDlMtW+T//fyglsvT5P/HeezxTufo/fLsZh95b+z+iVZlGQKv7P4FMsaX8L/w/78836pSN/D85FwXjnEz9P7Ai9VyT/P0/yDHMA1xW/j/GgrrGGmD+P4BsUA2nXP4/iiNHuWlm/j8HUPnBd1n+Pwt4I8GFMvw/khL+vfBg+z+4xQYk8SH8P1TcXPpJzfo//B9B/HL/+T/Ad/82XDf5P6T4mPMq1fg/1xPL95za+D9dHzriHdr4P/lzssv9Ufk/IYO0aVk9+j90xUr3PsP6P5/CPXllzvo/tItsbuNm+j8j3ktKVmP6P09+OYDH4Po/4vmmJ9Uf+z9WSQyENVH8P9/9ME9bFP0/GNv+4MGK/T8D4BPiCrD9P1jibzS1ov0/1IvEJhZt/T+gWjgP2oD9P/8KAB7Wv/0/xX+LM0bV/T9bxhbL/8T9P4usACyzwf0/puoXk5Wv/T+VZAx5iaz9P1nk5iwniP0/LurPKWQ7+D8=",
          "dtype": "f8"
         },
         "yaxis": "y"
        },
        {
         "hovertemplate": "variable=Materials<br>Year=%{x}<br>Input/Output development=%{y}<extra></extra>",
         "legendgroup": "Materials",
         "line": {
          "color": "#19d3f3",
          "dash": "solid"
         },
         "marker": {
          "symbol": "circle"
         },
         "mode": "lines",
         "name": "Materials",
         "orientation": "v",
         "showlegend": true,
         "type": "scatter",
         "x": {
          "bdata": "qQeqB6sHrAetB64HrwewB7EHsgezB7QHtQe2B7cHuAe5B7oHuwe8B70Hvge/B8AHwQfCB8MHxAfFB8YHxwfIB8kHygfLB8wHzQfOB88H0AfRB9IH0wfUB9UH1gfXB9gH2QfaB9sH3AfdB94H3wfgB+EH4gfjB+QH5Qc=",
          "dtype": "i2"
         },
         "xaxis": "x",
         "y": {
          "bdata": "AAAAAAAA8D82/nCbJFDwPyt5pKR5kvA/MWlD5DIu8T+87Q9lbhvxP4cc3XVwHvE/ZFKyEWyZ8T8PsE+TK0PxP/bNSOjyzPI/B8g0P1o38z8cLT+1dyz0PyiOlEhwcfI/EhQve/BS7z8TocZ8Bd/tP28UHB4aRO0/2xPUf9db7T/9az3oWMnwP9a0jjcnlPA/BnWp8OuU8T9VIC74gdTuP+2579PZDuw/XaCw05SL7D/pz+jIqZHoP4T4KwYL/+U/M0dos2Ll5T9tiimgwIvnP2lUpdZaQ+Y/71BrkJvp5T/AsCLL7uzlPw5cp9KELOM/nlbYZ3Pb4z+oHlvU34nqP6DBCqiINuY/yxSTUXMd7D+fQuivW53pP5LNhd7xRuw/uxhQkEH37T9KLFmqbqPtPz726ljS9ek//t1gMk0o8j/hzsRI4eT0P0pxZor6T/I/SWbv7UR18z9zn++qjv/xP7vZAif9CfI/+z6d7cAu8z+S72l0vJLyP5eM89TXo/A/y25AUXln+z+N49e8OA77PyxJfKx/9/Y/IANqKe87B0BItOtYA536Pzu3qKvy1QBAc24DKtM0/j93hCtv8ZD9P5uAaCvkVwBA63LH7KAX/z/ZsiwR+AoAQAfq5y1s3/o/f1PQjPXm+T8=",
          "dtype": "f8"
         },
         "yaxis": "y"
        }
       ],
       "layout": {
        "legend": {
         "title": {
          "text": "variable"
         },
         "tracegroupgap": 0
        },
        "template": {
         "data": {
          "bar": [
           {
            "error_x": {
             "color": "#2a3f5f"
            },
            "error_y": {
             "color": "#2a3f5f"
            },
            "marker": {
             "line": {
              "color": "#E5ECF6",
              "width": 0.5
             },
             "pattern": {
              "fillmode": "overlay",
              "size": 10,
              "solidity": 0.2
             }
            },
            "type": "bar"
           }
          ],
          "barpolar": [
           {
            "marker": {
             "line": {
              "color": "#E5ECF6",
              "width": 0.5
             },
             "pattern": {
              "fillmode": "overlay",
              "size": 10,
              "solidity": 0.2
             }
            },
            "type": "barpolar"
           }
          ],
          "carpet": [
           {
            "aaxis": {
             "endlinecolor": "#2a3f5f",
             "gridcolor": "white",
             "linecolor": "white",
             "minorgridcolor": "white",
             "startlinecolor": "#2a3f5f"
            },
            "baxis": {
             "endlinecolor": "#2a3f5f",
             "gridcolor": "white",
             "linecolor": "white",
             "minorgridcolor": "white",
             "startlinecolor": "#2a3f5f"
            },
            "type": "carpet"
           }
          ],
          "choropleth": [
           {
            "colorbar": {
             "outlinewidth": 0,
             "ticks": ""
            },
            "type": "choropleth"
           }
          ],
          "contour": [
           {
            "colorbar": {
             "outlinewidth": 0,
             "ticks": ""
            },
            "colorscale": [
             [
              0,
              "#0d0887"
             ],
             [
              0.1111111111111111,
              "#46039f"
             ],
             [
              0.2222222222222222,
              "#7201a8"
             ],
             [
              0.3333333333333333,
              "#9c179e"
             ],
             [
              0.4444444444444444,
              "#bd3786"
             ],
             [
              0.5555555555555556,
              "#d8576b"
             ],
             [
              0.6666666666666666,
              "#ed7953"
             ],
             [
              0.7777777777777778,
              "#fb9f3a"
             ],
             [
              0.8888888888888888,
              "#fdca26"
             ],
             [
              1,
              "#f0f921"
             ]
            ],
            "type": "contour"
           }
          ],
          "contourcarpet": [
           {
            "colorbar": {
             "outlinewidth": 0,
             "ticks": ""
            },
            "type": "contourcarpet"
           }
          ],
          "heatmap": [
           {
            "colorbar": {
             "outlinewidth": 0,
             "ticks": ""
            },
            "colorscale": [
             [
              0,
              "#0d0887"
             ],
             [
              0.1111111111111111,
              "#46039f"
             ],
             [
              0.2222222222222222,
              "#7201a8"
             ],
             [
              0.3333333333333333,
              "#9c179e"
             ],
             [
              0.4444444444444444,
              "#bd3786"
             ],
             [
              0.5555555555555556,
              "#d8576b"
             ],
             [
              0.6666666666666666,
              "#ed7953"
             ],
             [
              0.7777777777777778,
              "#fb9f3a"
             ],
             [
              0.8888888888888888,
              "#fdca26"
             ],
             [
              1,
              "#f0f921"
             ]
            ],
            "type": "heatmap"
           }
          ],
          "histogram": [
           {
            "marker": {
             "pattern": {
              "fillmode": "overlay",
              "size": 10,
              "solidity": 0.2
             }
            },
            "type": "histogram"
           }
          ],
          "histogram2d": [
           {
            "colorbar": {
             "outlinewidth": 0,
             "ticks": ""
            },
            "colorscale": [
             [
              0,
              "#0d0887"
             ],
             [
              0.1111111111111111,
              "#46039f"
             ],
             [
              0.2222222222222222,
              "#7201a8"
             ],
             [
              0.3333333333333333,
              "#9c179e"
             ],
             [
              0.4444444444444444,
              "#bd3786"
             ],
             [
              0.5555555555555556,
              "#d8576b"
             ],
             [
              0.6666666666666666,
              "#ed7953"
             ],
             [
              0.7777777777777778,
              "#fb9f3a"
             ],
             [
              0.8888888888888888,
              "#fdca26"
             ],
             [
              1,
              "#f0f921"
             ]
            ],
            "type": "histogram2d"
           }
          ],
          "histogram2dcontour": [
           {
            "colorbar": {
             "outlinewidth": 0,
             "ticks": ""
            },
            "colorscale": [
             [
              0,
              "#0d0887"
             ],
             [
              0.1111111111111111,
              "#46039f"
             ],
             [
              0.2222222222222222,
              "#7201a8"
             ],
             [
              0.3333333333333333,
              "#9c179e"
             ],
             [
              0.4444444444444444,
              "#bd3786"
             ],
             [
              0.5555555555555556,
              "#d8576b"
             ],
             [
              0.6666666666666666,
              "#ed7953"
             ],
             [
              0.7777777777777778,
              "#fb9f3a"
             ],
             [
              0.8888888888888888,
              "#fdca26"
             ],
             [
              1,
              "#f0f921"
             ]
            ],
            "type": "histogram2dcontour"
           }
          ],
          "mesh3d": [
           {
            "colorbar": {
             "outlinewidth": 0,
             "ticks": ""
            },
            "type": "mesh3d"
           }
          ],
          "parcoords": [
           {
            "line": {
             "colorbar": {
              "outlinewidth": 0,
              "ticks": ""
             }
            },
            "type": "parcoords"
           }
          ],
          "pie": [
           {
            "automargin": true,
            "type": "pie"
           }
          ],
          "scatter": [
           {
            "fillpattern": {
             "fillmode": "overlay",
             "size": 10,
             "solidity": 0.2
            },
            "type": "scatter"
           }
          ],
          "scatter3d": [
           {
            "line": {
             "colorbar": {
              "outlinewidth": 0,
              "ticks": ""
             }
            },
            "marker": {
             "colorbar": {
              "outlinewidth": 0,
              "ticks": ""
             }
            },
            "type": "scatter3d"
           }
          ],
          "scattercarpet": [
           {
            "marker": {
             "colorbar": {
              "outlinewidth": 0,
              "ticks": ""
             }
            },
            "type": "scattercarpet"
           }
          ],
          "scattergeo": [
           {
            "marker": {
             "colorbar": {
              "outlinewidth": 0,
              "ticks": ""
             }
            },
            "type": "scattergeo"
           }
          ],
          "scattergl": [
           {
            "marker": {
             "colorbar": {
              "outlinewidth": 0,
              "ticks": ""
             }
            },
            "type": "scattergl"
           }
          ],
          "scattermap": [
           {
            "marker": {
             "colorbar": {
              "outlinewidth": 0,
              "ticks": ""
             }
            },
            "type": "scattermap"
           }
          ],
          "scattermapbox": [
           {
            "marker": {
             "colorbar": {
              "outlinewidth": 0,
              "ticks": ""
             }
            },
            "type": "scattermapbox"
           }
          ],
          "scatterpolar": [
           {
            "marker": {
             "colorbar": {
              "outlinewidth": 0,
              "ticks": ""
             }
            },
            "type": "scatterpolar"
           }
          ],
          "scatterpolargl": [
           {
            "marker": {
             "colorbar": {
              "outlinewidth": 0,
              "ticks": ""
             }
            },
            "type": "scatterpolargl"
           }
          ],
          "scatterternary": [
           {
            "marker": {
             "colorbar": {
              "outlinewidth": 0,
              "ticks": ""
             }
            },
            "type": "scatterternary"
           }
          ],
          "surface": [
           {
            "colorbar": {
             "outlinewidth": 0,
             "ticks": ""
            },
            "colorscale": [
             [
              0,
              "#0d0887"
             ],
             [
              0.1111111111111111,
              "#46039f"
             ],
             [
              0.2222222222222222,
              "#7201a8"
             ],
             [
              0.3333333333333333,
              "#9c179e"
             ],
             [
              0.4444444444444444,
              "#bd3786"
             ],
             [
              0.5555555555555556,
              "#d8576b"
             ],
             [
              0.6666666666666666,
              "#ed7953"
             ],
             [
              0.7777777777777778,
              "#fb9f3a"
             ],
             [
              0.8888888888888888,
              "#fdca26"
             ],
             [
              1,
              "#f0f921"
             ]
            ],
            "type": "surface"
           }
          ],
          "table": [
           {
            "cells": {
             "fill": {
              "color": "#EBF0F8"
             },
             "line": {
              "color": "white"
             }
            },
            "header": {
             "fill": {
              "color": "#C8D4E3"
             },
             "line": {
              "color": "white"
             }
            },
            "type": "table"
           }
          ]
         },
         "layout": {
          "annotationdefaults": {
           "arrowcolor": "#2a3f5f",
           "arrowhead": 0,
           "arrowwidth": 1
          },
          "autotypenumbers": "strict",
          "coloraxis": {
           "colorbar": {
            "outlinewidth": 0,
            "ticks": ""
           }
          },
          "colorscale": {
           "diverging": [
            [
             0,
             "#8e0152"
            ],
            [
             0.1,
             "#c51b7d"
            ],
            [
             0.2,
             "#de77ae"
            ],
            [
             0.3,
             "#f1b6da"
            ],
            [
             0.4,
             "#fde0ef"
            ],
            [
             0.5,
             "#f7f7f7"
            ],
            [
             0.6,
             "#e6f5d0"
            ],
            [
             0.7,
             "#b8e186"
            ],
            [
             0.8,
             "#7fbc41"
            ],
            [
             0.9,
             "#4d9221"
            ],
            [
             1,
             "#276419"
            ]
           ],
           "sequential": [
            [
             0,
             "#0d0887"
            ],
            [
             0.1111111111111111,
             "#46039f"
            ],
            [
             0.2222222222222222,
             "#7201a8"
            ],
            [
             0.3333333333333333,
             "#9c179e"
            ],
            [
             0.4444444444444444,
             "#bd3786"
            ],
            [
             0.5555555555555556,
             "#d8576b"
            ],
            [
             0.6666666666666666,
             "#ed7953"
            ],
            [
             0.7777777777777778,
             "#fb9f3a"
            ],
            [
             0.8888888888888888,
             "#fdca26"
            ],
            [
             1,
             "#f0f921"
            ]
           ],
           "sequentialminus": [
            [
             0,
             "#0d0887"
            ],
            [
             0.1111111111111111,
             "#46039f"
            ],
            [
             0.2222222222222222,
             "#7201a8"
            ],
            [
             0.3333333333333333,
             "#9c179e"
            ],
            [
             0.4444444444444444,
             "#bd3786"
            ],
            [
             0.5555555555555556,
             "#d8576b"
            ],
            [
             0.6666666666666666,
             "#ed7953"
            ],
            [
             0.7777777777777778,
             "#fb9f3a"
            ],
            [
             0.8888888888888888,
             "#fdca26"
            ],
            [
             1,
             "#f0f921"
            ]
           ]
          },
          "colorway": [
           "#636efa",
           "#EF553B",
           "#00cc96",
           "#ab63fa",
           "#FFA15A",
           "#19d3f3",
           "#FF6692",
           "#B6E880",
           "#FF97FF",
           "#FECB52"
          ],
          "font": {
           "color": "#2a3f5f"
          },
          "geo": {
           "bgcolor": "white",
           "lakecolor": "white",
           "landcolor": "#E5ECF6",
           "showlakes": true,
           "showland": true,
           "subunitcolor": "white"
          },
          "hoverlabel": {
           "align": "left"
          },
          "hovermode": "closest",
          "mapbox": {
           "style": "light"
          },
          "paper_bgcolor": "white",
          "plot_bgcolor": "#E5ECF6",
          "polar": {
           "angularaxis": {
            "gridcolor": "white",
            "linecolor": "white",
            "ticks": ""
           },
           "bgcolor": "#E5ECF6",
           "radialaxis": {
            "gridcolor": "white",
            "linecolor": "white",
            "ticks": ""
           }
          },
          "scene": {
           "xaxis": {
            "backgroundcolor": "#E5ECF6",
            "gridcolor": "white",
            "gridwidth": 2,
            "linecolor": "white",
            "showbackground": true,
            "ticks": "",
            "zerolinecolor": "white"
           },
           "yaxis": {
            "backgroundcolor": "#E5ECF6",
            "gridcolor": "white",
            "gridwidth": 2,
            "linecolor": "white",
            "showbackground": true,
            "ticks": "",
            "zerolinecolor": "white"
           },
           "zaxis": {
            "backgroundcolor": "#E5ECF6",
            "gridcolor": "white",
            "gridwidth": 2,
            "linecolor": "white",
            "showbackground": true,
            "ticks": "",
            "zerolinecolor": "white"
           }
          },
          "shapedefaults": {
           "line": {
            "color": "#2a3f5f"
           }
          },
          "ternary": {
           "aaxis": {
            "gridcolor": "white",
            "linecolor": "white",
            "ticks": ""
           },
           "baxis": {
            "gridcolor": "white",
            "linecolor": "white",
            "ticks": ""
           },
           "bgcolor": "#E5ECF6",
           "caxis": {
            "gridcolor": "white",
            "linecolor": "white",
            "ticks": ""
           }
          },
          "title": {
           "x": 0.05
          },
          "xaxis": {
           "automargin": true,
           "gridcolor": "white",
           "linecolor": "white",
           "ticks": "",
           "title": {
            "standoff": 15
           },
           "zerolinecolor": "white",
           "zerolinewidth": 2
          },
          "yaxis": {
           "automargin": true,
           "gridcolor": "white",
           "linecolor": "white",
           "ticks": "",
           "title": {
            "standoff": 15
           },
           "zerolinecolor": "white",
           "zerolinewidth": 2
          }
         }
        },
        "title": {
         "text": "Factor development and Agricultural Output levels since 1961"
        },
        "xaxis": {
         "anchor": "y",
         "domain": [
          0,
          1
         ],
         "title": {
          "text": "Year"
         }
        },
        "yaxis": {
         "anchor": "x",
         "domain": [
          0,
          1
         ],
         "title": {
          "text": "Input/Output development"
         }
        }
       }
      }
     },
     "metadata": {},
     "output_type": "display_data"
    }
   ],
   "source": [
    "df = get_ag_data()\n",
    "select = df.xs('Haiti',level='Country').dropna(how='any')\n",
    "\n",
    "dselect = np.log(select).diff()\n",
    "dselect['Inputs'] = dselect['Output'] - dselect['TFP']\n",
    "\n",
    "dselect.mean()\n",
    "\n",
    "select = select/select.loc[1961,:]\n",
    "select.plot(title='Factor development and Agricultural Output levels since 1961',labels={'value':'Input/Output development', 'date':'year'})\n"
   ]
  },
  {
   "cell_type": "code",
   "execution_count": null,
   "metadata": {},
   "outputs": [],
   "source": []
  }
 ],
 "metadata": {
  "kernelspec": {
   "display_name": ".venv",
   "language": "python",
   "name": "python3"
  },
  "language_info": {
   "codemirror_mode": {
    "name": "ipython",
    "version": 3
   },
   "file_extension": ".py",
   "mimetype": "text/x-python",
   "name": "python",
   "nbconvert_exporter": "python",
   "pygments_lexer": "ipython3",
   "version": "3.12.8"
  }
 },
 "nbformat": 4,
 "nbformat_minor": 4
}
