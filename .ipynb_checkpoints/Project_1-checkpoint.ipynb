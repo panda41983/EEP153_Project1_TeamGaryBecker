{
 "cells": [
  {
   "cell_type": "markdown",
   "metadata": {},
   "source": [
    "# Project 1: Population & Food Supply"
   ]
  },
  {
   "cell_type": "code",
   "execution_count": 8,
   "metadata": {},
   "outputs": [],
   "source": [
    "# %pip install wbdata\n",
    "# %pip install pandas\n",
    "# %pip install plotly\n",
    "# %pip install geopandas\n",
    "# %pip install matplotlib\n",
    "\n",
    "import matplotlib.pyplot as plt\n",
    "import statistics\n",
    "import geopandas as gpd\n",
    "import wbdata\n",
    "import pandas as pd\n",
    "import plotly.offline as py\n",
    "import plotly.graph_objs as go\n",
    "from datetime import datetime\n",
    "import numpy as np\n",
    "import warnings\n",
    "import plotly.express as px\n",
    "\n",
    "warnings.filterwarnings(\"ignore\")"
   ]
  },
  {
   "cell_type": "markdown",
   "metadata": {},
   "source": [
    "### Population Statistics Function"
   ]
  },
  {
   "cell_type": "markdown",
   "metadata": {},
   "source": [
    "Credit: our code for this section was inspired by the John Graunt example group."
   ]
  },
  {
   "cell_type": "code",
   "execution_count": 11,
   "metadata": {},
   "outputs": [
    {
     "data": {
      "text/plain": [
       "736914"
      ]
     },
     "execution_count": 11,
     "metadata": {},
     "output_type": "execute_result"
    }
   ],
   "source": [
    "countries = wbdata.get_countries()\n",
    "country_dict = {}\n",
    "\n",
    "# Iterate over the WBSearchResult object, Create Dictionary.\n",
    "# This dictionary is necessary so that we know which country\n",
    "# names map to which 3-letter country codes.\n",
    "for country in countries:\n",
    "    country_code = country['id']\n",
    "    country_name = country['name']\n",
    "\n",
    "    # Add to the dictionary the country name.\n",
    "    country_dict[country_name] = country_code\n",
    "\n",
    "def int_to_str(num):\n",
    "    \"\"\"Convert the integer to the proper format.\"\"\"\n",
    "    if 0 <= num < 10:\n",
    "        # Add a '0' prefix if it is a single digit.\n",
    "        return f\"0{num}\"\n",
    "    else:\n",
    "        # Convert to string directly if it is a two-digit number.\n",
    "        return str(num)\n",
    "\n",
    "def population_range(year, sex, age_range, place):\n",
    "    \"\"\"This function will return the population for a certain age range.\"\"\"\n",
    "    sex_codes = {\"people\": \"\", \"females\": \"FE\", \"males\": \"MA\"}\n",
    "    sex_used = sex_codes[sex]\n",
    "\n",
    "    # Getting the lower and upper bounds for date into correct format.\n",
    "    lower, upper = int_to_str(age_range[0]), int_to_str(age_range[1])\n",
    "    range_string = lower + upper\n",
    "\n",
    "    # Getting the country code via the name.\n",
    "    country_code = country_dict.get(place)\n",
    "\n",
    "    df = wbdata.get_dataframe({\"SP.POP.\" + range_string + \".\" + sex_used: \"Population\"},\n",
    "                              country= {country_code: place}).squeeze()\n",
    "    df = df.to_frame().reset_index()\n",
    "    population_total = int(df[df[\"date\"] == str(year)][\"Population\"].iloc[0])\n",
    "    return population_total\n",
    "\n",
    "# function to return the population for people over 80\n",
    "def over_80_pop(year, sex, place):\n",
    "    sex_codes = {\"people\": \"\", \"females\": \"FE\", \"males\": \"MA\"}\n",
    "    sex_used = sex_codes[sex]\n",
    "    country_code = country_dict.get(place)\n",
    "\n",
    "    df = wbdata.get_dataframe({\"SP.POP.\" + \"80UP\" + \".\" + sex_used: \"Population\"},\n",
    "                              country= {country_code: place}).squeeze()\n",
    "    df = df.to_frame().reset_index()\n",
    "    population_total = int(df[df[\"date\"] == str(year)][\"Population\"].iloc[0])\n",
    "    return population_total\n",
    "\n",
    "\n",
    "def dict_helper(year, sex, age_range, place):\n",
    "    \"\"\"This will expand our function to include every age specified possible.\"\"\"\n",
    "    if len(age_range) == 1:\n",
    "        age_range = [age_range[0], age_range[0]]\n",
    "    elif age_range[1] < age_range[0]:\n",
    "      raise ValueError(f\"Please ensure that the second value in the range is greater than the first.\")\n",
    "\n",
    "    minimum_age, maximum_age = age_range\n",
    "    possible_minimums = [i for i in range(0, 76, 5)]\n",
    "    possible_maximums = [i for i in range(4, 80, 5)]\n",
    "\n",
    "    my_dict = {}\n",
    "    for age in range(minimum_age, maximum_age + 1):\n",
    "        \"\"\"Find the index in the possible ranges that includes the current age.\"\"\"\n",
    "        range_index = next((i for i, min_val in enumerate(possible_minimums) if\n",
    "                            min_val <= age and age <= possible_maximums[i]), None)\n",
    "        if range_index is not None:\n",
    "            popl_value = population_range(year, sex, [possible_minimums[range_index], possible_maximums[range_index]], place) // 5\n",
    "            my_dict[age] = popl_value\n",
    "        elif age >= 80 and age <= 100:\n",
    "            my_dict[age] = over_80_pop(year, sex, place) / 20\n",
    "        else:\n",
    "            raise ValueError(f\"No age range available for age {age}\")\n",
    "\n",
    "    return my_dict\n",
    "\n",
    "\n",
    "def population(year, sex, age_range, place):\n",
    "    \"\"\"This function ties everything together, returning population for given age ranges.\n",
    "    During usage, please utilize the following format:\n",
    "    Arguments to Use:\n",
    "    Year (int): the specified year, works from 1960-2021.\n",
    "    Sex (string): Anything from all, people, p, P, People, All, Everyone, female, females, f, Female, \n",
    "                Females, F, FE, male, males, m, Male, Males, M, MA works.\n",
    "    Age Range (list with length 2, 2 integers): A list of the age bounds.\n",
    "    Place (string): A string of the specified location.\n",
    "    \"\"\"\n",
    "    if place not in country_dict:\n",
    "        valid_regions = \", \".join(country_dict.keys())\n",
    "        raise ValueError(f\"The region '{place}' is not valid. Please choose from the following regions: {valid_regions}\")\n",
    "    if sex in [\"all\", \"people\", \"p\", \"P\", \"People\", \"All\", \"Everyone\"]:\n",
    "      female_dict = dict_helper(year, \"females\", age_range, place)\n",
    "      male_dict = dict_helper(year, \"males\", age_range, place)\n",
    "      return sum(female_dict.values()) + sum(male_dict.values())\n",
    "    elif sex in [\"female\", \"females\", \"f\", \"Female\", \"Females\", \"F\", \"FE\"]:\n",
    "      female_dict = dict_helper(year, \"females\", age_range, place)\n",
    "      return sum(female_dict.values())\n",
    "    elif sex in [\"male\", \"males\", \"m\", \"Male\", \"Males\", \"M\", \"MA\"]:\n",
    "      male_dict = dict_helper(year, \"males\", age_range, place)\n",
    "      return sum(male_dict.values())\n",
    "        \n",
    "population(2023, \"People\", [5, 7], \"Haiti\")"
   ]
  },
  {
   "cell_type": "code",
   "execution_count": 12,
   "metadata": {},
   "outputs": [
    {
     "data": {
      "text/plain": [
       "7997756448.5"
      ]
     },
     "execution_count": 12,
     "metadata": {},
     "output_type": "execute_result"
    }
   ],
   "source": [
    "population(2022, \"people\", [0,100], \"World\")"
   ]
  },
  {
   "cell_type": "code",
   "execution_count": 13,
   "metadata": {},
   "outputs": [
    {
     "data": {
      "text/plain": [
       "11640516.0"
      ]
     },
     "execution_count": 13,
     "metadata": {},
     "output_type": "execute_result"
    }
   ],
   "source": [
    "population(2023, \"people\", [0,100], \"Haiti\")"
   ]
  },
  {
   "cell_type": "markdown",
   "metadata": {},
   "source": [
    "### Popualtion Dataframe"
   ]
  },
  {
   "cell_type": "markdown",
   "metadata": {},
   "source": [
    "Credit: our code was based off the John Graunt group's example."
   ]
  },
  {
   "cell_type": "code",
   "execution_count": 14,
   "metadata": {},
   "outputs": [],
   "source": [
    "def create_population_dataframe(regions, years, age_range):\n",
    "    \"\"\"Creates the population DataFrame based on the regions, years, and age ranges wanted.\n",
    "    During usage, please utilize the following format:\n",
    "    Arguments to Use:\n",
    "    regions (list of strings, any length): the specified year, works from 1960-2022.\n",
    "    years (list of ints, any length): Anything from all, people, p, P, People, All, Everyone, female, females, f, Female, \n",
    "                Females, F, FE, male, males, m, Male, Males, M, MA works.\n",
    "    age_range (list of two ints): the age bounds specified, second must be greater than the first.\n",
    "    \"\"\"\n",
    "    data = []\n",
    "\n",
    "    # Check if age_range is a single age or a range.\n",
    "    if len(age_range) == 1:\n",
    "        full_age_range = [age_range[0]]\n",
    "    else:\n",
    "        full_age_range = list(range(age_range[0], age_range[1] + 1))\n",
    "\n",
    "    # Iterate over each region, year, and age.\"\n",
    "    for region in regions:\n",
    "        for year in years:\n",
    "            row = {'Region': region, 'Year': year}\n",
    "            for age in full_age_range:\n",
    "                male_population = population(year, 'male', [age], region)\n",
    "                female_population = population(year, 'female', [age], region)\n",
    "                total_population = male_population + female_population\n",
    "\n",
    "                row[f'Male Population Age {age}'] = male_population\n",
    "                row[f'Female Population Age {age}'] = female_population\n",
    "                row[f'Total Population Age {age}'] = total_population\n",
    "\n",
    "            data.append(row)\n",
    "\n",
    "    # Create a DataFrame.\n",
    "    df = pd.DataFrame(data)\n",
    "\n",
    "    # Set the index.\n",
    "    df.set_index(['Region', 'Year'], inplace=True)\n",
    "\n",
    "    return df"
   ]
  },
  {
   "cell_type": "code",
   "execution_count": 15,
   "metadata": {},
   "outputs": [
    {
     "data": {
      "text/html": [
       "<div>\n",
       "<style scoped>\n",
       "    .dataframe tbody tr th:only-of-type {\n",
       "        vertical-align: middle;\n",
       "    }\n",
       "\n",
       "    .dataframe tbody tr th {\n",
       "        vertical-align: top;\n",
       "    }\n",
       "\n",
       "    .dataframe thead th {\n",
       "        text-align: right;\n",
       "    }\n",
       "</style>\n",
       "<table border=\"1\" class=\"dataframe\">\n",
       "  <thead>\n",
       "    <tr style=\"text-align: right;\">\n",
       "      <th></th>\n",
       "      <th></th>\n",
       "      <th>Male Population Age 0</th>\n",
       "      <th>Female Population Age 0</th>\n",
       "      <th>Total Population Age 0</th>\n",
       "      <th>Male Population Age 1</th>\n",
       "      <th>Female Population Age 1</th>\n",
       "      <th>Total Population Age 1</th>\n",
       "      <th>Male Population Age 2</th>\n",
       "      <th>Female Population Age 2</th>\n",
       "      <th>Total Population Age 2</th>\n",
       "      <th>Male Population Age 3</th>\n",
       "      <th>...</th>\n",
       "      <th>Total Population Age 77</th>\n",
       "      <th>Male Population Age 78</th>\n",
       "      <th>Female Population Age 78</th>\n",
       "      <th>Total Population Age 78</th>\n",
       "      <th>Male Population Age 79</th>\n",
       "      <th>Female Population Age 79</th>\n",
       "      <th>Total Population Age 79</th>\n",
       "      <th>Male Population Age 80</th>\n",
       "      <th>Female Population Age 80</th>\n",
       "      <th>Total Population Age 80</th>\n",
       "    </tr>\n",
       "    <tr>\n",
       "      <th>Region</th>\n",
       "      <th>Year</th>\n",
       "      <th></th>\n",
       "      <th></th>\n",
       "      <th></th>\n",
       "      <th></th>\n",
       "      <th></th>\n",
       "      <th></th>\n",
       "      <th></th>\n",
       "      <th></th>\n",
       "      <th></th>\n",
       "      <th></th>\n",
       "      <th></th>\n",
       "      <th></th>\n",
       "      <th></th>\n",
       "      <th></th>\n",
       "      <th></th>\n",
       "      <th></th>\n",
       "      <th></th>\n",
       "      <th></th>\n",
       "      <th></th>\n",
       "      <th></th>\n",
       "      <th></th>\n",
       "    </tr>\n",
       "  </thead>\n",
       "  <tbody>\n",
       "    <tr>\n",
       "      <th rowspan=\"24\" valign=\"top\">Haiti</th>\n",
       "      <th>1990</th>\n",
       "      <td>110694</td>\n",
       "      <td>109899</td>\n",
       "      <td>220593</td>\n",
       "      <td>110694</td>\n",
       "      <td>109899</td>\n",
       "      <td>220593</td>\n",
       "      <td>110694</td>\n",
       "      <td>109899</td>\n",
       "      <td>220593</td>\n",
       "      <td>110694</td>\n",
       "      <td>...</td>\n",
       "      <td>9643</td>\n",
       "      <td>3886</td>\n",
       "      <td>5757</td>\n",
       "      <td>9643</td>\n",
       "      <td>3886</td>\n",
       "      <td>5757</td>\n",
       "      <td>9643</td>\n",
       "      <td>588.95</td>\n",
       "      <td>989.00</td>\n",
       "      <td>1577.95</td>\n",
       "    </tr>\n",
       "    <tr>\n",
       "      <th>1991</th>\n",
       "      <td>112761</td>\n",
       "      <td>111911</td>\n",
       "      <td>224672</td>\n",
       "      <td>112761</td>\n",
       "      <td>111911</td>\n",
       "      <td>224672</td>\n",
       "      <td>112761</td>\n",
       "      <td>111911</td>\n",
       "      <td>224672</td>\n",
       "      <td>112761</td>\n",
       "      <td>...</td>\n",
       "      <td>9737</td>\n",
       "      <td>3920</td>\n",
       "      <td>5817</td>\n",
       "      <td>9737</td>\n",
       "      <td>3920</td>\n",
       "      <td>5817</td>\n",
       "      <td>9737</td>\n",
       "      <td>600.90</td>\n",
       "      <td>1010.35</td>\n",
       "      <td>1611.25</td>\n",
       "    </tr>\n",
       "    <tr>\n",
       "      <th>1992</th>\n",
       "      <td>114464</td>\n",
       "      <td>113556</td>\n",
       "      <td>228020</td>\n",
       "      <td>114464</td>\n",
       "      <td>113556</td>\n",
       "      <td>228020</td>\n",
       "      <td>114464</td>\n",
       "      <td>113556</td>\n",
       "      <td>228020</td>\n",
       "      <td>114464</td>\n",
       "      <td>...</td>\n",
       "      <td>9821</td>\n",
       "      <td>3947</td>\n",
       "      <td>5874</td>\n",
       "      <td>9821</td>\n",
       "      <td>3947</td>\n",
       "      <td>5874</td>\n",
       "      <td>9821</td>\n",
       "      <td>612.90</td>\n",
       "      <td>1030.75</td>\n",
       "      <td>1643.65</td>\n",
       "    </tr>\n",
       "    <tr>\n",
       "      <th>1993</th>\n",
       "      <td>115758</td>\n",
       "      <td>114788</td>\n",
       "      <td>230546</td>\n",
       "      <td>115758</td>\n",
       "      <td>114788</td>\n",
       "      <td>230546</td>\n",
       "      <td>115758</td>\n",
       "      <td>114788</td>\n",
       "      <td>230546</td>\n",
       "      <td>115758</td>\n",
       "      <td>...</td>\n",
       "      <td>9898</td>\n",
       "      <td>3970</td>\n",
       "      <td>5928</td>\n",
       "      <td>9898</td>\n",
       "      <td>3970</td>\n",
       "      <td>5928</td>\n",
       "      <td>9898</td>\n",
       "      <td>624.65</td>\n",
       "      <td>1050.20</td>\n",
       "      <td>1674.85</td>\n",
       "    </tr>\n",
       "    <tr>\n",
       "      <th>1994</th>\n",
       "      <td>116666</td>\n",
       "      <td>115632</td>\n",
       "      <td>232298</td>\n",
       "      <td>116666</td>\n",
       "      <td>115632</td>\n",
       "      <td>232298</td>\n",
       "      <td>116666</td>\n",
       "      <td>115632</td>\n",
       "      <td>232298</td>\n",
       "      <td>116666</td>\n",
       "      <td>...</td>\n",
       "      <td>9971</td>\n",
       "      <td>3993</td>\n",
       "      <td>5978</td>\n",
       "      <td>9971</td>\n",
       "      <td>3993</td>\n",
       "      <td>5978</td>\n",
       "      <td>9971</td>\n",
       "      <td>635.60</td>\n",
       "      <td>1068.55</td>\n",
       "      <td>1704.15</td>\n",
       "    </tr>\n",
       "    <tr>\n",
       "      <th>1995</th>\n",
       "      <td>117289</td>\n",
       "      <td>116189</td>\n",
       "      <td>233478</td>\n",
       "      <td>117289</td>\n",
       "      <td>116189</td>\n",
       "      <td>233478</td>\n",
       "      <td>117289</td>\n",
       "      <td>116189</td>\n",
       "      <td>233478</td>\n",
       "      <td>117289</td>\n",
       "      <td>...</td>\n",
       "      <td>10045</td>\n",
       "      <td>4019</td>\n",
       "      <td>6026</td>\n",
       "      <td>10045</td>\n",
       "      <td>4019</td>\n",
       "      <td>6026</td>\n",
       "      <td>10045</td>\n",
       "      <td>645.70</td>\n",
       "      <td>1086.85</td>\n",
       "      <td>1732.55</td>\n",
       "    </tr>\n",
       "    <tr>\n",
       "      <th>1996</th>\n",
       "      <td>117784</td>\n",
       "      <td>116624</td>\n",
       "      <td>234408</td>\n",
       "      <td>117784</td>\n",
       "      <td>116624</td>\n",
       "      <td>234408</td>\n",
       "      <td>117784</td>\n",
       "      <td>116624</td>\n",
       "      <td>234408</td>\n",
       "      <td>117784</td>\n",
       "      <td>...</td>\n",
       "      <td>10123</td>\n",
       "      <td>4047</td>\n",
       "      <td>6076</td>\n",
       "      <td>10123</td>\n",
       "      <td>4047</td>\n",
       "      <td>6076</td>\n",
       "      <td>10123</td>\n",
       "      <td>655.00</td>\n",
       "      <td>1105.80</td>\n",
       "      <td>1760.80</td>\n",
       "    </tr>\n",
       "    <tr>\n",
       "      <th>1997</th>\n",
       "      <td>118296</td>\n",
       "      <td>117073</td>\n",
       "      <td>235369</td>\n",
       "      <td>118296</td>\n",
       "      <td>117073</td>\n",
       "      <td>235369</td>\n",
       "      <td>118296</td>\n",
       "      <td>117073</td>\n",
       "      <td>235369</td>\n",
       "      <td>118296</td>\n",
       "      <td>...</td>\n",
       "      <td>10207</td>\n",
       "      <td>4079</td>\n",
       "      <td>6128</td>\n",
       "      <td>10207</td>\n",
       "      <td>4079</td>\n",
       "      <td>6128</td>\n",
       "      <td>10207</td>\n",
       "      <td>663.65</td>\n",
       "      <td>1125.05</td>\n",
       "      <td>1788.70</td>\n",
       "    </tr>\n",
       "    <tr>\n",
       "      <th>1998</th>\n",
       "      <td>118836</td>\n",
       "      <td>117550</td>\n",
       "      <td>236386</td>\n",
       "      <td>118836</td>\n",
       "      <td>117550</td>\n",
       "      <td>236386</td>\n",
       "      <td>118836</td>\n",
       "      <td>117550</td>\n",
       "      <td>236386</td>\n",
       "      <td>118836</td>\n",
       "      <td>...</td>\n",
       "      <td>10295</td>\n",
       "      <td>4114</td>\n",
       "      <td>6181</td>\n",
       "      <td>10295</td>\n",
       "      <td>4114</td>\n",
       "      <td>6181</td>\n",
       "      <td>10295</td>\n",
       "      <td>671.65</td>\n",
       "      <td>1144.20</td>\n",
       "      <td>1815.85</td>\n",
       "    </tr>\n",
       "    <tr>\n",
       "      <th>1999</th>\n",
       "      <td>119400</td>\n",
       "      <td>118068</td>\n",
       "      <td>237468</td>\n",
       "      <td>119400</td>\n",
       "      <td>118068</td>\n",
       "      <td>237468</td>\n",
       "      <td>119400</td>\n",
       "      <td>118068</td>\n",
       "      <td>237468</td>\n",
       "      <td>119400</td>\n",
       "      <td>...</td>\n",
       "      <td>10380</td>\n",
       "      <td>4148</td>\n",
       "      <td>6232</td>\n",
       "      <td>10380</td>\n",
       "      <td>4148</td>\n",
       "      <td>6232</td>\n",
       "      <td>10380</td>\n",
       "      <td>679.15</td>\n",
       "      <td>1163.10</td>\n",
       "      <td>1842.25</td>\n",
       "    </tr>\n",
       "    <tr>\n",
       "      <th>2000</th>\n",
       "      <td>120093</td>\n",
       "      <td>118714</td>\n",
       "      <td>238807</td>\n",
       "      <td>120093</td>\n",
       "      <td>118714</td>\n",
       "      <td>238807</td>\n",
       "      <td>120093</td>\n",
       "      <td>118714</td>\n",
       "      <td>238807</td>\n",
       "      <td>120093</td>\n",
       "      <td>...</td>\n",
       "      <td>10468</td>\n",
       "      <td>4184</td>\n",
       "      <td>6284</td>\n",
       "      <td>10468</td>\n",
       "      <td>4184</td>\n",
       "      <td>6284</td>\n",
       "      <td>10468</td>\n",
       "      <td>686.90</td>\n",
       "      <td>1181.70</td>\n",
       "      <td>1868.60</td>\n",
       "    </tr>\n",
       "    <tr>\n",
       "      <th>2001</th>\n",
       "      <td>120750</td>\n",
       "      <td>119312</td>\n",
       "      <td>240062</td>\n",
       "      <td>120750</td>\n",
       "      <td>119312</td>\n",
       "      <td>240062</td>\n",
       "      <td>120750</td>\n",
       "      <td>119312</td>\n",
       "      <td>240062</td>\n",
       "      <td>120750</td>\n",
       "      <td>...</td>\n",
       "      <td>10558</td>\n",
       "      <td>4223</td>\n",
       "      <td>6335</td>\n",
       "      <td>10558</td>\n",
       "      <td>4223</td>\n",
       "      <td>6335</td>\n",
       "      <td>10558</td>\n",
       "      <td>694.95</td>\n",
       "      <td>1200.00</td>\n",
       "      <td>1894.95</td>\n",
       "    </tr>\n",
       "    <tr>\n",
       "      <th>2002</th>\n",
       "      <td>121165</td>\n",
       "      <td>119669</td>\n",
       "      <td>240834</td>\n",
       "      <td>121165</td>\n",
       "      <td>119669</td>\n",
       "      <td>240834</td>\n",
       "      <td>121165</td>\n",
       "      <td>119669</td>\n",
       "      <td>240834</td>\n",
       "      <td>121165</td>\n",
       "      <td>...</td>\n",
       "      <td>10651</td>\n",
       "      <td>4263</td>\n",
       "      <td>6388</td>\n",
       "      <td>10651</td>\n",
       "      <td>4263</td>\n",
       "      <td>6388</td>\n",
       "      <td>10651</td>\n",
       "      <td>703.40</td>\n",
       "      <td>1218.55</td>\n",
       "      <td>1921.95</td>\n",
       "    </tr>\n",
       "    <tr>\n",
       "      <th>2003</th>\n",
       "      <td>121539</td>\n",
       "      <td>119966</td>\n",
       "      <td>241505</td>\n",
       "      <td>121539</td>\n",
       "      <td>119966</td>\n",
       "      <td>241505</td>\n",
       "      <td>121539</td>\n",
       "      <td>119966</td>\n",
       "      <td>241505</td>\n",
       "      <td>121539</td>\n",
       "      <td>...</td>\n",
       "      <td>10763</td>\n",
       "      <td>4313</td>\n",
       "      <td>6450</td>\n",
       "      <td>10763</td>\n",
       "      <td>4313</td>\n",
       "      <td>6450</td>\n",
       "      <td>10763</td>\n",
       "      <td>711.95</td>\n",
       "      <td>1237.30</td>\n",
       "      <td>1949.25</td>\n",
       "    </tr>\n",
       "    <tr>\n",
       "      <th>2004</th>\n",
       "      <td>121811</td>\n",
       "      <td>120120</td>\n",
       "      <td>241931</td>\n",
       "      <td>121811</td>\n",
       "      <td>120120</td>\n",
       "      <td>241931</td>\n",
       "      <td>121811</td>\n",
       "      <td>120120</td>\n",
       "      <td>241931</td>\n",
       "      <td>121811</td>\n",
       "      <td>...</td>\n",
       "      <td>10914</td>\n",
       "      <td>4385</td>\n",
       "      <td>6529</td>\n",
       "      <td>10914</td>\n",
       "      <td>4385</td>\n",
       "      <td>6529</td>\n",
       "      <td>10914</td>\n",
       "      <td>719.55</td>\n",
       "      <td>1254.15</td>\n",
       "      <td>1973.70</td>\n",
       "    </tr>\n",
       "    <tr>\n",
       "      <th>2005</th>\n",
       "      <td>121932</td>\n",
       "      <td>120105</td>\n",
       "      <td>242037</td>\n",
       "      <td>121932</td>\n",
       "      <td>120105</td>\n",
       "      <td>242037</td>\n",
       "      <td>121932</td>\n",
       "      <td>120105</td>\n",
       "      <td>242037</td>\n",
       "      <td>121932</td>\n",
       "      <td>...</td>\n",
       "      <td>11127</td>\n",
       "      <td>4488</td>\n",
       "      <td>6639</td>\n",
       "      <td>11127</td>\n",
       "      <td>4488</td>\n",
       "      <td>6639</td>\n",
       "      <td>11127</td>\n",
       "      <td>727.75</td>\n",
       "      <td>1272.10</td>\n",
       "      <td>1999.85</td>\n",
       "    </tr>\n",
       "    <tr>\n",
       "      <th>2006</th>\n",
       "      <td>122259</td>\n",
       "      <td>120287</td>\n",
       "      <td>242546</td>\n",
       "      <td>122259</td>\n",
       "      <td>120287</td>\n",
       "      <td>242546</td>\n",
       "      <td>122259</td>\n",
       "      <td>120287</td>\n",
       "      <td>242546</td>\n",
       "      <td>122259</td>\n",
       "      <td>...</td>\n",
       "      <td>11408</td>\n",
       "      <td>4623</td>\n",
       "      <td>6785</td>\n",
       "      <td>11408</td>\n",
       "      <td>4623</td>\n",
       "      <td>6785</td>\n",
       "      <td>11408</td>\n",
       "      <td>737.15</td>\n",
       "      <td>1293.60</td>\n",
       "      <td>2030.75</td>\n",
       "    </tr>\n",
       "    <tr>\n",
       "      <th>2007</th>\n",
       "      <td>122914</td>\n",
       "      <td>120782</td>\n",
       "      <td>243696</td>\n",
       "      <td>122914</td>\n",
       "      <td>120782</td>\n",
       "      <td>243696</td>\n",
       "      <td>122914</td>\n",
       "      <td>120782</td>\n",
       "      <td>243696</td>\n",
       "      <td>122914</td>\n",
       "      <td>...</td>\n",
       "      <td>11744</td>\n",
       "      <td>4786</td>\n",
       "      <td>6958</td>\n",
       "      <td>11744</td>\n",
       "      <td>4786</td>\n",
       "      <td>6958</td>\n",
       "      <td>11744</td>\n",
       "      <td>746.95</td>\n",
       "      <td>1315.65</td>\n",
       "      <td>2062.60</td>\n",
       "    </tr>\n",
       "    <tr>\n",
       "      <th>2008</th>\n",
       "      <td>123731</td>\n",
       "      <td>121444</td>\n",
       "      <td>245175</td>\n",
       "      <td>123731</td>\n",
       "      <td>121444</td>\n",
       "      <td>245175</td>\n",
       "      <td>123731</td>\n",
       "      <td>121444</td>\n",
       "      <td>245175</td>\n",
       "      <td>123731</td>\n",
       "      <td>...</td>\n",
       "      <td>12134</td>\n",
       "      <td>4975</td>\n",
       "      <td>7159</td>\n",
       "      <td>12134</td>\n",
       "      <td>4975</td>\n",
       "      <td>7159</td>\n",
       "      <td>12134</td>\n",
       "      <td>758.15</td>\n",
       "      <td>1338.40</td>\n",
       "      <td>2096.55</td>\n",
       "    </tr>\n",
       "    <tr>\n",
       "      <th>2009</th>\n",
       "      <td>124681</td>\n",
       "      <td>122269</td>\n",
       "      <td>246950</td>\n",
       "      <td>124681</td>\n",
       "      <td>122269</td>\n",
       "      <td>246950</td>\n",
       "      <td>124681</td>\n",
       "      <td>122269</td>\n",
       "      <td>246950</td>\n",
       "      <td>124681</td>\n",
       "      <td>...</td>\n",
       "      <td>12569</td>\n",
       "      <td>5183</td>\n",
       "      <td>7386</td>\n",
       "      <td>12569</td>\n",
       "      <td>5183</td>\n",
       "      <td>7386</td>\n",
       "      <td>12569</td>\n",
       "      <td>772.40</td>\n",
       "      <td>1362.75</td>\n",
       "      <td>2135.15</td>\n",
       "    </tr>\n",
       "    <tr>\n",
       "      <th>2010</th>\n",
       "      <td>124861</td>\n",
       "      <td>122356</td>\n",
       "      <td>247217</td>\n",
       "      <td>124861</td>\n",
       "      <td>122356</td>\n",
       "      <td>247217</td>\n",
       "      <td>124861</td>\n",
       "      <td>122356</td>\n",
       "      <td>247217</td>\n",
       "      <td>124861</td>\n",
       "      <td>...</td>\n",
       "      <td>12901</td>\n",
       "      <td>5348</td>\n",
       "      <td>7553</td>\n",
       "      <td>12901</td>\n",
       "      <td>5348</td>\n",
       "      <td>7553</td>\n",
       "      <td>12901</td>\n",
       "      <td>773.90</td>\n",
       "      <td>1360.55</td>\n",
       "      <td>2134.45</td>\n",
       "    </tr>\n",
       "    <tr>\n",
       "      <th>2011</th>\n",
       "      <td>124937</td>\n",
       "      <td>122388</td>\n",
       "      <td>247325</td>\n",
       "      <td>124937</td>\n",
       "      <td>122388</td>\n",
       "      <td>247325</td>\n",
       "      <td>124937</td>\n",
       "      <td>122388</td>\n",
       "      <td>247325</td>\n",
       "      <td>124937</td>\n",
       "      <td>...</td>\n",
       "      <td>13265</td>\n",
       "      <td>5526</td>\n",
       "      <td>7739</td>\n",
       "      <td>13265</td>\n",
       "      <td>5526</td>\n",
       "      <td>7739</td>\n",
       "      <td>13265</td>\n",
       "      <td>780.60</td>\n",
       "      <td>1363.70</td>\n",
       "      <td>2144.30</td>\n",
       "    </tr>\n",
       "    <tr>\n",
       "      <th>2012</th>\n",
       "      <td>125615</td>\n",
       "      <td>123072</td>\n",
       "      <td>248687</td>\n",
       "      <td>125615</td>\n",
       "      <td>123072</td>\n",
       "      <td>248687</td>\n",
       "      <td>125615</td>\n",
       "      <td>123072</td>\n",
       "      <td>248687</td>\n",
       "      <td>125615</td>\n",
       "      <td>...</td>\n",
       "      <td>13807</td>\n",
       "      <td>5778</td>\n",
       "      <td>8029</td>\n",
       "      <td>13807</td>\n",
       "      <td>5778</td>\n",
       "      <td>8029</td>\n",
       "      <td>13807</td>\n",
       "      <td>809.00</td>\n",
       "      <td>1401.95</td>\n",
       "      <td>2210.95</td>\n",
       "    </tr>\n",
       "    <tr>\n",
       "      <th>2023</th>\n",
       "      <td>124824</td>\n",
       "      <td>122286</td>\n",
       "      <td>247110</td>\n",
       "      <td>124824</td>\n",
       "      <td>122286</td>\n",
       "      <td>247110</td>\n",
       "      <td>124824</td>\n",
       "      <td>122286</td>\n",
       "      <td>247110</td>\n",
       "      <td>124824</td>\n",
       "      <td>...</td>\n",
       "      <td>18524</td>\n",
       "      <td>7590</td>\n",
       "      <td>10934</td>\n",
       "      <td>18524</td>\n",
       "      <td>7590</td>\n",
       "      <td>10934</td>\n",
       "      <td>18524</td>\n",
       "      <td>1194.45</td>\n",
       "      <td>1986.55</td>\n",
       "      <td>3181.00</td>\n",
       "    </tr>\n",
       "  </tbody>\n",
       "</table>\n",
       "<p>24 rows × 243 columns</p>\n",
       "</div>"
      ],
      "text/plain": [
       "             Male Population Age 0  Female Population Age 0  \\\n",
       "Region Year                                                   \n",
       "Haiti  1990                 110694                   109899   \n",
       "       1991                 112761                   111911   \n",
       "       1992                 114464                   113556   \n",
       "       1993                 115758                   114788   \n",
       "       1994                 116666                   115632   \n",
       "       1995                 117289                   116189   \n",
       "       1996                 117784                   116624   \n",
       "       1997                 118296                   117073   \n",
       "       1998                 118836                   117550   \n",
       "       1999                 119400                   118068   \n",
       "       2000                 120093                   118714   \n",
       "       2001                 120750                   119312   \n",
       "       2002                 121165                   119669   \n",
       "       2003                 121539                   119966   \n",
       "       2004                 121811                   120120   \n",
       "       2005                 121932                   120105   \n",
       "       2006                 122259                   120287   \n",
       "       2007                 122914                   120782   \n",
       "       2008                 123731                   121444   \n",
       "       2009                 124681                   122269   \n",
       "       2010                 124861                   122356   \n",
       "       2011                 124937                   122388   \n",
       "       2012                 125615                   123072   \n",
       "       2023                 124824                   122286   \n",
       "\n",
       "             Total Population Age 0  Male Population Age 1  \\\n",
       "Region Year                                                  \n",
       "Haiti  1990                  220593                 110694   \n",
       "       1991                  224672                 112761   \n",
       "       1992                  228020                 114464   \n",
       "       1993                  230546                 115758   \n",
       "       1994                  232298                 116666   \n",
       "       1995                  233478                 117289   \n",
       "       1996                  234408                 117784   \n",
       "       1997                  235369                 118296   \n",
       "       1998                  236386                 118836   \n",
       "       1999                  237468                 119400   \n",
       "       2000                  238807                 120093   \n",
       "       2001                  240062                 120750   \n",
       "       2002                  240834                 121165   \n",
       "       2003                  241505                 121539   \n",
       "       2004                  241931                 121811   \n",
       "       2005                  242037                 121932   \n",
       "       2006                  242546                 122259   \n",
       "       2007                  243696                 122914   \n",
       "       2008                  245175                 123731   \n",
       "       2009                  246950                 124681   \n",
       "       2010                  247217                 124861   \n",
       "       2011                  247325                 124937   \n",
       "       2012                  248687                 125615   \n",
       "       2023                  247110                 124824   \n",
       "\n",
       "             Female Population Age 1  Total Population Age 1  \\\n",
       "Region Year                                                    \n",
       "Haiti  1990                   109899                  220593   \n",
       "       1991                   111911                  224672   \n",
       "       1992                   113556                  228020   \n",
       "       1993                   114788                  230546   \n",
       "       1994                   115632                  232298   \n",
       "       1995                   116189                  233478   \n",
       "       1996                   116624                  234408   \n",
       "       1997                   117073                  235369   \n",
       "       1998                   117550                  236386   \n",
       "       1999                   118068                  237468   \n",
       "       2000                   118714                  238807   \n",
       "       2001                   119312                  240062   \n",
       "       2002                   119669                  240834   \n",
       "       2003                   119966                  241505   \n",
       "       2004                   120120                  241931   \n",
       "       2005                   120105                  242037   \n",
       "       2006                   120287                  242546   \n",
       "       2007                   120782                  243696   \n",
       "       2008                   121444                  245175   \n",
       "       2009                   122269                  246950   \n",
       "       2010                   122356                  247217   \n",
       "       2011                   122388                  247325   \n",
       "       2012                   123072                  248687   \n",
       "       2023                   122286                  247110   \n",
       "\n",
       "             Male Population Age 2  Female Population Age 2  \\\n",
       "Region Year                                                   \n",
       "Haiti  1990                 110694                   109899   \n",
       "       1991                 112761                   111911   \n",
       "       1992                 114464                   113556   \n",
       "       1993                 115758                   114788   \n",
       "       1994                 116666                   115632   \n",
       "       1995                 117289                   116189   \n",
       "       1996                 117784                   116624   \n",
       "       1997                 118296                   117073   \n",
       "       1998                 118836                   117550   \n",
       "       1999                 119400                   118068   \n",
       "       2000                 120093                   118714   \n",
       "       2001                 120750                   119312   \n",
       "       2002                 121165                   119669   \n",
       "       2003                 121539                   119966   \n",
       "       2004                 121811                   120120   \n",
       "       2005                 121932                   120105   \n",
       "       2006                 122259                   120287   \n",
       "       2007                 122914                   120782   \n",
       "       2008                 123731                   121444   \n",
       "       2009                 124681                   122269   \n",
       "       2010                 124861                   122356   \n",
       "       2011                 124937                   122388   \n",
       "       2012                 125615                   123072   \n",
       "       2023                 124824                   122286   \n",
       "\n",
       "             Total Population Age 2  Male Population Age 3  ...  \\\n",
       "Region Year                                                 ...   \n",
       "Haiti  1990                  220593                 110694  ...   \n",
       "       1991                  224672                 112761  ...   \n",
       "       1992                  228020                 114464  ...   \n",
       "       1993                  230546                 115758  ...   \n",
       "       1994                  232298                 116666  ...   \n",
       "       1995                  233478                 117289  ...   \n",
       "       1996                  234408                 117784  ...   \n",
       "       1997                  235369                 118296  ...   \n",
       "       1998                  236386                 118836  ...   \n",
       "       1999                  237468                 119400  ...   \n",
       "       2000                  238807                 120093  ...   \n",
       "       2001                  240062                 120750  ...   \n",
       "       2002                  240834                 121165  ...   \n",
       "       2003                  241505                 121539  ...   \n",
       "       2004                  241931                 121811  ...   \n",
       "       2005                  242037                 121932  ...   \n",
       "       2006                  242546                 122259  ...   \n",
       "       2007                  243696                 122914  ...   \n",
       "       2008                  245175                 123731  ...   \n",
       "       2009                  246950                 124681  ...   \n",
       "       2010                  247217                 124861  ...   \n",
       "       2011                  247325                 124937  ...   \n",
       "       2012                  248687                 125615  ...   \n",
       "       2023                  247110                 124824  ...   \n",
       "\n",
       "             Total Population Age 77  Male Population Age 78  \\\n",
       "Region Year                                                    \n",
       "Haiti  1990                     9643                    3886   \n",
       "       1991                     9737                    3920   \n",
       "       1992                     9821                    3947   \n",
       "       1993                     9898                    3970   \n",
       "       1994                     9971                    3993   \n",
       "       1995                    10045                    4019   \n",
       "       1996                    10123                    4047   \n",
       "       1997                    10207                    4079   \n",
       "       1998                    10295                    4114   \n",
       "       1999                    10380                    4148   \n",
       "       2000                    10468                    4184   \n",
       "       2001                    10558                    4223   \n",
       "       2002                    10651                    4263   \n",
       "       2003                    10763                    4313   \n",
       "       2004                    10914                    4385   \n",
       "       2005                    11127                    4488   \n",
       "       2006                    11408                    4623   \n",
       "       2007                    11744                    4786   \n",
       "       2008                    12134                    4975   \n",
       "       2009                    12569                    5183   \n",
       "       2010                    12901                    5348   \n",
       "       2011                    13265                    5526   \n",
       "       2012                    13807                    5778   \n",
       "       2023                    18524                    7590   \n",
       "\n",
       "             Female Population Age 78  Total Population Age 78  \\\n",
       "Region Year                                                      \n",
       "Haiti  1990                      5757                     9643   \n",
       "       1991                      5817                     9737   \n",
       "       1992                      5874                     9821   \n",
       "       1993                      5928                     9898   \n",
       "       1994                      5978                     9971   \n",
       "       1995                      6026                    10045   \n",
       "       1996                      6076                    10123   \n",
       "       1997                      6128                    10207   \n",
       "       1998                      6181                    10295   \n",
       "       1999                      6232                    10380   \n",
       "       2000                      6284                    10468   \n",
       "       2001                      6335                    10558   \n",
       "       2002                      6388                    10651   \n",
       "       2003                      6450                    10763   \n",
       "       2004                      6529                    10914   \n",
       "       2005                      6639                    11127   \n",
       "       2006                      6785                    11408   \n",
       "       2007                      6958                    11744   \n",
       "       2008                      7159                    12134   \n",
       "       2009                      7386                    12569   \n",
       "       2010                      7553                    12901   \n",
       "       2011                      7739                    13265   \n",
       "       2012                      8029                    13807   \n",
       "       2023                     10934                    18524   \n",
       "\n",
       "             Male Population Age 79  Female Population Age 79  \\\n",
       "Region Year                                                     \n",
       "Haiti  1990                    3886                      5757   \n",
       "       1991                    3920                      5817   \n",
       "       1992                    3947                      5874   \n",
       "       1993                    3970                      5928   \n",
       "       1994                    3993                      5978   \n",
       "       1995                    4019                      6026   \n",
       "       1996                    4047                      6076   \n",
       "       1997                    4079                      6128   \n",
       "       1998                    4114                      6181   \n",
       "       1999                    4148                      6232   \n",
       "       2000                    4184                      6284   \n",
       "       2001                    4223                      6335   \n",
       "       2002                    4263                      6388   \n",
       "       2003                    4313                      6450   \n",
       "       2004                    4385                      6529   \n",
       "       2005                    4488                      6639   \n",
       "       2006                    4623                      6785   \n",
       "       2007                    4786                      6958   \n",
       "       2008                    4975                      7159   \n",
       "       2009                    5183                      7386   \n",
       "       2010                    5348                      7553   \n",
       "       2011                    5526                      7739   \n",
       "       2012                    5778                      8029   \n",
       "       2023                    7590                     10934   \n",
       "\n",
       "             Total Population Age 79  Male Population Age 80  \\\n",
       "Region Year                                                    \n",
       "Haiti  1990                     9643                  588.95   \n",
       "       1991                     9737                  600.90   \n",
       "       1992                     9821                  612.90   \n",
       "       1993                     9898                  624.65   \n",
       "       1994                     9971                  635.60   \n",
       "       1995                    10045                  645.70   \n",
       "       1996                    10123                  655.00   \n",
       "       1997                    10207                  663.65   \n",
       "       1998                    10295                  671.65   \n",
       "       1999                    10380                  679.15   \n",
       "       2000                    10468                  686.90   \n",
       "       2001                    10558                  694.95   \n",
       "       2002                    10651                  703.40   \n",
       "       2003                    10763                  711.95   \n",
       "       2004                    10914                  719.55   \n",
       "       2005                    11127                  727.75   \n",
       "       2006                    11408                  737.15   \n",
       "       2007                    11744                  746.95   \n",
       "       2008                    12134                  758.15   \n",
       "       2009                    12569                  772.40   \n",
       "       2010                    12901                  773.90   \n",
       "       2011                    13265                  780.60   \n",
       "       2012                    13807                  809.00   \n",
       "       2023                    18524                 1194.45   \n",
       "\n",
       "             Female Population Age 80  Total Population Age 80  \n",
       "Region Year                                                     \n",
       "Haiti  1990                    989.00                  1577.95  \n",
       "       1991                   1010.35                  1611.25  \n",
       "       1992                   1030.75                  1643.65  \n",
       "       1993                   1050.20                  1674.85  \n",
       "       1994                   1068.55                  1704.15  \n",
       "       1995                   1086.85                  1732.55  \n",
       "       1996                   1105.80                  1760.80  \n",
       "       1997                   1125.05                  1788.70  \n",
       "       1998                   1144.20                  1815.85  \n",
       "       1999                   1163.10                  1842.25  \n",
       "       2000                   1181.70                  1868.60  \n",
       "       2001                   1200.00                  1894.95  \n",
       "       2002                   1218.55                  1921.95  \n",
       "       2003                   1237.30                  1949.25  \n",
       "       2004                   1254.15                  1973.70  \n",
       "       2005                   1272.10                  1999.85  \n",
       "       2006                   1293.60                  2030.75  \n",
       "       2007                   1315.65                  2062.60  \n",
       "       2008                   1338.40                  2096.55  \n",
       "       2009                   1362.75                  2135.15  \n",
       "       2010                   1360.55                  2134.45  \n",
       "       2011                   1363.70                  2144.30  \n",
       "       2012                   1401.95                  2210.95  \n",
       "       2023                   1986.55                  3181.00  \n",
       "\n",
       "[24 rows x 243 columns]"
      ]
     },
     "execution_count": 15,
     "metadata": {},
     "output_type": "execute_result"
    }
   ],
   "source": [
    "population_df = create_population_dataframe([\"Haiti\"], [1990, 1991, 1992, 1993, 1994, 1995, 1996, 1997, 1998, 1999, 2000, 2001, 2002, 2003, 2004, 2005, 2006, 2007, 2008, 2009, 2010, 2011, 2012, 2023], [0, 80])\n",
    "population_df"
   ]
  },
  {
   "cell_type": "markdown",
   "metadata": {},
   "source": [
    "# Unit Tests"
   ]
  },
  {
   "cell_type": "code",
   "execution_count": 17,
   "metadata": {},
   "outputs": [],
   "source": [
    "# This unit test verifies that there were more females than males in the Jamaica aged between 60-80 in the year 2010.\n",
    "\n",
    "assert(population(2010, \"males\", [60, 80], \"Jamaica\") < population(2010, \"females\", [60, 80], \"Jamaica\")), \"Error\"\n"
   ]
  },
  {
   "cell_type": "code",
   "execution_count": 19,
   "metadata": {},
   "outputs": [],
   "source": [
    "# This unit test verifies that there were more than 50,000 Moroccon residents between the ages of 20-50 in the year 2020.\n",
    "\n",
    "assert(population(2020, \"all\", [20, 50], \"Morocco\") > 50000), \"Error\"\n"
   ]
  },
  {
   "cell_type": "code",
   "execution_count": 21,
   "metadata": {},
   "outputs": [],
   "source": [
    "# This unit text verifies that there were more Japanesse residents between the ages 40-59 than the ages 60-79 in the year 1990\n",
    "\n",
    "assert(population(1990, \"all\", [40, 59], \"Japan\") > population(1990, \"all\", [60, 79], \"Japan\")), \"Error\"\n"
   ]
  },
  {
   "cell_type": "markdown",
   "metadata": {},
   "source": [
    "# Population Pyramids"
   ]
  },
  {
   "cell_type": "code",
   "execution_count": 22,
   "metadata": {},
   "outputs": [],
   "source": [
    "def population_pyramid(df, year, region):\n",
    "    \"\"\"Plots a population pyramid for a given year and region. Parameters:\n",
    "    - df (pd.DataFrame): Population data with columns for male and female population by age\n",
    "    - year (int): The year for which the pyramid should be plotted\n",
    "    - region (str): The region to visualize\n",
    "    \"\"\"\n",
    "    # Extract data for the given year and region\n",
    "    try:\n",
    "        data = df.loc[(region, year)]\n",
    "    except KeyError:\n",
    "        raise ValueError(f\"No data available for {region} in {year}.\")\n",
    "    \n",
    "    # Extract age groups\n",
    "    age_groups = sorted(set(int(col.split()[-1]) for col in df.columns if 'Population Age' in col))\n",
    "    \n",
    "    # Retrieve male and female population counts\n",
    "    male_counts = [-data[f'Male Population Age {age}'] for age in age_groups]  # Negative for left-side visualization\n",
    "    female_counts = [data[f'Female Population Age {age}'] for age in age_groups]\n",
    "\n",
    "    # Create the figure\n",
    "    fig = go.Figure()\n",
    "\n",
    "    fig.add_trace(go.Bar(y=age_groups, x=male_counts, name='Males', orientation='h', marker=dict(color='blue')))\n",
    "\n",
    "    fig.add_trace(go.Bar(y=age_groups, x=female_counts, name='Females', orientation='h', marker=dict(color='red')))\n",
    "\n",
    "    # Customize layout\n",
    "    fig.update_layout(title=f'Population Pyramid for {region} in {year}', xaxis=dict(title='Population', tickformat=',d'), yaxis=dict(title='Age'), barmode='relative', bargap=0.1, bargroupgap=0)\n",
    "\n",
    "    # Show the plot\n",
    "    fig.show()"
   ]
  },
  {
   "cell_type": "code",
   "execution_count": 55,
   "metadata": {},
   "outputs": [
    {
     "data": {
      "application/vnd.plotly.v1+json": {
       "config": {
        "plotlyServerURL": "https://plot.ly"
       },
       "data": [
        {
         "marker": {
          "color": "blue"
         },
         "name": "Males",
         "orientation": "h",
         "type": "bar",
         "x": [
          -110694,
          -110694,
          -110694,
          -110694,
          -110694,
          -94025,
          -94025,
          -94025,
          -94025,
          -94025,
          -83012,
          -83012,
          -83012,
          -83012,
          -83012,
          -72005,
          -72005,
          -72005,
          -72005,
          -72005,
          -61098,
          -61098,
          -61098,
          -61098,
          -61098,
          -51505,
          -51505,
          -51505,
          -51505,
          -51505,
          -43212,
          -43212,
          -43212,
          -43212,
          -43212,
          -35871,
          -35871,
          -35871,
          -35871,
          -35871,
          -29562,
          -29562,
          -29562,
          -29562,
          -29562,
          -25744,
          -25744,
          -25744,
          -25744,
          -25744,
          -21432,
          -21432,
          -21432,
          -21432,
          -21432,
          -16112,
          -16112,
          -16112,
          -16112,
          -16112,
          -11878,
          -11878,
          -11878,
          -11878,
          -11878,
          -9106,
          -9106,
          -9106,
          -9106,
          -9106,
          -6457,
          -6457,
          -6457,
          -6457,
          -6457,
          -3886,
          -3886,
          -3886,
          -3886,
          -3886,
          -588.95
         ],
         "y": [
          0,
          1,
          2,
          3,
          4,
          5,
          6,
          7,
          8,
          9,
          10,
          11,
          12,
          13,
          14,
          15,
          16,
          17,
          18,
          19,
          20,
          21,
          22,
          23,
          24,
          25,
          26,
          27,
          28,
          29,
          30,
          31,
          32,
          33,
          34,
          35,
          36,
          37,
          38,
          39,
          40,
          41,
          42,
          43,
          44,
          45,
          46,
          47,
          48,
          49,
          50,
          51,
          52,
          53,
          54,
          55,
          56,
          57,
          58,
          59,
          60,
          61,
          62,
          63,
          64,
          65,
          66,
          67,
          68,
          69,
          70,
          71,
          72,
          73,
          74,
          75,
          76,
          77,
          78,
          79,
          80
         ]
        },
        {
         "marker": {
          "color": "red"
         },
         "name": "Females",
         "orientation": "h",
         "type": "bar",
         "x": [
          109899,
          109899,
          109899,
          109899,
          109899,
          93617,
          93617,
          93617,
          93617,
          93617,
          82553,
          82553,
          82553,
          82553,
          82553,
          71658,
          71658,
          71658,
          71658,
          71658,
          60911,
          60911,
          60911,
          60911,
          60911,
          51541,
          51541,
          51541,
          51541,
          51541,
          43543,
          43543,
          43543,
          43543,
          43543,
          36715,
          36715,
          36715,
          36715,
          36715,
          30549,
          30549,
          30549,
          30549,
          30549,
          26057,
          26057,
          26057,
          26057,
          26057,
          22472,
          22472,
          22472,
          22472,
          22472,
          17999,
          17999,
          17999,
          17999,
          17999,
          14609,
          14609,
          14609,
          14609,
          14609,
          12024,
          12024,
          12024,
          12024,
          12024,
          9061,
          9061,
          9061,
          9061,
          9061,
          5757,
          5757,
          5757,
          5757,
          5757,
          989
         ],
         "y": [
          0,
          1,
          2,
          3,
          4,
          5,
          6,
          7,
          8,
          9,
          10,
          11,
          12,
          13,
          14,
          15,
          16,
          17,
          18,
          19,
          20,
          21,
          22,
          23,
          24,
          25,
          26,
          27,
          28,
          29,
          30,
          31,
          32,
          33,
          34,
          35,
          36,
          37,
          38,
          39,
          40,
          41,
          42,
          43,
          44,
          45,
          46,
          47,
          48,
          49,
          50,
          51,
          52,
          53,
          54,
          55,
          56,
          57,
          58,
          59,
          60,
          61,
          62,
          63,
          64,
          65,
          66,
          67,
          68,
          69,
          70,
          71,
          72,
          73,
          74,
          75,
          76,
          77,
          78,
          79,
          80
         ]
        }
       ],
       "layout": {
        "bargap": 0.1,
        "bargroupgap": 0,
        "barmode": "relative",
        "template": {
         "data": {
          "bar": [
           {
            "error_x": {
             "color": "#2a3f5f"
            },
            "error_y": {
             "color": "#2a3f5f"
            },
            "marker": {
             "line": {
              "color": "#E5ECF6",
              "width": 0.5
             },
             "pattern": {
              "fillmode": "overlay",
              "size": 10,
              "solidity": 0.2
             }
            },
            "type": "bar"
           }
          ],
          "barpolar": [
           {
            "marker": {
             "line": {
              "color": "#E5ECF6",
              "width": 0.5
             },
             "pattern": {
              "fillmode": "overlay",
              "size": 10,
              "solidity": 0.2
             }
            },
            "type": "barpolar"
           }
          ],
          "carpet": [
           {
            "aaxis": {
             "endlinecolor": "#2a3f5f",
             "gridcolor": "white",
             "linecolor": "white",
             "minorgridcolor": "white",
             "startlinecolor": "#2a3f5f"
            },
            "baxis": {
             "endlinecolor": "#2a3f5f",
             "gridcolor": "white",
             "linecolor": "white",
             "minorgridcolor": "white",
             "startlinecolor": "#2a3f5f"
            },
            "type": "carpet"
           }
          ],
          "choropleth": [
           {
            "colorbar": {
             "outlinewidth": 0,
             "ticks": ""
            },
            "type": "choropleth"
           }
          ],
          "contour": [
           {
            "colorbar": {
             "outlinewidth": 0,
             "ticks": ""
            },
            "colorscale": [
             [
              0,
              "#0d0887"
             ],
             [
              0.1111111111111111,
              "#46039f"
             ],
             [
              0.2222222222222222,
              "#7201a8"
             ],
             [
              0.3333333333333333,
              "#9c179e"
             ],
             [
              0.4444444444444444,
              "#bd3786"
             ],
             [
              0.5555555555555556,
              "#d8576b"
             ],
             [
              0.6666666666666666,
              "#ed7953"
             ],
             [
              0.7777777777777778,
              "#fb9f3a"
             ],
             [
              0.8888888888888888,
              "#fdca26"
             ],
             [
              1,
              "#f0f921"
             ]
            ],
            "type": "contour"
           }
          ],
          "contourcarpet": [
           {
            "colorbar": {
             "outlinewidth": 0,
             "ticks": ""
            },
            "type": "contourcarpet"
           }
          ],
          "heatmap": [
           {
            "colorbar": {
             "outlinewidth": 0,
             "ticks": ""
            },
            "colorscale": [
             [
              0,
              "#0d0887"
             ],
             [
              0.1111111111111111,
              "#46039f"
             ],
             [
              0.2222222222222222,
              "#7201a8"
             ],
             [
              0.3333333333333333,
              "#9c179e"
             ],
             [
              0.4444444444444444,
              "#bd3786"
             ],
             [
              0.5555555555555556,
              "#d8576b"
             ],
             [
              0.6666666666666666,
              "#ed7953"
             ],
             [
              0.7777777777777778,
              "#fb9f3a"
             ],
             [
              0.8888888888888888,
              "#fdca26"
             ],
             [
              1,
              "#f0f921"
             ]
            ],
            "type": "heatmap"
           }
          ],
          "heatmapgl": [
           {
            "colorbar": {
             "outlinewidth": 0,
             "ticks": ""
            },
            "colorscale": [
             [
              0,
              "#0d0887"
             ],
             [
              0.1111111111111111,
              "#46039f"
             ],
             [
              0.2222222222222222,
              "#7201a8"
             ],
             [
              0.3333333333333333,
              "#9c179e"
             ],
             [
              0.4444444444444444,
              "#bd3786"
             ],
             [
              0.5555555555555556,
              "#d8576b"
             ],
             [
              0.6666666666666666,
              "#ed7953"
             ],
             [
              0.7777777777777778,
              "#fb9f3a"
             ],
             [
              0.8888888888888888,
              "#fdca26"
             ],
             [
              1,
              "#f0f921"
             ]
            ],
            "type": "heatmapgl"
           }
          ],
          "histogram": [
           {
            "marker": {
             "pattern": {
              "fillmode": "overlay",
              "size": 10,
              "solidity": 0.2
             }
            },
            "type": "histogram"
           }
          ],
          "histogram2d": [
           {
            "colorbar": {
             "outlinewidth": 0,
             "ticks": ""
            },
            "colorscale": [
             [
              0,
              "#0d0887"
             ],
             [
              0.1111111111111111,
              "#46039f"
             ],
             [
              0.2222222222222222,
              "#7201a8"
             ],
             [
              0.3333333333333333,
              "#9c179e"
             ],
             [
              0.4444444444444444,
              "#bd3786"
             ],
             [
              0.5555555555555556,
              "#d8576b"
             ],
             [
              0.6666666666666666,
              "#ed7953"
             ],
             [
              0.7777777777777778,
              "#fb9f3a"
             ],
             [
              0.8888888888888888,
              "#fdca26"
             ],
             [
              1,
              "#f0f921"
             ]
            ],
            "type": "histogram2d"
           }
          ],
          "histogram2dcontour": [
           {
            "colorbar": {
             "outlinewidth": 0,
             "ticks": ""
            },
            "colorscale": [
             [
              0,
              "#0d0887"
             ],
             [
              0.1111111111111111,
              "#46039f"
             ],
             [
              0.2222222222222222,
              "#7201a8"
             ],
             [
              0.3333333333333333,
              "#9c179e"
             ],
             [
              0.4444444444444444,
              "#bd3786"
             ],
             [
              0.5555555555555556,
              "#d8576b"
             ],
             [
              0.6666666666666666,
              "#ed7953"
             ],
             [
              0.7777777777777778,
              "#fb9f3a"
             ],
             [
              0.8888888888888888,
              "#fdca26"
             ],
             [
              1,
              "#f0f921"
             ]
            ],
            "type": "histogram2dcontour"
           }
          ],
          "mesh3d": [
           {
            "colorbar": {
             "outlinewidth": 0,
             "ticks": ""
            },
            "type": "mesh3d"
           }
          ],
          "parcoords": [
           {
            "line": {
             "colorbar": {
              "outlinewidth": 0,
              "ticks": ""
             }
            },
            "type": "parcoords"
           }
          ],
          "pie": [
           {
            "automargin": true,
            "type": "pie"
           }
          ],
          "scatter": [
           {
            "fillpattern": {
             "fillmode": "overlay",
             "size": 10,
             "solidity": 0.2
            },
            "type": "scatter"
           }
          ],
          "scatter3d": [
           {
            "line": {
             "colorbar": {
              "outlinewidth": 0,
              "ticks": ""
             }
            },
            "marker": {
             "colorbar": {
              "outlinewidth": 0,
              "ticks": ""
             }
            },
            "type": "scatter3d"
           }
          ],
          "scattercarpet": [
           {
            "marker": {
             "colorbar": {
              "outlinewidth": 0,
              "ticks": ""
             }
            },
            "type": "scattercarpet"
           }
          ],
          "scattergeo": [
           {
            "marker": {
             "colorbar": {
              "outlinewidth": 0,
              "ticks": ""
             }
            },
            "type": "scattergeo"
           }
          ],
          "scattergl": [
           {
            "marker": {
             "colorbar": {
              "outlinewidth": 0,
              "ticks": ""
             }
            },
            "type": "scattergl"
           }
          ],
          "scattermapbox": [
           {
            "marker": {
             "colorbar": {
              "outlinewidth": 0,
              "ticks": ""
             }
            },
            "type": "scattermapbox"
           }
          ],
          "scatterpolar": [
           {
            "marker": {
             "colorbar": {
              "outlinewidth": 0,
              "ticks": ""
             }
            },
            "type": "scatterpolar"
           }
          ],
          "scatterpolargl": [
           {
            "marker": {
             "colorbar": {
              "outlinewidth": 0,
              "ticks": ""
             }
            },
            "type": "scatterpolargl"
           }
          ],
          "scatterternary": [
           {
            "marker": {
             "colorbar": {
              "outlinewidth": 0,
              "ticks": ""
             }
            },
            "type": "scatterternary"
           }
          ],
          "surface": [
           {
            "colorbar": {
             "outlinewidth": 0,
             "ticks": ""
            },
            "colorscale": [
             [
              0,
              "#0d0887"
             ],
             [
              0.1111111111111111,
              "#46039f"
             ],
             [
              0.2222222222222222,
              "#7201a8"
             ],
             [
              0.3333333333333333,
              "#9c179e"
             ],
             [
              0.4444444444444444,
              "#bd3786"
             ],
             [
              0.5555555555555556,
              "#d8576b"
             ],
             [
              0.6666666666666666,
              "#ed7953"
             ],
             [
              0.7777777777777778,
              "#fb9f3a"
             ],
             [
              0.8888888888888888,
              "#fdca26"
             ],
             [
              1,
              "#f0f921"
             ]
            ],
            "type": "surface"
           }
          ],
          "table": [
           {
            "cells": {
             "fill": {
              "color": "#EBF0F8"
             },
             "line": {
              "color": "white"
             }
            },
            "header": {
             "fill": {
              "color": "#C8D4E3"
             },
             "line": {
              "color": "white"
             }
            },
            "type": "table"
           }
          ]
         },
         "layout": {
          "annotationdefaults": {
           "arrowcolor": "#2a3f5f",
           "arrowhead": 0,
           "arrowwidth": 1
          },
          "autotypenumbers": "strict",
          "coloraxis": {
           "colorbar": {
            "outlinewidth": 0,
            "ticks": ""
           }
          },
          "colorscale": {
           "diverging": [
            [
             0,
             "#8e0152"
            ],
            [
             0.1,
             "#c51b7d"
            ],
            [
             0.2,
             "#de77ae"
            ],
            [
             0.3,
             "#f1b6da"
            ],
            [
             0.4,
             "#fde0ef"
            ],
            [
             0.5,
             "#f7f7f7"
            ],
            [
             0.6,
             "#e6f5d0"
            ],
            [
             0.7,
             "#b8e186"
            ],
            [
             0.8,
             "#7fbc41"
            ],
            [
             0.9,
             "#4d9221"
            ],
            [
             1,
             "#276419"
            ]
           ],
           "sequential": [
            [
             0,
             "#0d0887"
            ],
            [
             0.1111111111111111,
             "#46039f"
            ],
            [
             0.2222222222222222,
             "#7201a8"
            ],
            [
             0.3333333333333333,
             "#9c179e"
            ],
            [
             0.4444444444444444,
             "#bd3786"
            ],
            [
             0.5555555555555556,
             "#d8576b"
            ],
            [
             0.6666666666666666,
             "#ed7953"
            ],
            [
             0.7777777777777778,
             "#fb9f3a"
            ],
            [
             0.8888888888888888,
             "#fdca26"
            ],
            [
             1,
             "#f0f921"
            ]
           ],
           "sequentialminus": [
            [
             0,
             "#0d0887"
            ],
            [
             0.1111111111111111,
             "#46039f"
            ],
            [
             0.2222222222222222,
             "#7201a8"
            ],
            [
             0.3333333333333333,
             "#9c179e"
            ],
            [
             0.4444444444444444,
             "#bd3786"
            ],
            [
             0.5555555555555556,
             "#d8576b"
            ],
            [
             0.6666666666666666,
             "#ed7953"
            ],
            [
             0.7777777777777778,
             "#fb9f3a"
            ],
            [
             0.8888888888888888,
             "#fdca26"
            ],
            [
             1,
             "#f0f921"
            ]
           ]
          },
          "colorway": [
           "#636efa",
           "#EF553B",
           "#00cc96",
           "#ab63fa",
           "#FFA15A",
           "#19d3f3",
           "#FF6692",
           "#B6E880",
           "#FF97FF",
           "#FECB52"
          ],
          "font": {
           "color": "#2a3f5f"
          },
          "geo": {
           "bgcolor": "white",
           "lakecolor": "white",
           "landcolor": "#E5ECF6",
           "showlakes": true,
           "showland": true,
           "subunitcolor": "white"
          },
          "hoverlabel": {
           "align": "left"
          },
          "hovermode": "closest",
          "mapbox": {
           "style": "light"
          },
          "paper_bgcolor": "white",
          "plot_bgcolor": "#E5ECF6",
          "polar": {
           "angularaxis": {
            "gridcolor": "white",
            "linecolor": "white",
            "ticks": ""
           },
           "bgcolor": "#E5ECF6",
           "radialaxis": {
            "gridcolor": "white",
            "linecolor": "white",
            "ticks": ""
           }
          },
          "scene": {
           "xaxis": {
            "backgroundcolor": "#E5ECF6",
            "gridcolor": "white",
            "gridwidth": 2,
            "linecolor": "white",
            "showbackground": true,
            "ticks": "",
            "zerolinecolor": "white"
           },
           "yaxis": {
            "backgroundcolor": "#E5ECF6",
            "gridcolor": "white",
            "gridwidth": 2,
            "linecolor": "white",
            "showbackground": true,
            "ticks": "",
            "zerolinecolor": "white"
           },
           "zaxis": {
            "backgroundcolor": "#E5ECF6",
            "gridcolor": "white",
            "gridwidth": 2,
            "linecolor": "white",
            "showbackground": true,
            "ticks": "",
            "zerolinecolor": "white"
           }
          },
          "shapedefaults": {
           "line": {
            "color": "#2a3f5f"
           }
          },
          "ternary": {
           "aaxis": {
            "gridcolor": "white",
            "linecolor": "white",
            "ticks": ""
           },
           "baxis": {
            "gridcolor": "white",
            "linecolor": "white",
            "ticks": ""
           },
           "bgcolor": "#E5ECF6",
           "caxis": {
            "gridcolor": "white",
            "linecolor": "white",
            "ticks": ""
           }
          },
          "title": {
           "x": 0.05
          },
          "xaxis": {
           "automargin": true,
           "gridcolor": "white",
           "linecolor": "white",
           "ticks": "",
           "title": {
            "standoff": 15
           },
           "zerolinecolor": "white",
           "zerolinewidth": 2
          },
          "yaxis": {
           "automargin": true,
           "gridcolor": "white",
           "linecolor": "white",
           "ticks": "",
           "title": {
            "standoff": 15
           },
           "zerolinecolor": "white",
           "zerolinewidth": 2
          }
         }
        },
        "title": {
         "text": "Population Pyramid for Haiti in 1990"
        },
        "xaxis": {
         "tickformat": ",d",
         "title": {
          "text": "Population"
         }
        },
        "yaxis": {
         "title": {
          "text": "Age"
         }
        }
       }
      },
      "image/png": "[encoded data removed]",
      "text/html": [
       "<div>                            <div id=\"60ec0bd6-44bc-4b71-9e84-ea8a970dc463\" class=\"plotly-graph-div\" style=\"height:525px; width:100%;\"></div>            <script type=\"text/javascript\">                require([\"plotly\"], function(Plotly) {                    window.PLOTLYENV=window.PLOTLYENV || {};                                    if (document.getElementById(\"60ec0bd6-44bc-4b71-9e84-ea8a970dc463\")) {                    Plotly.newPlot(                        \"60ec0bd6-44bc-4b71-9e84-ea8a970dc463\",                        [{\"marker\":{\"color\":\"blue\"},\"name\":\"Males\",\"orientation\":\"h\",\"x\":[-110694.0,-110694.0,-110694.0,-110694.0,-110694.0,-94025.0,-94025.0,-94025.0,-94025.0,-94025.0,-83012.0,-83012.0,-83012.0,-83012.0,-83012.0,-72005.0,-72005.0,-72005.0,-72005.0,-72005.0,-61098.0,-61098.0,-61098.0,-61098.0,-61098.0,-51505.0,-51505.0,-51505.0,-51505.0,-51505.0,-43212.0,-43212.0,-43212.0,-43212.0,-43212.0,-35871.0,-35871.0,-35871.0,-35871.0,-35871.0,-29562.0,-29562.0,-29562.0,-29562.0,-29562.0,-25744.0,-25744.0,-25744.0,-25744.0,-25744.0,-21432.0,-21432.0,-21432.0,-21432.0,-21432.0,-16112.0,-16112.0,-16112.0,-16112.0,-16112.0,-11878.0,-11878.0,-11878.0,-11878.0,-11878.0,-9106.0,-9106.0,-9106.0,-9106.0,-9106.0,-6457.0,-6457.0,-6457.0,-6457.0,-6457.0,-3886.0,-3886.0,-3886.0,-3886.0,-3886.0,-588.95],\"y\":[0,1,2,3,4,5,6,7,8,9,10,11,12,13,14,15,16,17,18,19,20,21,22,23,24,25,26,27,28,29,30,31,32,33,34,35,36,37,38,39,40,41,42,43,44,45,46,47,48,49,50,51,52,53,54,55,56,57,58,59,60,61,62,63,64,65,66,67,68,69,70,71,72,73,74,75,76,77,78,79,80],\"type\":\"bar\"},{\"marker\":{\"color\":\"red\"},\"name\":\"Females\",\"orientation\":\"h\",\"x\":[109899.0,109899.0,109899.0,109899.0,109899.0,93617.0,93617.0,93617.0,93617.0,93617.0,82553.0,82553.0,82553.0,82553.0,82553.0,71658.0,71658.0,71658.0,71658.0,71658.0,60911.0,60911.0,60911.0,60911.0,60911.0,51541.0,51541.0,51541.0,51541.0,51541.0,43543.0,43543.0,43543.0,43543.0,43543.0,36715.0,36715.0,36715.0,36715.0,36715.0,30549.0,30549.0,30549.0,30549.0,30549.0,26057.0,26057.0,26057.0,26057.0,26057.0,22472.0,22472.0,22472.0,22472.0,22472.0,17999.0,17999.0,17999.0,17999.0,17999.0,14609.0,14609.0,14609.0,14609.0,14609.0,12024.0,12024.0,12024.0,12024.0,12024.0,9061.0,9061.0,9061.0,9061.0,9061.0,5757.0,5757.0,5757.0,5757.0,5757.0,989.0],\"y\":[0,1,2,3,4,5,6,7,8,9,10,11,12,13,14,15,16,17,18,19,20,21,22,23,24,25,26,27,28,29,30,31,32,33,34,35,36,37,38,39,40,41,42,43,44,45,46,47,48,49,50,51,52,53,54,55,56,57,58,59,60,61,62,63,64,65,66,67,68,69,70,71,72,73,74,75,76,77,78,79,80],\"type\":\"bar\"}],                        {\"template\":{\"data\":{\"histogram2dcontour\":[{\"type\":\"histogram2dcontour\",\"colorbar\":{\"outlinewidth\":0,\"ticks\":\"\"},\"colorscale\":[[0.0,\"#0d0887\"],[0.1111111111111111,\"#46039f\"],[0.2222222222222222,\"#7201a8\"],[0.3333333333333333,\"#9c179e\"],[0.4444444444444444,\"#bd3786\"],[0.5555555555555556,\"#d8576b\"],[0.6666666666666666,\"#ed7953\"],[0.7777777777777778,\"#fb9f3a\"],[0.8888888888888888,\"#fdca26\"],[1.0,\"#f0f921\"]]}],\"choropleth\":[{\"type\":\"choropleth\",\"colorbar\":{\"outlinewidth\":0,\"ticks\":\"\"}}],\"histogram2d\":[{\"type\":\"histogram2d\",\"colorbar\":{\"outlinewidth\":0,\"ticks\":\"\"},\"colorscale\":[[0.0,\"#0d0887\"],[0.1111111111111111,\"#46039f\"],[0.2222222222222222,\"#7201a8\"],[0.3333333333333333,\"#9c179e\"],[0.4444444444444444,\"#bd3786\"],[0.5555555555555556,\"#d8576b\"],[0.6666666666666666,\"#ed7953\"],[0.7777777777777778,\"#fb9f3a\"],[0.8888888888888888,\"#fdca26\"],[1.0,\"#f0f921\"]]}],\"heatmap\":[{\"type\":\"heatmap\",\"colorbar\":{\"outlinewidth\":0,\"ticks\":\"\"},\"colorscale\":[[0.0,\"#0d0887\"],[0.1111111111111111,\"#46039f\"],[0.2222222222222222,\"#7201a8\"],[0.3333333333333333,\"#9c179e\"],[0.4444444444444444,\"#bd3786\"],[0.5555555555555556,\"#d8576b\"],[0.6666666666666666,\"#ed7953\"],[0.7777777777777778,\"#fb9f3a\"],[0.8888888888888888,\"#fdca26\"],[1.0,\"#f0f921\"]]}],\"heatmapgl\":[{\"type\":\"heatmapgl\",\"colorbar\":{\"outlinewidth\":0,\"ticks\":\"\"},\"colorscale\":[[0.0,\"#0d0887\"],[0.1111111111111111,\"#46039f\"],[0.2222222222222222,\"#7201a8\"],[0.3333333333333333,\"#9c179e\"],[0.4444444444444444,\"#bd3786\"],[0.5555555555555556,\"#d8576b\"],[0.6666666666666666,\"#ed7953\"],[0.7777777777777778,\"#fb9f3a\"],[0.8888888888888888,\"#fdca26\"],[1.0,\"#f0f921\"]]}],\"contourcarpet\":[{\"type\":\"contourcarpet\",\"colorbar\":{\"outlinewidth\":0,\"ticks\":\"\"}}],\"contour\":[{\"type\":\"contour\",\"colorbar\":{\"outlinewidth\":0,\"ticks\":\"\"},\"colorscale\":[[0.0,\"#0d0887\"],[0.1111111111111111,\"#46039f\"],[0.2222222222222222,\"#7201a8\"],[0.3333333333333333,\"#9c179e\"],[0.4444444444444444,\"#bd3786\"],[0.5555555555555556,\"#d8576b\"],[0.6666666666666666,\"#ed7953\"],[0.7777777777777778,\"#fb9f3a\"],[0.8888888888888888,\"#fdca26\"],[1.0,\"#f0f921\"]]}],\"surface\":[{\"type\":\"surface\",\"colorbar\":{\"outlinewidth\":0,\"ticks\":\"\"},\"colorscale\":[[0.0,\"#0d0887\"],[0.1111111111111111,\"#46039f\"],[0.2222222222222222,\"#7201a8\"],[0.3333333333333333,\"#9c179e\"],[0.4444444444444444,\"#bd3786\"],[0.5555555555555556,\"#d8576b\"],[0.6666666666666666,\"#ed7953\"],[0.7777777777777778,\"#fb9f3a\"],[0.8888888888888888,\"#fdca26\"],[1.0,\"#f0f921\"]]}],\"mesh3d\":[{\"type\":\"mesh3d\",\"colorbar\":{\"outlinewidth\":0,\"ticks\":\"\"}}],\"scatter\":[{\"fillpattern\":{\"fillmode\":\"overlay\",\"size\":10,\"solidity\":0.2},\"type\":\"scatter\"}],\"parcoords\":[{\"type\":\"parcoords\",\"line\":{\"colorbar\":{\"outlinewidth\":0,\"ticks\":\"\"}}}],\"scatterpolargl\":[{\"type\":\"scatterpolargl\",\"marker\":{\"colorbar\":{\"outlinewidth\":0,\"ticks\":\"\"}}}],\"bar\":[{\"error_x\":{\"color\":\"#2a3f5f\"},\"error_y\":{\"color\":\"#2a3f5f\"},\"marker\":{\"line\":{\"color\":\"#E5ECF6\",\"width\":0.5},\"pattern\":{\"fillmode\":\"overlay\",\"size\":10,\"solidity\":0.2}},\"type\":\"bar\"}],\"scattergeo\":[{\"type\":\"scattergeo\",\"marker\":{\"colorbar\":{\"outlinewidth\":0,\"ticks\":\"\"}}}],\"scatterpolar\":[{\"type\":\"scatterpolar\",\"marker\":{\"colorbar\":{\"outlinewidth\":0,\"ticks\":\"\"}}}],\"histogram\":[{\"marker\":{\"pattern\":{\"fillmode\":\"overlay\",\"size\":10,\"solidity\":0.2}},\"type\":\"histogram\"}],\"scattergl\":[{\"type\":\"scattergl\",\"marker\":{\"colorbar\":{\"outlinewidth\":0,\"ticks\":\"\"}}}],\"scatter3d\":[{\"type\":\"scatter3d\",\"line\":{\"colorbar\":{\"outlinewidth\":0,\"ticks\":\"\"}},\"marker\":{\"colorbar\":{\"outlinewidth\":0,\"ticks\":\"\"}}}],\"scattermapbox\":[{\"type\":\"scattermapbox\",\"marker\":{\"colorbar\":{\"outlinewidth\":0,\"ticks\":\"\"}}}],\"scatterternary\":[{\"type\":\"scatterternary\",\"marker\":{\"colorbar\":{\"outlinewidth\":0,\"ticks\":\"\"}}}],\"scattercarpet\":[{\"type\":\"scattercarpet\",\"marker\":{\"colorbar\":{\"outlinewidth\":0,\"ticks\":\"\"}}}],\"carpet\":[{\"aaxis\":{\"endlinecolor\":\"#2a3f5f\",\"gridcolor\":\"white\",\"linecolor\":\"white\",\"minorgridcolor\":\"white\",\"startlinecolor\":\"#2a3f5f\"},\"baxis\":{\"endlinecolor\":\"#2a3f5f\",\"gridcolor\":\"white\",\"linecolor\":\"white\",\"minorgridcolor\":\"white\",\"startlinecolor\":\"#2a3f5f\"},\"type\":\"carpet\"}],\"table\":[{\"cells\":{\"fill\":{\"color\":\"#EBF0F8\"},\"line\":{\"color\":\"white\"}},\"header\":{\"fill\":{\"color\":\"#C8D4E3\"},\"line\":{\"color\":\"white\"}},\"type\":\"table\"}],\"barpolar\":[{\"marker\":{\"line\":{\"color\":\"#E5ECF6\",\"width\":0.5},\"pattern\":{\"fillmode\":\"overlay\",\"size\":10,\"solidity\":0.2}},\"type\":\"barpolar\"}],\"pie\":[{\"automargin\":true,\"type\":\"pie\"}]},\"layout\":{\"autotypenumbers\":\"strict\",\"colorway\":[\"#636efa\",\"#EF553B\",\"#00cc96\",\"#ab63fa\",\"#FFA15A\",\"#19d3f3\",\"#FF6692\",\"#B6E880\",\"#FF97FF\",\"#FECB52\"],\"font\":{\"color\":\"#2a3f5f\"},\"hovermode\":\"closest\",\"hoverlabel\":{\"align\":\"left\"},\"paper_bgcolor\":\"white\",\"plot_bgcolor\":\"#E5ECF6\",\"polar\":{\"bgcolor\":\"#E5ECF6\",\"angularaxis\":{\"gridcolor\":\"white\",\"linecolor\":\"white\",\"ticks\":\"\"},\"radialaxis\":{\"gridcolor\":\"white\",\"linecolor\":\"white\",\"ticks\":\"\"}},\"ternary\":{\"bgcolor\":\"#E5ECF6\",\"aaxis\":{\"gridcolor\":\"white\",\"linecolor\":\"white\",\"ticks\":\"\"},\"baxis\":{\"gridcolor\":\"white\",\"linecolor\":\"white\",\"ticks\":\"\"},\"caxis\":{\"gridcolor\":\"white\",\"linecolor\":\"white\",\"ticks\":\"\"}},\"coloraxis\":{\"colorbar\":{\"outlinewidth\":0,\"ticks\":\"\"}},\"colorscale\":{\"sequential\":[[0.0,\"#0d0887\"],[0.1111111111111111,\"#46039f\"],[0.2222222222222222,\"#7201a8\"],[0.3333333333333333,\"#9c179e\"],[0.4444444444444444,\"#bd3786\"],[0.5555555555555556,\"#d8576b\"],[0.6666666666666666,\"#ed7953\"],[0.7777777777777778,\"#fb9f3a\"],[0.8888888888888888,\"#fdca26\"],[1.0,\"#f0f921\"]],\"sequentialminus\":[[0.0,\"#0d0887\"],[0.1111111111111111,\"#46039f\"],[0.2222222222222222,\"#7201a8\"],[0.3333333333333333,\"#9c179e\"],[0.4444444444444444,\"#bd3786\"],[0.5555555555555556,\"#d8576b\"],[0.6666666666666666,\"#ed7953\"],[0.7777777777777778,\"#fb9f3a\"],[0.8888888888888888,\"#fdca26\"],[1.0,\"#f0f921\"]],\"diverging\":[[0,\"#8e0152\"],[0.1,\"#c51b7d\"],[0.2,\"#de77ae\"],[0.3,\"#f1b6da\"],[0.4,\"#fde0ef\"],[0.5,\"#f7f7f7\"],[0.6,\"#e6f5d0\"],[0.7,\"#b8e186\"],[0.8,\"#7fbc41\"],[0.9,\"#4d9221\"],[1,\"#276419\"]]},\"xaxis\":{\"gridcolor\":\"white\",\"linecolor\":\"white\",\"ticks\":\"\",\"title\":{\"standoff\":15},\"zerolinecolor\":\"white\",\"automargin\":true,\"zerolinewidth\":2},\"yaxis\":{\"gridcolor\":\"white\",\"linecolor\":\"white\",\"ticks\":\"\",\"title\":{\"standoff\":15},\"zerolinecolor\":\"white\",\"automargin\":true,\"zerolinewidth\":2},\"scene\":{\"xaxis\":{\"backgroundcolor\":\"#E5ECF6\",\"gridcolor\":\"white\",\"linecolor\":\"white\",\"showbackground\":true,\"ticks\":\"\",\"zerolinecolor\":\"white\",\"gridwidth\":2},\"yaxis\":{\"backgroundcolor\":\"#E5ECF6\",\"gridcolor\":\"white\",\"linecolor\":\"white\",\"showbackground\":true,\"ticks\":\"\",\"zerolinecolor\":\"white\",\"gridwidth\":2},\"zaxis\":{\"backgroundcolor\":\"#E5ECF6\",\"gridcolor\":\"white\",\"linecolor\":\"white\",\"showbackground\":true,\"ticks\":\"\",\"zerolinecolor\":\"white\",\"gridwidth\":2}},\"shapedefaults\":{\"line\":{\"color\":\"#2a3f5f\"}},\"annotationdefaults\":{\"arrowcolor\":\"#2a3f5f\",\"arrowhead\":0,\"arrowwidth\":1},\"geo\":{\"bgcolor\":\"white\",\"landcolor\":\"#E5ECF6\",\"subunitcolor\":\"white\",\"showland\":true,\"showlakes\":true,\"lakecolor\":\"white\"},\"title\":{\"x\":0.05},\"mapbox\":{\"style\":\"light\"}}},\"xaxis\":{\"title\":{\"text\":\"Population\"},\"tickformat\":\",d\"},\"title\":{\"text\":\"Population Pyramid for Haiti in 1990\"},\"yaxis\":{\"title\":{\"text\":\"Age\"}},\"barmode\":\"relative\",\"bargap\":0.1,\"bargroupgap\":0},                        {\"responsive\": true}                    ).then(function(){\n",
       "                            \n",
       "var gd = document.getElementById('60ec0bd6-44bc-4b71-9e84-ea8a970dc463');\n",
       "var x = new MutationObserver(function (mutations, observer) {{\n",
       "        var display = window.getComputedStyle(gd).display;\n",
       "        if (!display || display === 'none') {{\n",
       "            console.log([gd, 'removed!']);\n",
       "            Plotly.purge(gd);\n",
       "            observer.disconnect();\n",
       "        }}\n",
       "}});\n",
       "\n",
       "// Listen for the removal of the full notebook cells\n",
       "var notebookContainer = gd.closest('#notebook-container');\n",
       "if (notebookContainer) {{\n",
       "    x.observe(notebookContainer, {childList: true});\n",
       "}}\n",
       "\n",
       "// Listen for the clearing of the current output cell\n",
       "var outputEl = gd.closest('.output');\n",
       "if (outputEl) {{\n",
       "    x.observe(outputEl, {childList: true});\n",
       "}}\n",
       "\n",
       "                        })                };                });            </script>        </div>"
      ]
     },
     "metadata": {},
     "output_type": "display_data"
    }
   ],
   "source": [
    "population_pyramid(population_df, 1990, \"Haiti\")"
   ]
  },
  {
   "cell_type": "code",
   "execution_count": 63,
   "metadata": {},
   "outputs": [],
   "source": [
    "def animated_population_pyramid(df, region):\n",
    "    \"\"\"Creates an animated population pyramid for a given region with male and female population data over 5-year intervals. Parameters:\n",
    "    - df (pd.DataFrame): Population data with male and female counts by age-sex groups for each year\n",
    "    - region (str): The region to visualize\n",
    "    \"\"\"\n",
    "    # Extract years from the DataFrame index, and filter for every 5 years\n",
    "    years = [year for year in range(1990, 2021, 5) if year in df.index.get_level_values(1).unique()]\n",
    "    \n",
    "    # Initialize a list for the traces (bars) to be added to the plot\n",
    "    traces = []\n",
    "\n",
    "    # Iterate through each year and add the population pyramid for each\n",
    "    for year in years:\n",
    "        try:\n",
    "            # Debugging: Check if data exists for the region and year\n",
    "            print(f\"Retrieving data for {region} in {year}...\")\n",
    "            data = df.loc[(region, year)]  # Get the population data for this year\n",
    "            \n",
    "            # Extract age groups \n",
    "            age_groups = sorted(set(int(col.split()[-1]) for col in df.columns if 'Population Age' in col))\n",
    "\n",
    "            # Retrieve male and female population counts for this year\n",
    "            male_counts = [-data[f'Male Population Age {age}'] for age in age_groups]  \n",
    "            female_counts = [data[f'Female Population Age {age}'] for age in age_groups]\n",
    "\n",
    "            # Add Male trace for this year\n",
    "            traces.append(go.Bar(x=male_counts, y=age_groups, orientation='h', name=f'Men {year}', hoverinfo='skip',opacity=0.7))\n",
    "\n",
    "            # Add Female trace for this year\n",
    "            traces.append(go.Bar(x=female_counts, y=age_groups, orientation='h', name=f'Women {year}', hoverinfo='skip', opacity=0.7))\n",
    "\n",
    "        except KeyError:\n",
    "            print(f\"No data found for {region} in {year}\")\n",
    "\n",
    "    # Create the layout for the plot\n",
    "    layout = go.Layout(title=f\"Population Pyramid for {region}\", xaxis=dict(title=\"Population\", tickformat=',d'), yaxis=dict(title=\"Age Group\"), barmode='overlay', bargap=0.1, bargroupgap=0,\n",
    "                       legend=dict(x=1.05, y=1, traceorder='normal', font=dict(size=12), bgcolor='rgba(255, 255, 255, 0.7)', bordercolor='Black', borderwidth=1))\n",
    "\n",
    "    # If there are traces to plot, create the figure\n",
    "    if traces:\n",
    "        fig = go.Figure(data=traces, layout=layout)\n",
    "        fig.show()\n",
    "    else:\n",
    "        print(f\"No data to display for {region}\")"
   ]
  },
  {
   "cell_type": "code",
   "execution_count": 64,
   "metadata": {},
   "outputs": [
    {
     "name": "stdout",
     "output_type": "stream",
     "text": [
      "Retrieving data for Haiti in 1990...\n",
      "Retrieving data for Haiti in 1995...\n",
      "Retrieving data for Haiti in 2000...\n",
      "Retrieving data for Haiti in 2005...\n",
      "Retrieving data for Haiti in 2010...\n"
     ]
    },
    {
     "data": {
      "application/vnd.plotly.v1+json": {
       "config": {
        "plotlyServerURL": "https://plot.ly"
       },
       "data": [
        {
         "hoverinfo": "skip",
         "name": "Men 1990",
         "opacity": 0.7,
         "orientation": "h",
         "type": "bar",
         "x": [
          -110694,
          -110694,
          -110694,
          -110694,
          -110694,
          -94025,
          -94025,
          -94025,
          -94025,
          -94025,
          -83012,
          -83012,
          -83012,
          -83012,
          -83012,
          -72005,
          -72005,
          -72005,
          -72005,
          -72005,
          -61098,
          -61098,
          -61098,
          -61098,
          -61098,
          -51505,
          -51505,
          -51505,
          -51505,
          -51505,
          -43212,
          -43212,
          -43212,
          -43212,
          -43212,
          -35871,
          -35871,
          -35871,
          -35871,
          -35871,
          -29562,
          -29562,
          -29562,
          -29562,
          -29562,
          -25744,
          -25744,
          -25744,
          -25744,
          -25744,
          -21432,
          -21432,
          -21432,
          -21432,
          -21432,
          -16112,
          -16112,
          -16112,
          -16112,
          -16112,
          -11878,
          -11878,
          -11878,
          -11878,
          -11878,
          -9106,
          -9106,
          -9106,
          -9106,
          -9106,
          -6457,
          -6457,
          -6457,
          -6457,
          -6457,
          -3886,
          -3886,
          -3886,
          -3886,
          -3886,
          -588.95
         ],
         "y": [
          0,
          1,
          2,
          3,
          4,
          5,
          6,
          7,
          8,
          9,
          10,
          11,
          12,
          13,
          14,
          15,
          16,
          17,
          18,
          19,
          20,
          21,
          22,
          23,
          24,
          25,
          26,
          27,
          28,
          29,
          30,
          31,
          32,
          33,
          34,
          35,
          36,
          37,
          38,
          39,
          40,
          41,
          42,
          43,
          44,
          45,
          46,
          47,
          48,
          49,
          50,
          51,
          52,
          53,
          54,
          55,
          56,
          57,
          58,
          59,
          60,
          61,
          62,
          63,
          64,
          65,
          66,
          67,
          68,
          69,
          70,
          71,
          72,
          73,
          74,
          75,
          76,
          77,
          78,
          79,
          80
         ]
        },
        {
         "hoverinfo": "skip",
         "name": "Women 1990",
         "opacity": 0.7,
         "orientation": "h",
         "type": "bar",
         "x": [
          109899,
          109899,
          109899,
          109899,
          109899,
          93617,
          93617,
          93617,
          93617,
          93617,
          82553,
          82553,
          82553,
          82553,
          82553,
          71658,
          71658,
          71658,
          71658,
          71658,
          60911,
          60911,
          60911,
          60911,
          60911,
          51541,
          51541,
          51541,
          51541,
          51541,
          43543,
          43543,
          43543,
          43543,
          43543,
          36715,
          36715,
          36715,
          36715,
          36715,
          30549,
          30549,
          30549,
          30549,
          30549,
          26057,
          26057,
          26057,
          26057,
          26057,
          22472,
          22472,
          22472,
          22472,
          22472,
          17999,
          17999,
          17999,
          17999,
          17999,
          14609,
          14609,
          14609,
          14609,
          14609,
          12024,
          12024,
          12024,
          12024,
          12024,
          9061,
          9061,
          9061,
          9061,
          9061,
          5757,
          5757,
          5757,
          5757,
          5757,
          989
         ],
         "y": [
          0,
          1,
          2,
          3,
          4,
          5,
          6,
          7,
          8,
          9,
          10,
          11,
          12,
          13,
          14,
          15,
          16,
          17,
          18,
          19,
          20,
          21,
          22,
          23,
          24,
          25,
          26,
          27,
          28,
          29,
          30,
          31,
          32,
          33,
          34,
          35,
          36,
          37,
          38,
          39,
          40,
          41,
          42,
          43,
          44,
          45,
          46,
          47,
          48,
          49,
          50,
          51,
          52,
          53,
          54,
          55,
          56,
          57,
          58,
          59,
          60,
          61,
          62,
          63,
          64,
          65,
          66,
          67,
          68,
          69,
          70,
          71,
          72,
          73,
          74,
          75,
          76,
          77,
          78,
          79,
          80
         ]
        },
        {
         "hoverinfo": "skip",
         "name": "Men 1995",
         "opacity": 0.7,
         "orientation": "h",
         "type": "bar",
         "x": [
          -117289,
          -117289,
          -117289,
          -117289,
          -117289,
          -105598,
          -105598,
          -105598,
          -105598,
          -105598,
          -92566,
          -92566,
          -92566,
          -92566,
          -92566,
          -80959,
          -80959,
          -80959,
          -80959,
          -80959,
          -68312,
          -68312,
          -68312,
          -68312,
          -68312,
          -56952,
          -56952,
          -56952,
          -56952,
          -56952,
          -47944,
          -47944,
          -47944,
          -47944,
          -47944,
          -40277,
          -40277,
          -40277,
          -40277,
          -40277,
          -33389,
          -33389,
          -33389,
          -33389,
          -33389,
          -27353,
          -27353,
          -27353,
          -27353,
          -27353,
          -23532,
          -23532,
          -23532,
          -23532,
          -23532,
          -19131,
          -19131,
          -19131,
          -19131,
          -19131,
          -13816,
          -13816,
          -13816,
          -13816,
          -13816,
          -9547,
          -9547,
          -9547,
          -9547,
          -9547,
          -6643,
          -6643,
          -6643,
          -6643,
          -6643,
          -4019,
          -4019,
          -4019,
          -4019,
          -4019,
          -645.7
         ],
         "y": [
          0,
          1,
          2,
          3,
          4,
          5,
          6,
          7,
          8,
          9,
          10,
          11,
          12,
          13,
          14,
          15,
          16,
          17,
          18,
          19,
          20,
          21,
          22,
          23,
          24,
          25,
          26,
          27,
          28,
          29,
          30,
          31,
          32,
          33,
          34,
          35,
          36,
          37,
          38,
          39,
          40,
          41,
          42,
          43,
          44,
          45,
          46,
          47,
          48,
          49,
          50,
          51,
          52,
          53,
          54,
          55,
          56,
          57,
          58,
          59,
          60,
          61,
          62,
          63,
          64,
          65,
          66,
          67,
          68,
          69,
          70,
          71,
          72,
          73,
          74,
          75,
          76,
          77,
          78,
          79,
          80
         ]
        },
        {
         "hoverinfo": "skip",
         "name": "Women 1995",
         "opacity": 0.7,
         "orientation": "h",
         "type": "bar",
         "x": [
          116189,
          116189,
          116189,
          116189,
          116189,
          105083,
          105083,
          105083,
          105083,
          105083,
          92059,
          92059,
          92059,
          92059,
          92059,
          80322,
          80322,
          80322,
          80322,
          80322,
          67799,
          67799,
          67799,
          67799,
          67799,
          56695,
          56695,
          56695,
          56695,
          56695,
          47944,
          47944,
          47944,
          47944,
          47944,
          40679,
          40679,
          40679,
          40679,
          40679,
          34422,
          34422,
          34422,
          34422,
          34422,
          28651,
          28651,
          28651,
          28651,
          28651,
          24264,
          24264,
          24264,
          24264,
          24264,
          20586,
          20586,
          20586,
          20586,
          20586,
          15978,
          15978,
          15978,
          15978,
          15978,
          12281,
          12281,
          12281,
          12281,
          12281,
          9263,
          9263,
          9263,
          9263,
          9263,
          6026,
          6026,
          6026,
          6026,
          6026,
          1086.85
         ],
         "y": [
          0,
          1,
          2,
          3,
          4,
          5,
          6,
          7,
          8,
          9,
          10,
          11,
          12,
          13,
          14,
          15,
          16,
          17,
          18,
          19,
          20,
          21,
          22,
          23,
          24,
          25,
          26,
          27,
          28,
          29,
          30,
          31,
          32,
          33,
          34,
          35,
          36,
          37,
          38,
          39,
          40,
          41,
          42,
          43,
          44,
          45,
          46,
          47,
          48,
          49,
          50,
          51,
          52,
          53,
          54,
          55,
          56,
          57,
          58,
          59,
          60,
          61,
          62,
          63,
          64,
          65,
          66,
          67,
          68,
          69,
          70,
          71,
          72,
          73,
          74,
          75,
          76,
          77,
          78,
          79,
          80
         ]
        },
        {
         "hoverinfo": "skip",
         "name": "Men 2000",
         "opacity": 0.7,
         "orientation": "h",
         "type": "bar",
         "x": [
          -120093,
          -120093,
          -120093,
          -120093,
          -120093,
          -112886,
          -112886,
          -112886,
          -112886,
          -112886,
          -104162,
          -104162,
          -104162,
          -104162,
          -104162,
          -90538,
          -90538,
          -90538,
          -90538,
          -90538,
          -77268,
          -77268,
          -77268,
          -77268,
          -77268,
          -64184,
          -64184,
          -64184,
          -64184,
          -64184,
          -53426,
          -53426,
          -53426,
          -53426,
          -53426,
          -45034,
          -45034,
          -45034,
          -45034,
          -45034,
          -37788,
          -37788,
          -37788,
          -37788,
          -37788,
          -31139,
          -31139,
          -31139,
          -31139,
          -31139,
          -25168,
          -25168,
          -25168,
          -25168,
          -25168,
          -21159,
          -21159,
          -21159,
          -21159,
          -21159,
          -16548,
          -16548,
          -16548,
          -16548,
          -16548,
          -11223,
          -11223,
          -11223,
          -11223,
          -11223,
          -7039,
          -7039,
          -7039,
          -7039,
          -7039,
          -4184,
          -4184,
          -4184,
          -4184,
          -4184,
          -686.9
         ],
         "y": [
          0,
          1,
          2,
          3,
          4,
          5,
          6,
          7,
          8,
          9,
          10,
          11,
          12,
          13,
          14,
          15,
          16,
          17,
          18,
          19,
          20,
          21,
          22,
          23,
          24,
          25,
          26,
          27,
          28,
          29,
          30,
          31,
          32,
          33,
          34,
          35,
          36,
          37,
          38,
          39,
          40,
          41,
          42,
          43,
          44,
          45,
          46,
          47,
          48,
          49,
          50,
          51,
          52,
          53,
          54,
          55,
          56,
          57,
          58,
          59,
          60,
          61,
          62,
          63,
          64,
          65,
          66,
          67,
          68,
          69,
          70,
          71,
          72,
          73,
          74,
          75,
          76,
          77,
          78,
          79,
          80
         ]
        },
        {
         "hoverinfo": "skip",
         "name": "Women 2000",
         "opacity": 0.7,
         "orientation": "h",
         "type": "bar",
         "x": [
          118714,
          118714,
          118714,
          118714,
          118714,
          112158,
          112158,
          112158,
          112158,
          112158,
          103636,
          103636,
          103636,
          103636,
          103636,
          89944,
          89944,
          89944,
          89944,
          89944,
          76573,
          76573,
          76573,
          76573,
          76573,
          63689,
          63689,
          63689,
          63689,
          63689,
          53205,
          53205,
          53205,
          53205,
          53205,
          45170,
          45170,
          45170,
          45170,
          45170,
          38444,
          38444,
          38444,
          38444,
          38444,
          32527,
          32527,
          32527,
          32527,
          32527,
          26873,
          26873,
          26873,
          26873,
          26873,
          22403,
          22403,
          22403,
          22403,
          22403,
          18465,
          18465,
          18465,
          18465,
          18465,
          13611,
          13611,
          13611,
          13611,
          13611,
          9610,
          9610,
          9610,
          9610,
          9610,
          6284,
          6284,
          6284,
          6284,
          6284,
          1181.7
         ],
         "y": [
          0,
          1,
          2,
          3,
          4,
          5,
          6,
          7,
          8,
          9,
          10,
          11,
          12,
          13,
          14,
          15,
          16,
          17,
          18,
          19,
          20,
          21,
          22,
          23,
          24,
          25,
          26,
          27,
          28,
          29,
          30,
          31,
          32,
          33,
          34,
          35,
          36,
          37,
          38,
          39,
          40,
          41,
          42,
          43,
          44,
          45,
          46,
          47,
          48,
          49,
          50,
          51,
          52,
          53,
          54,
          55,
          56,
          57,
          58,
          59,
          60,
          61,
          62,
          63,
          64,
          65,
          66,
          67,
          68,
          69,
          70,
          71,
          72,
          73,
          74,
          75,
          76,
          77,
          78,
          79,
          80
         ]
        },
        {
         "hoverinfo": "skip",
         "name": "Men 2005",
         "opacity": 0.7,
         "orientation": "h",
         "type": "bar",
         "x": [
          -121932,
          -121932,
          -121932,
          -121932,
          -121932,
          -116294,
          -116294,
          -116294,
          -116294,
          -116294,
          -111476,
          -111476,
          -111476,
          -111476,
          -111476,
          -102124,
          -102124,
          -102124,
          -102124,
          -102124,
          -86867,
          -86867,
          -86867,
          -86867,
          -86867,
          -73163,
          -73163,
          -73163,
          -73163,
          -73163,
          -60686,
          -60686,
          -60686,
          -60686,
          -60686,
          -50540,
          -50540,
          -50540,
          -50540,
          -50540,
          -42539,
          -42539,
          -42539,
          -42539,
          -42539,
          -35475,
          -35475,
          -35475,
          -35475,
          -35475,
          -28842,
          -28842,
          -28842,
          -28842,
          -28842,
          -22757,
          -22757,
          -22757,
          -22757,
          -22757,
          -18418,
          -18418,
          -18418,
          -18418,
          -18418,
          -13551,
          -13551,
          -13551,
          -13551,
          -13551,
          -8359,
          -8359,
          -8359,
          -8359,
          -8359,
          -4488,
          -4488,
          -4488,
          -4488,
          -4488,
          -727.75
         ],
         "y": [
          0,
          1,
          2,
          3,
          4,
          5,
          6,
          7,
          8,
          9,
          10,
          11,
          12,
          13,
          14,
          15,
          16,
          17,
          18,
          19,
          20,
          21,
          22,
          23,
          24,
          25,
          26,
          27,
          28,
          29,
          30,
          31,
          32,
          33,
          34,
          35,
          36,
          37,
          38,
          39,
          40,
          41,
          42,
          43,
          44,
          45,
          46,
          47,
          48,
          49,
          50,
          51,
          52,
          53,
          54,
          55,
          56,
          57,
          58,
          59,
          60,
          61,
          62,
          63,
          64,
          65,
          66,
          67,
          68,
          69,
          70,
          71,
          72,
          73,
          74,
          75,
          76,
          77,
          78,
          79,
          80
         ]
        },
        {
         "hoverinfo": "skip",
         "name": "Women 2005",
         "opacity": 0.7,
         "orientation": "h",
         "type": "bar",
         "x": [
          120105,
          120105,
          120105,
          120105,
          120105,
          115340,
          115340,
          115340,
          115340,
          115340,
          110850,
          110850,
          110850,
          110850,
          110850,
          101632,
          101632,
          101632,
          101632,
          101632,
          86366,
          86366,
          86366,
          86366,
          86366,
          72625,
          72625,
          72625,
          72625,
          72625,
          60339,
          60339,
          60339,
          60339,
          60339,
          50549,
          50549,
          50549,
          50549,
          50549,
          43013,
          43013,
          43013,
          43013,
          43013,
          36575,
          36575,
          36575,
          36575,
          36575,
          30719,
          30719,
          30719,
          30719,
          30719,
          24995,
          24995,
          24995,
          24995,
          24995,
          20268,
          20268,
          20268,
          20268,
          20268,
          15909,
          15909,
          15909,
          15909,
          15909,
          10805,
          10805,
          10805,
          10805,
          10805,
          6639,
          6639,
          6639,
          6639,
          6639,
          1272.1
         ],
         "y": [
          0,
          1,
          2,
          3,
          4,
          5,
          6,
          7,
          8,
          9,
          10,
          11,
          12,
          13,
          14,
          15,
          16,
          17,
          18,
          19,
          20,
          21,
          22,
          23,
          24,
          25,
          26,
          27,
          28,
          29,
          30,
          31,
          32,
          33,
          34,
          35,
          36,
          37,
          38,
          39,
          40,
          41,
          42,
          43,
          44,
          45,
          46,
          47,
          48,
          49,
          50,
          51,
          52,
          53,
          54,
          55,
          56,
          57,
          58,
          59,
          60,
          61,
          62,
          63,
          64,
          65,
          66,
          67,
          68,
          69,
          70,
          71,
          72,
          73,
          74,
          75,
          76,
          77,
          78,
          79,
          80
         ]
        },
        {
         "hoverinfo": "skip",
         "name": "Men 2010",
         "opacity": 0.7,
         "orientation": "h",
         "type": "bar",
         "x": [
          -124861,
          -124861,
          -124861,
          -124861,
          -124861,
          -118230,
          -118230,
          -118230,
          -118230,
          -118230,
          -114629,
          -114629,
          -114629,
          -114629,
          -114629,
          -109159,
          -109159,
          -109159,
          -109159,
          -109159,
          -98089,
          -98089,
          -98089,
          -98089,
          -98089,
          -82444,
          -82444,
          -82444,
          -82444,
          -82444,
          -69368,
          -69368,
          -69368,
          -69368,
          -69368,
          -57540,
          -57540,
          -57540,
          -57540,
          -57540,
          -47813,
          -47813,
          -47813,
          -47813,
          -47813,
          -39974,
          -39974,
          -39974,
          -39974,
          -39974,
          -32871,
          -32871,
          -32871,
          -32871,
          -32871,
          -26078,
          -26078,
          -26078,
          -26078,
          -26078,
          -19779,
          -19779,
          -19779,
          -19779,
          -19779,
          -15059,
          -15059,
          -15059,
          -15059,
          -15059,
          -10082,
          -10082,
          -10082,
          -10082,
          -10082,
          -5348,
          -5348,
          -5348,
          -5348,
          -5348,
          -773.9
         ],
         "y": [
          0,
          1,
          2,
          3,
          4,
          5,
          6,
          7,
          8,
          9,
          10,
          11,
          12,
          13,
          14,
          15,
          16,
          17,
          18,
          19,
          20,
          21,
          22,
          23,
          24,
          25,
          26,
          27,
          28,
          29,
          30,
          31,
          32,
          33,
          34,
          35,
          36,
          37,
          38,
          39,
          40,
          41,
          42,
          43,
          44,
          45,
          46,
          47,
          48,
          49,
          50,
          51,
          52,
          53,
          54,
          55,
          56,
          57,
          58,
          59,
          60,
          61,
          62,
          63,
          64,
          65,
          66,
          67,
          68,
          69,
          70,
          71,
          72,
          73,
          74,
          75,
          76,
          77,
          78,
          79,
          80
         ]
        },
        {
         "hoverinfo": "skip",
         "name": "Women 2010",
         "opacity": 0.7,
         "orientation": "h",
         "type": "bar",
         "x": [
          122356,
          122356,
          122356,
          122356,
          122356,
          116798,
          116798,
          116798,
          116798,
          116798,
          113779,
          113779,
          113779,
          113779,
          113779,
          108569,
          108569,
          108569,
          108569,
          108569,
          97753,
          97753,
          97753,
          97753,
          97753,
          82169,
          82169,
          82169,
          82169,
          82169,
          69051,
          69051,
          69051,
          69051,
          69051,
          57505,
          57505,
          57505,
          57505,
          57505,
          48246,
          48246,
          48246,
          48246,
          48246,
          40983,
          40983,
          40983,
          40983,
          40983,
          34580,
          34580,
          34580,
          34580,
          34580,
          28614,
          28614,
          28614,
          28614,
          28614,
          22659,
          22659,
          22659,
          22659,
          22659,
          17511,
          17511,
          17511,
          17511,
          17511,
          12657,
          12657,
          12657,
          12657,
          12657,
          7553,
          7553,
          7553,
          7553,
          7553,
          1360.55
         ],
         "y": [
          0,
          1,
          2,
          3,
          4,
          5,
          6,
          7,
          8,
          9,
          10,
          11,
          12,
          13,
          14,
          15,
          16,
          17,
          18,
          19,
          20,
          21,
          22,
          23,
          24,
          25,
          26,
          27,
          28,
          29,
          30,
          31,
          32,
          33,
          34,
          35,
          36,
          37,
          38,
          39,
          40,
          41,
          42,
          43,
          44,
          45,
          46,
          47,
          48,
          49,
          50,
          51,
          52,
          53,
          54,
          55,
          56,
          57,
          58,
          59,
          60,
          61,
          62,
          63,
          64,
          65,
          66,
          67,
          68,
          69,
          70,
          71,
          72,
          73,
          74,
          75,
          76,
          77,
          78,
          79,
          80
         ]
        }
       ],
       "layout": {
        "bargap": 0.1,
        "bargroupgap": 0,
        "barmode": "overlay",
        "legend": {
         "bgcolor": "rgba(255, 255, 255, 0.7)",
         "bordercolor": "Black",
         "borderwidth": 1,
         "font": {
          "size": 12
         },
         "traceorder": "normal",
         "x": 1.05,
         "y": 1
        },
        "template": {
         "data": {
          "bar": [
           {
            "error_x": {
             "color": "#2a3f5f"
            },
            "error_y": {
             "color": "#2a3f5f"
            },
            "marker": {
             "line": {
              "color": "#E5ECF6",
              "width": 0.5
             },
             "pattern": {
              "fillmode": "overlay",
              "size": 10,
              "solidity": 0.2
             }
            },
            "type": "bar"
           }
          ],
          "barpolar": [
           {
            "marker": {
             "line": {
              "color": "#E5ECF6",
              "width": 0.5
             },
             "pattern": {
              "fillmode": "overlay",
              "size": 10,
              "solidity": 0.2
             }
            },
            "type": "barpolar"
           }
          ],
          "carpet": [
           {
            "aaxis": {
             "endlinecolor": "#2a3f5f",
             "gridcolor": "white",
             "linecolor": "white",
             "minorgridcolor": "white",
             "startlinecolor": "#2a3f5f"
            },
            "baxis": {
             "endlinecolor": "#2a3f5f",
             "gridcolor": "white",
             "linecolor": "white",
             "minorgridcolor": "white",
             "startlinecolor": "#2a3f5f"
            },
            "type": "carpet"
           }
          ],
          "choropleth": [
           {
            "colorbar": {
             "outlinewidth": 0,
             "ticks": ""
            },
            "type": "choropleth"
           }
          ],
          "contour": [
           {
            "colorbar": {
             "outlinewidth": 0,
             "ticks": ""
            },
            "colorscale": [
             [
              0,
              "#0d0887"
             ],
             [
              0.1111111111111111,
              "#46039f"
             ],
             [
              0.2222222222222222,
              "#7201a8"
             ],
             [
              0.3333333333333333,
              "#9c179e"
             ],
             [
              0.4444444444444444,
              "#bd3786"
             ],
             [
              0.5555555555555556,
              "#d8576b"
             ],
             [
              0.6666666666666666,
              "#ed7953"
             ],
             [
              0.7777777777777778,
              "#fb9f3a"
             ],
             [
              0.8888888888888888,
              "#fdca26"
             ],
             [
              1,
              "#f0f921"
             ]
            ],
            "type": "contour"
           }
          ],
          "contourcarpet": [
           {
            "colorbar": {
             "outlinewidth": 0,
             "ticks": ""
            },
            "type": "contourcarpet"
           }
          ],
          "heatmap": [
           {
            "colorbar": {
             "outlinewidth": 0,
             "ticks": ""
            },
            "colorscale": [
             [
              0,
              "#0d0887"
             ],
             [
              0.1111111111111111,
              "#46039f"
             ],
             [
              0.2222222222222222,
              "#7201a8"
             ],
             [
              0.3333333333333333,
              "#9c179e"
             ],
             [
              0.4444444444444444,
              "#bd3786"
             ],
             [
              0.5555555555555556,
              "#d8576b"
             ],
             [
              0.6666666666666666,
              "#ed7953"
             ],
             [
              0.7777777777777778,
              "#fb9f3a"
             ],
             [
              0.8888888888888888,
              "#fdca26"
             ],
             [
              1,
              "#f0f921"
             ]
            ],
            "type": "heatmap"
           }
          ],
          "heatmapgl": [
           {
            "colorbar": {
             "outlinewidth": 0,
             "ticks": ""
            },
            "colorscale": [
             [
              0,
              "#0d0887"
             ],
             [
              0.1111111111111111,
              "#46039f"
             ],
             [
              0.2222222222222222,
              "#7201a8"
             ],
             [
              0.3333333333333333,
              "#9c179e"
             ],
             [
              0.4444444444444444,
              "#bd3786"
             ],
             [
              0.5555555555555556,
              "#d8576b"
             ],
             [
              0.6666666666666666,
              "#ed7953"
             ],
             [
              0.7777777777777778,
              "#fb9f3a"
             ],
             [
              0.8888888888888888,
              "#fdca26"
             ],
             [
              1,
              "#f0f921"
             ]
            ],
            "type": "heatmapgl"
           }
          ],
          "histogram": [
           {
            "marker": {
             "pattern": {
              "fillmode": "overlay",
              "size": 10,
              "solidity": 0.2
             }
            },
            "type": "histogram"
           }
          ],
          "histogram2d": [
           {
            "colorbar": {
             "outlinewidth": 0,
             "ticks": ""
            },
            "colorscale": [
             [
              0,
              "#0d0887"
             ],
             [
              0.1111111111111111,
              "#46039f"
             ],
             [
              0.2222222222222222,
              "#7201a8"
             ],
             [
              0.3333333333333333,
              "#9c179e"
             ],
             [
              0.4444444444444444,
              "#bd3786"
             ],
             [
              0.5555555555555556,
              "#d8576b"
             ],
             [
              0.6666666666666666,
              "#ed7953"
             ],
             [
              0.7777777777777778,
              "#fb9f3a"
             ],
             [
              0.8888888888888888,
              "#fdca26"
             ],
             [
              1,
              "#f0f921"
             ]
            ],
            "type": "histogram2d"
           }
          ],
          "histogram2dcontour": [
           {
            "colorbar": {
             "outlinewidth": 0,
             "ticks": ""
            },
            "colorscale": [
             [
              0,
              "#0d0887"
             ],
             [
              0.1111111111111111,
              "#46039f"
             ],
             [
              0.2222222222222222,
              "#7201a8"
             ],
             [
              0.3333333333333333,
              "#9c179e"
             ],
             [
              0.4444444444444444,
              "#bd3786"
             ],
             [
              0.5555555555555556,
              "#d8576b"
             ],
             [
              0.6666666666666666,
              "#ed7953"
             ],
             [
              0.7777777777777778,
              "#fb9f3a"
             ],
             [
              0.8888888888888888,
              "#fdca26"
             ],
             [
              1,
              "#f0f921"
             ]
            ],
            "type": "histogram2dcontour"
           }
          ],
          "mesh3d": [
           {
            "colorbar": {
             "outlinewidth": 0,
             "ticks": ""
            },
            "type": "mesh3d"
           }
          ],
          "parcoords": [
           {
            "line": {
             "colorbar": {
              "outlinewidth": 0,
              "ticks": ""
             }
            },
            "type": "parcoords"
           }
          ],
          "pie": [
           {
            "automargin": true,
            "type": "pie"
           }
          ],
          "scatter": [
           {
            "fillpattern": {
             "fillmode": "overlay",
             "size": 10,
             "solidity": 0.2
            },
            "type": "scatter"
           }
          ],
          "scatter3d": [
           {
            "line": {
             "colorbar": {
              "outlinewidth": 0,
              "ticks": ""
             }
            },
            "marker": {
             "colorbar": {
              "outlinewidth": 0,
              "ticks": ""
             }
            },
            "type": "scatter3d"
           }
          ],
          "scattercarpet": [
           {
            "marker": {
             "colorbar": {
              "outlinewidth": 0,
              "ticks": ""
             }
            },
            "type": "scattercarpet"
           }
          ],
          "scattergeo": [
           {
            "marker": {
             "colorbar": {
              "outlinewidth": 0,
              "ticks": ""
             }
            },
            "type": "scattergeo"
           }
          ],
          "scattergl": [
           {
            "marker": {
             "colorbar": {
              "outlinewidth": 0,
              "ticks": ""
             }
            },
            "type": "scattergl"
           }
          ],
          "scattermapbox": [
           {
            "marker": {
             "colorbar": {
              "outlinewidth": 0,
              "ticks": ""
             }
            },
            "type": "scattermapbox"
           }
          ],
          "scatterpolar": [
           {
            "marker": {
             "colorbar": {
              "outlinewidth": 0,
              "ticks": ""
             }
            },
            "type": "scatterpolar"
           }
          ],
          "scatterpolargl": [
           {
            "marker": {
             "colorbar": {
              "outlinewidth": 0,
              "ticks": ""
             }
            },
            "type": "scatterpolargl"
           }
          ],
          "scatterternary": [
           {
            "marker": {
             "colorbar": {
              "outlinewidth": 0,
              "ticks": ""
             }
            },
            "type": "scatterternary"
           }
          ],
          "surface": [
           {
            "colorbar": {
             "outlinewidth": 0,
             "ticks": ""
            },
            "colorscale": [
             [
              0,
              "#0d0887"
             ],
             [
              0.1111111111111111,
              "#46039f"
             ],
             [
              0.2222222222222222,
              "#7201a8"
             ],
             [
              0.3333333333333333,
              "#9c179e"
             ],
             [
              0.4444444444444444,
              "#bd3786"
             ],
             [
              0.5555555555555556,
              "#d8576b"
             ],
             [
              0.6666666666666666,
              "#ed7953"
             ],
             [
              0.7777777777777778,
              "#fb9f3a"
             ],
             [
              0.8888888888888888,
              "#fdca26"
             ],
             [
              1,
              "#f0f921"
             ]
            ],
            "type": "surface"
           }
          ],
          "table": [
           {
            "cells": {
             "fill": {
              "color": "#EBF0F8"
             },
             "line": {
              "color": "white"
             }
            },
            "header": {
             "fill": {
              "color": "#C8D4E3"
             },
             "line": {
              "color": "white"
             }
            },
            "type": "table"
           }
          ]
         },
         "layout": {
          "annotationdefaults": {
           "arrowcolor": "#2a3f5f",
           "arrowhead": 0,
           "arrowwidth": 1
          },
          "autotypenumbers": "strict",
          "coloraxis": {
           "colorbar": {
            "outlinewidth": 0,
            "ticks": ""
           }
          },
          "colorscale": {
           "diverging": [
            [
             0,
             "#8e0152"
            ],
            [
             0.1,
             "#c51b7d"
            ],
            [
             0.2,
             "#de77ae"
            ],
            [
             0.3,
             "#f1b6da"
            ],
            [
             0.4,
             "#fde0ef"
            ],
            [
             0.5,
             "#f7f7f7"
            ],
            [
             0.6,
             "#e6f5d0"
            ],
            [
             0.7,
             "#b8e186"
            ],
            [
             0.8,
             "#7fbc41"
            ],
            [
             0.9,
             "#4d9221"
            ],
            [
             1,
             "#276419"
            ]
           ],
           "sequential": [
            [
             0,
             "#0d0887"
            ],
            [
             0.1111111111111111,
             "#46039f"
            ],
            [
             0.2222222222222222,
             "#7201a8"
            ],
            [
             0.3333333333333333,
             "#9c179e"
            ],
            [
             0.4444444444444444,
             "#bd3786"
            ],
            [
             0.5555555555555556,
             "#d8576b"
            ],
            [
             0.6666666666666666,
             "#ed7953"
            ],
            [
             0.7777777777777778,
             "#fb9f3a"
            ],
            [
             0.8888888888888888,
             "#fdca26"
            ],
            [
             1,
             "#f0f921"
            ]
           ],
           "sequentialminus": [
            [
             0,
             "#0d0887"
            ],
            [
             0.1111111111111111,
             "#46039f"
            ],
            [
             0.2222222222222222,
             "#7201a8"
            ],
            [
             0.3333333333333333,
             "#9c179e"
            ],
            [
             0.4444444444444444,
             "#bd3786"
            ],
            [
             0.5555555555555556,
             "#d8576b"
            ],
            [
             0.6666666666666666,
             "#ed7953"
            ],
            [
             0.7777777777777778,
             "#fb9f3a"
            ],
            [
             0.8888888888888888,
             "#fdca26"
            ],
            [
             1,
             "#f0f921"
            ]
           ]
          },
          "colorway": [
           "#636efa",
           "#EF553B",
           "#00cc96",
           "#ab63fa",
           "#FFA15A",
           "#19d3f3",
           "#FF6692",
           "#B6E880",
           "#FF97FF",
           "#FECB52"
          ],
          "font": {
           "color": "#2a3f5f"
          },
          "geo": {
           "bgcolor": "white",
           "lakecolor": "white",
           "landcolor": "#E5ECF6",
           "showlakes": true,
           "showland": true,
           "subunitcolor": "white"
          },
          "hoverlabel": {
           "align": "left"
          },
          "hovermode": "closest",
          "mapbox": {
           "style": "light"
          },
          "paper_bgcolor": "white",
          "plot_bgcolor": "#E5ECF6",
          "polar": {
           "angularaxis": {
            "gridcolor": "white",
            "linecolor": "white",
            "ticks": ""
           },
           "bgcolor": "#E5ECF6",
           "radialaxis": {
            "gridcolor": "white",
            "linecolor": "white",
            "ticks": ""
           }
          },
          "scene": {
           "xaxis": {
            "backgroundcolor": "#E5ECF6",
            "gridcolor": "white",
            "gridwidth": 2,
            "linecolor": "white",
            "showbackground": true,
            "ticks": "",
            "zerolinecolor": "white"
           },
           "yaxis": {
            "backgroundcolor": "#E5ECF6",
            "gridcolor": "white",
            "gridwidth": 2,
            "linecolor": "white",
            "showbackground": true,
            "ticks": "",
            "zerolinecolor": "white"
           },
           "zaxis": {
            "backgroundcolor": "#E5ECF6",
            "gridcolor": "white",
            "gridwidth": 2,
            "linecolor": "white",
            "showbackground": true,
            "ticks": "",
            "zerolinecolor": "white"
           }
          },
          "shapedefaults": {
           "line": {
            "color": "#2a3f5f"
           }
          },
          "ternary": {
           "aaxis": {
            "gridcolor": "white",
            "linecolor": "white",
            "ticks": ""
           },
           "baxis": {
            "gridcolor": "white",
            "linecolor": "white",
            "ticks": ""
           },
           "bgcolor": "#E5ECF6",
           "caxis": {
            "gridcolor": "white",
            "linecolor": "white",
            "ticks": ""
           }
          },
          "title": {
           "x": 0.05
          },
          "xaxis": {
           "automargin": true,
           "gridcolor": "white",
           "linecolor": "white",
           "ticks": "",
           "title": {
            "standoff": 15
           },
           "zerolinecolor": "white",
           "zerolinewidth": 2
          },
          "yaxis": {
           "automargin": true,
           "gridcolor": "white",
           "linecolor": "white",
           "ticks": "",
           "title": {
            "standoff": 15
           },
           "zerolinecolor": "white",
           "zerolinewidth": 2
          }
         }
        },
        "title": {
         "text": "Population Pyramid for Haiti"
        },
        "xaxis": {
         "tickformat": ",d",
         "title": {
          "text": "Population"
         }
        },
        "yaxis": {
         "title": {
          "text": "Age Group"
         }
        }
       }
      },
      "image/png": "[encoded data removed]",
      "text/html": [
       "<div>                            <div id=\"1aa74b59-efe2-4267-91dc-64e3889d26e8\" class=\"plotly-graph-div\" style=\"height:525px; width:100%;\"></div>            <script type=\"text/javascript\">                require([\"plotly\"], function(Plotly) {                    window.PLOTLYENV=window.PLOTLYENV || {};                                    if (document.getElementById(\"1aa74b59-efe2-4267-91dc-64e3889d26e8\")) {                    Plotly.newPlot(                        \"1aa74b59-efe2-4267-91dc-64e3889d26e8\",                        [{\"hoverinfo\":\"skip\",\"name\":\"Men 1990\",\"opacity\":0.7,\"orientation\":\"h\",\"x\":[-110694.0,-110694.0,-110694.0,-110694.0,-110694.0,-94025.0,-94025.0,-94025.0,-94025.0,-94025.0,-83012.0,-83012.0,-83012.0,-83012.0,-83012.0,-72005.0,-72005.0,-72005.0,-72005.0,-72005.0,-61098.0,-61098.0,-61098.0,-61098.0,-61098.0,-51505.0,-51505.0,-51505.0,-51505.0,-51505.0,-43212.0,-43212.0,-43212.0,-43212.0,-43212.0,-35871.0,-35871.0,-35871.0,-35871.0,-35871.0,-29562.0,-29562.0,-29562.0,-29562.0,-29562.0,-25744.0,-25744.0,-25744.0,-25744.0,-25744.0,-21432.0,-21432.0,-21432.0,-21432.0,-21432.0,-16112.0,-16112.0,-16112.0,-16112.0,-16112.0,-11878.0,-11878.0,-11878.0,-11878.0,-11878.0,-9106.0,-9106.0,-9106.0,-9106.0,-9106.0,-6457.0,-6457.0,-6457.0,-6457.0,-6457.0,-3886.0,-3886.0,-3886.0,-3886.0,-3886.0,-588.95],\"y\":[0,1,2,3,4,5,6,7,8,9,10,11,12,13,14,15,16,17,18,19,20,21,22,23,24,25,26,27,28,29,30,31,32,33,34,35,36,37,38,39,40,41,42,43,44,45,46,47,48,49,50,51,52,53,54,55,56,57,58,59,60,61,62,63,64,65,66,67,68,69,70,71,72,73,74,75,76,77,78,79,80],\"type\":\"bar\"},{\"hoverinfo\":\"skip\",\"name\":\"Women 1990\",\"opacity\":0.7,\"orientation\":\"h\",\"x\":[109899.0,109899.0,109899.0,109899.0,109899.0,93617.0,93617.0,93617.0,93617.0,93617.0,82553.0,82553.0,82553.0,82553.0,82553.0,71658.0,71658.0,71658.0,71658.0,71658.0,60911.0,60911.0,60911.0,60911.0,60911.0,51541.0,51541.0,51541.0,51541.0,51541.0,43543.0,43543.0,43543.0,43543.0,43543.0,36715.0,36715.0,36715.0,36715.0,36715.0,30549.0,30549.0,30549.0,30549.0,30549.0,26057.0,26057.0,26057.0,26057.0,26057.0,22472.0,22472.0,22472.0,22472.0,22472.0,17999.0,17999.0,17999.0,17999.0,17999.0,14609.0,14609.0,14609.0,14609.0,14609.0,12024.0,12024.0,12024.0,12024.0,12024.0,9061.0,9061.0,9061.0,9061.0,9061.0,5757.0,5757.0,5757.0,5757.0,5757.0,989.0],\"y\":[0,1,2,3,4,5,6,7,8,9,10,11,12,13,14,15,16,17,18,19,20,21,22,23,24,25,26,27,28,29,30,31,32,33,34,35,36,37,38,39,40,41,42,43,44,45,46,47,48,49,50,51,52,53,54,55,56,57,58,59,60,61,62,63,64,65,66,67,68,69,70,71,72,73,74,75,76,77,78,79,80],\"type\":\"bar\"},{\"hoverinfo\":\"skip\",\"name\":\"Men 1995\",\"opacity\":0.7,\"orientation\":\"h\",\"x\":[-117289.0,-117289.0,-117289.0,-117289.0,-117289.0,-105598.0,-105598.0,-105598.0,-105598.0,-105598.0,-92566.0,-92566.0,-92566.0,-92566.0,-92566.0,-80959.0,-80959.0,-80959.0,-80959.0,-80959.0,-68312.0,-68312.0,-68312.0,-68312.0,-68312.0,-56952.0,-56952.0,-56952.0,-56952.0,-56952.0,-47944.0,-47944.0,-47944.0,-47944.0,-47944.0,-40277.0,-40277.0,-40277.0,-40277.0,-40277.0,-33389.0,-33389.0,-33389.0,-33389.0,-33389.0,-27353.0,-27353.0,-27353.0,-27353.0,-27353.0,-23532.0,-23532.0,-23532.0,-23532.0,-23532.0,-19131.0,-19131.0,-19131.0,-19131.0,-19131.0,-13816.0,-13816.0,-13816.0,-13816.0,-13816.0,-9547.0,-9547.0,-9547.0,-9547.0,-9547.0,-6643.0,-6643.0,-6643.0,-6643.0,-6643.0,-4019.0,-4019.0,-4019.0,-4019.0,-4019.0,-645.7],\"y\":[0,1,2,3,4,5,6,7,8,9,10,11,12,13,14,15,16,17,18,19,20,21,22,23,24,25,26,27,28,29,30,31,32,33,34,35,36,37,38,39,40,41,42,43,44,45,46,47,48,49,50,51,52,53,54,55,56,57,58,59,60,61,62,63,64,65,66,67,68,69,70,71,72,73,74,75,76,77,78,79,80],\"type\":\"bar\"},{\"hoverinfo\":\"skip\",\"name\":\"Women 1995\",\"opacity\":0.7,\"orientation\":\"h\",\"x\":[116189.0,116189.0,116189.0,116189.0,116189.0,105083.0,105083.0,105083.0,105083.0,105083.0,92059.0,92059.0,92059.0,92059.0,92059.0,80322.0,80322.0,80322.0,80322.0,80322.0,67799.0,67799.0,67799.0,67799.0,67799.0,56695.0,56695.0,56695.0,56695.0,56695.0,47944.0,47944.0,47944.0,47944.0,47944.0,40679.0,40679.0,40679.0,40679.0,40679.0,34422.0,34422.0,34422.0,34422.0,34422.0,28651.0,28651.0,28651.0,28651.0,28651.0,24264.0,24264.0,24264.0,24264.0,24264.0,20586.0,20586.0,20586.0,20586.0,20586.0,15978.0,15978.0,15978.0,15978.0,15978.0,12281.0,12281.0,12281.0,12281.0,12281.0,9263.0,9263.0,9263.0,9263.0,9263.0,6026.0,6026.0,6026.0,6026.0,6026.0,1086.85],\"y\":[0,1,2,3,4,5,6,7,8,9,10,11,12,13,14,15,16,17,18,19,20,21,22,23,24,25,26,27,28,29,30,31,32,33,34,35,36,37,38,39,40,41,42,43,44,45,46,47,48,49,50,51,52,53,54,55,56,57,58,59,60,61,62,63,64,65,66,67,68,69,70,71,72,73,74,75,76,77,78,79,80],\"type\":\"bar\"},{\"hoverinfo\":\"skip\",\"name\":\"Men 2000\",\"opacity\":0.7,\"orientation\":\"h\",\"x\":[-120093.0,-120093.0,-120093.0,-120093.0,-120093.0,-112886.0,-112886.0,-112886.0,-112886.0,-112886.0,-104162.0,-104162.0,-104162.0,-104162.0,-104162.0,-90538.0,-90538.0,-90538.0,-90538.0,-90538.0,-77268.0,-77268.0,-77268.0,-77268.0,-77268.0,-64184.0,-64184.0,-64184.0,-64184.0,-64184.0,-53426.0,-53426.0,-53426.0,-53426.0,-53426.0,-45034.0,-45034.0,-45034.0,-45034.0,-45034.0,-37788.0,-37788.0,-37788.0,-37788.0,-37788.0,-31139.0,-31139.0,-31139.0,-31139.0,-31139.0,-25168.0,-25168.0,-25168.0,-25168.0,-25168.0,-21159.0,-21159.0,-21159.0,-21159.0,-21159.0,-16548.0,-16548.0,-16548.0,-16548.0,-16548.0,-11223.0,-11223.0,-11223.0,-11223.0,-11223.0,-7039.0,-7039.0,-7039.0,-7039.0,-7039.0,-4184.0,-4184.0,-4184.0,-4184.0,-4184.0,-686.9],\"y\":[0,1,2,3,4,5,6,7,8,9,10,11,12,13,14,15,16,17,18,19,20,21,22,23,24,25,26,27,28,29,30,31,32,33,34,35,36,37,38,39,40,41,42,43,44,45,46,47,48,49,50,51,52,53,54,55,56,57,58,59,60,61,62,63,64,65,66,67,68,69,70,71,72,73,74,75,76,77,78,79,80],\"type\":\"bar\"},{\"hoverinfo\":\"skip\",\"name\":\"Women 2000\",\"opacity\":0.7,\"orientation\":\"h\",\"x\":[118714.0,118714.0,118714.0,118714.0,118714.0,112158.0,112158.0,112158.0,112158.0,112158.0,103636.0,103636.0,103636.0,103636.0,103636.0,89944.0,89944.0,89944.0,89944.0,89944.0,76573.0,76573.0,76573.0,76573.0,76573.0,63689.0,63689.0,63689.0,63689.0,63689.0,53205.0,53205.0,53205.0,53205.0,53205.0,45170.0,45170.0,45170.0,45170.0,45170.0,38444.0,38444.0,38444.0,38444.0,38444.0,32527.0,32527.0,32527.0,32527.0,32527.0,26873.0,26873.0,26873.0,26873.0,26873.0,22403.0,22403.0,22403.0,22403.0,22403.0,18465.0,18465.0,18465.0,18465.0,18465.0,13611.0,13611.0,13611.0,13611.0,13611.0,9610.0,9610.0,9610.0,9610.0,9610.0,6284.0,6284.0,6284.0,6284.0,6284.0,1181.7],\"y\":[0,1,2,3,4,5,6,7,8,9,10,11,12,13,14,15,16,17,18,19,20,21,22,23,24,25,26,27,28,29,30,31,32,33,34,35,36,37,38,39,40,41,42,43,44,45,46,47,48,49,50,51,52,53,54,55,56,57,58,59,60,61,62,63,64,65,66,67,68,69,70,71,72,73,74,75,76,77,78,79,80],\"type\":\"bar\"},{\"hoverinfo\":\"skip\",\"name\":\"Men 2005\",\"opacity\":0.7,\"orientation\":\"h\",\"x\":[-121932.0,-121932.0,-121932.0,-121932.0,-121932.0,-116294.0,-116294.0,-116294.0,-116294.0,-116294.0,-111476.0,-111476.0,-111476.0,-111476.0,-111476.0,-102124.0,-102124.0,-102124.0,-102124.0,-102124.0,-86867.0,-86867.0,-86867.0,-86867.0,-86867.0,-73163.0,-73163.0,-73163.0,-73163.0,-73163.0,-60686.0,-60686.0,-60686.0,-60686.0,-60686.0,-50540.0,-50540.0,-50540.0,-50540.0,-50540.0,-42539.0,-42539.0,-42539.0,-42539.0,-42539.0,-35475.0,-35475.0,-35475.0,-35475.0,-35475.0,-28842.0,-28842.0,-28842.0,-28842.0,-28842.0,-22757.0,-22757.0,-22757.0,-22757.0,-22757.0,-18418.0,-18418.0,-18418.0,-18418.0,-18418.0,-13551.0,-13551.0,-13551.0,-13551.0,-13551.0,-8359.0,-8359.0,-8359.0,-8359.0,-8359.0,-4488.0,-4488.0,-4488.0,-4488.0,-4488.0,-727.75],\"y\":[0,1,2,3,4,5,6,7,8,9,10,11,12,13,14,15,16,17,18,19,20,21,22,23,24,25,26,27,28,29,30,31,32,33,34,35,36,37,38,39,40,41,42,43,44,45,46,47,48,49,50,51,52,53,54,55,56,57,58,59,60,61,62,63,64,65,66,67,68,69,70,71,72,73,74,75,76,77,78,79,80],\"type\":\"bar\"},{\"hoverinfo\":\"skip\",\"name\":\"Women 2005\",\"opacity\":0.7,\"orientation\":\"h\",\"x\":[120105.0,120105.0,120105.0,120105.0,120105.0,115340.0,115340.0,115340.0,115340.0,115340.0,110850.0,110850.0,110850.0,110850.0,110850.0,101632.0,101632.0,101632.0,101632.0,101632.0,86366.0,86366.0,86366.0,86366.0,86366.0,72625.0,72625.0,72625.0,72625.0,72625.0,60339.0,60339.0,60339.0,60339.0,60339.0,50549.0,50549.0,50549.0,50549.0,50549.0,43013.0,43013.0,43013.0,43013.0,43013.0,36575.0,36575.0,36575.0,36575.0,36575.0,30719.0,30719.0,30719.0,30719.0,30719.0,24995.0,24995.0,24995.0,24995.0,24995.0,20268.0,20268.0,20268.0,20268.0,20268.0,15909.0,15909.0,15909.0,15909.0,15909.0,10805.0,10805.0,10805.0,10805.0,10805.0,6639.0,6639.0,6639.0,6639.0,6639.0,1272.1],\"y\":[0,1,2,3,4,5,6,7,8,9,10,11,12,13,14,15,16,17,18,19,20,21,22,23,24,25,26,27,28,29,30,31,32,33,34,35,36,37,38,39,40,41,42,43,44,45,46,47,48,49,50,51,52,53,54,55,56,57,58,59,60,61,62,63,64,65,66,67,68,69,70,71,72,73,74,75,76,77,78,79,80],\"type\":\"bar\"},{\"hoverinfo\":\"skip\",\"name\":\"Men 2010\",\"opacity\":0.7,\"orientation\":\"h\",\"x\":[-124861.0,-124861.0,-124861.0,-124861.0,-124861.0,-118230.0,-118230.0,-118230.0,-118230.0,-118230.0,-114629.0,-114629.0,-114629.0,-114629.0,-114629.0,-109159.0,-109159.0,-109159.0,-109159.0,-109159.0,-98089.0,-98089.0,-98089.0,-98089.0,-98089.0,-82444.0,-82444.0,-82444.0,-82444.0,-82444.0,-69368.0,-69368.0,-69368.0,-69368.0,-69368.0,-57540.0,-57540.0,-57540.0,-57540.0,-57540.0,-47813.0,-47813.0,-47813.0,-47813.0,-47813.0,-39974.0,-39974.0,-39974.0,-39974.0,-39974.0,-32871.0,-32871.0,-32871.0,-32871.0,-32871.0,-26078.0,-26078.0,-26078.0,-26078.0,-26078.0,-19779.0,-19779.0,-19779.0,-19779.0,-19779.0,-15059.0,-15059.0,-15059.0,-15059.0,-15059.0,-10082.0,-10082.0,-10082.0,-10082.0,-10082.0,-5348.0,-5348.0,-5348.0,-5348.0,-5348.0,-773.9],\"y\":[0,1,2,3,4,5,6,7,8,9,10,11,12,13,14,15,16,17,18,19,20,21,22,23,24,25,26,27,28,29,30,31,32,33,34,35,36,37,38,39,40,41,42,43,44,45,46,47,48,49,50,51,52,53,54,55,56,57,58,59,60,61,62,63,64,65,66,67,68,69,70,71,72,73,74,75,76,77,78,79,80],\"type\":\"bar\"},{\"hoverinfo\":\"skip\",\"name\":\"Women 2010\",\"opacity\":0.7,\"orientation\":\"h\",\"x\":[122356.0,122356.0,122356.0,122356.0,122356.0,116798.0,116798.0,116798.0,116798.0,116798.0,113779.0,113779.0,113779.0,113779.0,113779.0,108569.0,108569.0,108569.0,108569.0,108569.0,97753.0,97753.0,97753.0,97753.0,97753.0,82169.0,82169.0,82169.0,82169.0,82169.0,69051.0,69051.0,69051.0,69051.0,69051.0,57505.0,57505.0,57505.0,57505.0,57505.0,48246.0,48246.0,48246.0,48246.0,48246.0,40983.0,40983.0,40983.0,40983.0,40983.0,34580.0,34580.0,34580.0,34580.0,34580.0,28614.0,28614.0,28614.0,28614.0,28614.0,22659.0,22659.0,22659.0,22659.0,22659.0,17511.0,17511.0,17511.0,17511.0,17511.0,12657.0,12657.0,12657.0,12657.0,12657.0,7553.0,7553.0,7553.0,7553.0,7553.0,1360.55],\"y\":[0,1,2,3,4,5,6,7,8,9,10,11,12,13,14,15,16,17,18,19,20,21,22,23,24,25,26,27,28,29,30,31,32,33,34,35,36,37,38,39,40,41,42,43,44,45,46,47,48,49,50,51,52,53,54,55,56,57,58,59,60,61,62,63,64,65,66,67,68,69,70,71,72,73,74,75,76,77,78,79,80],\"type\":\"bar\"}],                        {\"bargap\":0.1,\"bargroupgap\":0,\"barmode\":\"overlay\",\"legend\":{\"bgcolor\":\"rgba(255, 255, 255, 0.7)\",\"bordercolor\":\"Black\",\"borderwidth\":1,\"font\":{\"size\":12},\"traceorder\":\"normal\",\"x\":1.05,\"y\":1},\"title\":{\"text\":\"Population Pyramid for Haiti\"},\"xaxis\":{\"tickformat\":\",d\",\"title\":{\"text\":\"Population\"}},\"yaxis\":{\"title\":{\"text\":\"Age Group\"}},\"template\":{\"data\":{\"histogram2dcontour\":[{\"type\":\"histogram2dcontour\",\"colorbar\":{\"outlinewidth\":0,\"ticks\":\"\"},\"colorscale\":[[0.0,\"#0d0887\"],[0.1111111111111111,\"#46039f\"],[0.2222222222222222,\"#7201a8\"],[0.3333333333333333,\"#9c179e\"],[0.4444444444444444,\"#bd3786\"],[0.5555555555555556,\"#d8576b\"],[0.6666666666666666,\"#ed7953\"],[0.7777777777777778,\"#fb9f3a\"],[0.8888888888888888,\"#fdca26\"],[1.0,\"#f0f921\"]]}],\"choropleth\":[{\"type\":\"choropleth\",\"colorbar\":{\"outlinewidth\":0,\"ticks\":\"\"}}],\"histogram2d\":[{\"type\":\"histogram2d\",\"colorbar\":{\"outlinewidth\":0,\"ticks\":\"\"},\"colorscale\":[[0.0,\"#0d0887\"],[0.1111111111111111,\"#46039f\"],[0.2222222222222222,\"#7201a8\"],[0.3333333333333333,\"#9c179e\"],[0.4444444444444444,\"#bd3786\"],[0.5555555555555556,\"#d8576b\"],[0.6666666666666666,\"#ed7953\"],[0.7777777777777778,\"#fb9f3a\"],[0.8888888888888888,\"#fdca26\"],[1.0,\"#f0f921\"]]}],\"heatmap\":[{\"type\":\"heatmap\",\"colorbar\":{\"outlinewidth\":0,\"ticks\":\"\"},\"colorscale\":[[0.0,\"#0d0887\"],[0.1111111111111111,\"#46039f\"],[0.2222222222222222,\"#7201a8\"],[0.3333333333333333,\"#9c179e\"],[0.4444444444444444,\"#bd3786\"],[0.5555555555555556,\"#d8576b\"],[0.6666666666666666,\"#ed7953\"],[0.7777777777777778,\"#fb9f3a\"],[0.8888888888888888,\"#fdca26\"],[1.0,\"#f0f921\"]]}],\"heatmapgl\":[{\"type\":\"heatmapgl\",\"colorbar\":{\"outlinewidth\":0,\"ticks\":\"\"},\"colorscale\":[[0.0,\"#0d0887\"],[0.1111111111111111,\"#46039f\"],[0.2222222222222222,\"#7201a8\"],[0.3333333333333333,\"#9c179e\"],[0.4444444444444444,\"#bd3786\"],[0.5555555555555556,\"#d8576b\"],[0.6666666666666666,\"#ed7953\"],[0.7777777777777778,\"#fb9f3a\"],[0.8888888888888888,\"#fdca26\"],[1.0,\"#f0f921\"]]}],\"contourcarpet\":[{\"type\":\"contourcarpet\",\"colorbar\":{\"outlinewidth\":0,\"ticks\":\"\"}}],\"contour\":[{\"type\":\"contour\",\"colorbar\":{\"outlinewidth\":0,\"ticks\":\"\"},\"colorscale\":[[0.0,\"#0d0887\"],[0.1111111111111111,\"#46039f\"],[0.2222222222222222,\"#7201a8\"],[0.3333333333333333,\"#9c179e\"],[0.4444444444444444,\"#bd3786\"],[0.5555555555555556,\"#d8576b\"],[0.6666666666666666,\"#ed7953\"],[0.7777777777777778,\"#fb9f3a\"],[0.8888888888888888,\"#fdca26\"],[1.0,\"#f0f921\"]]}],\"surface\":[{\"type\":\"surface\",\"colorbar\":{\"outlinewidth\":0,\"ticks\":\"\"},\"colorscale\":[[0.0,\"#0d0887\"],[0.1111111111111111,\"#46039f\"],[0.2222222222222222,\"#7201a8\"],[0.3333333333333333,\"#9c179e\"],[0.4444444444444444,\"#bd3786\"],[0.5555555555555556,\"#d8576b\"],[0.6666666666666666,\"#ed7953\"],[0.7777777777777778,\"#fb9f3a\"],[0.8888888888888888,\"#fdca26\"],[1.0,\"#f0f921\"]]}],\"mesh3d\":[{\"type\":\"mesh3d\",\"colorbar\":{\"outlinewidth\":0,\"ticks\":\"\"}}],\"scatter\":[{\"fillpattern\":{\"fillmode\":\"overlay\",\"size\":10,\"solidity\":0.2},\"type\":\"scatter\"}],\"parcoords\":[{\"type\":\"parcoords\",\"line\":{\"colorbar\":{\"outlinewidth\":0,\"ticks\":\"\"}}}],\"scatterpolargl\":[{\"type\":\"scatterpolargl\",\"marker\":{\"colorbar\":{\"outlinewidth\":0,\"ticks\":\"\"}}}],\"bar\":[{\"error_x\":{\"color\":\"#2a3f5f\"},\"error_y\":{\"color\":\"#2a3f5f\"},\"marker\":{\"line\":{\"color\":\"#E5ECF6\",\"width\":0.5},\"pattern\":{\"fillmode\":\"overlay\",\"size\":10,\"solidity\":0.2}},\"type\":\"bar\"}],\"scattergeo\":[{\"type\":\"scattergeo\",\"marker\":{\"colorbar\":{\"outlinewidth\":0,\"ticks\":\"\"}}}],\"scatterpolar\":[{\"type\":\"scatterpolar\",\"marker\":{\"colorbar\":{\"outlinewidth\":0,\"ticks\":\"\"}}}],\"histogram\":[{\"marker\":{\"pattern\":{\"fillmode\":\"overlay\",\"size\":10,\"solidity\":0.2}},\"type\":\"histogram\"}],\"scattergl\":[{\"type\":\"scattergl\",\"marker\":{\"colorbar\":{\"outlinewidth\":0,\"ticks\":\"\"}}}],\"scatter3d\":[{\"type\":\"scatter3d\",\"line\":{\"colorbar\":{\"outlinewidth\":0,\"ticks\":\"\"}},\"marker\":{\"colorbar\":{\"outlinewidth\":0,\"ticks\":\"\"}}}],\"scattermapbox\":[{\"type\":\"scattermapbox\",\"marker\":{\"colorbar\":{\"outlinewidth\":0,\"ticks\":\"\"}}}],\"scatterternary\":[{\"type\":\"scatterternary\",\"marker\":{\"colorbar\":{\"outlinewidth\":0,\"ticks\":\"\"}}}],\"scattercarpet\":[{\"type\":\"scattercarpet\",\"marker\":{\"colorbar\":{\"outlinewidth\":0,\"ticks\":\"\"}}}],\"carpet\":[{\"aaxis\":{\"endlinecolor\":\"#2a3f5f\",\"gridcolor\":\"white\",\"linecolor\":\"white\",\"minorgridcolor\":\"white\",\"startlinecolor\":\"#2a3f5f\"},\"baxis\":{\"endlinecolor\":\"#2a3f5f\",\"gridcolor\":\"white\",\"linecolor\":\"white\",\"minorgridcolor\":\"white\",\"startlinecolor\":\"#2a3f5f\"},\"type\":\"carpet\"}],\"table\":[{\"cells\":{\"fill\":{\"color\":\"#EBF0F8\"},\"line\":{\"color\":\"white\"}},\"header\":{\"fill\":{\"color\":\"#C8D4E3\"},\"line\":{\"color\":\"white\"}},\"type\":\"table\"}],\"barpolar\":[{\"marker\":{\"line\":{\"color\":\"#E5ECF6\",\"width\":0.5},\"pattern\":{\"fillmode\":\"overlay\",\"size\":10,\"solidity\":0.2}},\"type\":\"barpolar\"}],\"pie\":[{\"automargin\":true,\"type\":\"pie\"}]},\"layout\":{\"autotypenumbers\":\"strict\",\"colorway\":[\"#636efa\",\"#EF553B\",\"#00cc96\",\"#ab63fa\",\"#FFA15A\",\"#19d3f3\",\"#FF6692\",\"#B6E880\",\"#FF97FF\",\"#FECB52\"],\"font\":{\"color\":\"#2a3f5f\"},\"hovermode\":\"closest\",\"hoverlabel\":{\"align\":\"left\"},\"paper_bgcolor\":\"white\",\"plot_bgcolor\":\"#E5ECF6\",\"polar\":{\"bgcolor\":\"#E5ECF6\",\"angularaxis\":{\"gridcolor\":\"white\",\"linecolor\":\"white\",\"ticks\":\"\"},\"radialaxis\":{\"gridcolor\":\"white\",\"linecolor\":\"white\",\"ticks\":\"\"}},\"ternary\":{\"bgcolor\":\"#E5ECF6\",\"aaxis\":{\"gridcolor\":\"white\",\"linecolor\":\"white\",\"ticks\":\"\"},\"baxis\":{\"gridcolor\":\"white\",\"linecolor\":\"white\",\"ticks\":\"\"},\"caxis\":{\"gridcolor\":\"white\",\"linecolor\":\"white\",\"ticks\":\"\"}},\"coloraxis\":{\"colorbar\":{\"outlinewidth\":0,\"ticks\":\"\"}},\"colorscale\":{\"sequential\":[[0.0,\"#0d0887\"],[0.1111111111111111,\"#46039f\"],[0.2222222222222222,\"#7201a8\"],[0.3333333333333333,\"#9c179e\"],[0.4444444444444444,\"#bd3786\"],[0.5555555555555556,\"#d8576b\"],[0.6666666666666666,\"#ed7953\"],[0.7777777777777778,\"#fb9f3a\"],[0.8888888888888888,\"#fdca26\"],[1.0,\"#f0f921\"]],\"sequentialminus\":[[0.0,\"#0d0887\"],[0.1111111111111111,\"#46039f\"],[0.2222222222222222,\"#7201a8\"],[0.3333333333333333,\"#9c179e\"],[0.4444444444444444,\"#bd3786\"],[0.5555555555555556,\"#d8576b\"],[0.6666666666666666,\"#ed7953\"],[0.7777777777777778,\"#fb9f3a\"],[0.8888888888888888,\"#fdca26\"],[1.0,\"#f0f921\"]],\"diverging\":[[0,\"#8e0152\"],[0.1,\"#c51b7d\"],[0.2,\"#de77ae\"],[0.3,\"#f1b6da\"],[0.4,\"#fde0ef\"],[0.5,\"#f7f7f7\"],[0.6,\"#e6f5d0\"],[0.7,\"#b8e186\"],[0.8,\"#7fbc41\"],[0.9,\"#4d9221\"],[1,\"#276419\"]]},\"xaxis\":{\"gridcolor\":\"white\",\"linecolor\":\"white\",\"ticks\":\"\",\"title\":{\"standoff\":15},\"zerolinecolor\":\"white\",\"automargin\":true,\"zerolinewidth\":2},\"yaxis\":{\"gridcolor\":\"white\",\"linecolor\":\"white\",\"ticks\":\"\",\"title\":{\"standoff\":15},\"zerolinecolor\":\"white\",\"automargin\":true,\"zerolinewidth\":2},\"scene\":{\"xaxis\":{\"backgroundcolor\":\"#E5ECF6\",\"gridcolor\":\"white\",\"linecolor\":\"white\",\"showbackground\":true,\"ticks\":\"\",\"zerolinecolor\":\"white\",\"gridwidth\":2},\"yaxis\":{\"backgroundcolor\":\"#E5ECF6\",\"gridcolor\":\"white\",\"linecolor\":\"white\",\"showbackground\":true,\"ticks\":\"\",\"zerolinecolor\":\"white\",\"gridwidth\":2},\"zaxis\":{\"backgroundcolor\":\"#E5ECF6\",\"gridcolor\":\"white\",\"linecolor\":\"white\",\"showbackground\":true,\"ticks\":\"\",\"zerolinecolor\":\"white\",\"gridwidth\":2}},\"shapedefaults\":{\"line\":{\"color\":\"#2a3f5f\"}},\"annotationdefaults\":{\"arrowcolor\":\"#2a3f5f\",\"arrowhead\":0,\"arrowwidth\":1},\"geo\":{\"bgcolor\":\"white\",\"landcolor\":\"#E5ECF6\",\"subunitcolor\":\"white\",\"showland\":true,\"showlakes\":true,\"lakecolor\":\"white\"},\"title\":{\"x\":0.05},\"mapbox\":{\"style\":\"light\"}}}},                        {\"responsive\": true}                    ).then(function(){\n",
       "                            \n",
       "var gd = document.getElementById('1aa74b59-efe2-4267-91dc-64e3889d26e8');\n",
       "var x = new MutationObserver(function (mutations, observer) {{\n",
       "        var display = window.getComputedStyle(gd).display;\n",
       "        if (!display || display === 'none') {{\n",
       "            console.log([gd, 'removed!']);\n",
       "            Plotly.purge(gd);\n",
       "            observer.disconnect();\n",
       "        }}\n",
       "}});\n",
       "\n",
       "// Listen for the removal of the full notebook cells\n",
       "var notebookContainer = gd.closest('#notebook-container');\n",
       "if (notebookContainer) {{\n",
       "    x.observe(notebookContainer, {childList: true});\n",
       "}}\n",
       "\n",
       "// Listen for the clearing of the current output cell\n",
       "var outputEl = gd.closest('.output');\n",
       "if (outputEl) {{\n",
       "    x.observe(outputEl, {childList: true});\n",
       "}}\n",
       "\n",
       "                        })                };                });            </script>        </div>"
      ]
     },
     "metadata": {},
     "output_type": "display_data"
    }
   ],
   "source": [
    "animated_population_pyramid(population_df, \"Haiti\")"
   ]
  },
  {
   "cell_type": "markdown",
   "metadata": {},
   "source": [
    "# Population Maps"
   ]
  },
  {
   "cell_type": "code",
   "execution_count": null,
   "metadata": {},
   "outputs": [],
   "source": []
  },
  {
   "cell_type": "markdown",
   "metadata": {},
   "source": []
  }
 ],
 "metadata": {
  "kernelspec": {
   "display_name": "Python 3 (ipykernel)",
   "language": "python",
   "name": "python3"
  },
  "language_info": {
   "codemirror_mode": {
    "name": "ipython",
    "version": 3
   },
   "file_extension": ".py",
   "mimetype": "text/x-python",
   "name": "python",
   "nbconvert_exporter": "python",
   "pygments_lexer": "ipython3",
   "version": "3.11.11"
  }
 },
 "nbformat": 4,
 "nbformat_minor": 4
}
